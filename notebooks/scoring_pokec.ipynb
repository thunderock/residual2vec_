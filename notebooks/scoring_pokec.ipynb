{
 "cells": [
  {
   "cell_type": "code",
   "execution_count": 1,
   "id": "16d1921c",
   "metadata": {},
   "outputs": [],
   "source": [
    "import sys, os\n",
    "sys.path.insert(0, '..')\n",
    "# os.environ[\"CUDA_VISIBLE_DEVICES\"]=\"\""
   ]
  },
  {
   "cell_type": "code",
   "execution_count": 2,
   "id": "5d539127",
   "metadata": {},
   "outputs": [
    {
     "name": "stderr",
     "output_type": "stream",
     "text": [
      "/home/ashutosh/miniconda3/lib/python3.8/site-packages/tqdm/auto.py:22: TqdmWarning: IProgress not found. Please update jupyter and ipywidgets. See https://ipywidgets.readthedocs.io/en/stable/user_install.html\n",
      "  from .autonotebook import tqdm as notebook_tqdm\n"
     ]
    },
    {
     "name": "stdout",
     "output_type": "stream",
     "text": [
      "Using GPU: cuda:0\n"
     ]
    }
   ],
   "source": [
    "import numpy as np\n",
    "import pandas as pd\n",
    "import torch\n",
    "from models.weighted_node2vec import WeightedNode2Vec\n",
    "from dataset import triplet_dataset, pokec_data\n",
    "from utils.config import DEVICE\n",
    "from tqdm import tqdm, trange\n",
    "import gc\n",
    "from utils.link_prediction import GCNLinkPrediction\n",
    "import residual2vec as rv\n",
    "import warnings\n",
    "import faiss\n",
    "import matplotlib.pyplot as plt\n",
    "from utils.graph_utils import get_edges_fastknn_faiss\n",
    "from utils.score import statistical_parity\n",
    "from utils.snakemake_utils import FileResources\n",
    "\n",
    "warnings.filterwarnings(\"ignore\")\n",
    "gc.enable()"
   ]
  },
  {
   "cell_type": "code",
   "execution_count": 3,
   "id": "0791d7fe",
   "metadata": {},
   "outputs": [],
   "source": [
    "window_length = 5\n",
    "num_walks = 10\n",
    "dim = 128\n",
    "walk_length = 80\n",
    "NUM_WORKERS = 4"
   ]
  },
  {
   "cell_type": "code",
   "execution_count": 4,
   "id": "46d50773",
   "metadata": {},
   "outputs": [
    {
     "name": "stderr",
     "output_type": "stream",
     "text": [
      "Using existing file soc-pokec-profiles.txt.gz\n",
      "Using existing file soc-pokec-relationships.txt.gz\n"
     ]
    }
   ],
   "source": [
    "y = pokec_data.PokecDataFrame(group_col='gender').get_grouped_col()"
   ]
  },
  {
   "cell_type": "code",
   "execution_count": 5,
   "id": "f7f49384",
   "metadata": {},
   "outputs": [],
   "source": [
    "sp_score, roc_score = {}, {}"
   ]
  },
  {
   "cell_type": "markdown",
   "id": "a13d5e9c",
   "metadata": {},
   "source": [
    "# distributions of positive and negative edgeswith dot product"
   ]
  },
  {
   "cell_type": "code",
   "execution_count": 6,
   "id": "7812b391",
   "metadata": {},
   "outputs": [],
   "source": [
    "def get_roc_score(df):\n",
    "    from sklearn.metrics import roc_auc_score\n",
    "    y_pred = np.concatenate((df.positive_dot.values, df.negative_dot.values))\n",
    "    y_true = np.concatenate((np.ones_like(df.positive_dot.values), np.zeros_like(df.negative_dot.values)))\n",
    "    return roc_auc_score(y_true, y_pred)"
   ]
  },
  {
   "cell_type": "code",
   "execution_count": 7,
   "id": "9d6ac948",
   "metadata": {},
   "outputs": [],
   "source": [
    "def plot_dot_(df, title):\n",
    "#     df = pd.DataFrame({\n",
    "#         \"positive_dot\": np.array([np.dot(a[i], p[i]) for i in trange(a.shape[0])]),\n",
    "#         \"negative_dot\": np.array([np.dot(a[i], n[i]) for i in trange(a.shape[0])])\n",
    "#     })\n",
    "    \n",
    "#     fig, ax = plt.subplots(1,1)\n",
    "    df.positive_dot.plot(kind='density', title=title)\n",
    "    df.negative_dot.plot(kind='density', title=title)\n",
    "#     ax.set_xlim(-1000, 1000)\n",
    "    ax.legend(['positive_neighbors', 'negative_neighbors'])\n",
    "#     fig.show()"
   ]
  },
  {
   "cell_type": "markdown",
   "id": "af12f580",
   "metadata": {},
   "source": [
    "# GCN ( baseline)"
   ]
  },
  {
   "cell_type": "code",
   "execution_count": 8,
   "id": "859d0533",
   "metadata": {
    "scrolled": true
   },
   "outputs": [
    {
     "data": {
      "text/plain": [
       "((1632803, 128), (1632803, 128), (1632803, 128))"
      ]
     },
     "execution_count": 8,
     "metadata": {},
     "output_type": "execute_result"
    }
   ],
   "source": [
    "model = \"GCN_baseline\"\n",
    "emb = np.load(FileResources(root='/tmp/residual_2_vec/original_pokec/', crosswalk=False, baseline=True, model_name='gcn',).embs_file)\n",
    "A, P, N = emb[:, :128], emb[:, 128: 128 * 2], emb[:, 128 * 2:]\n",
    "A.shape, P.shape, N.shape"
   ]
  },
  {
   "cell_type": "code",
   "execution_count": 9,
   "id": "0e2af395",
   "metadata": {},
   "outputs": [
    {
     "name": "stderr",
     "output_type": "stream",
     "text": [
      "100%|███████████████████████████████████| 1632803/1632803 [00:02<00:00, 550545.94it/s]\n",
      "100%|███████████████████████████████████| 1632803/1632803 [00:02<00:00, 570133.46it/s]\n"
     ]
    },
    {
     "data": {
      "image/png": "[encoded data removed]",
      "text/plain": [
       "<Figure size 432x288 with 1 Axes>"
      ]
     },
     "metadata": {
      "needs_background": "light"
     },
     "output_type": "display_data"
    }
   ],
   "source": [
    "# plot density\n",
    "dot = pd.DataFrame({\n",
    "        \"positive_dot\": np.array([np.dot(A[i], P[i]) for i in trange(A.shape[0])]),\n",
    "        \"negative_dot\": np.array([np.dot(A[i], N[i]) for i in trange(A.shape[0])])\n",
    "    })\n",
    "fig, ax = plt.subplots(1,1)\n",
    "\n",
    "plot_dot_(dot, title=model + '_dot_density')\n",
    "ax.set_xlim(-750, 750)\n",
    "ax.legend(['positive_neighbors', 'negative_neighbors'])\n",
    "fig.show()"
   ]
  },
  {
   "cell_type": "code",
   "execution_count": null,
   "id": "8030cd4e",
   "metadata": {},
   "outputs": [],
   "source": [
    "# # create edge_list\n",
    "k, batch_size = 5, 2000\n",
    "\n",
    "edges = get_edges_fastknn_faiss(A, k, batch_size,)\n",
    "sp_score[model] = statistical_parity(edges, y)\n",
    "\n",
    "roc_score[model] = get_roc_score(dot)\n",
    "edges.shape, sp_score[model], roc_score[model]"
   ]
  },
  {
   "cell_type": "markdown",
   "id": "1b2cb32a",
   "metadata": {},
   "source": [
    "# GCN ( baseline + crosswalk)"
   ]
  },
  {
   "cell_type": "code",
   "execution_count": null,
   "id": "8ed8a9eb",
   "metadata": {
    "scrolled": true
   },
   "outputs": [],
   "source": [
    "model = \"GCN_baseline_crosswalk\"\n",
    "emb = np.load(FileResources(root='/tmp/residual_2_vec/original_pokec/', crosswalk=True, baseline=True, model_name='gcn',).embs_file)\n",
    "A, P, N = emb[:, :128], emb[:, 128: 128 * 2], emb[:, 128 * 2:]\n",
    "A.shape, P.shape, N.shape"
   ]
  },
  {
   "cell_type": "code",
   "execution_count": null,
   "id": "b21db5c5",
   "metadata": {},
   "outputs": [],
   "source": [
    "# plot density\n",
    "dot = pd.DataFrame({\n",
    "        \"positive_dot\": np.array([np.dot(A[i], P[i]) for i in trange(A.shape[0])]),\n",
    "        \"negative_dot\": np.array([np.dot(A[i], N[i]) for i in trange(A.shape[0])])\n",
    "    })\n",
    "fig, ax = plt.subplots(1,1)\n",
    "\n",
    "plot_dot_(dot, title=model + '_dot_density')\n",
    "ax.set_xlim(-750, 750)\n",
    "ax.legend(['positive_neighbors', 'negative_neighbors'])\n",
    "fig.show()"
   ]
  },
  {
   "cell_type": "code",
   "execution_count": null,
   "id": "673fa04c",
   "metadata": {},
   "outputs": [],
   "source": [
    "# # create edge_list\n",
    "k, batch_size = 5, 2000\n",
    "\n",
    "edges = get_edges_fastknn_faiss(A, k, batch_size,)\n",
    "sp_score[model] = statistical_parity(edges, y)\n",
    "\n",
    "roc_score[model] = get_roc_score(dot)\n",
    "edges.shape, sp_score[model], roc_score[model]"
   ]
  },
  {
   "cell_type": "markdown",
   "id": "a0e1719e",
   "metadata": {},
   "source": [
    "# GCN ( r2v)"
   ]
  },
  {
   "cell_type": "code",
   "execution_count": null,
   "id": "4906ab15",
   "metadata": {
    "scrolled": true
   },
   "outputs": [],
   "source": [
    "model = \"GCN_r2v\"\n",
    "emb = np.load(FileResources(root='/tmp/residual_2_vec/original_pokec/', crosswalk=True, baseline=True, model_name='gcn',).embs_file)\n",
    "A, P, N = emb[:, :128], emb[:, 128: 128 * 2], emb[:, 128 * 2:]\n",
    "A.shape, P.shape, N.shape"
   ]
  },
  {
   "cell_type": "code",
   "execution_count": null,
   "id": "d45b07e9",
   "metadata": {},
   "outputs": [],
   "source": [
    "# plot density\n",
    "dot = pd.DataFrame({\n",
    "        \"positive_dot\": np.array([np.dot(A[i], P[i]) for i in trange(A.shape[0])]),\n",
    "        \"negative_dot\": np.array([np.dot(A[i], N[i]) for i in trange(A.shape[0])])\n",
    "    })\n",
    "fig, ax = plt.subplots(1,1)\n",
    "\n",
    "plot_dot_(dot, title=model + '_dot_density')\n",
    "ax.set_xlim(-750, 750)\n",
    "ax.legend(['positive_neighbors', 'negative_neighbors'])\n",
    "fig.show()"
   ]
  },
  {
   "cell_type": "code",
   "execution_count": null,
   "id": "c24cedbe",
   "metadata": {},
   "outputs": [],
   "source": [
    "# # create edge_list\n",
    "k, batch_size = 5, 2000\n",
    "\n",
    "edges = get_edges_fastknn_faiss(A, k, batch_size,)\n",
    "sp_score[model] = statistical_parity(edges, y)\n",
    "\n",
    "roc_score[model] = get_roc_score(dot)\n",
    "edges.shape, sp_score[model], roc_score[model]"
   ]
  },
  {
   "cell_type": "markdown",
   "id": "ae43172d",
   "metadata": {},
   "source": [
    "# GCN ( r2v + crosswalk)"
   ]
  },
  {
   "cell_type": "code",
   "execution_count": null,
   "id": "5455bde3",
   "metadata": {
    "scrolled": true
   },
   "outputs": [],
   "source": [
    "model = \"GCN_r2v_crosswalk\"\n",
    "emb = np.load(FileResources(root='/tmp/residual_2_vec/original_pokec/', crosswalk=True, baseline=True, model_name='gcn',).embs_file)\n",
    "A, P, N = emb[:, :128], emb[:, 128: 128 * 2], emb[:, 128 * 2:]\n",
    "A.shape, P.shape, N.shape"
   ]
  },
  {
   "cell_type": "code",
   "execution_count": null,
   "id": "9400cd57",
   "metadata": {},
   "outputs": [],
   "source": [
    "# plot density\n",
    "dot = pd.DataFrame({\n",
    "        \"positive_dot\": np.array([np.dot(A[i], P[i]) for i in trange(A.shape[0])]),\n",
    "        \"negative_dot\": np.array([np.dot(A[i], N[i]) for i in trange(A.shape[0])])\n",
    "    })\n",
    "fig, ax = plt.subplots(1,1)\n",
    "\n",
    "plot_dot_(dot, title=model + '_dot_density')\n",
    "ax.set_xlim(-750, 750)\n",
    "ax.legend(['positive_neighbors', 'negative_neighbors'])\n",
    "fig.show()"
   ]
  },
  {
   "cell_type": "code",
   "execution_count": null,
   "id": "3680c8b4",
   "metadata": {},
   "outputs": [],
   "source": [
    "# # create edge_list\n",
    "k, batch_size = 5, 2000\n",
    "\n",
    "edges = get_edges_fastknn_faiss(A, k, batch_size,)\n",
    "sp_score[model] = statistical_parity(edges, y)\n",
    "\n",
    "roc_score[model] = get_roc_score(dot)\n",
    "edges.shape, sp_score[model], roc_score[model]"
   ]
  },
  {
   "cell_type": "markdown",
   "id": "029e69e2",
   "metadata": {},
   "source": [
    "# GAT"
   ]
  },
  {
   "cell_type": "code",
   "execution_count": null,
   "id": "de9bd5d9",
   "metadata": {},
   "outputs": [],
   "source": [
    "model = 'GAT'\n",
    "emb = np.load(\"../data/pokec_gat_embs_fixed.npy\")\n",
    "A, P, N = emb[:, :128], emb[:, 128: 128 * 2], emb[:, 128 * 2:]\n",
    "A.shape, P.shape, N.shape"
   ]
  },
  {
   "cell_type": "code",
   "execution_count": null,
   "id": "a19d4892",
   "metadata": {},
   "outputs": [],
   "source": [
    "# plot density\n",
    "dot = pd.DataFrame({\n",
    "        \"positive_dot\": np.array([np.dot(A[i], P[i]) for i in trange(A.shape[0])]),\n",
    "        \"negative_dot\": np.array([np.dot(A[i], N[i]) for i in trange(A.shape[0])])\n",
    "    })\n",
    "fig, ax = plt.subplots(1,1)\n",
    "\n",
    "plot_dot_(dot, title=model + '_dot_density')\n",
    "ax.set_xlim(-750, 750)\n",
    "ax.legend(['positive_neighbors', 'negative_neighbors'])\n",
    "fig.show()"
   ]
  },
  {
   "cell_type": "code",
   "execution_count": null,
   "id": "4c8421a5",
   "metadata": {},
   "outputs": [],
   "source": [
    "k, batch_size = 5, 2000\n",
    "\n",
    "edges = get_edges_fastknn_faiss(A, k, batch_size,)\n",
    "sp_score[model] = statistical_parity(edges, y)\n",
    "\n",
    "roc_score[model] = get_roc_score(dot)\n",
    "edges.shape, sp_score[model], roc_score[model]"
   ]
  },
  {
   "cell_type": "markdown",
   "id": "45ee2aa1",
   "metadata": {},
   "source": [
    "# GAT with Node2Vec Crosswalk weights(16 dim)"
   ]
  },
  {
   "cell_type": "code",
   "execution_count": null,
   "id": "b0db38aa",
   "metadata": {},
   "outputs": [],
   "source": [
    "model = 'GAT_crosswalk'\n",
    "emb = np.load(\"../data/pokec_crosswalk_gat_embs_fixed.npy\")\n",
    "A, P, N = emb[:, :128], emb[:, 128: 128 * 2], emb[:, 128 * 2:]\n",
    "A.shape, P.shape, N.shape"
   ]
  },
  {
   "cell_type": "code",
   "execution_count": null,
   "id": "8016d475",
   "metadata": {},
   "outputs": [],
   "source": [
    "# plot density\n",
    "dot = pd.DataFrame({\n",
    "        \"positive_dot\": np.array([np.dot(A[i], P[i]) for i in trange(A.shape[0])]),\n",
    "        \"negative_dot\": np.array([np.dot(A[i], N[i]) for i in trange(A.shape[0])])\n",
    "    })\n",
    "fig, ax = plt.subplots(1,1)\n",
    "\n",
    "plot_dot_(dot, title=model + '_dot_density')\n",
    "ax.set_xlim(-100, 100)\n",
    "ax.legend(['positive_neighbors', 'negative_neighbors'])\n",
    "fig.show()"
   ]
  },
  {
   "cell_type": "code",
   "execution_count": null,
   "id": "993c6592",
   "metadata": {},
   "outputs": [],
   "source": [
    "k, batch_size = 5, 2000\n",
    "\n",
    "edges = get_edges_fastknn_faiss(A, k, batch_size,)\n",
    "sp_score[model] = statistical_parity(edges, y)\n",
    "\n",
    "roc_score[model] = get_roc_score(dot)\n",
    "edges.shape, sp_score[model], roc_score[model]"
   ]
  },
  {
   "cell_type": "markdown",
   "id": "b4d45496",
   "metadata": {},
   "source": [
    "# GCN with Node2Vec Crosswalk weights(16 dim)"
   ]
  },
  {
   "cell_type": "code",
   "execution_count": null,
   "id": "497cfb71",
   "metadata": {},
   "outputs": [],
   "source": [
    "model = 'GCN_crosswalk'\n",
    "emb = np.load(\"../data/pokec_crosswalk_gcn_embs_fixed.npy\")\n",
    "A, P, N = emb[:, :128], emb[:, 128: 128 * 2], emb[:, 128 * 2:]\n",
    "A.shape, P.shape, N.shape"
   ]
  },
  {
   "cell_type": "code",
   "execution_count": null,
   "id": "09fce57b",
   "metadata": {},
   "outputs": [],
   "source": [
    "# plot density\n",
    "dot = pd.DataFrame({\n",
    "        \"positive_dot\": np.array([np.dot(A[i], P[i]) for i in trange(A.shape[0])]),\n",
    "        \"negative_dot\": np.array([np.dot(A[i], N[i]) for i in trange(A.shape[0])])\n",
    "    })\n",
    "fig, ax = plt.subplots(1,1)\n",
    "\n",
    "plot_dot_(dot, title=model + '_dot_density')\n",
    "ax.set_xlim(-200, 200)\n",
    "ax.legend(['positive_neighbors', 'negative_neighbors'])\n",
    "fig.show()"
   ]
  },
  {
   "cell_type": "code",
   "execution_count": null,
   "id": "678c310e",
   "metadata": {},
   "outputs": [],
   "source": [
    "k, batch_size = 5, 2000\n",
    "\n",
    "edges = get_edges_fastknn_faiss(A, k, batch_size,)\n",
    "sp_score[model] = statistical_parity(edges, y)\n",
    "\n",
    "roc_score[model] = get_roc_score(dot)\n",
    "edges.shape, sp_score[model], roc_score[model]"
   ]
  },
  {
   "cell_type": "markdown",
   "id": "ebbb980e",
   "metadata": {},
   "source": [
    "# plot statistical parity scores"
   ]
  },
  {
   "cell_type": "code",
   "execution_count": null,
   "id": "22b6746a",
   "metadata": {},
   "outputs": [],
   "source": [
    "import seaborn as sns\n",
    "for i, j in sp_score.items(): print(i, j)\n",
    "sns.set(rc = {'figure.figsize':(15,8)})\n",
    "ax = sns.barplot(x=list(sp_score.keys()), y=list(sp_score.values()))\n",
    "ax.set_xticklabels(ax.get_xticklabels(),rotation = 45)"
   ]
  },
  {
   "cell_type": "code",
   "execution_count": null,
   "id": "77ca7a10",
   "metadata": {},
   "outputs": [],
   "source": [
    "import seaborn as sns\n",
    "for i, j in roc_score.items(): print(i, j)\n",
    "sns.set(rc = {'figure.figsize':(15,8)})\n",
    "ax = sns.barplot(x=list(roc_score.keys()), y=list(roc_score.values()))\n",
    "ax.set_xticklabels(ax.get_xticklabels(),rotation = 45)"
   ]
  },
  {
   "cell_type": "code",
   "execution_count": null,
   "id": "d7dac5ef",
   "metadata": {},
   "outputs": [],
   "source": []
  },
  {
   "cell_type": "code",
   "execution_count": null,
   "id": "07827050",
   "metadata": {},
   "outputs": [],
   "source": []
  }
 ],
 "metadata": {
  "kernelspec": {
   "display_name": "Python 3 (ipykernel)",
   "language": "python",
   "name": "python3"
  },
  "language_info": {
   "codemirror_mode": {
    "name": "ipython",
    "version": 3
   },
   "file_extension": ".py",
   "mimetype": "text/x-python",
   "name": "python",
   "nbconvert_exporter": "python",
   "pygments_lexer": "ipython3",
   "version": "3.8.12"
  }
 },
 "nbformat": 4,
 "nbformat_minor": 5
}
