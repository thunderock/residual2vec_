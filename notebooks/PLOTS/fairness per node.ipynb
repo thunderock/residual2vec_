{
 "cells": [
  {
   "cell_type": "code",
   "execution_count": 1,
   "id": "34e21326",
   "metadata": {},
   "outputs": [],
   "source": [
    "import sys, os\n",
    "sys.path.insert(0, '../../../residual2vec_')"
   ]
  },
  {
   "cell_type": "code",
   "execution_count": 2,
   "id": "e5d9034d",
   "metadata": {},
   "outputs": [],
   "source": [
    "os.environ['DISABLE_WANDB'] = 'true'\n",
    "\n",
    "#disable epoch level tqdm\n",
    "os.environ['DISABLE_TQDM'] = 'true'"
   ]
  },
  {
   "cell_type": "code",
   "execution_count": 3,
   "id": "ec3aafdb",
   "metadata": {},
   "outputs": [],
   "source": [
    "# standard imports\n",
    "import numpy as np\n",
    "import pandas as pd\n",
    "import pickle as pkl\n",
    "from scipy import sparse\n",
    "import matplotlib.pyplot as plt\n",
    "import seaborn as sns"
   ]
  },
  {
   "cell_type": "code",
   "execution_count": 4,
   "id": "87d50c5a",
   "metadata": {},
   "outputs": [
    {
     "name": "stderr",
     "output_type": "stream",
     "text": [
      "/data/sg/ashutiwa/miniconda3/lib/python3.7/site-packages/tqdm/auto.py:22: TqdmWarning: IProgress not found. Please update jupyter and ipywidgets. See https://ipywidgets.readthedocs.io/en/stable/user_install.html\n",
      "  from .autonotebook import tqdm as notebook_tqdm\n"
     ]
    },
    {
     "name": "stdout",
     "output_type": "stream",
     "text": [
      "Using GPU: cuda:1\n"
     ]
    }
   ],
   "source": [
    "# codebase\n",
    "from utils import snakemake_utils, score\n"
   ]
  },
  {
   "cell_type": "code",
   "execution_count": 5,
   "id": "1af4d6b9",
   "metadata": {},
   "outputs": [],
   "source": [
    "\n",
    "DIR = '../../../final_128'\n",
    "def get_embs(dataset, directory, root=DIR):\n",
    "    model_to_embs = {\n",
    "        \"fairwalk+deepwalk\": \"{}/{}_fairwalk_deepwalk.npy\",\n",
    "        \"fairwalk+node2vec\": \"{}/{}_fairwalk_node2vec.npy\",\n",
    "        \"crosswalk+deepwalk\": \"{}/{}_crosswalk_deepwalk.npy\",\n",
    "        \"crosswalk+node2vec\": \"{}/{}_crosswalk_node2vec.npy\",\n",
    "        \"GCN+deepwalk+random\": \"{}/{}_gcn_None_deepwalk_deepwalk_embs.npy\",\n",
    "        \"GCN+deepwalk+r2v\": \"{}/{}_gcn_None_deepwalk_r2v_embs.npy\",\n",
    "        \"GCN+node2vec+random\": \"{}/{}_gcn_None_node2vec_deepwalk_embs.npy\",\n",
    "        \"GCN+node2vec+r2v\": \"{}/{}_gcn_None_node2vec_r2v_embs.npy\",\n",
    "        \"GAT+deepwalk+random\": \"{}/{}_gat_None_deepwalk_deepwalk_embs.npy\",\n",
    "        \"GAT+deepwalk+r2v\": \"{}/{}_gat_None_deepwalk_r2v_embs.npy\",\n",
    "        \"GAT+node2vec+random\": \"{}/{}_gat_None_node2vec_deepwalk_embs.npy\",\n",
    "        \"GAT+node2vec+r2v\": \"{}/{}_gat_None_node2vec_r2v_embs.npy\",\n",
    "        \"deepwalk\": \"{}/{}_deepwalk_128_embs.npy\",\n",
    "        \"node2vec\": \"{}/{}_node2vec_128_embs.npy\",\n",
    "        \"residual2vec\": \"{}/{}_residual2vec_128_embs.npy\"\n",
    "    }\n",
    "    folder = root + '/' + dataset + '/' + dataset + '_' + directory\n",
    "    ret = {}\n",
    "    for i in model_to_embs:\n",
    "        ret[i] = np.load(model_to_embs[i].format(folder, dataset))\n",
    "        \n",
    "        \n",
    "    return ret\n",
    "\n"
   ]
  },
  {
   "cell_type": "code",
   "execution_count": 6,
   "id": "93b8bdb2",
   "metadata": {},
   "outputs": [
    {
     "name": "stderr",
     "output_type": "stream",
     "text": [
      "Using existing file soc-pokec-profiles.txt.gz\n",
      "Using existing file soc-pokec-relationships.txt.gz\n",
      "Using existing file polbooks.gml\n"
     ]
    }
   ],
   "source": [
    "embs_airport = get_embs('airport', 'one')\n",
    "\n",
    "\n",
    "\n",
    "embs_polblog = get_embs('polblog', 'one')\n",
    "embs_polbook = get_embs('polbook', 'four')\n",
    "embs_pokec = get_embs('pokec', 'one')\n",
    "\n",
    "y_airport = snakemake_utils.get_dataset(\"airport\").get_grouped_col()\n",
    "N_airport = y_airport.shape[0]\n",
    "y_pokec = snakemake_utils.get_dataset(\"pokec\").get_grouped_col()\n",
    "N_pokec = y_pokec.shape[0]\n",
    "y_polblog = snakemake_utils.get_dataset(\"polblog\").get_grouped_col()\n",
    "N_polblog = y_polblog.shape[0]\n",
    "y_polbook = snakemake_utils.get_dataset(\"polbook\").get_grouped_col()\n",
    "N_polbook = y_polbook.shape[0]\n",
    "\n",
    "\n",
    "\n",
    "# g = sns.FacetGrid(data=df, col=\"model\", hue=\"model\", row=\"dataset\")\n",
    "# g.map(sns.displot, x=\"scores\")"
   ]
  },
  {
   "cell_type": "code",
   "execution_count": 7,
   "id": "165965b3",
   "metadata": {},
   "outputs": [
    {
     "data": {
      "text/plain": [
       "(9822180, 4)"
      ]
     },
     "execution_count": 7,
     "metadata": {},
     "output_type": "execute_result"
    }
   ],
   "source": [
    "df = []\n",
    "df.append(pd.DataFrame({\n",
    "    'disparity per node': np.concatenate(\n",
    "        (\n",
    "            \n",
    "            score.get_node_parity(embs_polbook[\"GAT+deepwalk+random\"], y_polbook, 'std'),\n",
    "            score.get_node_parity(embs_polbook[\"GAT+deepwalk+r2v\"], y_polbook, 'std'),\n",
    "            score.get_node_parity(embs_polblog[\"GAT+deepwalk+random\"], y_polblog, 'std'),\n",
    "            score.get_node_parity(embs_polblog[\"GAT+deepwalk+r2v\"], y_polblog, 'std'),\n",
    "            score.get_node_parity(embs_airport[\"GAT+deepwalk+random\"], y_airport, 'std'),\n",
    "            score.get_node_parity(embs_airport[\"GAT+deepwalk+r2v\"], y_airport, 'std'),\n",
    "            score.get_node_parity(embs_pokec[\"GAT+deepwalk+random\"], y_pokec, 'std'),\n",
    "            score.get_node_parity(embs_pokec[\"GAT+deepwalk+r2v\"], y_pokec, 'std'),\n",
    "        )\n",
    "    ),\n",
    "    'model': np.array(['baseline'] * N_polbook + ['proposed'] * N_polbook + \n",
    "                      ['baseline'] * N_polblog + ['proposed'] * N_polblog + \n",
    "                      ['baseline'] * N_airport + ['proposed'] * N_airport \n",
    "                      +['baseline'] * N_pokec + ['proposed'] * N_pokec \n",
    "                     ),\n",
    "    'dataset': np.array(\n",
    "                       ['polbook'] * 2 * N_polbook +\n",
    "                       ['polblog'] * 2 * N_polblog +\n",
    "                    ['airport'] * 2 * N_airport\n",
    "        +['pokec'] * 2 * N_pokec\n",
    "    ),\n",
    "    'architecture': ['gat'] * 2 * (N_polbook+ N_polblog+ N_airport+N_pokec)\n",
    "    \n",
    "})\n",
    "      )\n",
    "df.append(\n",
    "    pd.DataFrame({\n",
    "    'disparity per node': np.concatenate(\n",
    "        (\n",
    "            \n",
    "            score.get_node_parity(embs_polbook[\"GCN+deepwalk+random\"], y_polbook, 'std'),\n",
    "            score.get_node_parity(embs_polbook[\"GCN+deepwalk+r2v\"], y_polbook, 'std'),\n",
    "            score.get_node_parity(embs_polblog[\"GCN+deepwalk+random\"], y_polblog, 'std'),\n",
    "            score.get_node_parity(embs_polblog[\"GCN+deepwalk+r2v\"], y_polblog, 'std'),\n",
    "            score.get_node_parity(embs_airport[\"GCN+deepwalk+random\"], y_airport, 'std'),\n",
    "            score.get_node_parity(embs_airport[\"GCN+deepwalk+r2v\"], y_airport, 'std'),\n",
    "            score.get_node_parity(embs_pokec[\"GCN+deepwalk+random\"], y_pokec, 'std'),\n",
    "            score.get_node_parity(embs_pokec[\"GCN+deepwalk+r2v\"], y_pokec, 'std'),\n",
    "        )\n",
    "    ),\n",
    "    'model': np.array(['baseline'] * N_polbook + ['proposed'] * N_polbook + \n",
    "                      ['baseline'] * N_polblog + ['proposed'] * N_polblog + \n",
    "                      ['baseline'] * N_airport + ['proposed'] * N_airport \n",
    "                      +['baseline'] * N_pokec + ['proposed'] * N_pokec \n",
    "                     ),\n",
    "    'dataset': np.array(\n",
    "                       ['polbook'] * 2 * N_polbook +\n",
    "                       ['polblog'] * 2 * N_polblog +\n",
    "                    ['airport'] * 2 * N_airport\n",
    "        +['pokec'] * 2 * N_pokec\n",
    "    ),\n",
    "    'architecture': ['gcn'] * 2 * (N_polbook+ N_polblog+ N_airport+N_pokec)\n",
    "    \n",
    "    \n",
    "    \n",
    "})\n",
    "    )\n",
    "\n",
    "df.append(\n",
    "    pd.DataFrame({\n",
    "    'disparity per node': np.concatenate(\n",
    "        (\n",
    "            \n",
    "            score.get_node_parity(embs_polbook[\"deepwalk\"], y_polbook, 'std'),\n",
    "            score.get_node_parity(embs_polbook[\"residual2vec\"], y_polbook, 'std'),\n",
    "            score.get_node_parity(embs_polblog[\"deepwalk\"], y_polblog, 'std'),\n",
    "            score.get_node_parity(embs_polblog[\"residual2vec\"], y_polblog, 'std'),\n",
    "            score.get_node_parity(embs_airport[\"deepwalk\"], y_airport, 'std'),\n",
    "            score.get_node_parity(embs_airport[\"residual2vec\"], y_airport, 'std'),\n",
    "            score.get_node_parity(embs_pokec[\"deepwalk\"], y_pokec, 'std'),\n",
    "            score.get_node_parity(embs_pokec[\"residual2vec\"], y_pokec, 'std'),\n",
    "        )\n",
    "    ),\n",
    "    'model': np.array(['baseline'] * N_polbook + ['proposed'] * N_polbook + \n",
    "                      ['baseline'] * N_polblog + ['proposed'] * N_polblog + \n",
    "                      ['baseline'] * N_airport + ['proposed'] * N_airport \n",
    "                      +['baseline'] * N_pokec + ['proposed'] * N_pokec \n",
    "                     ),\n",
    "    'dataset': np.array(\n",
    "                       ['polbook'] * 2 * N_polbook +\n",
    "                       ['polblog'] * 2 * N_polblog +\n",
    "                    ['airport'] * 2 * N_airport\n",
    "        +['pokec'] * 2 * N_pokec\n",
    "    ),\n",
    "    'architecture': ['word2vec'] * 2 * (N_polbook+ N_polblog+ N_airport+N_pokec)\n",
    "    \n",
    "    \n",
    "    \n",
    "})\n",
    ")\n",
    "df = pd.concat(df, axis=0, ignore_index=True)\n",
    "\n",
    "df.shape\n"
   ]
  },
  {
   "cell_type": "code",
   "execution_count": 8,
   "id": "7d149719",
   "metadata": {},
   "outputs": [
    {
     "data": {
      "text/html": [
       "<div>\n",
       "<style scoped>\n",
       "    .dataframe tbody tr th:only-of-type {\n",
       "        vertical-align: middle;\n",
       "    }\n",
       "\n",
       "    .dataframe tbody tr th {\n",
       "        vertical-align: top;\n",
       "    }\n",
       "\n",
       "    .dataframe thead th {\n",
       "        text-align: right;\n",
       "    }\n",
       "</style>\n",
       "<table border=\"1\" class=\"dataframe\">\n",
       "  <thead>\n",
       "    <tr style=\"text-align: right;\">\n",
       "      <th></th>\n",
       "      <th>disparity per node</th>\n",
       "      <th>model</th>\n",
       "      <th>dataset</th>\n",
       "      <th>architecture</th>\n",
       "    </tr>\n",
       "  </thead>\n",
       "  <tbody>\n",
       "    <tr>\n",
       "      <th>0</th>\n",
       "      <td>0.400590</td>\n",
       "      <td>baseline</td>\n",
       "      <td>polbook</td>\n",
       "      <td>gat</td>\n",
       "    </tr>\n",
       "    <tr>\n",
       "      <th>1</th>\n",
       "      <td>0.362707</td>\n",
       "      <td>baseline</td>\n",
       "      <td>polbook</td>\n",
       "      <td>gat</td>\n",
       "    </tr>\n",
       "    <tr>\n",
       "      <th>2</th>\n",
       "      <td>0.469259</td>\n",
       "      <td>baseline</td>\n",
       "      <td>polbook</td>\n",
       "      <td>gat</td>\n",
       "    </tr>\n",
       "    <tr>\n",
       "      <th>3</th>\n",
       "      <td>0.731781</td>\n",
       "      <td>baseline</td>\n",
       "      <td>polbook</td>\n",
       "      <td>gat</td>\n",
       "    </tr>\n",
       "    <tr>\n",
       "      <th>4</th>\n",
       "      <td>0.389968</td>\n",
       "      <td>baseline</td>\n",
       "      <td>polbook</td>\n",
       "      <td>gat</td>\n",
       "    </tr>\n",
       "  </tbody>\n",
       "</table>\n",
       "</div>"
      ],
      "text/plain": [
       "   disparity per node     model  dataset architecture\n",
       "0            0.400590  baseline  polbook          gat\n",
       "1            0.362707  baseline  polbook          gat\n",
       "2            0.469259  baseline  polbook          gat\n",
       "3            0.731781  baseline  polbook          gat\n",
       "4            0.389968  baseline  polbook          gat"
      ]
     },
     "execution_count": 8,
     "metadata": {},
     "output_type": "execute_result"
    }
   ],
   "source": [
    "df.head()"
   ]
  },
  {
   "cell_type": "code",
   "execution_count": 9,
   "id": "1bb531c3",
   "metadata": {},
   "outputs": [
    {
     "data": {
      "image/png": "[encoded data removed]",
      "text/plain": [
       "<Figure size 432x432 with 12 Axes>"
      ]
     },
     "metadata": {},
     "output_type": "display_data"
    }
   ],
   "source": [
    "g = sns.displot(data=df, x=\"disparity per node\", kind='kde', hue='model', col=\"dataset\", \n",
    "                row='architecture',\n",
    "                facet_kws=dict(sharey=False, sharex=False, margin_titles=True, despine=False))\n",
    "# g.fig.set_size_inches(6, 10)\n",
    "g.fig.set_size_inches(6, 6)\n",
    "g.set_titles(col_template=\"{col_name}\", fontweight='bold', fontsize=22)\n",
    "for (i,j,k), data in g.facet_data():\n",
    "    ax = g.facet_axis(i, j)\n",
    "    ax.set_yticks([])\n",
    "    ax.set_xticks([])\n",
    "\n",
    "#     ax.set_title(str(i) + '_' + str(j))\n",
    "# sns.move_legend(g, \"bottom\", bbox_to_anchor=(.55, .45), frameon=False)\n",
    "sns.move_legend(g, \"lower center\", bbox_to_anchor=(.45, -0.05), ncol=2)\n",
    "g.legend.set_title(None)"
   ]
  },
  {
   "cell_type": "code",
   "execution_count": null,
   "id": "12636e1e",
   "metadata": {},
   "outputs": [],
   "source": []
  },
  {
   "cell_type": "code",
   "execution_count": null,
   "id": "ab015fe0",
   "metadata": {},
   "outputs": [],
   "source": []
  }
 ],
 "metadata": {
  "kernelspec": {
   "display_name": "Python 3 (ipykernel)",
   "language": "python",
   "name": "python3"
  },
  "language_info": {
   "codemirror_mode": {
    "name": "ipython",
    "version": 3
   },
   "file_extension": ".py",
   "mimetype": "text/x-python",
   "name": "python",
   "nbconvert_exporter": "python",
   "pygments_lexer": "ipython3",
   "version": "3.7.13"
  }
 },
 "nbformat": 4,
 "nbformat_minor": 5
}
