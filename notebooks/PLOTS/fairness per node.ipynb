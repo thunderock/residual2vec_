{
 "cells": [
  {
   "cell_type": "code",
   "execution_count": 1,
   "id": "34e21326",
   "metadata": {},
   "outputs": [],
   "source": [
    "import sys, os\n",
    "sys.path.insert(0, '../../../residual2vec_')"
   ]
  },
  {
   "cell_type": "code",
   "execution_count": 2,
   "id": "e5d9034d",
   "metadata": {},
   "outputs": [],
   "source": [
    "os.environ['DISABLE_WANDB'] = 'true'\n",
    "\n",
    "#disable epoch level tqdm\n",
    "os.environ['DISABLE_TQDM'] = 'true'"
   ]
  },
  {
   "cell_type": "code",
   "execution_count": 3,
   "id": "ec3aafdb",
   "metadata": {},
   "outputs": [],
   "source": [
    "import numpy as np\n",
    "import pandas as pd\n",
    "import pickle as pkl\n",
    "from scipy import sparse"
   ]
  },
  {
   "cell_type": "code",
   "execution_count": 4,
   "id": "87d50c5a",
   "metadata": {},
   "outputs": [
    {
     "name": "stderr",
     "output_type": "stream",
     "text": [
      "/data/sg/ashutiwa/miniconda3/lib/python3.7/site-packages/tqdm/auto.py:22: TqdmWarning: IProgress not found. Please update jupyter and ipywidgets. See https://ipywidgets.readthedocs.io/en/stable/user_install.html\n",
      "  from .autonotebook import tqdm as notebook_tqdm\n"
     ]
    },
    {
     "name": "stdout",
     "output_type": "stream",
     "text": [
      "Using GPU: cuda:0\n"
     ]
    }
   ],
   "source": [
    "from utils import snakemake_utils, score"
   ]
  },
  {
   "cell_type": "code",
   "execution_count": 5,
   "id": "b343e0f5",
   "metadata": {},
   "outputs": [],
   "source": [
    "DIR = '../../../final_crosswalk/airport/airport_one/'\n",
    "adj = snakemake_utils.get_adj_mat_from_path( DIR + \"airport_adj.npz\")\n",
    "test_adj = snakemake_utils.get_adj_mat_from_path(DIR + \"airport_test_adj.npz\")\n",
    "embs = np.load(DIR + 'airport_fairwalk_deepwalk.npy')\n",
    "y = snakemake_utils.get_dataset(\"airport\").get_grouped_col()"
   ]
  },
  {
   "cell_type": "code",
   "execution_count": 6,
   "id": "025c01a6",
   "metadata": {},
   "outputs": [
    {
     "data": {
      "text/plain": [
       "((2898, 2898), (2898, 2898), (2898, 128))"
      ]
     },
     "execution_count": 6,
     "metadata": {},
     "output_type": "execute_result"
    }
   ],
   "source": [
    "adj.shape, test_adj.shape, embs.shape"
   ]
  },
  {
   "cell_type": "code",
   "execution_count": 7,
   "id": "4aa53884",
   "metadata": {},
   "outputs": [],
   "source": [
    "batch_size = 2000\n",
    "edges = snakemake_utils.return_new_graph(embs, 5)"
   ]
  },
  {
   "cell_type": "code",
   "execution_count": 8,
   "id": "b21c646a",
   "metadata": {},
   "outputs": [],
   "source": [
    "\n",
    "\n",
    "n_nodes = len(y) # number of nodes\n",
    "n_edges = edges.shape[0] # number of nodes\n",
    "uy, y = np.unique(y, return_inverse=True) # to ensure that the labels are continuous integers starting from zero\n",
    "K = len(uy) # number of classes\n",
    "\n",
    "# We need two groups at least\n",
    "assert K >= 2\n",
    "\n",
    "# Group membership matrix, where U[i,k] = 1 if node $i$ belongs to group $k$\n",
    "U = sparse.csr_matrix((np.ones_like(y), (np.arange(n_nodes), y)), shape=(n_nodes, K))\n",
    "\n",
    "# Number of nodes in each group\n",
    "Nk = np.array(U.sum(axis = 0)).reshape(-1)\n",
    "\n",
    "# Adjacency matrix\n",
    "A = sparse.csr_matrix((np.ones(n_edges), (edges[\"source\"].values, edges[\"target\"].values)), shape=(n_nodes, n_nodes))\n",
    "\n",
    "# Make sure that the adjacency matrix is symemtric\n",
    "A = A + A.T\n",
    "A.data = A.data *0 + 1\n",
    "\n",
    "# Calculate the number of edges that appear in each group\n",
    "M = U.T @ A @ U\n",
    "\n",
    "# Calculate the edge density\n",
    "Mdenom = np.outer(Nk, Nk) - np.diag(Nk)\n",
    "P = M / Mdenom\n",
    "# Calculate the statistical parity\n",
    "\n",
    "probs = np.array(P[np.triu_indices(K)]).reshape(-1)\n"
   ]
  },
  {
   "cell_type": "code",
   "execution_count": 9,
   "id": "14a76467",
   "metadata": {},
   "outputs": [
    {
     "data": {
      "text/plain": [
       "matrix([[1.95082777e-02, 6.25390869e-05, 5.06119668e-04, 7.56200847e-04,\n",
       "         1.56896306e-04, 6.14820883e-03, 4.81403512e-05, 1.97321602e-04,\n",
       "         6.48271023e-05, 8.78602250e-03, 5.04567411e-04, 3.55197727e-04,\n",
       "         1.12262522e-02, 0.00000000e+00, 2.53857641e-02]])"
      ]
     },
     "execution_count": 9,
     "metadata": {},
     "output_type": "execute_result"
    }
   ],
   "source": [
    "P[np.triu_indices(K)]"
   ]
  },
  {
   "cell_type": "code",
   "execution_count": 10,
   "id": "3f882f50",
   "metadata": {},
   "outputs": [
    {
     "data": {
      "text/plain": [
       "<5x5 sparse matrix of type '<class 'numpy.float64'>'\n",
       "\twith 23 stored elements in Compressed Sparse Column format>"
      ]
     },
     "execution_count": 10,
     "metadata": {},
     "output_type": "execute_result"
    }
   ],
   "source": [
    "M"
   ]
  },
  {
   "cell_type": "code",
   "execution_count": 11,
   "id": "7891a479",
   "metadata": {},
   "outputs": [
    {
     "data": {
      "text/plain": [
       "array([ 285, 1066,  721,  580,  246])"
      ]
     },
     "execution_count": 11,
     "metadata": {},
     "output_type": "execute_result"
    }
   ],
   "source": [
    "Nk"
   ]
  },
  {
   "cell_type": "code",
   "execution_count": 14,
   "id": "52ab38ea",
   "metadata": {},
   "outputs": [
    {
     "data": {
      "text/plain": [
       "(5, 5)"
      ]
     },
     "execution_count": 14,
     "metadata": {},
     "output_type": "execute_result"
    }
   ],
   "source": [
    "np.outer(Nk, Nk)"
   ]
  },
  {
   "cell_type": "code",
   "execution_count": null,
   "id": "93b8bdb2",
   "metadata": {},
   "outputs": [],
   "source": []
  }
 ],
 "metadata": {
  "kernelspec": {
   "display_name": "Python 3 (ipykernel)",
   "language": "python",
   "name": "python3"
  },
  "language_info": {
   "codemirror_mode": {
    "name": "ipython",
    "version": 3
   },
   "file_extension": ".py",
   "mimetype": "text/x-python",
   "name": "python",
   "nbconvert_exporter": "python",
   "pygments_lexer": "ipython3",
   "version": "3.7.13"
  }
 },
 "nbformat": 4,
 "nbformat_minor": 5
}
