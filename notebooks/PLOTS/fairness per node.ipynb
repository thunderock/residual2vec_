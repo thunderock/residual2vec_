{
 "cells": [
  {
   "cell_type": "code",
   "execution_count": 1,
   "id": "34e21326",
   "metadata": {},
   "outputs": [],
   "source": [
    "import sys, os\n",
    "sys.path.insert(0, '../../../residual2vec_')"
   ]
  },
  {
   "cell_type": "code",
   "execution_count": 2,
   "id": "e5d9034d",
   "metadata": {},
   "outputs": [],
   "source": [
    "os.environ['DISABLE_WANDB'] = 'true'\n",
    "\n",
    "#disable epoch level tqdm\n",
    "os.environ['DISABLE_TQDM'] = 'true'"
   ]
  },
  {
   "cell_type": "code",
   "execution_count": 3,
   "id": "ec3aafdb",
   "metadata": {},
   "outputs": [],
   "source": [
    "# standard imports\n",
    "import numpy as np\n",
    "import pandas as pd\n",
    "import pickle as pkl\n",
    "from scipy import sparse\n",
    "import matplotlib.pyplot as plt\n",
    "import seaborn as sns"
   ]
  },
  {
   "cell_type": "code",
   "execution_count": 4,
   "id": "87d50c5a",
   "metadata": {},
   "outputs": [
    {
     "name": "stderr",
     "output_type": "stream",
     "text": [
      "/data/sg/ashutiwa/miniconda3/lib/python3.7/site-packages/tqdm/auto.py:22: TqdmWarning: IProgress not found. Please update jupyter and ipywidgets. See https://ipywidgets.readthedocs.io/en/stable/user_install.html\n",
      "  from .autonotebook import tqdm as notebook_tqdm\n"
     ]
    }
   ],
   "source": [
    "# codebase\n",
    "from utils import snakemake_utils, score\n"
   ]
  },
  {
   "cell_type": "code",
   "execution_count": 5,
   "id": "1af4d6b9",
   "metadata": {},
   "outputs": [],
   "source": [
    "\n",
    "DIR = '../../../final_crosswalk_temp'\n",
    "def get_embs(dataset, directory, root=DIR):\n",
    "    model_to_embs = {\n",
    "        \"fairwalk+deepwalk\": \"{}/{}_fairwalk_deepwalk.npy\",\n",
    "        \"fairwalk+node2vec\": \"{}/{}_fairwalk_node2vec.npy\",\n",
    "        \"crosswalk+deepwalk\": \"{}/{}_crosswalk_deepwalk.npy\",\n",
    "        \"crosswalk+node2vec\": \"{}/{}_crosswalk_node2vec.npy\",\n",
    "        \"GCN+deepwalk+random\": \"{}/{}_gcn_None_deepwalk_deepwalk_embs.npy\",\n",
    "        \"GCN+deepwalk+r2v\": \"{}/{}_gcn_None_deepwalk_r2v_embs.npy\",\n",
    "        \"GCN+node2vec+random\": \"{}/{}_gcn_None_node2vec_deepwalk_embs.npy\",\n",
    "        \"GCN+node2vec+r2v\": \"{}/{}_gcn_None_node2vec_r2v_embs.npy\",\n",
    "        \"GAT+deepwalk+random\": \"{}/{}_gat_None_deepwalk_deepwalk_embs.npy\",\n",
    "        \"GAT+deepwalk+r2v\": \"{}/{}_gat_None_deepwalk_r2v_embs.npy\",\n",
    "        \"GAT+node2vec+random\": \"{}/{}_gat_None_node2vec_deepwalk_embs.npy\",\n",
    "        \"GAT+node2vec+r2v\": \"{}/{}_gat_None_node2vec_r2v_embs.npy\",\n",
    "        \"deepwalk\": \"{}/{}_deepwalk_128_embs.npy\",\n",
    "        \"node2vec\": \"{}/{}_node2vec_128_embs.npy\",\n",
    "        \"residual2vec\": \"{}/{}_residual2vec_128_embs.npy\"\n",
    "    }\n",
    "    folder = root + '/' + dataset + '/' + dataset + '_' + directory\n",
    "    ret = {}\n",
    "    for i in model_to_embs:\n",
    "        ret[i] = np.load(model_to_embs[i].format(folder, dataset))\n",
    "        \n",
    "        \n",
    "    return ret\n",
    "\n"
   ]
  },
  {
   "cell_type": "code",
   "execution_count": 6,
   "id": "93b8bdb2",
   "metadata": {},
   "outputs": [
    {
     "data": {
      "text/plain": [
       "<seaborn.axisgrid.FacetGrid at 0x7f75e048c3d0>"
      ]
     },
     "execution_count": 6,
     "metadata": {},
     "output_type": "execute_result"
    },
    {
     "data": {
      "image/png": "[encoded data removed]",
      "text/plain": [
       "<Figure size 442.125x360 with 1 Axes>"
      ]
     },
     "metadata": {
      "needs_background": "light"
     },
     "output_type": "display_data"
    }
   ],
   "source": [
    "embs = get_embs('airport', 'one')\n",
    "# embs_128 = get_embs('airport', 'one', '../../../final_crosswalk_temp/')\n",
    "y = snakemake_utils.get_dataset(\"airport\").get_grouped_col()\n",
    "\n",
    "df = pd.DataFrame({\n",
    "    'scores': np.concatenate(\n",
    "        (\n",
    "            score.get_node_parity(embs[\"GAT+deepwalk+random\"], y, 'var'),\n",
    "            score.get_node_parity(embs[\"GAT+deepwalk+r2v\"], y, 'var'),\n",
    "#             score.get_node_parity(embs_128[\"GAT+deepwalk+random\"], y, 'var'),\n",
    "#             score.get_node_parity(embs_128[\"GAT+deepwalk+r2v\"], y, 'var'),\n",
    "            \n",
    "        )\n",
    "    ),\n",
    "    'model': np.array(['baseline'] * y.shape[0] + ['proposed'] * y.shape[0]) \n",
    "    \n",
    "})\n",
    "sns.displot(data=df, x=\"scores\", kind='kde', hue='model')"
   ]
  },
  {
   "cell_type": "code",
   "execution_count": null,
   "id": "165965b3",
   "metadata": {},
   "outputs": [],
   "source": []
  }
 ],
 "metadata": {
  "kernelspec": {
   "display_name": "Python 3 (ipykernel)",
   "language": "python",
   "name": "python3"
  },
  "language_info": {
   "codemirror_mode": {
    "name": "ipython",
    "version": 3
   },
   "file_extension": ".py",
   "mimetype": "text/x-python",
   "name": "python",
   "nbconvert_exporter": "python",
   "pygments_lexer": "ipython3",
   "version": "3.7.13"
  }
 },
 "nbformat": 4,
 "nbformat_minor": 5
}
