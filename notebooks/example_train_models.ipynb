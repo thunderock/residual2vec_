{
 "cells": [
  {
   "cell_type": "code",
   "execution_count": 1,
   "id": "59c4893e",
   "metadata": {},
   "outputs": [],
   "source": [
    "import os\n",
    "os.environ['PYTORCH_CUDA_ALLOC_CONF'] = \"max_split_size_mb: 512\"\n",
    "os.environ['DISABLE_WANDB'] = \"true\"\n",
    "os.environ['DISABLE_TQDM'] = \"true\""
   ]
  },
  {
   "cell_type": "code",
   "execution_count": 2,
   "id": "139c8b70",
   "metadata": {},
   "outputs": [],
   "source": [
    "import sys\n",
    "sys.path.append('../')"
   ]
  },
  {
   "cell_type": "code",
   "execution_count": 3,
   "id": "bf25f840",
   "metadata": {},
   "outputs": [],
   "source": [
    "args = {\n",
    "    'dataset_name': 'polbook',\n",
    "    \"crosswalk\":False,\n",
    "    \"r2v\":True,\n",
    "    \"node2vec\":False,\n",
    "    \"fairwalk\":False,\n",
    "    \"model_name\": \"gcn\",\n",
    "    \"learn_outvec\": False,\n",
    "    \"model_dim\": 128,\n",
    "    \"edges\": None,\n",
    "    \"group_membership\": None,\n",
    "    \"degree_agnostic\": True,\n",
    "}"
   ]
  },
  {
   "cell_type": "code",
   "execution_count": 4,
   "id": "939f59ad",
   "metadata": {},
   "outputs": [
    {
     "name": "stdout",
     "output_type": "stream",
     "text": [
      "Using GPU: cuda:0\n"
     ]
    }
   ],
   "source": [
    "from utils import snakemake_utils"
   ]
  },
  {
   "cell_type": "code",
   "execution_count": 5,
   "id": "4821e354",
   "metadata": {},
   "outputs": [
    {
     "name": "stderr",
     "output_type": "stream",
     "text": [
      "Using existing file polbooks.gml\n",
      "/home/ashutosh/miniconda3/envs/study/lib/python3.7/site-packages/torch_sparse/storage.py:14: UserWarning: `layout` argument unset, using default layout \"coo\". This may lead to unexpected behaviour.\n",
      "  warnings.warn('`layout` argument unset, using default layout '\n"
     ]
    },
    {
     "name": "stdout",
     "output_type": "stream",
     "text": [
      "torch.Size([2, 882])\n"
     ]
    },
    {
     "name": "stderr",
     "output_type": "stream",
     "text": [
      "../dataset/triplet_dataset.py:129: UserWarning: Creating a tensor from a list of numpy.ndarrays is extremely slow. Please consider converting the list to a single numpy.ndarray with numpy.array() before converting to a tensor. (Triggered internally at  /opt/conda/conda-bld/pytorch_1646755953518/work/torch/csrc/utils/tensor_new.cpp:210.)\n",
      "  return torch.tensor([source, dist], dtype=torch.long)\n",
      "/home/ashutosh/miniconda3/envs/study/lib/python3.7/site-packages/torch/utils/data/dataloader.py:490: UserWarning: This DataLoader will create 50 worker processes in total. Our suggested max number of worker in current system is 16, which is smaller than what this DataLoader is going to create. Please be aware that excessive worker creation might get DataLoader running slow or even freeze, lower the worker number to avoid potential slowness/freeze if necessary.\n",
      "  cpuset_checked))\n"
     ]
    },
    {
     "name": "stdout",
     "output_type": "stream",
     "text": [
      "size of edge_index torch.Size([2, 882])  and size of neg_edge_index torch.Size([2, 6389])\n",
      "number of common sources 105\n",
      "Patience threshold: 0\n"
     ]
    },
    {
     "name": "stderr",
     "output_type": "stream",
     "text": [
      "training FINAL MODEL: 100%|█████████████████████████████████████████████████████████████████████████████████████| 600/600 [17:12<00:00,  1.72s/it]\n",
      "Generating node embeddings:   0%|                                                                                           | 0/1 [00:01<?, ?it/s]\n"
     ]
    },
    {
     "data": {
      "text/plain": [
       "torch.Size([105, 128])"
      ]
     },
     "execution_count": 5,
     "metadata": {},
     "output_type": "execute_result"
    }
   ],
   "source": [
    "snakemake_utils.get_embs_from_dataset(**args).shape"
   ]
  },
  {
   "cell_type": "code",
   "execution_count": 8,
   "id": "e88d42c6",
   "metadata": {},
   "outputs": [
    {
     "name": "stdout",
     "output_type": "stream",
     "text": [
      "torch.Size([2, 31128])\n",
      "size of edge_index torch.Size([2, 31128])  and size of neg_edge_index torch.Size([2, 470363])\n",
      "number of common sources 2898\n",
      "Patience threshold: 6\n"
     ]
    },
    {
     "name": "stderr",
     "output_type": "stream",
     "text": [
      "training FINAL MODEL: 100%|███████████████████████████████████████████████████████████████████████████████████████| 10/10 [00:32<00:00,  3.27s/it]\n",
      "Generating node embeddings:  92%|██████████████████████████████████████████████████████████████████████████▎      | 11/12 [00:02<00:00,  4.21it/s]\n"
     ]
    },
    {
     "data": {
      "text/plain": [
       "torch.Size([2898, 128])"
      ]
     },
     "execution_count": 8,
     "metadata": {},
     "output_type": "execute_result"
    }
   ],
   "source": [
    "del args['dataset_name']\n",
    "args['edges'] = snakemake_utils.get_dataset('airport').edge_index\n",
    "args['group_membership'] = snakemake_utils.get_dataset('airport').get_grouped_col()\n",
    "snakemake_utils.get_embs_from_dataset(**args).shape\n"
   ]
  },
  {
   "cell_type": "code",
   "execution_count": null,
   "id": "4938df9a",
   "metadata": {},
   "outputs": [],
   "source": []
  }
 ],
 "metadata": {
  "kernelspec": {
   "display_name": "Python 3 (ipykernel)",
   "language": "python",
   "name": "python3"
  },
  "language_info": {
   "codemirror_mode": {
    "name": "ipython",
    "version": 3
   },
   "file_extension": ".py",
   "mimetype": "text/x-python",
   "name": "python",
   "nbconvert_exporter": "python",
   "pygments_lexer": "ipython3",
   "version": "3.7.12"
  }
 },
 "nbformat": 4,
 "nbformat_minor": 5
}
