{
 "cells": [
  {
   "cell_type": "code",
   "execution_count": 1,
   "id": "e06d2e76",
   "metadata": {},
   "outputs": [],
   "source": [
    "import sys, os\n",
    "sys.path.insert(0, '..')\n",
    "\n",
    "import numpy as np\n",
    "import scipy.sparse as sp\n",
    "import torch\n",
    "import networkx as nx\n",
    "import pickle as pkl\n",
    "from utils.utils import sparse_to_torch_tensor, normalize_row_wise\n",
    "from utils import score\n",
    "from utils.config import *"
   ]
  },
  {
   "cell_type": "code",
   "execution_count": 2,
   "id": "6543d107",
   "metadata": {},
   "outputs": [
    {
     "data": {
      "text/plain": [
       "(torch.Size([105, 128]),\n",
       " torch.Tensor,\n",
       " torch.Size([105]),\n",
       " torch.Tensor,\n",
       " torch.Size([105, 105]),\n",
       " torch.Tensor)"
      ]
     },
     "execution_count": 2,
     "metadata": {},
     "output_type": "execute_result"
    }
   ],
   "source": [
    "\n",
    "t = 'fairwalk'\n",
    "embs = pkl.load(open('/tmp/embs.pkl', 'rb'))\n",
    "rgraphs = pkl.load(open(\"/tmp/rgraphs.pkl\", 'rb'))\n",
    "labels = torch.LongTensor(pkl.load(open(\"/tmp/group_ids.pkl\", 'rb')))\n",
    "adj = nx.to_scipy_sparse_matrix(rgraphs[t])\n",
    "adj = sparse_to_torch_tensor(normalize_row_wise(adj + sp.eye(adj.shape[0])))\n",
    "features = torch.FloatTensor(embs[t])\n",
    "idx_train, idx_val = torch.LongTensor(range(80)), torch.LongTensor(range(80, 105))\n",
    "features.shape, type(features), labels.shape, type(labels), adj.shape, type(adj)"
   ]
  },
  {
   "cell_type": "code",
   "execution_count": 3,
   "id": "d8219c90",
   "metadata": {},
   "outputs": [],
   "source": [
    "import math\n",
    "import torch\n",
    "\n",
    "from torch.nn.parameter import Parameter\n",
    "from torch.nn.modules.module import Module\n",
    "from utils.node_classification import GCN, GAT\n"
   ]
  },
  {
   "cell_type": "code",
   "execution_count": 4,
   "id": "1a0a574d",
   "metadata": {},
   "outputs": [],
   "source": [
    "import torch.nn as nn\n",
    "import torch.nn.functional as F"
   ]
  },
  {
   "cell_type": "code",
   "execution_count": 5,
   "id": "fd7131d9",
   "metadata": {},
   "outputs": [],
   "source": [
    "import time\n",
    "import argparse\n",
    "import numpy as np\n",
    "\n",
    "import torch\n",
    "import torch.nn.functional as F\n",
    "import torch.optim as optim\n",
    "\n",
    "\n",
    "# Training hyperparameter configuration\n",
    "class Args:\n",
    "    no_cuda = False # Whether to use cuda/gpu\n",
    "    seed = 42 # Set random seed\n",
    "    epochs = 200 # number of iterations\n",
    "    lr = 0.01 # learning rate\n",
    "    weight_decay = 5e-4 # Learning rate decay\n",
    "    n_hid = 16 # hidden layer dimension\n",
    "    dropout = 0.5 # dropout rate"
   ]
  },
  {
   "cell_type": "code",
   "execution_count": 6,
   "id": "e1939b6f",
   "metadata": {},
   "outputs": [],
   "source": [
    "input_features = features.shape[1]\n",
    "models = {}\n",
    "models['GCN'] = GCN(n_feat=input_features,\n",
    "            n_hids=[128,32],\n",
    "            n_classes=labels.max().item() + 1)\n",
    "models['GAT'] = GAT(n_feat=input_features,\n",
    "            n_hids=8,\n",
    "            n_classes=labels.max().item() + 1,\n",
    "                   nheads=3)"
   ]
  },
  {
   "cell_type": "code",
   "execution_count": 7,
   "id": "fd7b5c8c",
   "metadata": {},
   "outputs": [],
   "source": [
    "args = Args()\n",
    "\n",
    "def train_model(model):\n",
    "    optimizer = optim.Adam(model.parameters(),\n",
    "                       lr=args.lr, \n",
    "                       weight_decay=args.weight_decay)\n",
    "    \n",
    "    return model.fit(X=features, y=labels, optimizer=optimizer, adj_list=adj, log=False) "
   ]
  },
  {
   "cell_type": "code",
   "execution_count": 8,
   "id": "60eef2f3",
   "metadata": {},
   "outputs": [],
   "source": [
    "# Model test function\n",
    "def test(model, X, y, adj):\n",
    "    # First mark the model as eval mode\n",
    "    model.eval()\n",
    "    output = model(X, adj)\n",
    "\n",
    "    loss_test = F.nll_loss(output, y)\n",
    "    acc_test = score.accuracy(output, y)\n",
    "    print(\"Test set results:\",\n",
    "          \"loss= {:.4f}\".format(loss_test.item()),\n",
    "          \"accuracy= {:.4f}\".format(acc_test.item()))"
   ]
  },
  {
   "cell_type": "code",
   "execution_count": 9,
   "id": "ceeca6ba",
   "metadata": {},
   "outputs": [
    {
     "name": "stdout",
     "output_type": "stream",
     "text": [
      "Test set results: loss= 0.1948 accuracy= 0.8857\n",
      "None\n",
      "Test set results: loss= 0.2345 accuracy= 0.8952\n",
      "None\n"
     ]
    }
   ],
   "source": [
    "for key, model in models.items(): \n",
    "    train_model(model)\n",
    "    print(test(model, features, labels, adj))"
   ]
  }
 ],
 "metadata": {
  "kernelspec": {
   "display_name": "Python 3 (ipykernel)",
   "language": "python",
   "name": "python3"
  },
  "language_info": {
   "codemirror_mode": {
    "name": "ipython",
    "version": 3
   },
   "file_extension": ".py",
   "mimetype": "text/x-python",
   "name": "python",
   "nbconvert_exporter": "python",
   "pygments_lexer": "ipython3",
   "version": "3.7.12"
  }
 },
 "nbformat": 4,
 "nbformat_minor": 5
}
