{
 "cells": [
  {
   "cell_type": "markdown",
   "metadata": {},
   "source": [
    "# About this notebook \n",
    "\n",
    "Investigate the k-core profile of the Pokec network. [What is the k-core?](https://en.wikipedia.org/wiki/Degeneracy_(graph_theory))"
   ]
  },
  {
   "cell_type": "code",
   "execution_count": null,
   "metadata": {},
   "outputs": [],
   "source": [
    "import numpy as np \n",
    "from scipy import sparse \n",
    "import pandas as pd "
   ]
  },
  {
   "cell_type": "markdown",
   "metadata": {},
   "source": [
    "Load the Pokec network \n"
   ]
  },
  {
   "cell_type": "code",
   "execution_count": null,
   "metadata": {},
   "outputs": [],
   "source": [
    "dfe = pd.read_csv(\"https://snap.stanford.edu/data/soc-pokec-relationships.txt.gz\", sep=\"\\t\", names=[\"source\", \"target\"], nrows=None)\n",
    "dfe = dfe.astype({'source': 'int', 'target': 'int'})\n",
    "dfe = dfe.drop_duplicates()\n",
    "dfe = dfe[dfe.source != dfe.target] - 1"
   ]
  },
  {
   "cell_type": "code",
   "execution_count": null,
   "metadata": {},
   "outputs": [],
   "source": [
    "dfe.head()"
   ]
  },
  {
   "cell_type": "code",
   "execution_count": null,
   "metadata": {},
   "outputs": [],
   "source": [
    "def kcore_decomposition(A):\n",
    "    \"\"\"k-core decomposition\n",
    "\n",
    "    :param A: Adjacency matrix \n",
    "    :type A: sparse.csr_matrix \n",
    "    :return: list of nodes in k-cores. The keys and values of the dict are the value of \"k\" (degree threshold) and the numpy array of node ids in a k-core.  \n",
    "    :rtype: dict\n",
    "    \"\"\"\n",
    "\n",
    "    # To ensure that the network is symmetric and unweighted\n",
    "    A = A + A.T \n",
    "    A.data = A.data * 0 + 1\n",
    "\n",
    "    kth = 1 # Threshold for the degree\n",
    "    net = A.copy()\n",
    "    node_ids = np.arange(net.shape[0])\n",
    "    kcore_node_list = {}\n",
    "    while len(node_ids)>1:\n",
    "        while True:\n",
    "            deg = np.array(net.sum(axis = 0)).reshape(-1) \n",
    "            is_in_kcore = deg >= kth\n",
    "\n",
    "            # If everyone is in the k-core, break\n",
    "            if np.all(is_in_kcore):\n",
    "                break\n",
    "\n",
    "            # Otherwise remove non-k-core nodes. \n",
    "            net = net[is_in_kcore, :][:, is_in_kcore]\n",
    "            node_ids = node_ids[is_in_kcore]\n",
    "\n",
    "        kcore_node_list[kth] = node_ids.copy()\n",
    "        kth+=1\n",
    "    return kcore_node_list "
   ]
  },
  {
   "cell_type": "markdown",
   "metadata": {},
   "source": [
    "k-core decomposition "
   ]
  },
  {
   "cell_type": "code",
   "execution_count": null,
   "metadata": {},
   "outputs": [],
   "source": [
    "n = dfe[[\"source\", \"target\"]].values.max() + 1\n",
    "net = sparse.csr_matrix((np.ones(dfe.shape[0]), (dfe[\"source\"], dfe[\"target\"])), shape=(n, n))"
   ]
  },
  {
   "cell_type": "code",
   "execution_count": 25,
   "metadata": {},
   "outputs": [],
   "source": [
    "kcore = kcore_decomposition(net)"
   ]
  },
  {
   "cell_type": "markdown",
   "metadata": {},
   "source": [
    "Plot results"
   ]
  },
  {
   "cell_type": "code",
   "execution_count": null,
   "metadata": {},
   "outputs": [],
   "source": [
    "# Calculate the size of k-core graphs\n",
    "plot_data = pd.DataFrame([{\"size\": len(v), \"k\":k for k, v in kcore.items()])\n",
    "\n",
    "import matplotlib.pyplot as plt \n",
    "import seaborn as sns \n",
    "\n",
    "sns.set_style('white')\n",
    "sns.set(font_scale=1.2)\n",
    "sns.set_style('ticks')\n",
    "fig, ax = plt.subplots(figsize=(7,5))\n",
    "\n",
    "sns.lineplot(data = plot_data, x = \"k\", y = \"size\")\n",
    "ax.set_xlabel(\"k\")\n",
    "ax.set_ylabel(\"# of nodes in the k-core graph\")\n",
    "#ax.set_yscale(\"log\")"
   ]
  },
  {
   "cell_type": "code",
   "execution_count": null,
   "metadata": {},
   "outputs": [],
   "source": []
  }
 ],
 "metadata": {
  "kernelspec": {
   "display_name": "Python 3.7.13 ('embcom')",
   "language": "python",
   "name": "python3"
  },
  "language_info": {
   "codemirror_mode": {
    "name": "ipython",
    "version": 3
   },
   "file_extension": ".py",
   "mimetype": "text/x-python",
   "name": "python",
   "nbconvert_exporter": "python",
   "pygments_lexer": "ipython3",
   "version": "3.7.13"
  },
  "orig_nbformat": 4,
  "vscode": {
   "interpreter": {
    "hash": "88101407f9d3206801af63e0091dfae7cd7a605b9fdd5e8c27ab8b15b917afb6"
   }
  }
 },
 "nbformat": 4,
 "nbformat_minor": 2
}
