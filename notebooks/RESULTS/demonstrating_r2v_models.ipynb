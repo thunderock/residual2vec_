{
 "cells": [
  {
   "cell_type": "code",
   "execution_count": null,
   "id": "2447caa6",
   "metadata": {},
   "outputs": [],
   "source": [
    "import sys, os\n",
    "\n",
    "sys.path.insert(0, '../../../node2vec')\n",
    "sys.path.insert(0, '../../../residual2vec_')\n",
    "\n",
    "#diable wandb logging\n",
    "os.environ['DISABLE_WANDB'] = 'true'\n",
    "\n",
    "#disable epoch level tqdm\n",
    "os.environ['DISABLE_TQDM'] = 'true'\n",
    "# checking if imports working\n",
    "import node2vecs\n",
    "from utils import snakemake_utils"
   ]
  },
  {
   "cell_type": "code",
   "execution_count": null,
   "id": "01042055",
   "metadata": {},
   "outputs": [],
   "source": [
    "from urllib.request import urlopen\n",
    "from zipfile import ZipFile\n",
    "\n",
    "source_data_url = \"http://www-personal.umich.edu/~mejn/netdata/polbooks.zip\"\n",
    "\n",
    "tmp_gml_file = \"/tmp/data\"\n",
    "zipresp = urlopen(source_data_url)\n",
    "tempzip = open(\"/tmp/polbooks.zip\", \"wb\")\n",
    "tempzip.write(zipresp.read())\n",
    "tempzip.close()\n",
    "zf = ZipFile(\"/tmp/polbooks.zip\")\n",
    "zf.extractall(path = tmp_gml_file)\n",
    "zf.close()\n",
    "\n",
    "graph_data_file = tmp_gml_file + \"/\" + \"polbooks.gml\""
   ]
  },
  {
   "cell_type": "code",
   "execution_count": null,
   "id": "007d73ae",
   "metadata": {},
   "outputs": [],
   "source": [
    "import networkx as nx \n",
    "import numpy as np \n",
    "from scipy import sparse \n",
    "\n",
    "G = nx.read_gml(graph_data_file)\n",
    "G = nx.relabel.convert_node_labels_to_integers(\n",
    "    G, first_label=0, ordering=\"default\"\n",
    ")  # first_label is the starting integer label, in this case zero\n",
    "nodes = G.nodes(data=True)\n",
    "labels, group_ids = np.unique([nd[1][\"value\"] for nd in nodes], return_inverse=True)\n",
    "A = nx.adjacency_matrix(G)\n",
    "\n",
    "deg = np.array(A.sum(axis=1)).reshape(-1)"
   ]
  },
  {
   "cell_type": "code",
   "execution_count": null,
   "id": "138426e7",
   "metadata": {},
   "outputs": [],
   "source": [
    "# %%\n",
    "import seaborn as sns \n",
    "import matplotlib.pyplot as plt \n",
    "sns.set_style('white')\n",
    "sns.set(font_scale=1.2)\n",
    "sns.set_style('ticks')\n",
    "fig, ax = plt.subplots(figsize=(7,5))\n",
    "\n",
    "pos = nx.spring_layout(G)\n",
    "node_opts = {\"edgecolors\": \"k\", \"linewidths\": 1.0, \"ax\":ax}\n",
    "\n",
    "nx.draw_networkx_nodes(\n",
    "    G, pos = pos, nodelist=np.where(group_ids == 0)[0], node_color=\"tab:blue\", **node_opts\n",
    ")\n",
    "nx.draw_networkx_nodes(\n",
    "    G, pos = pos, nodelist=np.where(group_ids == 1)[0], node_color=\"tab:red\", **node_opts\n",
    ")\n",
    "nx.draw_networkx_nodes(\n",
    "    G, pos = pos, nodelist=np.where(group_ids == 2)[0], node_color=\"tab:purple\", **node_opts\n",
    ")\n",
    "nx.draw_networkx_edges(G, pos)\n",
    "ax.axis(\"off\")"
   ]
  },
  {
   "cell_type": "code",
   "execution_count": null,
   "id": "c9adc9ae",
   "metadata": {},
   "outputs": [],
   "source": [
    "#Parameters \n",
    "dim = 32\n",
    "n_nodes = A.shape[0]\n",
    "device = \"cpu\""
   ]
  },
  {
   "cell_type": "code",
   "execution_count": null,
   "id": "e0d8d070",
   "metadata": {},
   "outputs": [],
   "source": [
    "# Set up the embedding model\n",
    "import node2vecs \n",
    "\n",
    "model = node2vecs.Word2Vec(\n",
    "    vocab_size=n_nodes + 1,\n",
    "    embedding_size=dim,\n",
    "    padding_idx=n_nodes,\n",
    "    learn_outvec=False, # Set True to learn out vector. Otherwise, the out-vector is copied from in-vector.\n",
    ")\n",
    "model = model.to(device)\n",
    "# We use the most non-infomative random networks, where \n",
    "# every pair of nodes is connected with the same probability \n",
    "noise_sampler = node2vecs.utils.node_sampler.ErdosRenyiNodeSampler()\n",
    "noise_sampler.fit(A) # Train the noise sampler\n",
    "\n",
    "# We sample triplet of nodes containing one negative sample per positive sample.\n",
    "loss_func = node2vecs.Node2VecTripletLoss(n_neg=1)\n",
    "dataset = node2vecs.TripletDataset(\n",
    "    adjmat=A,\n",
    "    window_length=1,\n",
    "    noise_sampler=noise_sampler,\n",
    "    padding_id=n_nodes,\n",
    "    buffer_size=256,\n",
    "    context_window_type=\"double\",\n",
    "    epochs=1,\n",
    "    negative=1,\n",
    "    p = 1,\n",
    "    q = 1, \n",
    "    num_walks = 20,\n",
    "    walk_length = 80,\n",
    ")"
   ]
  },
  {
   "cell_type": "code",
   "execution_count": null,
   "id": "204e9f44",
   "metadata": {},
   "outputs": [],
   "source": [
    "# Generate embedding \n",
    "node2vecs.train(\n",
    "    model=model,\n",
    "    dataset=dataset,\n",
    "    loss_func=loss_func,\n",
    "    batch_size=256,\n",
    "    device=device,\n",
    "    learning_rate=1e-3,\n",
    "    num_workers=1,\n",
    ")\n",
    "model.eval()\n",
    "\n",
    "# Retrieve the embedding vector. We use the in-vector. \n",
    "emb_biased = model.ivectors.weight.data.cpu().numpy()[:n_nodes, :]"
   ]
  },
  {
   "cell_type": "code",
   "execution_count": null,
   "id": "2505310b",
   "metadata": {},
   "outputs": [],
   "source": [
    "from sklearn.decomposition import PCA\n",
    "import pandas as pd \n",
    "\n",
    "plot_data = []\n",
    "deg = np.array(A.sum(axis=0)).reshape(-1)\n",
    "xy = PCA(n_components=2).fit_transform(emb_biased)\n",
    "plot_data  = pd.DataFrame(\n",
    "        {\n",
    "            \"x\": xy[:, 0],\n",
    "            \"y\": xy[:, 1],\n",
    "            \"group\": group_ids,\n",
    "            \"model\": \"Biased\",\n",
    "            \"degree\": deg,\n",
    "        }\n",
    "    )\n",
    "\n",
    "# %%\n",
    "sns.set_style('white')\n",
    "sns.set(font_scale=1.0)\n",
    "sns.set_style('ticks')\n",
    "fig, ax = plt.subplots(figsize=(5,5))\n",
    "\n",
    "sns.scatterplot(data = plot_data, x = \"x\", y = \"y\", hue = \"group\", size = \"degree\", sizes=(10, 200), palette = sns.color_palette(\"colorblind\", n_colors=3), ax = ax)\n",
    "ax.legend().remove()\n",
    "ax.axis(\"off\")"
   ]
  },
  {
   "cell_type": "code",
   "execution_count": null,
   "id": "f0f7438f",
   "metadata": {},
   "outputs": [],
   "source": [
    "def generate_embedding(A, dim, noise_sampler):\n",
    "    model = node2vecs.Word2Vec(\n",
    "        vocab_size=n_nodes + 1,\n",
    "        embedding_size=dim,\n",
    "        padding_idx=n_nodes,\n",
    "        learn_outvec=False, # Set True to learn out vector. Otherwise, the out-vector is copied from in-vector.\n",
    "    )\n",
    "    model = model.to(device)\n",
    "    noise_sampler.fit(A) # Train the noise sampler\n",
    "    \n",
    "    # We sample triplet of nodes containing one negative sample per positive sample.\n",
    "    loss_func = node2vecs.Node2VecTripletLoss(n_neg=1)\n",
    "    dataset = node2vecs.TripletDataset(\n",
    "        adjmat=A,\n",
    "        window_length=1,\n",
    "        noise_sampler=noise_sampler,\n",
    "        padding_id=n_nodes,\n",
    "        buffer_size=256,\n",
    "        context_window_type=\"double\",\n",
    "        epochs=1,\n",
    "        negative=1,\n",
    "        p = 1,\n",
    "        q = 1, \n",
    "        num_walks = 20,\n",
    "        walk_length = 80,\n",
    "    )\n",
    "    # Generate embedding \n",
    "    node2vecs.train(\n",
    "        model=model,\n",
    "        dataset=dataset,\n",
    "        loss_func=loss_func,\n",
    "        batch_size=256,\n",
    "        device=device,\n",
    "        learning_rate=1e-3,\n",
    "        num_workers=1,\n",
    "    )\n",
    "    model.eval()\n",
    "    \n",
    "    # Retrieve the embedding vector. We use the in-vector. \n",
    "    return model.ivectors.weight.data.cpu().numpy()[:n_nodes, :]"
   ]
  },
  {
   "cell_type": "code",
   "execution_count": null,
   "id": "8fa65300",
   "metadata": {},
   "outputs": [],
   "source": [
    "config_noise_sampler = node2vecs.utils.node_sampler.ConfigModelNodeSampler()\n",
    "sbm_noise_sampler=node2vecs.utils.node_sampler.SBMNodeSampler(\n",
    "   group_membership=group_ids, window_length=1\n",
    ")"
   ]
  },
  {
   "cell_type": "code",
   "execution_count": null,
   "id": "3719c9cb",
   "metadata": {},
   "outputs": [],
   "source": [
    "emb_config = generate_embedding(A, dim, config_noise_sampler)\n",
    "emb_sbm = generate_embedding(A, dim, sbm_noise_sampler)\n",
    "embs = {\n",
    "    \"Biased\":emb_biased,\n",
    "    \"Degree-debiased\":emb_config,\n",
    "    \"Degree-Group-debiased\":emb_sbm,\n",
    "    \"Degree-Group-debiased-temp\":emb_sbm\n",
    "}\n",
    "\n",
    "# calculate ROC AUC score here\n"
   ]
  },
  {
   "cell_type": "markdown",
   "id": "c4ff229d",
   "metadata": {},
   "source": [
    "# USING NODE2VEC"
   ]
  },
  {
   "cell_type": "markdown",
   "id": "3524c1e6",
   "metadata": {},
   "source": [
    "## USING FAIRWALK"
   ]
  },
  {
   "cell_type": "code",
   "execution_count": null,
   "id": "88bd0ad1",
   "metadata": {},
   "outputs": [],
   "source": [
    "embs['gat_fw_n2v_random'] = snakemake_utils.get_embs_from_dataset(dataset_name='polbook', crosswalk=False, r2v=False, \n",
    "                                                              node2vec=True, fairwalk=True, model_name='gat')\n",
    "embs['gcn_fw_n2v_random'] = snakemake_utils.get_embs_from_dataset(dataset_name='polbook', crosswalk=False, r2v=False, \n",
    "                                                              node2vec=True, fairwalk=True, model_name='gcn')\n",
    "embs['gat_fw_n2v_r2v'] = snakemake_utils.get_embs_from_dataset(dataset_name='polbook', crosswalk=False, r2v=True, \n",
    "                                                              node2vec=True, fairwalk=True, model_name='gat')\n",
    "embs['gcn_fw_n2v_r2v'] = snakemake_utils.get_embs_from_dataset(dataset_name='polbook', crosswalk=False, r2v=True, \n",
    "                                                              node2vec=True, fairwalk=True, model_name='gcn')"
   ]
  },
  {
   "cell_type": "markdown",
   "id": "39cfd04f",
   "metadata": {},
   "source": [
    "## USING CROSSWALK"
   ]
  },
  {
   "cell_type": "code",
   "execution_count": null,
   "id": "4e0a3c4a",
   "metadata": {},
   "outputs": [],
   "source": [
    "embs['gat_cw_n2v_random'] = snakemake_utils.get_embs_from_dataset(dataset_name='polbook', crosswalk=True, r2v=False, \n",
    "                                                              node2vec=True, fairwalk=False, model_name='gat')\n",
    "embs['gcn_cw_n2v_random'] = snakemake_utils.get_embs_from_dataset(dataset_name='polbook', crosswalk=True, r2v=False, \n",
    "                                                              node2vec=True, fairwalk=False, model_name='gcn')\n",
    "embs['gat_crosswalk_n2v_r2v'] = snakemake_utils.get_embs_from_dataset(dataset_name='polbook', crosswalk=True, r2v=True, \n",
    "                                                              node2vec=True, fairwalk=False, model_name='gat')\n",
    "embs['gcn_crosswalk_n2v_r2v'] = snakemake_utils.get_embs_from_dataset(dataset_name='polbook', crosswalk=True, r2v=True, \n",
    "                                                              node2vec=True, fairwalk=False, model_name='gcn')"
   ]
  },
  {
   "cell_type": "markdown",
   "id": "67a4863d",
   "metadata": {},
   "source": [
    "## USING NO FAIRWALK OR CROSSWALK"
   ]
  },
  {
   "cell_type": "code",
   "execution_count": null,
   "id": "63b36572",
   "metadata": {},
   "outputs": [],
   "source": [
    "embs['gat_n2v_random'] = snakemake_utils.get_embs_from_dataset(dataset_name='polbook', crosswalk=False, r2v=False, \n",
    "                                                              node2vec=True, fairwalk=False, model_name='gat')\n",
    "embs['gcn_n2v_random'] = snakemake_utils.get_embs_from_dataset(dataset_name='polbook', crosswalk=False, r2v=False, \n",
    "                                                              node2vec=True, fairwalk=False, model_name='gcn')\n",
    "embs['gat_n2v_r2v'] = snakemake_utils.get_embs_from_dataset(dataset_name='polbook', crosswalk=False, r2v=True, \n",
    "                                                              node2vec=True, fairwalk=False, model_name='gat')\n",
    "embs['gcn_n2v_r2v'] = snakemake_utils.get_embs_from_dataset(dataset_name='polbook', crosswalk=False, r2v=True, \n",
    "                                                              node2vec=True, fairwalk=False, model_name='gcn')"
   ]
  },
  {
   "cell_type": "markdown",
   "id": "f93c1924",
   "metadata": {},
   "source": [
    "# USING DEEPWALK"
   ]
  },
  {
   "cell_type": "markdown",
   "id": "895b34e5",
   "metadata": {},
   "source": [
    "## USING FAIRWALK"
   ]
  },
  {
   "cell_type": "code",
   "execution_count": null,
   "id": "daaf617c",
   "metadata": {},
   "outputs": [],
   "source": [
    "embs['gat_fw_dw_random'] = snakemake_utils.get_embs_from_dataset(dataset_name='polbook', crosswalk=False, r2v=False, \n",
    "                                                              node2vec=False, fairwalk=True, model_name='gat')\n",
    "embs['gcn_fw_dw_random'] = snakemake_utils.get_embs_from_dataset(dataset_name='polbook', crosswalk=False, r2v=False, \n",
    "                                                              node2vec=False, fairwalk=True, model_name='gcn')\n",
    "embs['gat_fw_dw_r2v'] = snakemake_utils.get_embs_from_dataset(dataset_name='polbook', crosswalk=False, r2v=True, \n",
    "                                                              node2vec=False, fairwalk=True, model_name='gat')\n",
    "embs['gcn_fw_dw_r2v'] = snakemake_utils.get_embs_from_dataset(dataset_name='polbook', crosswalk=False, r2v=True, \n",
    "                                                              node2vec=False, fairwalk=True, model_name='gcn')"
   ]
  },
  {
   "cell_type": "markdown",
   "id": "cbdb63f1",
   "metadata": {},
   "source": [
    "## USING CROSSWALK"
   ]
  },
  {
   "cell_type": "code",
   "execution_count": null,
   "id": "0c3053bb",
   "metadata": {},
   "outputs": [],
   "source": [
    "embs['gat_cw_dw_random'] = snakemake_utils.get_embs_from_dataset(dataset_name='polbook', crosswalk=True, r2v=False, \n",
    "                                                              node2vec=False, fairwalk=False, model_name='gat')\n",
    "embs['gcn_cw_dw_random'] = snakemake_utils.get_embs_from_dataset(dataset_name='polbook', crosswalk=True, r2v=False, \n",
    "                                                              node2vec=False, fairwalk=False, model_name='gcn')\n",
    "embs['gat_cw_dw_r2v'] = snakemake_utils.get_embs_from_dataset(dataset_name='polbook', crosswalk=True, r2v=True, \n",
    "                                                              node2vec=False, fairwalk=False, model_name='gat')\n",
    "embs['gcn_cw_dw_r2v'] = snakemake_utils.get_embs_from_dataset(dataset_name='polbook', crosswalk=True, r2v=True, \n",
    "                                                              node2vec=False, fairwalk=False, model_name='gcn')"
   ]
  },
  {
   "cell_type": "markdown",
   "id": "f3272ffa",
   "metadata": {},
   "source": [
    "## USING NO FAIRWALK OR CROSSWALK"
   ]
  },
  {
   "cell_type": "code",
   "execution_count": null,
   "id": "f3f1dc48",
   "metadata": {},
   "outputs": [],
   "source": [
    "embs['gat_dw_random'] = snakemake_utils.get_embs_from_dataset(dataset_name='polbook', crosswalk=False, r2v=False, \n",
    "                                                              node2vec=False, fairwalk=False, model_name='gat')\n",
    "embs['gcn_dw_random'] = snakemake_utils.get_embs_from_dataset(dataset_name='polbook', crosswalk=False, r2v=False, \n",
    "                                                              node2vec=False, fairwalk=False, model_name='gcn')\n",
    "embs['gat_dw_r2v'] = snakemake_utils.get_embs_from_dataset(dataset_name='polbook', crosswalk=False, r2v=True, \n",
    "                                                              node2vec=False, fairwalk=False, model_name='gat')\n",
    "embs['gcn_dw_r2v'] = snakemake_utils.get_embs_from_dataset(dataset_name='polbook', crosswalk=False, r2v=True, \n",
    "                                                              node2vec=False, fairwalk=False, model_name='gcn')"
   ]
  },
  {
   "cell_type": "code",
   "execution_count": null,
   "id": "7e9c21d3",
   "metadata": {},
   "outputs": [],
   "source": [
    "plot_data_all = [plot_data]\n",
    "\n",
    "deg = np.array(A.sum(axis=0)).reshape(-1)\n",
    "row = 0\n",
    "for idx, (k, emb) in enumerate(embs.items()):\n",
    "    emb = embs[k]\n",
    "    if idx % 4 == 0: row += 1\n",
    "    xy = PCA(n_components=2).fit_transform(emb)\n",
    "    plot_data_all += [\n",
    "        pd.DataFrame(\n",
    "            {\n",
    "                \"x\": xy[:, 0],\n",
    "                \"y\": xy[:, 1],\n",
    "                \"group\": group_ids,\n",
    "                \"model\": k,\n",
    "                \"degree\": deg,\n",
    "                \"row\": row\n",
    "            }\n",
    "        )\n",
    "    ]\n",
    "\n",
    "plot_data_all = pd.concat(plot_data_all)\n",
    "#\n",
    "sns.set_style(\"white\")\n",
    "sns.set(font_scale=1)\n",
    "sns.set_style(\"ticks\")\n",
    "# fig, ax = plt.subplots(figsize=(7,5))\n",
    "\n",
    "g = sns.FacetGrid(\n",
    "    data=plot_data_all,\n",
    "#     row=\"row\",\n",
    "    col='model',\n",
    "    sharex=False,\n",
    "    sharey=False,\n",
    "    col_wrap=4\n",
    "    \n",
    ")\n",
    "\n",
    "g.map(sns.scatterplot, \"x\", \"y\", \"group\", \"degree\", sizes=(10, 200), palette = sns.color_palette(\"colorblind\", n_colors=3), )"
   ]
  },
  {
   "cell_type": "code",
   "execution_count": null,
   "id": "1ec09ae1",
   "metadata": {},
   "outputs": [],
   "source": []
  }
 ],
 "metadata": {
  "kernelspec": {
   "display_name": "Python 3 (ipykernel)",
   "language": "python",
   "name": "python3"
  },
  "language_info": {
   "codemirror_mode": {
    "name": "ipython",
    "version": 3
   },
   "file_extension": ".py",
   "mimetype": "text/x-python",
   "name": "python",
   "nbconvert_exporter": "python",
   "pygments_lexer": "ipython3",
   "version": "3.7.13"
  }
 },
 "nbformat": 4,
 "nbformat_minor": 5
}
