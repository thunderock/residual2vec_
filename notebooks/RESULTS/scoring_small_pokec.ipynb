{
 "cells": [
  {
   "cell_type": "code",
   "execution_count": 1,
   "id": "16d1921c",
   "metadata": {},
   "outputs": [],
   "source": [
    "import sys, os\n",
    "sys.path.insert(0, '../..')\n",
    "# os.environ[\"CUDA_VISIBLE_DEVICES\"]=\"\""
   ]
  },
  {
   "cell_type": "code",
   "execution_count": 2,
   "id": "5d539127",
   "metadata": {},
   "outputs": [
    {
     "name": "stderr",
     "output_type": "stream",
     "text": [
      "/data/sg/ashutiwa/miniconda3/lib/python3.7/site-packages/tqdm/auto.py:22: TqdmWarning: IProgress not found. Please update jupyter and ipywidgets. See https://ipywidgets.readthedocs.io/en/stable/user_install.html\n",
      "  from .autonotebook import tqdm as notebook_tqdm\n"
     ]
    },
    {
     "name": "stdout",
     "output_type": "stream",
     "text": [
      "Using GPU: cuda:0\n"
     ]
    }
   ],
   "source": [
    "import numpy as np\n",
    "import pandas as pd\n",
    "import torch\n",
    "from models.weighted_node2vec import WeightedNode2Vec\n",
    "from dataset import triplet_dataset, pokec_data\n",
    "from utils.config import DEVICE\n",
    "import gc\n",
    "from tqdm import trange, tqdm\n",
    "from utils.link_prediction import GCNLinkPrediction\n",
    "import residual2vec as rv\n",
    "import warnings\n",
    "import faiss\n",
    "import matplotlib.pyplot as plt\n",
    "from utils.score import statistical_parity\n",
    "from utils import graph_utils\n",
    "from utils.snakemake_utils import FileResources\n",
    "import seaborn as sns\n",
    "from utils import snakemake_utils\n",
    "import pickle as pkl\n",
    "warnings.filterwarnings(\"ignore\")\n",
    "gc.enable()"
   ]
  },
  {
   "cell_type": "code",
   "execution_count": 3,
   "id": "f7f49384",
   "metadata": {},
   "outputs": [
    {
     "name": "stderr",
     "output_type": "stream",
     "text": [
      "Using existing file soc-pokec-profiles.txt.gz\n",
      "Using existing file soc-pokec-relationships.txt.gz\n"
     ]
    },
    {
     "name": "stdout",
     "output_type": "stream",
     "text": [
      "data_five  data_one    data_two        roc_score.pkl\r\n",
      "data_four  data_three  gini_score.pkl  sp_score.pkl\r\n"
     ]
    }
   ],
   "source": [
    "y = snakemake_utils.get_dataset(\"small_pokec\").get_grouped_col()\n",
    "sp_score, roc_score, gini_score, embs = {}, {}, {}, {}\n",
    "DATA_ROOT = '/data/sg/ashutiwa/final_results/small_pokec/'\n",
    "! ls /data/sg/ashutiwa/final_results/airport/\n",
    "DIRS = ['data_one/', 'data_two/', 'data_three/', 'data_four/', 'data_five/']\n",
    "DATASET = 'small_pokec'\n",
    "M = [\"GCN_baseline\", \"GCN_r2v\", \"GCN_baseline_crosswalk\", \"GCN_r2v_crosswalk\", \n",
    "     \"GAT_baseline\",\"GAT_r2v\", \"GAT_baseline_crosswalk\", \"GAT_r2v_crosswalk\"]\n",
    "\n",
    "TEST_ADJ_FILE='/data/sg/ashutiwa/final_results/small_pokec/data_one/small_pokec_test_adj.npz'\n",
    "NUM_NODES = 406898\n",
    "k=5"
   ]
  },
  {
   "cell_type": "markdown",
   "id": "a13d5e9c",
   "metadata": {},
   "source": [
    "# distributions of positive and negative edgeswith dot product"
   ]
  },
  {
   "cell_type": "code",
   "execution_count": 4,
   "id": "7812b391",
   "metadata": {},
   "outputs": [],
   "source": [
    "def get_roc_score(df):\n",
    "    from sklearn.metrics import roc_auc_score\n",
    "    y_pred = np.concatenate((df.positive_dot.values, df.negative_dot.values))\n",
    "    y_true = np.concatenate((np.ones_like(df.positive_dot.values), np.zeros_like(df.negative_dot.values)))\n",
    "    return roc_auc_score(y_true, y_pred)\n",
    "\n"
   ]
  },
  {
   "cell_type": "code",
   "execution_count": 5,
   "id": "9d6ac948",
   "metadata": {},
   "outputs": [],
   "source": [
    "def plot_dot_(df, title):\n",
    "#     df = pd.DataFrame({\n",
    "#         \"positive_dot\": np.array([np.dot(a[i], p[i]) for i in trange(a.shape[0])]),\n",
    "#         \"negative_dot\": np.array([np.dot(a[i], n[i]) for i in trange(a.shape[0])])\n",
    "#     })\n",
    "    \n",
    "#     fig, ax = plt.subplots(1,1)\n",
    "    df.positive_dot.plot(kind='density', title=title)\n",
    "    df.negative_dot.plot(kind='density', title=title)\n",
    "#     ax.set_xlim(-1000, 1000)\n",
    "    ax.legend(['positive_neighbors', 'negative_neighbors'])\n",
    "#     fig.show()"
   ]
  },
  {
   "cell_type": "code",
   "execution_count": 6,
   "id": "4d2aa15f",
   "metadata": {},
   "outputs": [
    {
     "name": "stdout",
     "output_type": "stream",
     "text": [
      "selected edge_idx size: 6047827\n"
     ]
    }
   ],
   "source": [
    "EDGE_IDX = snakemake_utils.get_edge_index_from_sparse_path(TEST_ADJ_FILE)\n",
    "NEGATIVE_EDGE_IDX, EDGE_IDX = graph_utils._negative_sampling_sparse(edge_index=EDGE_IDX, n_nodes=NUM_NODES, return_pos_samples=True, iter_limit=3)\n",
    "print(\"selected edge_idx size: {}\".format(EDGE_IDX.size(1)))\n",
    "def create_dot_df(A, file=TEST_ADJ_FILE):\n",
    "    \"\"\"\n",
    "    A are node embeddings of shape # nodes \\times 128\n",
    "    \"\"\"\n",
    "    positive_dot = np.sum(A[EDGE_IDX[0,:]] * A[EDGE_IDX[1,:]], axis=1)\n",
    "    negative_dot = np.sum(A[NEGATIVE_EDGE_IDX[0,:]] * A[NEGATIVE_EDGE_IDX[1,:]], axis=1)\n",
    "    dot = pd.DataFrame()\n",
    "    dot[\"positive_dot\"] = positive_dot\n",
    "    dot[\"negative_dot\"] = negative_dot\n",
    "    \n",
    "    return dot"
   ]
  },
  {
   "cell_type": "markdown",
   "id": "af12f580",
   "metadata": {},
   "source": [
    "# GCN ( baseline)"
   ]
  },
  {
   "cell_type": "code",
   "execution_count": 7,
   "id": "859d0533",
   "metadata": {
    "scrolled": true
   },
   "outputs": [],
   "source": [
    "# model = \"GCN_baseline\"\n",
    "# embs[model] = np.load(DATA_ROOT + DIRS[0] + DATASET + '_gcn_node2vec_embs.npy')\n",
    "# A = embs[model]\n",
    "# A.shape"
   ]
  },
  {
   "cell_type": "code",
   "execution_count": 8,
   "id": "0e2af395",
   "metadata": {},
   "outputs": [],
   "source": [
    "# # plot density\n",
    "# dot = create_dot_df(A)\n",
    "# fig, ax = plt.subplots(1,1)\n",
    "\n",
    "# plot_dot_(dot, title=model + '_dot_density')\n",
    "# # ax.set_xlim(-750, 750)\n",
    "# ax.legend(['positive_neighbors', 'negative_neighbors'])\n",
    "# fig.show()"
   ]
  },
  {
   "cell_type": "code",
   "execution_count": 9,
   "id": "8030cd4e",
   "metadata": {},
   "outputs": [],
   "source": [
    "# # # create edge_list\n",
    "# batch_size = 2000\n",
    "\n",
    "# edges = snakemake_utils.return_new_graph(A, k, )\n",
    "# gini_score[model] = statistical_parity(edges, y, metric='gini')\n",
    "# sp_score[model] = statistical_parity(edges, y, )\n",
    "\n",
    "# roc_score[model] = get_roc_score(dot)\n",
    "# edges.shape, sp_score[model], roc_score[model], gini_score[model]"
   ]
  },
  {
   "cell_type": "markdown",
   "id": "1b2cb32a",
   "metadata": {},
   "source": [
    "# GCN ( baseline + crosswalk)"
   ]
  },
  {
   "cell_type": "code",
   "execution_count": 10,
   "id": "8ed8a9eb",
   "metadata": {
    "scrolled": true
   },
   "outputs": [],
   "source": [
    "# model = \"GCN_baseline_crosswalk\"\n",
    "# embs[model] = np.load(DATA_ROOT + DIRS[0] + DATASET + '_crosswalk_gcn_node2vec_embs.npy')\n",
    "# A = embs[model]\n",
    "# A.shape\n"
   ]
  },
  {
   "cell_type": "code",
   "execution_count": 11,
   "id": "b21db5c5",
   "metadata": {},
   "outputs": [],
   "source": [
    "# # plot density\n",
    "# dot = create_dot_df(A)\n",
    "# fig, ax = plt.subplots(1,1)\n",
    "\n",
    "# plot_dot_(dot, title=model + '_dot_density')\n",
    "# # ax.set_xlim(-750, 750)\n",
    "# ax.legend(['positive_neighbors', 'negative_neighbors'])\n",
    "# fig.show()"
   ]
  },
  {
   "cell_type": "code",
   "execution_count": 12,
   "id": "673fa04c",
   "metadata": {},
   "outputs": [],
   "source": [
    "# # # create edge_list\n",
    "# batch_size = 2000\n",
    "\n",
    "# edges = snakemake_utils.return_new_graph(A, k, )\n",
    "# gini_score[model] = statistical_parity(edges, y, metric='gini')\n",
    "# sp_score[model] = statistical_parity(edges, y, )\n",
    "\n",
    "# roc_score[model] = get_roc_score(dot)\n",
    "# edges.shape, sp_score[model], roc_score[model], gini_score[model]"
   ]
  },
  {
   "cell_type": "markdown",
   "id": "a0e1719e",
   "metadata": {},
   "source": [
    "# GCN ( r2v)"
   ]
  },
  {
   "cell_type": "code",
   "execution_count": 13,
   "id": "4906ab15",
   "metadata": {
    "scrolled": true
   },
   "outputs": [],
   "source": [
    "# model = \"GCN_r2v\"\n",
    "# embs[model] = np.load(DATA_ROOT + DIRS[0] + DATASET  + '_gcn_r2v_node2vec_embs.npy')\n",
    "# A = embs[model]\n",
    "# A.shape"
   ]
  },
  {
   "cell_type": "code",
   "execution_count": 14,
   "id": "d45b07e9",
   "metadata": {},
   "outputs": [],
   "source": [
    "# # plot density\n",
    "# dot = create_dot_df(A)\n",
    "# fig, ax = plt.subplots(1,1)\n",
    "\n",
    "# plot_dot_(dot, title=model + '_dot_density')\n",
    "# # ax.set_xlim(-750, 750)\n",
    "# ax.legend(['positive_neighbors', 'negative_neighbors'])\n",
    "# fig.show()"
   ]
  },
  {
   "cell_type": "code",
   "execution_count": 15,
   "id": "c24cedbe",
   "metadata": {},
   "outputs": [],
   "source": [
    "# # # create edge_list\n",
    "# batch_size = 2000\n",
    "\n",
    "# edges = snakemake_utils.return_new_graph(A, k, )\n",
    "# gini_score[model] = statistical_parity(edges, y, metric='gini')\n",
    "# sp_score[model] = statistical_parity(edges, y, )\n",
    "\n",
    "# roc_score[model] = get_roc_score(dot)\n",
    "# edges.shape, sp_score[model], roc_score[model], gini_score[model]"
   ]
  },
  {
   "cell_type": "markdown",
   "id": "ae43172d",
   "metadata": {},
   "source": [
    "# GCN ( r2v + crosswalk)"
   ]
  },
  {
   "cell_type": "code",
   "execution_count": 16,
   "id": "5455bde3",
   "metadata": {
    "scrolled": true
   },
   "outputs": [],
   "source": [
    "# model = \"GCN_r2v_crosswalk\"\n",
    "# embs[model] = np.load(DATA_ROOT + DIRS[0] + DATASET + '_crosswalk_gcn_r2v_node2vec_embs.npy')\n",
    "# A = embs[model]\n",
    "\n",
    "# A.shape"
   ]
  },
  {
   "cell_type": "code",
   "execution_count": 17,
   "id": "9400cd57",
   "metadata": {},
   "outputs": [],
   "source": [
    "# # plot density\n",
    "# dot = create_dot_df(A)\n",
    "# fig, ax = plt.subplots(1,1)\n",
    "\n",
    "# plot_dot_(dot, title=model + '_dot_density')\n",
    "# # ax.set_xlim(-750, 750)\n",
    "# ax.legend(['positive_neighbors', 'negative_neighbors'])\n",
    "# fig.show()"
   ]
  },
  {
   "cell_type": "code",
   "execution_count": 18,
   "id": "3680c8b4",
   "metadata": {},
   "outputs": [],
   "source": [
    "# # # create edge_list\n",
    "# batch_size = 2000\n",
    "\n",
    "# edges = snakemake_utils.return_new_graph(A, k, )\n",
    "# gini_score[model] = statistical_parity(edges, y, metric='gini')\n",
    "# sp_score[model] = statistical_parity(edges, y, )\n",
    "\n",
    "# roc_score[model] = get_roc_score(dot)\n",
    "# edges.shape, sp_score[model], roc_score[model], gini_score[model]"
   ]
  },
  {
   "cell_type": "markdown",
   "id": "1d2e41d5",
   "metadata": {},
   "source": [
    "# GAT ( baseline)"
   ]
  },
  {
   "cell_type": "code",
   "execution_count": 19,
   "id": "f57fe26a",
   "metadata": {
    "scrolled": true
   },
   "outputs": [],
   "source": [
    "# model = \"GAT_baseline\"\n",
    "# embs[model] = np.load(DATA_ROOT + DIRS[0] + DATASET + '_gat_node2vec_embs.npy')\n",
    "# A = embs[model]\n",
    "\n",
    "# A.shape"
   ]
  },
  {
   "cell_type": "code",
   "execution_count": 20,
   "id": "232d338b",
   "metadata": {},
   "outputs": [],
   "source": [
    "# # plot density\n",
    "# dot = create_dot_df(A)\n",
    "# fig, ax = plt.subplots(1,1)\n",
    "\n",
    "# plot_dot_(dot, title=model + '_dot_density')\n",
    "# # ax.set_xlim(-750, 750)\n",
    "# ax.legend(['positive_neighbors', 'negative_neighbors'])\n",
    "# fig.show()"
   ]
  },
  {
   "cell_type": "code",
   "execution_count": 21,
   "id": "ba9721ad",
   "metadata": {},
   "outputs": [],
   "source": [
    "# # # create edge_list\n",
    "# batch_size = 2000\n",
    "\n",
    "# edges = snakemake_utils.return_new_graph(A, k, )\n",
    "# gini_score[model] = statistical_parity(edges, y, metric='gini')\n",
    "# sp_score[model] = statistical_parity(edges, y, )\n",
    "\n",
    "# roc_score[model] = get_roc_score(dot)\n",
    "# edges.shape, sp_score[model], roc_score[model], gini_score[model]"
   ]
  },
  {
   "cell_type": "markdown",
   "id": "5437c93e",
   "metadata": {},
   "source": [
    "# GAT ( baseline + crosswalk)"
   ]
  },
  {
   "cell_type": "code",
   "execution_count": 22,
   "id": "7e167c94",
   "metadata": {
    "scrolled": true
   },
   "outputs": [],
   "source": [
    "# model = \"GAT_baseline_crosswalk\"\n",
    "# embs[model] = np.load(DATA_ROOT + DIRS[0] + DATASET + '_crosswalk_gat_node2vec_embs.npy')\n",
    "# A = embs[model]\n",
    "# A.shape"
   ]
  },
  {
   "cell_type": "code",
   "execution_count": 23,
   "id": "52491479",
   "metadata": {},
   "outputs": [],
   "source": [
    "# # plot density\n",
    "# dot = create_dot_df(A)\n",
    "# fig, ax = plt.subplots(1,1)\n",
    "\n",
    "# plot_dot_(dot, title=model + '_dot_density')\n",
    "# # ax.set_xlim(-750, 750)\n",
    "# ax.legend(['positive_neighbors', 'negative_neighbors'])\n",
    "# fig.show()"
   ]
  },
  {
   "cell_type": "code",
   "execution_count": 24,
   "id": "eca56a92",
   "metadata": {},
   "outputs": [],
   "source": [
    "# # # create edge_list\n",
    "# batch_size = 2000\n",
    "\n",
    "# edges = snakemake_utils.return_new_graph(A, k, )\n",
    "# gini_score[model] = statistical_parity(edges, y, metric='gini')\n",
    "# sp_score[model] = statistical_parity(edges, y, )\n",
    "\n",
    "# roc_score[model] = get_roc_score(dot)\n",
    "# edges.shape, sp_score[model], roc_score[model], gini_score[model]"
   ]
  },
  {
   "cell_type": "markdown",
   "id": "d2428b6f",
   "metadata": {},
   "source": [
    "# GAT ( r2v)"
   ]
  },
  {
   "cell_type": "code",
   "execution_count": 25,
   "id": "40395e3e",
   "metadata": {
    "scrolled": true
   },
   "outputs": [],
   "source": [
    "# model = \"GAT_r2v\"\n",
    "# embs[model] = np.load(DATA_ROOT + DIRS[0] + DATASET + '_gat_r2v_node2vec_embs.npy')\n",
    "# A = embs[model]\n",
    "# A.shape"
   ]
  },
  {
   "cell_type": "code",
   "execution_count": 26,
   "id": "7ef41872",
   "metadata": {},
   "outputs": [],
   "source": [
    "# # plot density\n",
    "# dot = create_dot_df(A)\n",
    "# fig, ax = plt.subplots(1,1)\n",
    "\n",
    "# plot_dot_(dot, title=model + '_dot_density')\n",
    "# # ax.set_xlim(-750, 750)\n",
    "# ax.legend(['positive_neighbors', 'negative_neighbors'])\n",
    "# fig.show()"
   ]
  },
  {
   "cell_type": "code",
   "execution_count": 27,
   "id": "e447f9b3",
   "metadata": {},
   "outputs": [],
   "source": [
    "# # # create edge_list\n",
    "# batch_size = 2000\n",
    "\n",
    "# edges = snakemake_utils.return_new_graph(A, k, )\n",
    "# gini_score[model] = statistical_parity(edges, y, metric='gini')\n",
    "# sp_score[model] = statistical_parity(edges, y, )\n",
    "\n",
    "# roc_score[model] = get_roc_score(dot)\n",
    "# edges.shape, sp_score[model], roc_score[model], gini_score[model]"
   ]
  },
  {
   "cell_type": "markdown",
   "id": "878b8f13",
   "metadata": {},
   "source": [
    "# GAT ( r2v + crosswalk)"
   ]
  },
  {
   "cell_type": "code",
   "execution_count": 28,
   "id": "b645c156",
   "metadata": {
    "scrolled": true
   },
   "outputs": [],
   "source": [
    "# model = \"GAT_r2v_crosswalk\"\n",
    "# embs[model] = np.load(DATA_ROOT + DIRS[0] + DATASET + '_crosswalk_gat_r2v_node2vec_embs.npy')\n",
    "# A = embs[model]\n",
    "# A.shape"
   ]
  },
  {
   "cell_type": "code",
   "execution_count": 29,
   "id": "63486625",
   "metadata": {},
   "outputs": [],
   "source": [
    "# # plot density\n",
    "# dot = create_dot_df(A)\n",
    "# fig, ax = plt.subplots(1,1)\n",
    "\n",
    "# plot_dot_(dot, title=model + '_dot_density')\n",
    "# # ax.set_xlim(-750, 750)\n",
    "# ax.legend(['positive_neighbors', 'negative_neighbors'])\n",
    "# fig.show()"
   ]
  },
  {
   "cell_type": "code",
   "execution_count": 30,
   "id": "72cd9466",
   "metadata": {},
   "outputs": [],
   "source": [
    "# # # create edge_list\n",
    "# batch_size = 2000\n",
    "\n",
    "# edges = snakemake_utils.return_new_graph(A, k, )\n",
    "# gini_score[model] = statistical_parity(edges, y, metric='gini')\n",
    "# sp_score[model] = statistical_parity(edges, y, )\n",
    "\n",
    "# roc_score[model] = get_roc_score(dot)\n",
    "# edges.shape, sp_score[model], roc_score[model], gini_score[model]"
   ]
  },
  {
   "cell_type": "markdown",
   "id": "ebbb980e",
   "metadata": {},
   "source": [
    "# plot statistical parity scores"
   ]
  },
  {
   "cell_type": "markdown",
   "id": "f5b36fa7",
   "metadata": {},
   "source": [
    "# gini sp scores"
   ]
  },
  {
   "cell_type": "code",
   "execution_count": 31,
   "id": "bae3de0e",
   "metadata": {},
   "outputs": [],
   "source": [
    "\n",
    "# for i, j in gini_score.items(): print(i, j)\n",
    "# sns.set(rc = {'figure.figsize':(15,8)})\n",
    "# ax = sns.barplot(x=list(gini_score.keys()), y=list(gini_score.values()))\n",
    "# ax.set_ylim(min(gini_score.values()), max(gini_score.values()))\n",
    "# ax.set_xticklabels(ax.get_xticklabels(),rotation = 45)\n",
    "# ax.set_title(\"gini statistical parity scores\")"
   ]
  },
  {
   "cell_type": "markdown",
   "id": "2c76a2d5",
   "metadata": {},
   "source": [
    "# sp scores"
   ]
  },
  {
   "cell_type": "code",
   "execution_count": 32,
   "id": "22b6746a",
   "metadata": {},
   "outputs": [],
   "source": [
    "\n",
    "# for i, j in sp_score.items(): print(i, j)\n",
    "# sns.set(rc = {'figure.figsize':(15,8)})\n",
    "# ax = sns.barplot(x=list(sp_score.keys()), y=list(sp_score.values()))\n",
    "# ax.set_ylim(min(sp_score.values()), max(sp_score.values()))\n",
    "# ax.set_xticklabels(ax.get_xticklabels(),rotation = 45)\n",
    "# ax.set_title(\"statistical parity scores\")"
   ]
  },
  {
   "cell_type": "markdown",
   "id": "37f5da17",
   "metadata": {},
   "source": [
    "# roc auc scores"
   ]
  },
  {
   "cell_type": "code",
   "execution_count": 33,
   "id": "77ca7a10",
   "metadata": {},
   "outputs": [],
   "source": [
    "\n",
    "# for i, j in roc_score.items(): print(i, j)\n",
    "# sns.set(rc = {'figure.figsize':(15,8)})\n",
    "# ax = sns.barplot(x=list(roc_score.keys()), y=list(roc_score.values()))\n",
    "# ax.set_ylim(min(roc_score.values()), max(roc_score.values()))\n",
    "# ax.set_xticklabels(ax.get_xticklabels(),rotation = 45)\n",
    "# ax.set_title(\"roc scores\")"
   ]
  },
  {
   "cell_type": "code",
   "execution_count": 34,
   "id": "e4cc7f98",
   "metadata": {},
   "outputs": [],
   "source": [
    "\n",
    "# N = 20\n",
    "\n",
    "# sp_scores, gini_scores = np.zeros((N, len(M))), np.zeros((N, len(M)))\n",
    "# for k in range(N):\n",
    "#     for idx, m in enumerate(M):\n",
    "#         if k == 0: continue\n",
    "#         batch_size =  2000\n",
    "#         A = embs[m]\n",
    "#         edges = snakemake_utils.return_new_graph(A, k, )\n",
    "        \n",
    "    \n",
    "#         gini_scores[k, idx] = statistical_parity(edges, y, metric='gini')\n",
    "#         sp_scores[k, idx] = statistical_parity(edges, y, )\n"
   ]
  },
  {
   "cell_type": "code",
   "execution_count": 35,
   "id": "fb97b479",
   "metadata": {},
   "outputs": [],
   "source": [
    "# for i in range(len(M)):\n",
    "#     plt.plot(gini_scores[:, i], label=M[i])\n",
    "# plt.legend(loc=\"upper right\")\n",
    "# plt.title(\"gini scores vs # nn\")"
   ]
  },
  {
   "cell_type": "code",
   "execution_count": 36,
   "id": "31dfe38f",
   "metadata": {},
   "outputs": [],
   "source": [
    "# for i in range(len(M)):\n",
    "#     plt.plot(sp_scores[:, i], label=M[i])\n",
    "# plt.legend(loc=\"upper right\")\n",
    "\n",
    "# plt.title(\"sp scores vs # nn\")"
   ]
  },
  {
   "cell_type": "markdown",
   "id": "357539db",
   "metadata": {},
   "source": [
    "# combine all different runs"
   ]
  },
  {
   "cell_type": "code",
   "execution_count": 37,
   "id": "8ef5d890",
   "metadata": {},
   "outputs": [],
   "source": [
    "MODEL_NAME_2_FILE = {\n",
    "    \"GCN_baseline\": \"_gcn_node2vec_embs.npy\",\n",
    "    \"GCN_baseline_crosswalk\": \"_crosswalk_gcn_node2vec_embs.npy\",\n",
    "    \"GCN_r2v\": \"_gcn_r2v_node2vec_embs.npy\",\n",
    "    \"GCN_r2v_crosswalk\": '_crosswalk_gcn_r2v_node2vec_embs.npy',\n",
    "    \"GAT_baseline\": '_gat_node2vec_embs.npy',\n",
    "    \"GAT_baseline_crosswalk\": \"_crosswalk_gat_node2vec_embs.npy\",\n",
    "    \"GAT_r2v\": \"_gat_r2v_node2vec_embs.npy\",\n",
    "    \"GAT_r2v_crosswalk\": \"_crosswalk_gat_r2v_node2vec_embs.npy\"\n",
    "}\n",
    "def roc_scores(model_name):\n",
    "    scores = np.zeros(len(DIRS))\n",
    "    for idx, d in enumerate(DIRS):\n",
    "        A = np.load(DATA_ROOT + d + DATASET + MODEL_NAME_2_FILE[model_name])\n",
    "        dot = create_dot_df(A)\n",
    "        scores[idx] = get_roc_score(dot)\n",
    "    return scores\n",
    "\n",
    "\n",
    "def statisticalp_scores(model_name, K=5):\n",
    "    scores, scores_gini = np.zeros(len(DIRS)), np.zeros(len(DIRS))\n",
    "    for idx, d in enumerate(DIRS):\n",
    "        A = np.load(DATA_ROOT + d + DATASET + MODEL_NAME_2_FILE[model_name])\n",
    "        edges = snakemake_utils.return_new_graph(A, K)\n",
    "        scores_gini[idx] = statistical_parity(edges, y, metric='gini')\n",
    "        \n",
    "        scores[idx] = statistical_parity(edges, y, )\n",
    "    return scores, scores_gini"
   ]
  },
  {
   "cell_type": "code",
   "execution_count": 38,
   "id": "229b6d10",
   "metadata": {},
   "outputs": [],
   "source": [
    "\n",
    "# roc_score = {m: np.mean(roc_scores(m)) for m in MODEL_NAME_2_FILE}\n",
    "\n",
    "# for i, j in roc_score.items(): print(i, j)\n",
    "# sns.set(rc = {'figure.figsize':(15,8)})\n",
    "# ax = sns.barplot(x=list(roc_score.keys()), y=list(roc_score.values()))\n",
    "# ax.set_ylim(min(roc_score.values()), max(roc_score.values()))\n",
    "# ax.set_xticklabels(ax.get_xticklabels(),rotation = 45)\n",
    "# ax.set_title(\"roc scores\")"
   ]
  },
  {
   "cell_type": "code",
   "execution_count": 39,
   "id": "1f3cba0c",
   "metadata": {},
   "outputs": [],
   "source": [
    "\n",
    "# temp = {m: statisticalp_scores(m) for m in MODEL_NAME_2_FILE}\n",
    "\n",
    "# sp_score = {m: np.mean(v[0]) for m,v in temp.items()}\n",
    "# for i, j in sp_score.items(): print(i, j)\n",
    "# sns.set(rc = {'figure.figsize':(15,8)})\n",
    "# ax = sns.barplot(x=list(sp_score.keys()), y=list(sp_score.values()))\n",
    "# ax.set_ylim(min(sp_score.values()), max(sp_score.values()))\n",
    "# ax.set_xticklabels(ax.get_xticklabels(),rotation = 45)\n",
    "# ax.set_title(\"statistical parity scores\")"
   ]
  },
  {
   "cell_type": "code",
   "execution_count": 40,
   "id": "dc0cc7e5",
   "metadata": {},
   "outputs": [],
   "source": [
    "# gini_score = {m: np.mean(v[1]) for m,v in temp.items()}\n",
    "# for i, j in gini_score.items(): print(i, j)\n",
    "# sns.set(rc = {'figure.figsize':(15,8)})\n",
    "# ax = sns.barplot(x=list(gini_score.keys()), y=list(gini_score.values()))\n",
    "# ax.set_ylim(min(gini_score.values()), max(gini_score.values()))\n",
    "# ax.set_xticklabels(ax.get_xticklabels(),rotation = 45)\n",
    "# ax.set_title(\"gini statistical parity scores\")"
   ]
  },
  {
   "cell_type": "code",
   "execution_count": 41,
   "id": "dfe295a8",
   "metadata": {},
   "outputs": [
    {
     "name": "stderr",
     "output_type": "stream",
     "text": [
      "100%|██████████████████████████████████████████████████████████████████████████████████████████████████████████████████████████| 8/8 [15:05<00:00, 113.20s/it]\n",
      "  0%|                                                                                                                                   | 0/8 [00:00<?, ?it/s]\n",
      "  0%|                                                                                                                                 | 0/203 [00:00<?, ?it/s]\u001b[A\n",
      " 11%|█████████████▍                                                                                                         | 23/203 [00:00<00:00, 224.40it/s]\u001b[A\n",
      " 23%|██████████████████████████▉                                                                                            | 46/203 [00:00<00:00, 213.27it/s]\u001b[A\n",
      " 33%|███████████████████████████████████████▊                                                                               | 68/203 [00:00<00:00, 206.43it/s]\u001b[A\n",
      " 44%|████████████████████████████████████████████████████▏                                                                  | 89/203 [00:00<00:00, 204.25it/s]\u001b[A\n",
      " 54%|███████████████████████████████████████████████████████████████▉                                                      | 110/203 [00:00<00:00, 204.57it/s]\u001b[A\n",
      " 65%|████████████████████████████████████████████████████████████████████████████▏                                         | 131/203 [00:00<00:00, 204.96it/s]\u001b[A\n",
      " 75%|████████████████████████████████████████████████████████████████████████████████████████▎                             | 152/203 [00:00<00:00, 205.95it/s]\u001b[A\n",
      " 85%|████████████████████████████████████████████████████████████████████████████████████████████████████▌                 | 173/203 [00:00<00:00, 204.96it/s]\u001b[A\n",
      "100%|██████████████████████████████████████████████████████████████████████████████████████████████████████████████████████| 203/203 [00:00<00:00, 205.47it/s]\u001b[A\n",
      "\n",
      "  0%|                                                                                                                                 | 0/203 [00:00<?, ?it/s]\u001b[A\n",
      "  9%|██████████▌                                                                                                            | 18/203 [00:00<00:01, 173.67it/s]\u001b[A\n",
      " 18%|█████████████████████                                                                                                  | 36/203 [00:00<00:01, 162.69it/s]\u001b[A\n",
      " 26%|███████████████████████████████                                                                                        | 53/203 [00:00<00:00, 159.73it/s]\u001b[A\n",
      " 34%|████████████████████████████████████████▍                                                                              | 69/203 [00:00<00:00, 158.54it/s]\u001b[A\n",
      " 42%|█████████████████████████████████████████████████▊                                                                     | 85/203 [00:00<00:00, 157.76it/s]\u001b[A\n",
      " 50%|██████████████████████████████████████████████████████████▋                                                           | 101/203 [00:00<00:00, 157.74it/s]\u001b[A\n",
      " 58%|████████████████████████████████████████████████████████████████████                                                  | 117/203 [00:00<00:00, 158.25it/s]\u001b[A\n",
      " 67%|███████████████████████████████████████████████████████████████████████████████▋                                      | 137/203 [00:00<00:00, 169.78it/s]\u001b[A\n",
      " 77%|███████████████████████████████████████████████████████████████████████████████████████████▎                          | 157/203 [00:00<00:00, 177.64it/s]\u001b[A\n",
      " 86%|█████████████████████████████████████████████████████████████████████████████████████████████████████▋                | 175/203 [00:01<00:00, 177.21it/s]\u001b[A\n",
      "100%|██████████████████████████████████████████████████████████████████████████████████████████████████████████████████████| 203/203 [00:01<00:00, 170.64it/s]\u001b[A\n",
      "\n",
      "  0%|                                                                                                                                 | 0/203 [00:00<?, ?it/s]\u001b[A\n",
      " 12%|██████████████▋                                                                                                        | 25/203 [00:00<00:00, 247.80it/s]\u001b[A\n",
      " 25%|█████████████████████████████▎                                                                                         | 50/203 [00:00<00:00, 242.81it/s]\u001b[A\n",
      " 37%|███████████████████████████████████████████▉                                                                           | 75/203 [00:00<00:00, 234.29it/s]\u001b[A\n",
      " 49%|██████████████████████████████████████████████████████████                                                             | 99/203 [00:00<00:00, 234.54it/s]\u001b[A\n",
      " 61%|███████████████████████████████████████████████████████████████████████▍                                              | 123/203 [00:00<00:00, 235.26it/s]\u001b[A\n",
      " 72%|█████████████████████████████████████████████████████████████████████████████████████▍                                | 147/203 [00:00<00:00, 235.76it/s]\u001b[A\n",
      " 84%|███████████████████████████████████████████████████████████████████████████████████████████████████▍                  | 171/203 [00:00<00:00, 225.79it/s]\u001b[A\n",
      "100%|██████████████████████████████████████████████████████████████████████████████████████████████████████████████████████| 203/203 [00:00<00:00, 226.33it/s]\u001b[A\n",
      "\n",
      "  0%|                                                                                                                                 | 0/203 [00:00<?, ?it/s]\u001b[A\n",
      " 10%|████████████▎                                                                                                          | 21/203 [00:00<00:00, 208.20it/s]\u001b[A\n",
      " 21%|████████████████████████▌                                                                                              | 42/203 [00:00<00:00, 207.00it/s]\u001b[A\n",
      " 31%|████████████████████████████████████▉                                                                                  | 63/203 [00:00<00:00, 200.98it/s]\u001b[A\n",
      " 41%|█████████████████████████████████████████████████▏                                                                     | 84/203 [00:00<00:00, 191.18it/s]\u001b[A\n",
      " 51%|████████████████████████████████████████████████████████████▍                                                         | 104/203 [00:00<00:00, 185.55it/s]\u001b[A\n",
      " 61%|███████████████████████████████████████████████████████████████████████▍                                              | 123/203 [00:00<00:00, 182.37it/s]\u001b[A\n",
      " 70%|██████████████████████████████████████████████████████████████████████████████████▌                                   | 142/203 [00:00<00:00, 179.49it/s]\u001b[A\n",
      " 80%|██████████████████████████████████████████████████████████████████████████████████████████████▏                       | 162/203 [00:00<00:00, 183.74it/s]\u001b[A\n",
      " 90%|█████████████████████████████████████████████████████████████████████████████████████████████████████████▊            | 182/203 [00:00<00:00, 187.51it/s]\u001b[A\n",
      "100%|██████████████████████████████████████████████████████████████████████████████████████████████████████████████████████| 203/203 [00:01<00:00, 188.51it/s]\u001b[A\n",
      "\n",
      "  0%|                                                                                                                                 | 0/203 [00:00<?, ?it/s]\u001b[A\n",
      " 11%|█████████████▍                                                                                                         | 23/203 [00:00<00:00, 219.80it/s]\u001b[A\n",
      " 22%|██████████████████████████▍                                                                                            | 45/203 [00:00<00:00, 207.48it/s]\u001b[A\n",
      " 33%|██████████████████████████████████████▋                                                                                | 66/203 [00:00<00:00, 201.81it/s]\u001b[A\n",
      " 43%|███████████████████████████████████████████████████                                                                    | 87/203 [00:00<00:00, 202.42it/s]\u001b[A\n",
      " 53%|██████████████████████████████████████████████████████████████▊                                                       | 108/203 [00:00<00:00, 201.64it/s]\u001b[A\n"
     ]
    },
    {
     "name": "stderr",
     "output_type": "stream",
     "text": [
      " 64%|██████████████████████████████████████████████████████████████████████████▉                                           | 129/203 [00:00<00:00, 202.06it/s]\u001b[A\n",
      " 74%|███████████████████████████████████████████████████████████████████████████████████████▏                              | 150/203 [00:00<00:00, 202.24it/s]\u001b[A\n",
      " 84%|███████████████████████████████████████████████████████████████████████████████████████████████████▍                  | 171/203 [00:00<00:00, 202.85it/s]\u001b[A\n",
      "100%|██████████████████████████████████████████████████████████████████████████████████████████████████████████████████████| 203/203 [00:01<00:00, 202.20it/s]\u001b[A\n",
      " 12%|███████████████▍                                                                                                           | 1/8 [00:32<03:44, 32.03s/it]\n",
      "  0%|                                                                                                                                 | 0/203 [00:00<?, ?it/s]\u001b[A\n",
      " 10%|███████████▋                                                                                                           | 20/203 [00:00<00:00, 191.51it/s]\u001b[A\n",
      " 20%|███████████████████████▍                                                                                               | 40/203 [00:00<00:00, 185.98it/s]\u001b[A\n",
      " 30%|███████████████████████████████████▏                                                                                   | 60/203 [00:00<00:00, 191.77it/s]\u001b[A\n",
      " 40%|███████████████████████████████████████████████▍                                                                       | 81/203 [00:00<00:00, 195.24it/s]\u001b[A\n",
      " 50%|███████████████████████████████████████████████████████████▎                                                          | 102/203 [00:00<00:00, 198.24it/s]\u001b[A\n",
      " 61%|████████████████████████████████████████████████████████████████████████                                              | 124/203 [00:00<00:00, 203.76it/s]\u001b[A\n",
      " 71%|████████████████████████████████████████████████████████████████████████████████████▎                                 | 145/203 [00:00<00:00, 193.35it/s]\u001b[A\n",
      " 81%|███████████████████████████████████████████████████████████████████████████████████████████████▉                      | 165/203 [00:00<00:00, 183.66it/s]\u001b[A\n",
      " 91%|██████████████████████████████████████████████████████████████████████████████████████████████████████████▉           | 184/203 [00:00<00:00, 178.40it/s]\u001b[A\n",
      "100%|██████████████████████████████████████████████████████████████████████████████████████████████████████████████████████| 203/203 [00:01<00:00, 184.18it/s]\u001b[A\n",
      "\n",
      "  0%|                                                                                                                                 | 0/203 [00:00<?, ?it/s]\u001b[A\n",
      " 11%|█████████████▍                                                                                                         | 23/203 [00:00<00:00, 221.41it/s]\u001b[A\n",
      " 23%|██████████████████████████▉                                                                                            | 46/203 [00:00<00:00, 212.42it/s]\u001b[A\n",
      " 33%|███████████████████████████████████████▊                                                                               | 68/203 [00:00<00:00, 209.47it/s]\u001b[A\n",
      " 44%|████████████████████████████████████████████████████▏                                                                  | 89/203 [00:00<00:00, 208.87it/s]\u001b[A\n",
      " 54%|███████████████████████████████████████████████████████████████▉                                                      | 110/203 [00:00<00:00, 207.03it/s]\u001b[A\n",
      " 65%|████████████████████████████████████████████████████████████████████████████▏                                         | 131/203 [00:00<00:00, 206.64it/s]\u001b[A\n",
      " 75%|████████████████████████████████████████████████████████████████████████████████████████▎                             | 152/203 [00:00<00:00, 195.06it/s]\u001b[A\n",
      " 85%|████████████████████████████████████████████████████████████████████████████████████████████████████▌                 | 173/203 [00:00<00:00, 197.82it/s]\u001b[A\n",
      "100%|██████████████████████████████████████████████████████████████████████████████████████████████████████████████████████| 203/203 [00:01<00:00, 201.93it/s]\u001b[A\n",
      "\n",
      "  0%|                                                                                                                                 | 0/203 [00:00<?, ?it/s]\u001b[A\n",
      " 11%|█████████████▍                                                                                                         | 23/203 [00:00<00:00, 221.14it/s]\u001b[A\n",
      " 23%|██████████████████████████▉                                                                                            | 46/203 [00:00<00:00, 214.19it/s]\u001b[A\n",
      " 33%|███████████████████████████████████████▊                                                                               | 68/203 [00:00<00:00, 212.38it/s]\u001b[A\n",
      " 44%|████████████████████████████████████████████████████▊                                                                  | 90/203 [00:00<00:00, 212.32it/s]\u001b[A\n",
      " 55%|█████████████████████████████████████████████████████████████████                                                     | 112/203 [00:00<00:00, 211.90it/s]\u001b[A\n",
      " 66%|█████████████████████████████████████████████████████████████████████████████▉                                        | 134/203 [00:00<00:00, 210.26it/s]\u001b[A\n",
      " 77%|██████████████████████████████████████████████████████████████████████████████████████████▋                           | 156/203 [00:00<00:00, 209.42it/s]\u001b[A\n",
      " 87%|██████████████████████████████████████████████████████████████████████████████████████████████████████▉               | 177/203 [00:00<00:00, 199.20it/s]\u001b[A\n",
      "100%|██████████████████████████████████████████████████████████████████████████████████████████████████████████████████████| 203/203 [00:01<00:00, 201.80it/s]\u001b[A\n",
      "\n",
      "  0%|                                                                                                                                 | 0/203 [00:00<?, ?it/s]\u001b[A\n",
      " 10%|███████████▋                                                                                                           | 20/203 [00:00<00:00, 196.34it/s]\u001b[A\n",
      " 20%|███████████████████████▍                                                                                               | 40/203 [00:00<00:00, 187.42it/s]\u001b[A\n",
      " 29%|██████████████████████████████████▌                                                                                    | 59/203 [00:00<00:00, 184.69it/s]\u001b[A\n",
      " 38%|█████████████████████████████████████████████▋                                                                         | 78/203 [00:00<00:00, 183.72it/s]\u001b[A\n",
      " 48%|████████████████████████████████████████████████████████▊                                                              | 97/203 [00:00<00:00, 183.91it/s]\u001b[A\n",
      " 59%|█████████████████████████████████████████████████████████████████████▊                                                | 120/203 [00:00<00:00, 198.74it/s]\u001b[A\n",
      " 71%|███████████████████████████████████████████████████████████████████████████████████▋                                  | 144/203 [00:00<00:00, 211.86it/s]\u001b[A\n",
      " 83%|█████████████████████████████████████████████████████████████████████████████████████████████████▋                    | 168/203 [00:00<00:00, 220.32it/s]\u001b[A\n",
      "100%|██████████████████████████████████████████████████████████████████████████████████████████████████████████████████████| 203/203 [00:00<00:00, 203.68it/s]\u001b[A\n",
      "\n",
      "  0%|                                                                                                                                 | 0/203 [00:00<?, ?it/s]\u001b[A\n",
      " 11%|████████████▉                                                                                                          | 22/203 [00:00<00:00, 213.38it/s]\u001b[A\n",
      " 22%|█████████████████████████▊                                                                                             | 44/203 [00:00<00:00, 207.52it/s]\u001b[A\n",
      " 32%|██████████████████████████████████████                                                                                 | 65/203 [00:00<00:00, 204.85it/s]\u001b[A\n"
     ]
    },
    {
     "name": "stderr",
     "output_type": "stream",
     "text": [
      " 42%|██████████████████████████████████████████████████▍                                                                    | 86/203 [00:00<00:00, 204.98it/s]\u001b[A\n",
      " 54%|███████████████████████████████████████████████████████████████▉                                                      | 110/203 [00:00<00:00, 214.71it/s]\u001b[A\n",
      " 66%|█████████████████████████████████████████████████████████████████████████████▉                                        | 134/203 [00:00<00:00, 220.63it/s]\u001b[A\n",
      " 78%|███████████████████████████████████████████████████████████████████████████████████████████▊                          | 158/203 [00:00<00:00, 225.52it/s]\u001b[A\n",
      "100%|██████████████████████████████████████████████████████████████████████████████████████████████████████████████████████| 203/203 [00:00<00:00, 220.53it/s]\u001b[A\n",
      " 25%|██████████████████████████████▊                                                                                            | 2/8 [00:59<02:57, 29.63s/it]\n",
      "  0%|                                                                                                                                 | 0/203 [00:00<?, ?it/s]\u001b[A\n",
      " 12%|██████████████                                                                                                         | 24/203 [00:00<00:00, 233.60it/s]\u001b[A\n",
      " 24%|████████████████████████████▏                                                                                          | 48/203 [00:00<00:00, 228.88it/s]\u001b[A\n",
      " 35%|█████████████████████████████████████████▌                                                                             | 71/203 [00:00<00:00, 227.29it/s]\u001b[A\n",
      " 46%|███████████████████████████████████████████████████████                                                                | 94/203 [00:00<00:00, 194.60it/s]\u001b[A\n",
      " 57%|██████████████████████████████████████████████████████████████████▊                                                   | 115/203 [00:00<00:00, 181.47it/s]\u001b[A\n",
      " 66%|█████████████████████████████████████████████████████████████████████████████▉                                        | 134/203 [00:00<00:00, 170.91it/s]\u001b[A\n",
      " 75%|████████████████████████████████████████████████████████████████████████████████████████▎                             | 152/203 [00:00<00:00, 163.98it/s]\u001b[A\n",
      " 83%|██████████████████████████████████████████████████████████████████████████████████████████████████▏                   | 169/203 [00:00<00:00, 159.14it/s]\u001b[A\n",
      " 92%|████████████████████████████████████████████████████████████████████████████████████████████████████████████          | 186/203 [00:01<00:00, 155.85it/s]\u001b[A\n",
      "100%|██████████████████████████████████████████████████████████████████████████████████████████████████████████████████████| 203/203 [00:01<00:00, 171.84it/s]\u001b[A\n",
      "\n",
      "  0%|                                                                                                                                 | 0/203 [00:00<?, ?it/s]\u001b[A\n",
      " 12%|██████████████                                                                                                         | 24/203 [00:00<00:00, 235.23it/s]\u001b[A\n",
      " 24%|████████████████████████████▏                                                                                          | 48/203 [00:00<00:00, 219.27it/s]\u001b[A\n",
      " 34%|█████████████████████████████████████████                                                                              | 70/203 [00:00<00:00, 213.08it/s]\u001b[A\n",
      " 45%|█████████████████████████████████████████████████████▉                                                                 | 92/203 [00:00<00:00, 210.51it/s]\u001b[A\n",
      " 56%|██████████████████████████████████████████████████████████████████▎                                                   | 114/203 [00:00<00:00, 210.18it/s]\u001b[A\n",
      " 67%|███████████████████████████████████████████████████████████████████████████████                                       | 136/203 [00:00<00:00, 209.04it/s]\u001b[A\n",
      " 77%|███████████████████████████████████████████████████████████████████████████████████████████▎                          | 157/203 [00:00<00:00, 207.65it/s]\u001b[A\n",
      " 88%|███████████████████████████████████████████████████████████████████████████████████████████████████████▍              | 178/203 [00:00<00:00, 205.75it/s]\u001b[A\n",
      "100%|██████████████████████████████████████████████████████████████████████████████████████████████████████████████████████| 203/203 [00:00<00:00, 208.02it/s]\u001b[A\n",
      "\n",
      "  0%|                                                                                                                                 | 0/203 [00:00<?, ?it/s]\u001b[A\n",
      " 10%|███████████▋                                                                                                           | 20/203 [00:00<00:00, 195.04it/s]\u001b[A\n",
      " 20%|███████████████████████▍                                                                                               | 40/203 [00:00<00:00, 195.93it/s]\u001b[A\n",
      " 30%|███████████████████████████████████▊                                                                                   | 61/203 [00:00<00:00, 198.36it/s]\u001b[A\n",
      " 40%|███████████████████████████████████████████████▍                                                                       | 81/203 [00:00<00:00, 177.58it/s]\u001b[A\n",
      " 49%|██████████████████████████████████████████████████████████▏                                                           | 100/203 [00:00<00:00, 172.71it/s]\u001b[A\n",
      " 58%|████████████████████████████████████████████████████████████████████▌                                                 | 118/203 [00:00<00:00, 171.64it/s]\u001b[A\n",
      " 67%|███████████████████████████████████████████████████████████████████████████████                                       | 136/203 [00:00<00:00, 171.85it/s]\u001b[A\n",
      " 76%|█████████████████████████████████████████████████████████████████████████████████████████▌                            | 154/203 [00:00<00:00, 166.75it/s]\u001b[A\n",
      " 84%|███████████████████████████████████████████████████████████████████████████████████████████████████▍                  | 171/203 [00:00<00:00, 163.06it/s]\u001b[A\n",
      "100%|██████████████████████████████████████████████████████████████████████████████████████████████████████████████████████| 203/203 [00:01<00:00, 169.28it/s]\u001b[A\n",
      "\n",
      "  0%|                                                                                                                                 | 0/203 [00:00<?, ?it/s]\u001b[A\n",
      " 11%|████████████▉                                                                                                          | 22/203 [00:00<00:00, 217.89it/s]\u001b[A\n",
      " 22%|█████████████████████████▊                                                                                             | 44/203 [00:00<00:00, 214.03it/s]\u001b[A\n",
      " 33%|██████████████████████████████████████▋                                                                                | 66/203 [00:00<00:00, 210.15it/s]\u001b[A\n",
      " 44%|████████████████████████████████████████████████████▏                                                                  | 89/203 [00:00<00:00, 217.00it/s]\u001b[A\n",
      " 55%|█████████████████████████████████████████████████████████████████                                                     | 112/203 [00:00<00:00, 219.47it/s]\u001b[A\n",
      " 66%|█████████████████████████████████████████████████████████████████████████████▉                                        | 134/203 [00:00<00:00, 216.62it/s]\u001b[A\n",
      " 77%|██████████████████████████████████████████████████████████████████████████████████████████▋                           | 156/203 [00:00<00:00, 205.87it/s]\u001b[A\n",
      " 87%|██████████████████████████████████████████████████████████████████████████████████████████████████████▉               | 177/203 [00:00<00:00, 199.16it/s]\u001b[A\n",
      "100%|██████████████████████████████████████████████████████████████████████████████████████████████████████████████████████| 203/203 [00:00<00:00, 206.21it/s]\u001b[A\n",
      "\n",
      "  0%|                                                                                                                                 | 0/203 [00:00<?, ?it/s]\u001b[A\n",
      " 10%|███████████▋                                                                                                           | 20/203 [00:00<00:00, 195.80it/s]\u001b[A\n"
     ]
    },
    {
     "name": "stderr",
     "output_type": "stream",
     "text": [
      " 20%|███████████████████████▍                                                                                               | 40/203 [00:00<00:00, 183.14it/s]\u001b[A\n",
      " 29%|██████████████████████████████████▌                                                                                    | 59/203 [00:00<00:00, 180.31it/s]\u001b[A\n",
      " 38%|█████████████████████████████████████████████▋                                                                         | 78/203 [00:00<00:00, 176.03it/s]\u001b[A\n",
      " 47%|████████████████████████████████████████████████████████▎                                                              | 96/203 [00:00<00:00, 176.67it/s]\u001b[A\n",
      " 56%|██████████████████████████████████████████████████████████████████▎                                                   | 114/203 [00:00<00:00, 176.18it/s]\u001b[A\n",
      " 65%|████████████████████████████████████████████████████████████████████████████▋                                         | 132/203 [00:00<00:00, 176.36it/s]\u001b[A\n",
      " 74%|███████████████████████████████████████████████████████████████████████████████████████▏                              | 150/203 [00:00<00:00, 176.56it/s]\u001b[A\n",
      " 83%|█████████████████████████████████████████████████████████████████████████████████████████████████▋                    | 168/203 [00:00<00:00, 177.33it/s]\u001b[A\n",
      "100%|██████████████████████████████████████████████████████████████████████████████████████████████████████████████████████| 203/203 [00:01<00:00, 177.18it/s]\u001b[A\n",
      " 38%|██████████████████████████████████████████████▏                                                                            | 3/8 [01:30<02:29, 29.92s/it]\n",
      "  0%|                                                                                                                                 | 0/203 [00:00<?, ?it/s]\u001b[A\n",
      " 11%|████████████▉                                                                                                          | 22/203 [00:00<00:00, 216.18it/s]\u001b[A\n",
      " 22%|█████████████████████████▊                                                                                             | 44/203 [00:00<00:00, 208.88it/s]\u001b[A\n",
      " 32%|██████████████████████████████████████                                                                                 | 65/203 [00:00<00:00, 194.37it/s]\u001b[A\n",
      " 42%|█████████████████████████████████████████████████▊                                                                     | 85/203 [00:00<00:00, 189.96it/s]\u001b[A\n",
      " 52%|█████████████████████████████████████████████████████████████▌                                                        | 106/203 [00:00<00:00, 193.93it/s]\u001b[A\n",
      " 63%|█████████████████████████████████████████████████████████████████████████▊                                            | 127/203 [00:00<00:00, 196.90it/s]\u001b[A\n",
      " 73%|██████████████████████████████████████████████████████████████████████████████████████                                | 148/203 [00:00<00:00, 198.61it/s]\u001b[A\n",
      " 83%|█████████████████████████████████████████████████████████████████████████████████████████████████▋                    | 168/203 [00:00<00:00, 198.97it/s]\u001b[A\n",
      "100%|██████████████████████████████████████████████████████████████████████████████████████████████████████████████████████| 203/203 [00:01<00:00, 197.81it/s]\u001b[A\n",
      "\n",
      "  0%|                                                                                                                                 | 0/203 [00:00<?, ?it/s]\u001b[A\n",
      " 12%|██████████████▋                                                                                                        | 25/203 [00:00<00:00, 246.19it/s]\u001b[A\n",
      " 25%|█████████████████████████████▎                                                                                         | 50/203 [00:00<00:00, 234.80it/s]\u001b[A\n",
      " 36%|███████████████████████████████████████████▍                                                                           | 74/203 [00:00<00:00, 231.64it/s]\u001b[A\n",
      " 48%|█████████████████████████████████████████████████████████▍                                                             | 98/203 [00:00<00:00, 229.71it/s]\u001b[A\n",
      " 60%|██████████████████████████████████████████████████████████████████████▉                                               | 122/203 [00:00<00:00, 231.38it/s]\u001b[A\n",
      " 72%|████████████████████████████████████████████████████████████████████████████████████▊                                 | 146/203 [00:00<00:00, 231.06it/s]\u001b[A\n",
      " 84%|██████████████████████████████████████████████████████████████████████████████████████████████████▊                   | 170/203 [00:00<00:00, 225.37it/s]\u001b[A\n",
      "100%|██████████████████████████████████████████████████████████████████████████████████████████████████████████████████████| 203/203 [00:00<00:00, 220.96it/s]\u001b[A\n",
      "\n",
      "  0%|                                                                                                                                 | 0/203 [00:00<?, ?it/s]\u001b[A\n",
      " 12%|██████████████▋                                                                                                        | 25/203 [00:00<00:00, 248.25it/s]\u001b[A\n",
      " 25%|█████████████████████████████▎                                                                                         | 50/203 [00:00<00:00, 217.90it/s]\u001b[A\n",
      " 36%|██████████████████████████████████████████▊                                                                            | 73/203 [00:00<00:00, 212.16it/s]\u001b[A\n",
      " 47%|███████████████████████████████████████████████████████▋                                                               | 95/203 [00:00<00:00, 210.11it/s]\u001b[A\n",
      " 58%|████████████████████████████████████████████████████████████████████                                                  | 117/203 [00:00<00:00, 209.72it/s]\u001b[A\n",
      " 68%|████████████████████████████████████████████████████████████████████████████████▊                                     | 139/203 [00:00<00:00, 209.45it/s]\u001b[A\n",
      " 79%|█████████████████████████████████████████████████████████████████████████████████████████████                         | 160/203 [00:00<00:00, 200.73it/s]\u001b[A\n",
      " 89%|█████████████████████████████████████████████████████████████████████████████████████████████████████████▏            | 181/203 [00:00<00:00, 200.71it/s]\u001b[A\n",
      "100%|██████████████████████████████████████████████████████████████████████████████████████████████████████████████████████| 203/203 [00:00<00:00, 205.48it/s]\u001b[A\n",
      "\n",
      "  0%|                                                                                                                                 | 0/203 [00:00<?, ?it/s]\u001b[A\n",
      " 13%|███████████████▏                                                                                                       | 26/203 [00:00<00:00, 251.57it/s]\u001b[A\n",
      " 26%|██████████████████████████████▍                                                                                        | 52/203 [00:00<00:00, 245.22it/s]\u001b[A\n",
      " 38%|█████████████████████████████████████████████▏                                                                         | 77/203 [00:00<00:00, 241.45it/s]\u001b[A\n",
      " 50%|███████████████████████████████████████████████████████████▎                                                          | 102/203 [00:00<00:00, 241.85it/s]\u001b[A\n",
      " 63%|█████████████████████████████████████████████████████████████████████████▊                                            | 127/203 [00:00<00:00, 236.68it/s]\u001b[A\n",
      " 74%|███████████████████████████████████████████████████████████████████████████████████████▊                              | 151/203 [00:00<00:00, 234.72it/s]\u001b[A\n",
      " 86%|█████████████████████████████████████████████████████████████████████████████████████████████████████▋                | 175/203 [00:00<00:00, 209.39it/s]\u001b[A\n",
      "100%|██████████████████████████████████████████████████████████████████████████████████████████████████████████████████████| 203/203 [00:00<00:00, 221.67it/s]\u001b[A\n",
      "\n",
      "  0%|                                                                                                                                 | 0/203 [00:00<?, ?it/s]\u001b[A\n",
      " 11%|█████████████▍                                                                                                         | 23/203 [00:00<00:00, 223.52it/s]\u001b[A\n"
     ]
    },
    {
     "name": "stderr",
     "output_type": "stream",
     "text": [
      " 23%|██████████████████████████▉                                                                                            | 46/203 [00:00<00:00, 212.55it/s]\u001b[A\n",
      " 33%|███████████████████████████████████████▊                                                                               | 68/203 [00:00<00:00, 209.17it/s]\u001b[A\n",
      " 44%|████████████████████████████████████████████████████▏                                                                  | 89/203 [00:00<00:00, 207.73it/s]\u001b[A\n",
      " 54%|███████████████████████████████████████████████████████████████▉                                                      | 110/203 [00:00<00:00, 208.38it/s]\u001b[A\n",
      " 65%|████████████████████████████████████████████████████████████████████████████▏                                         | 131/203 [00:00<00:00, 208.89it/s]\u001b[A\n",
      " 75%|████████████████████████████████████████████████████████████████████████████████████████▎                             | 152/203 [00:00<00:00, 208.80it/s]\u001b[A\n",
      " 85%|████████████████████████████████████████████████████████████████████████████████████████████████████▌                 | 173/203 [00:00<00:00, 207.84it/s]\u001b[A\n",
      "100%|██████████████████████████████████████████████████████████████████████████████████████████████████████████████████████| 203/203 [00:00<00:00, 207.84it/s]\u001b[A\n",
      " 50%|█████████████████████████████████████████████████████████████▌                                                             | 4/8 [01:58<01:56, 29.08s/it]\n",
      "  0%|                                                                                                                                 | 0/203 [00:00<?, ?it/s]\u001b[A\n",
      " 10%|████████████▎                                                                                                          | 21/203 [00:00<00:00, 204.27it/s]\u001b[A\n",
      " 21%|████████████████████████▌                                                                                              | 42/203 [00:00<00:00, 190.72it/s]\u001b[A\n",
      " 31%|████████████████████████████████████▎                                                                                  | 62/203 [00:00<00:00, 182.09it/s]\u001b[A\n",
      " 40%|███████████████████████████████████████████████▍                                                                       | 81/203 [00:00<00:00, 183.08it/s]\u001b[A\n",
      " 49%|██████████████████████████████████████████████████████████▏                                                           | 100/203 [00:00<00:00, 184.04it/s]\u001b[A\n",
      " 59%|█████████████████████████████████████████████████████████████████████▏                                                | 119/203 [00:00<00:00, 184.32it/s]\u001b[A\n",
      " 68%|████████████████████████████████████████████████████████████████████████████████▏                                     | 138/203 [00:00<00:00, 183.06it/s]\u001b[A\n",
      " 77%|███████████████████████████████████████████████████████████████████████████████████████████▎                          | 157/203 [00:00<00:00, 181.91it/s]\u001b[A\n",
      " 87%|██████████████████████████████████████████████████████████████████████████████████████████████████████▎               | 176/203 [00:00<00:00, 181.61it/s]\u001b[A\n",
      "100%|██████████████████████████████████████████████████████████████████████████████████████████████████████████████████████| 203/203 [00:01<00:00, 181.40it/s]\u001b[A\n",
      "\n",
      "  0%|                                                                                                                                 | 0/203 [00:00<?, ?it/s]\u001b[A\n",
      "  9%|██████████▌                                                                                                            | 18/203 [00:00<00:01, 178.02it/s]\u001b[A\n",
      " 18%|█████████████████████▋                                                                                                 | 37/203 [00:00<00:00, 183.75it/s]\u001b[A\n",
      " 28%|████████████████████████████████▊                                                                                      | 56/203 [00:00<00:00, 186.07it/s]\u001b[A\n",
      " 37%|████████████████████████████████████████████▌                                                                          | 76/203 [00:00<00:00, 188.34it/s]\u001b[A\n",
      " 47%|███████████████████████████████████████████████████████▋                                                               | 95/203 [00:00<00:00, 174.84it/s]\u001b[A\n",
      " 56%|█████████████████████████████████████████████████████████████████▋                                                    | 113/203 [00:00<00:00, 172.04it/s]\u001b[A\n",
      " 65%|████████████████████████████████████████████████████████████████████████████▏                                         | 131/203 [00:00<00:00, 169.95it/s]\u001b[A\n",
      " 73%|██████████████████████████████████████████████████████████████████████████████████████▌                               | 149/203 [00:00<00:00, 168.99it/s]\u001b[A\n",
      " 82%|████████████████████████████████████████████████████████████████████████████████████████████████▍                     | 166/203 [00:00<00:00, 168.16it/s]\u001b[A\n",
      " 90%|██████████████████████████████████████████████████████████████████████████████████████████████████████████▎           | 183/203 [00:01<00:00, 167.29it/s]\u001b[A\n",
      "100%|██████████████████████████████████████████████████████████████████████████████████████████████████████████████████████| 203/203 [00:01<00:00, 171.09it/s]\u001b[A\n",
      "\n",
      "  0%|                                                                                                                                 | 0/203 [00:00<?, ?it/s]\u001b[A\n",
      " 11%|████████████▉                                                                                                          | 22/203 [00:00<00:00, 219.11it/s]\u001b[A\n",
      " 22%|█████████████████████████▊                                                                                             | 44/203 [00:00<00:00, 202.97it/s]\u001b[A\n",
      " 32%|██████████████████████████████████████                                                                                 | 65/203 [00:00<00:00, 199.32it/s]\u001b[A\n",
      " 42%|█████████████████████████████████████████████████▊                                                                     | 85/203 [00:00<00:00, 196.35it/s]\u001b[A\n",
      " 52%|█████████████████████████████████████████████████████████████                                                         | 105/203 [00:00<00:00, 195.61it/s]\u001b[A\n",
      " 62%|████████████████████████████████████████████████████████████████████████▋                                             | 125/203 [00:00<00:00, 195.38it/s]\u001b[A\n",
      " 73%|██████████████████████████████████████████████████████████████████████████████████████▌                               | 149/203 [00:00<00:00, 208.13it/s]\u001b[A\n",
      " 84%|██████████████████████████████████████████████████████████████████████████████████████████████████▊                   | 170/203 [00:00<00:00, 205.01it/s]\u001b[A\n",
      "100%|██████████████████████████████████████████████████████████████████████████████████████████████████████████████████████| 203/203 [00:01<00:00, 200.70it/s]\u001b[A\n",
      "\n",
      "  0%|                                                                                                                                 | 0/203 [00:00<?, ?it/s]\u001b[A\n",
      " 11%|████████████▉                                                                                                          | 22/203 [00:00<00:00, 217.16it/s]\u001b[A\n",
      " 22%|█████████████████████████▊                                                                                             | 44/203 [00:00<00:00, 210.62it/s]\u001b[A\n",
      " 33%|██████████████████████████████████████▋                                                                                | 66/203 [00:00<00:00, 208.43it/s]\u001b[A\n",
      " 43%|███████████████████████████████████████████████████                                                                    | 87/203 [00:00<00:00, 206.56it/s]\u001b[A\n",
      " 53%|██████████████████████████████████████████████████████████████▊                                                       | 108/203 [00:00<00:00, 205.81it/s]\u001b[A\n",
      " 65%|████████████████████████████████████████████████████████████████████████████▋                                         | 132/203 [00:00<00:00, 215.16it/s]\u001b[A\n",
      " 76%|██████████████████████████████████████████████████████████████████████████████████████████                            | 155/203 [00:00<00:00, 219.78it/s]\u001b[A\n"
     ]
    },
    {
     "name": "stderr",
     "output_type": "stream",
     "text": [
      " 87%|██████████████████████████████████████████████████████████████████████████████████████████████████████▉               | 177/203 [00:00<00:00, 212.69it/s]\u001b[A\n",
      "100%|██████████████████████████████████████████████████████████████████████████████████████████████████████████████████████| 203/203 [00:00<00:00, 209.03it/s]\u001b[A\n",
      "\n",
      "  0%|                                                                                                                                 | 0/203 [00:00<?, ?it/s]\u001b[A\n",
      " 11%|████████████▉                                                                                                          | 22/203 [00:00<00:00, 212.02it/s]\u001b[A\n",
      " 22%|█████████████████████████▊                                                                                             | 44/203 [00:00<00:00, 205.58it/s]\u001b[A\n",
      " 32%|██████████████████████████████████████                                                                                 | 65/203 [00:00<00:00, 204.41it/s]\u001b[A\n",
      " 42%|██████████████████████████████████████████████████▍                                                                    | 86/203 [00:00<00:00, 205.29it/s]\u001b[A\n",
      " 53%|██████████████████████████████████████████████████████████████▏                                                       | 107/203 [00:00<00:00, 206.30it/s]\u001b[A\n",
      " 63%|██████████████████████████████████████████████████████████████████████████▍                                           | 128/203 [00:00<00:00, 206.92it/s]\u001b[A\n",
      " 73%|██████████████████████████████████████████████████████████████████████████████████████▌                               | 149/203 [00:00<00:00, 206.95it/s]\u001b[A\n",
      " 84%|██████████████████████████████████████████████████████████████████████████████████████████████████▊                   | 170/203 [00:00<00:00, 205.87it/s]\u001b[A\n",
      "100%|██████████████████████████████████████████████████████████████████████████████████████████████████████████████████████| 203/203 [00:00<00:00, 205.11it/s]\u001b[A\n",
      " 62%|████████████████████████████████████████████████████████████████████████████▉                                              | 5/8 [02:29<01:30, 30.03s/it]\n",
      "  0%|                                                                                                                                 | 0/203 [00:00<?, ?it/s]\u001b[A\n",
      " 10%|████████████▎                                                                                                          | 21/203 [00:00<00:00, 204.57it/s]\u001b[A\n",
      " 21%|████████████████████████▌                                                                                              | 42/203 [00:00<00:00, 202.12it/s]\u001b[A\n",
      " 31%|████████████████████████████████████▉                                                                                  | 63/203 [00:00<00:00, 199.98it/s]\u001b[A\n",
      " 41%|█████████████████████████████████████████████████▏                                                                     | 84/203 [00:00<00:00, 200.68it/s]\u001b[A\n",
      " 52%|█████████████████████████████████████████████████████████████                                                         | 105/203 [00:00<00:00, 192.90it/s]\u001b[A\n",
      " 62%|████████████████████████████████████████████████████████████████████████▋                                             | 125/203 [00:00<00:00, 191.27it/s]\u001b[A\n",
      " 71%|████████████████████████████████████████████████████████████████████████████████████▎                                 | 145/203 [00:00<00:00, 185.07it/s]\u001b[A\n",
      " 81%|███████████████████████████████████████████████████████████████████████████████████████████████▎                      | 164/203 [00:00<00:00, 185.75it/s]\u001b[A\n",
      " 90%|██████████████████████████████████████████████████████████████████████████████████████████████████████████▎           | 183/203 [00:00<00:00, 185.38it/s]\u001b[A\n",
      "100%|██████████████████████████████████████████████████████████████████████████████████████████████████████████████████████| 203/203 [00:01<00:00, 188.90it/s]\u001b[A\n",
      "\n",
      "  0%|                                                                                                                                 | 0/203 [00:00<?, ?it/s]\u001b[A\n",
      " 11%|█████████████▍                                                                                                         | 23/203 [00:00<00:00, 223.96it/s]\u001b[A\n",
      " 23%|██████████████████████████▉                                                                                            | 46/203 [00:00<00:00, 218.68it/s]\u001b[A\n",
      " 33%|███████████████████████████████████████▊                                                                               | 68/203 [00:00<00:00, 216.50it/s]\u001b[A\n",
      " 44%|████████████████████████████████████████████████████▊                                                                  | 90/203 [00:00<00:00, 215.67it/s]\u001b[A\n",
      " 55%|█████████████████████████████████████████████████████████████████                                                     | 112/203 [00:00<00:00, 216.56it/s]\u001b[A\n",
      " 67%|██████████████████████████████████████████████████████████████████████████████▍                                       | 135/203 [00:00<00:00, 218.09it/s]\u001b[A\n",
      " 77%|███████████████████████████████████████████████████████████████████████████████████████████▎                          | 157/203 [00:00<00:00, 218.46it/s]\u001b[A\n",
      " 88%|████████████████████████████████████████████████████████████████████████████████████████████████████████              | 179/203 [00:00<00:00, 200.94it/s]\u001b[A\n",
      "100%|██████████████████████████████████████████████████████████████████████████████████████████████████████████████████████| 203/203 [00:00<00:00, 204.26it/s]\u001b[A\n",
      "\n",
      "  0%|                                                                                                                                 | 0/203 [00:00<?, ?it/s]\u001b[A\n",
      " 10%|████████████▎                                                                                                          | 21/203 [00:00<00:00, 200.17it/s]\u001b[A\n",
      " 21%|████████████████████████▌                                                                                              | 42/203 [00:00<00:00, 190.75it/s]\u001b[A\n",
      " 31%|████████████████████████████████████▎                                                                                  | 62/203 [00:00<00:00, 188.49it/s]\u001b[A\n",
      " 40%|████████████████████████████████████████████████                                                                       | 82/203 [00:00<00:00, 189.27it/s]\u001b[A\n",
      " 50%|███████████████████████████████████████████████████████████▎                                                          | 102/203 [00:00<00:00, 189.83it/s]\u001b[A\n",
      " 60%|██████████████████████████████████████████████████████████████████████▎                                               | 121/203 [00:00<00:00, 189.56it/s]\u001b[A\n",
      " 70%|██████████████████████████████████████████████████████████████████████████████████▌                                   | 142/203 [00:00<00:00, 194.23it/s]\u001b[A\n",
      " 80%|██████████████████████████████████████████████████████████████████████████████████████████████▏                       | 162/203 [00:00<00:00, 183.19it/s]\u001b[A\n",
      " 89%|█████████████████████████████████████████████████████████████████████████████████████████████████████████▏            | 181/203 [00:00<00:00, 175.12it/s]\u001b[A\n",
      "100%|██████████████████████████████████████████████████████████████████████████████████████████████████████████████████████| 203/203 [00:01<00:00, 180.32it/s]\u001b[A\n",
      "\n",
      "  0%|                                                                                                                                 | 0/203 [00:00<?, ?it/s]\u001b[A\n",
      " 10%|███████████▋                                                                                                           | 20/203 [00:00<00:00, 193.53it/s]\u001b[A\n",
      " 20%|████████████████████████                                                                                               | 41/203 [00:00<00:00, 198.04it/s]\u001b[A\n",
      " 31%|████████████████████████████████████▎                                                                                  | 62/203 [00:00<00:00, 200.41it/s]\u001b[A\n",
      " 41%|████████████████████████████████████████████████▋                                                                      | 83/203 [00:00<00:00, 202.80it/s]\u001b[A\n"
     ]
    },
    {
     "name": "stderr",
     "output_type": "stream",
     "text": [
      " 51%|████████████████████████████████████████████████████████████▍                                                         | 104/203 [00:00<00:00, 204.31it/s]\u001b[A\n",
      " 62%|████████████████████████████████████████████████████████████████████████▋                                             | 125/203 [00:00<00:00, 205.09it/s]\u001b[A\n",
      " 72%|████████████████████████████████████████████████████████████████████████████████████▊                                 | 146/203 [00:00<00:00, 205.63it/s]\u001b[A\n",
      " 82%|█████████████████████████████████████████████████████████████████████████████████████████████████                     | 167/203 [00:00<00:00, 206.67it/s]\u001b[A\n",
      "100%|██████████████████████████████████████████████████████████████████████████████████████████████████████████████████████| 203/203 [00:00<00:00, 204.14it/s]\u001b[A\n",
      "\n",
      "  0%|                                                                                                                                 | 0/203 [00:00<?, ?it/s]\u001b[A\n",
      " 10%|███████████▋                                                                                                           | 20/203 [00:00<00:00, 191.16it/s]\u001b[A\n",
      " 20%|███████████████████████▍                                                                                               | 40/203 [00:00<00:00, 185.46it/s]\u001b[A\n",
      " 29%|██████████████████████████████████▌                                                                                    | 59/203 [00:00<00:00, 187.04it/s]\u001b[A\n",
      " 38%|█████████████████████████████████████████████▋                                                                         | 78/203 [00:00<00:00, 183.90it/s]\u001b[A\n",
      " 48%|████████████████████████████████████████████████████████▊                                                              | 97/203 [00:00<00:00, 184.63it/s]\u001b[A\n",
      " 57%|███████████████████████████████████████████████████████████████████▍                                                  | 116/203 [00:00<00:00, 185.94it/s]\u001b[A\n",
      " 67%|██████████████████████████████████████████████████████████████████████████████▍                                       | 135/203 [00:00<00:00, 187.08it/s]\u001b[A\n",
      " 76%|█████████████████████████████████████████████████████████████████████████████████████████▌                            | 154/203 [00:00<00:00, 187.79it/s]\u001b[A\n",
      " 85%|████████████████████████████████████████████████████████████████████████████████████████████████████▌                 | 173/203 [00:00<00:00, 187.44it/s]\u001b[A\n",
      "100%|██████████████████████████████████████████████████████████████████████████████████████████████████████████████████████| 203/203 [00:01<00:00, 186.58it/s]\u001b[A\n",
      " 75%|████████████████████████████████████████████████████████████████████████████████████████████▎                              | 6/8 [02:59<00:59, 29.98s/it]\n",
      "  0%|                                                                                                                                 | 0/203 [00:00<?, ?it/s]\u001b[A\n",
      " 11%|████████████▉                                                                                                          | 22/203 [00:00<00:00, 212.30it/s]\u001b[A\n",
      " 22%|█████████████████████████▊                                                                                             | 44/203 [00:00<00:00, 204.32it/s]\u001b[A\n",
      " 32%|██████████████████████████████████████                                                                                 | 65/203 [00:00<00:00, 202.27it/s]\u001b[A\n",
      " 42%|██████████████████████████████████████████████████▍                                                                    | 86/203 [00:00<00:00, 201.51it/s]\u001b[A\n",
      " 53%|██████████████████████████████████████████████████████████████▏                                                       | 107/203 [00:00<00:00, 201.17it/s]\u001b[A\n",
      " 63%|██████████████████████████████████████████████████████████████████████████▍                                           | 128/203 [00:00<00:00, 201.40it/s]\u001b[A\n",
      " 73%|██████████████████████████████████████████████████████████████████████████████████████▌                               | 149/203 [00:00<00:00, 201.66it/s]\u001b[A\n",
      " 84%|██████████████████████████████████████████████████████████████████████████████████████████████████▊                   | 170/203 [00:00<00:00, 201.23it/s]\u001b[A\n",
      "100%|██████████████████████████████████████████████████████████████████████████████████████████████████████████████████████| 203/203 [00:01<00:00, 201.13it/s]\u001b[A\n",
      "\n",
      "  0%|                                                                                                                                 | 0/203 [00:00<?, ?it/s]\u001b[A\n",
      " 10%|████████████▎                                                                                                          | 21/203 [00:00<00:00, 204.31it/s]\u001b[A\n",
      " 21%|█████████████████████████▏                                                                                             | 43/203 [00:00<00:00, 208.28it/s]\u001b[A\n",
      " 32%|█████████████████████████████████████▌                                                                                 | 64/203 [00:00<00:00, 208.58it/s]\u001b[A\n",
      " 42%|██████████████████████████████████████████████████▍                                                                    | 86/203 [00:00<00:00, 211.18it/s]\u001b[A\n",
      " 53%|██████████████████████████████████████████████████████████████▊                                                       | 108/203 [00:00<00:00, 213.78it/s]\u001b[A\n",
      " 64%|███████████████████████████████████████████████████████████████████████████▌                                          | 130/203 [00:00<00:00, 210.38it/s]\u001b[A\n",
      " 75%|████████████████████████████████████████████████████████████████████████████████████████▎                             | 152/203 [00:00<00:00, 212.96it/s]\u001b[A\n",
      " 86%|█████████████████████████████████████████████████████████████████████████████████████████████████████▏                | 174/203 [00:00<00:00, 213.54it/s]\u001b[A\n",
      "100%|██████████████████████████████████████████████████████████████████████████████████████████████████████████████████████| 203/203 [00:00<00:00, 213.36it/s]\u001b[A\n",
      "\n",
      "  0%|                                                                                                                                 | 0/203 [00:00<?, ?it/s]\u001b[A\n",
      " 10%|███████████▋                                                                                                           | 20/203 [00:00<00:00, 198.54it/s]\u001b[A\n",
      " 20%|███████████████████████▍                                                                                               | 40/203 [00:00<00:00, 195.18it/s]\u001b[A\n",
      " 30%|███████████████████████████████████▊                                                                                   | 61/203 [00:00<00:00, 199.78it/s]\u001b[A\n",
      " 40%|████████████████████████████████████████████████                                                                       | 82/203 [00:00<00:00, 202.91it/s]\u001b[A\n",
      " 51%|███████████████████████████████████████████████████████████▊                                                          | 103/203 [00:00<00:00, 204.80it/s]\u001b[A\n",
      " 61%|████████████████████████████████████████████████████████████████████████                                              | 124/203 [00:00<00:00, 201.26it/s]\u001b[A\n",
      " 71%|████████████████████████████████████████████████████████████████████████████████████▎                                 | 145/203 [00:00<00:00, 203.34it/s]\u001b[A\n",
      " 82%|████████████████████████████████████████████████████████████████████████████████████████████████▍                     | 166/203 [00:00<00:00, 203.69it/s]\u001b[A\n",
      "100%|██████████████████████████████████████████████████████████████████████████████████████████████████████████████████████| 203/203 [00:01<00:00, 201.59it/s]\u001b[A\n",
      "\n",
      "  0%|                                                                                                                                 | 0/203 [00:00<?, ?it/s]\u001b[A\n",
      " 11%|█████████████▍                                                                                                         | 23/203 [00:00<00:00, 227.98it/s]\u001b[A\n",
      " 23%|██████████████████████████▉                                                                                            | 46/203 [00:00<00:00, 213.94it/s]\u001b[A\n"
     ]
    },
    {
     "name": "stderr",
     "output_type": "stream",
     "text": [
      " 33%|███████████████████████████████████████▊                                                                               | 68/203 [00:00<00:00, 210.26it/s]\u001b[A\n",
      " 44%|████████████████████████████████████████████████████▊                                                                  | 90/203 [00:00<00:00, 209.04it/s]\u001b[A\n",
      " 55%|████████████████████████████████████████████████████████████████▌                                                     | 111/203 [00:00<00:00, 207.74it/s]\u001b[A\n",
      " 65%|████████████████████████████████████████████████████████████████████████████▋                                         | 132/203 [00:00<00:00, 207.87it/s]\u001b[A\n",
      " 75%|████████████████████████████████████████████████████████████████████████████████████████▉                             | 153/203 [00:00<00:00, 207.81it/s]\u001b[A\n",
      " 86%|█████████████████████████████████████████████████████████████████████████████████████████████████████▏                | 174/203 [00:00<00:00, 207.30it/s]\u001b[A\n",
      "100%|██████████████████████████████████████████████████████████████████████████████████████████████████████████████████████| 203/203 [00:00<00:00, 206.78it/s]\u001b[A\n",
      "\n",
      "  0%|                                                                                                                                 | 0/203 [00:00<?, ?it/s]\u001b[A\n",
      " 11%|████████████▉                                                                                                          | 22/203 [00:00<00:00, 213.02it/s]\u001b[A\n",
      " 22%|█████████████████████████▊                                                                                             | 44/203 [00:00<00:00, 203.39it/s]\u001b[A\n",
      " 32%|██████████████████████████████████████                                                                                 | 65/203 [00:00<00:00, 200.59it/s]\u001b[A\n",
      " 42%|██████████████████████████████████████████████████▍                                                                    | 86/203 [00:00<00:00, 200.03it/s]\u001b[A\n",
      " 53%|██████████████████████████████████████████████████████████████▏                                                       | 107/203 [00:00<00:00, 200.48it/s]\u001b[A\n",
      " 63%|██████████████████████████████████████████████████████████████████████████▍                                           | 128/203 [00:00<00:00, 200.59it/s]\u001b[A\n",
      " 73%|██████████████████████████████████████████████████████████████████████████████████████▌                               | 149/203 [00:00<00:00, 200.61it/s]\u001b[A\n",
      " 84%|██████████████████████████████████████████████████████████████████████████████████████████████████▊                   | 170/203 [00:00<00:00, 199.54it/s]\u001b[A\n",
      "100%|██████████████████████████████████████████████████████████████████████████████████████████████████████████████████████| 203/203 [00:01<00:00, 199.76it/s]\u001b[A\n",
      " 88%|███████████████████████████████████████████████████████████████████████████████████████████████████████████▋               | 7/8 [03:27<00:29, 29.45s/it]\n",
      "  0%|                                                                                                                                 | 0/203 [00:00<?, ?it/s]\u001b[A\n",
      " 10%|████████████▎                                                                                                          | 21/203 [00:00<00:00, 203.47it/s]\u001b[A\n",
      " 21%|████████████████████████▌                                                                                              | 42/203 [00:00<00:00, 184.11it/s]\u001b[A\n",
      " 30%|███████████████████████████████████▊                                                                                   | 61/203 [00:00<00:00, 179.54it/s]\u001b[A\n",
      " 39%|██████████████████████████████████████████████▉                                                                        | 80/203 [00:00<00:00, 176.56it/s]\u001b[A\n",
      " 48%|█████████████████████████████████████████████████████████▍                                                             | 98/203 [00:00<00:00, 176.03it/s]\u001b[A\n",
      " 57%|███████████████████████████████████████████████████████████████████▍                                                  | 116/203 [00:00<00:00, 174.55it/s]\u001b[A\n",
      " 66%|█████████████████████████████████████████████████████████████████████████████▉                                        | 134/203 [00:00<00:00, 175.10it/s]\u001b[A\n",
      " 75%|████████████████████████████████████████████████████████████████████████████████████████▎                             | 152/203 [00:00<00:00, 173.09it/s]\u001b[A\n",
      " 85%|███████████████████████████████████████████████████████████████████████████████████████████████████▉                  | 172/203 [00:00<00:00, 180.55it/s]\u001b[A\n",
      "100%|██████████████████████████████████████████████████████████████████████████████████████████████████████████████████████| 203/203 [00:01<00:00, 179.16it/s]\u001b[A\n",
      "\n",
      "  0%|                                                                                                                                 | 0/203 [00:00<?, ?it/s]\u001b[A\n",
      " 10%|████████████▎                                                                                                          | 21/203 [00:00<00:00, 203.98it/s]\u001b[A\n",
      " 21%|█████████████████████████▏                                                                                             | 43/203 [00:00<00:00, 209.80it/s]\u001b[A\n",
      " 32%|██████████████████████████████████████                                                                                 | 65/203 [00:00<00:00, 213.66it/s]\u001b[A\n",
      " 43%|███████████████████████████████████████████████████▌                                                                   | 88/203 [00:00<00:00, 216.87it/s]\u001b[A\n",
      " 55%|████████████████████████████████████████████████████████████████▌                                                     | 111/203 [00:00<00:00, 218.68it/s]\u001b[A\n",
      " 66%|█████████████████████████████████████████████████████████████████████████████▎                                        | 133/203 [00:00<00:00, 218.63it/s]\u001b[A\n",
      " 76%|██████████████████████████████████████████████████████████████████████████████████████████                            | 155/203 [00:00<00:00, 211.05it/s]\u001b[A\n",
      " 88%|███████████████████████████████████████████████████████████████████████████████████████████████████████▍              | 178/203 [00:00<00:00, 214.01it/s]\u001b[A\n",
      "100%|██████████████████████████████████████████████████████████████████████████████████████████████████████████████████████| 203/203 [00:00<00:00, 214.40it/s]\u001b[A\n",
      "\n",
      "  0%|                                                                                                                                 | 0/203 [00:00<?, ?it/s]\u001b[A\n",
      "  5%|██████▍                                                                                                                | 11/203 [00:00<00:01, 109.80it/s]\u001b[A\n",
      " 11%|████████████▉                                                                                                          | 22/203 [00:00<00:01, 109.84it/s]\u001b[A\n",
      " 19%|██████████████████████▎                                                                                                | 38/203 [00:00<00:01, 131.18it/s]\u001b[A\n",
      " 27%|███████████████████████████████▋                                                                                       | 54/203 [00:00<00:01, 141.78it/s]\u001b[A\n",
      " 34%|█████████████████████████████████████████                                                                              | 70/203 [00:00<00:00, 148.12it/s]\u001b[A\n",
      " 43%|███████████████████████████████████████████████████                                                                    | 87/203 [00:00<00:00, 154.03it/s]\u001b[A\n",
      " 51%|████████████████████████████████████████████████████████████▍                                                         | 104/203 [00:00<00:00, 156.87it/s]\u001b[A\n",
      " 59%|█████████████████████████████████████████████████████████████████████▊                                                | 120/203 [00:00<00:00, 157.22it/s]\u001b[A\n",
      " 67%|███████████████████████████████████████████████████████████████████████████████                                       | 136/203 [00:00<00:00, 151.40it/s]\u001b[A\n",
      " 75%|████████████████████████████████████████████████████████████████████████████████████████▎                             | 152/203 [00:01<00:00, 148.48it/s]\u001b[A\n"
     ]
    },
    {
     "name": "stderr",
     "output_type": "stream",
     "text": [
      " 82%|█████████████████████████████████████████████████████████████████████████████████████████████████                     | 167/203 [00:01<00:00, 148.38it/s]\u001b[A\n",
      " 90%|█████████████████████████████████████████████████████████████████████████████████████████████████████████▊            | 182/203 [00:01<00:00, 148.03it/s]\u001b[A\n",
      "100%|██████████████████████████████████████████████████████████████████████████████████████████████████████████████████████| 203/203 [00:01<00:00, 145.98it/s]\u001b[A\n",
      "\n",
      "  0%|                                                                                                                                 | 0/203 [00:00<?, ?it/s]\u001b[A\n",
      " 10%|████████████▎                                                                                                          | 21/203 [00:00<00:00, 202.88it/s]\u001b[A\n",
      " 21%|████████████████████████▌                                                                                              | 42/203 [00:00<00:00, 192.76it/s]\u001b[A\n",
      " 31%|████████████████████████████████████▎                                                                                  | 62/203 [00:00<00:00, 190.97it/s]\u001b[A\n",
      " 40%|████████████████████████████████████████████████                                                                       | 82/203 [00:00<00:00, 191.31it/s]\u001b[A\n",
      " 50%|███████████████████████████████████████████████████████████▎                                                          | 102/203 [00:00<00:00, 191.03it/s]\u001b[A\n",
      " 60%|██████████████████████████████████████████████████████████████████████▉                                               | 122/203 [00:00<00:00, 190.56it/s]\u001b[A\n",
      " 70%|██████████████████████████████████████████████████████████████████████████████████▌                                   | 142/203 [00:00<00:00, 190.70it/s]\u001b[A\n",
      " 80%|██████████████████████████████████████████████████████████████████████████████████████████████▏                       | 162/203 [00:00<00:00, 190.04it/s]\u001b[A\n",
      " 90%|█████████████████████████████████████████████████████████████████████████████████████████████████████████▊            | 182/203 [00:00<00:00, 189.51it/s]\u001b[A\n",
      "100%|██████████████████████████████████████████████████████████████████████████████████████████████████████████████████████| 203/203 [00:01<00:00, 189.66it/s]\u001b[A\n",
      "\n",
      "  0%|                                                                                                                                 | 0/203 [00:00<?, ?it/s]\u001b[A\n",
      " 11%|█████████████▍                                                                                                         | 23/203 [00:00<00:00, 220.95it/s]\u001b[A\n",
      " 23%|██████████████████████████▉                                                                                            | 46/203 [00:00<00:00, 215.47it/s]\u001b[A\n",
      " 33%|███████████████████████████████████████▊                                                                               | 68/203 [00:00<00:00, 213.09it/s]\u001b[A\n",
      " 44%|████████████████████████████████████████████████████▊                                                                  | 90/203 [00:00<00:00, 214.13it/s]\u001b[A\n",
      " 55%|█████████████████████████████████████████████████████████████████                                                     | 112/203 [00:00<00:00, 215.16it/s]\u001b[A\n",
      " 66%|█████████████████████████████████████████████████████████████████████████████▉                                        | 134/203 [00:00<00:00, 216.44it/s]\u001b[A\n",
      " 77%|██████████████████████████████████████████████████████████████████████████████████████████▋                           | 156/203 [00:00<00:00, 216.63it/s]\u001b[A\n",
      " 88%|███████████████████████████████████████████████████████████████████████████████████████████████████████▍              | 178/203 [00:00<00:00, 216.73it/s]\u001b[A\n",
      "100%|██████████████████████████████████████████████████████████████████████████████████████████████████████████████████████| 203/203 [00:00<00:00, 214.94it/s]\u001b[A\n",
      "100%|███████████████████████████████████████████████████████████████████████████████████████████████████████████████████████████| 8/8 [04:00<00:00, 30.07s/it]\n"
     ]
    }
   ],
   "source": [
    "\n",
    "# roc_score, sp_score, gini_score= {}, {}, {}\n",
    "roc_score = {m: roc_scores(m) for m in tqdm(MODEL_NAME_2_FILE)}\n",
    "temp = {m: statisticalp_scores(m) for m in tqdm(MODEL_NAME_2_FILE)}\n",
    "sp_score = {m: v[0] for m,v in temp.items()}\n",
    "gini_score = {m: v[1] for m,v in temp.items()}\n",
    "pkl.dump(roc_score, open(DATA_ROOT + \"roc_score.pkl\", 'wb'))\n",
    "\n",
    "pkl.dump(sp_score, open(DATA_ROOT + \"sp_score.pkl\", 'wb'))\n",
    "\n",
    "pkl.dump(gini_score, open(DATA_ROOT + \"gini_score.pkl\", 'wb'))"
   ]
  },
  {
   "cell_type": "code",
   "execution_count": null,
   "id": "c8a892a9",
   "metadata": {},
   "outputs": [],
   "source": []
  }
 ],
 "metadata": {
  "kernelspec": {
   "display_name": "Python 3 (ipykernel)",
   "language": "python",
   "name": "python3"
  },
  "language_info": {
   "codemirror_mode": {
    "name": "ipython",
    "version": 3
   },
   "file_extension": ".py",
   "mimetype": "text/x-python",
   "name": "python",
   "nbconvert_exporter": "python",
   "pygments_lexer": "ipython3",
   "version": "3.7.13"
  }
 },
 "nbformat": 4,
 "nbformat_minor": 5
}
