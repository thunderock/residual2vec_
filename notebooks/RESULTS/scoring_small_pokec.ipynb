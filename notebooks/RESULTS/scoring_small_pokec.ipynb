{
 "cells": [
  {
   "cell_type": "code",
   "execution_count": 1,
   "id": "16d1921c",
   "metadata": {},
   "outputs": [],
   "source": [
    "import sys, os\n",
    "sys.path.insert(0, '../..')\n",
    "# os.environ[\"CUDA_VISIBLE_DEVICES\"]=\"\""
   ]
  },
  {
   "cell_type": "code",
   "execution_count": 2,
   "id": "5d539127",
   "metadata": {},
   "outputs": [
    {
     "name": "stderr",
     "output_type": "stream",
     "text": [
      "/data/sg/ashutiwa/miniconda3/lib/python3.7/site-packages/tqdm/auto.py:22: TqdmWarning: IProgress not found. Please update jupyter and ipywidgets. See https://ipywidgets.readthedocs.io/en/stable/user_install.html\n",
      "  from .autonotebook import tqdm as notebook_tqdm\n"
     ]
    },
    {
     "name": "stdout",
     "output_type": "stream",
     "text": [
      "Using GPU: cuda:0\n"
     ]
    }
   ],
   "source": [
    "import numpy as np\n",
    "import pandas as pd\n",
    "import torch\n",
    "from models.weighted_node2vec import WeightedNode2Vec\n",
    "from dataset import triplet_dataset, pokec_data\n",
    "from utils.config import DEVICE\n",
    "import gc\n",
    "from tqdm import trange\n",
    "from utils.link_prediction import GCNLinkPrediction\n",
    "import residual2vec as rv\n",
    "import warnings\n",
    "import faiss\n",
    "import matplotlib.pyplot as plt\n",
    "from utils.score import statistical_parity\n",
    "from utils import graph_utils\n",
    "from utils.snakemake_utils import FileResources\n",
    "import seaborn as sns\n",
    "from utils import snakemake_utils\n",
    "warnings.filterwarnings(\"ignore\")\n",
    "gc.enable()"
   ]
  },
  {
   "cell_type": "code",
   "execution_count": 3,
   "id": "46d50773",
   "metadata": {},
   "outputs": [
    {
     "name": "stderr",
     "output_type": "stream",
     "text": [
      "Using existing file soc-pokec-profiles.txt.gz\n",
      "Using existing file soc-pokec-relationships.txt.gz\n"
     ]
    }
   ],
   "source": [
    "y = snakemake_utils.get_dataset(\"small_pokec\").get_grouped_col()"
   ]
  },
  {
   "cell_type": "code",
   "execution_count": 4,
   "id": "f7f49384",
   "metadata": {},
   "outputs": [
    {
     "name": "stdout",
     "output_type": "stream",
     "text": [
      "data_five  data_one    data_two        roc_score.pkl\r\n",
      "data_four  data_three  gini_score.pkl  sp_score.pkl\r\n"
     ]
    }
   ],
   "source": [
    "sp_score, roc_score, gini_score, embs = {}, {}, {}, {}\n",
    "DATA_ROOT = '/data/sg/ashutiwa/final_results/small_pokec/'\n",
    "! ls /data/sg/ashutiwa/final_results/airport/\n",
    "DIRS = ['data_one/', 'data_two/', 'data_three/', 'data_four/', 'data_five/']\n",
    "DATASET = 'small_pokec'\n",
    "M = [\"GCN_baseline\", \"GCN_r2v\", \"GCN_baseline_crosswalk\", \"GCN_r2v_crosswalk\", \n",
    "     \"GAT_baseline\",\"GAT_r2v\", \"GAT_baseline_crosswalk\", \"GAT_r2v_crosswalk\"]\n",
    "\n",
    "TEST_ADJ_FILE='/data/sg/ashutiwa/final_results/small_pokec/data_one/small_pokec_test_adj.npz'\n",
    "NUM_NODES = 406898\n",
    "k=5"
   ]
  },
  {
   "cell_type": "markdown",
   "id": "a13d5e9c",
   "metadata": {},
   "source": [
    "# distributions of positive and negative edgeswith dot product"
   ]
  },
  {
   "cell_type": "code",
   "execution_count": 5,
   "id": "7812b391",
   "metadata": {},
   "outputs": [],
   "source": [
    "def get_roc_score(df):\n",
    "    from sklearn.metrics import roc_auc_score\n",
    "    y_pred = np.concatenate((df.positive_dot.values, df.negative_dot.values))\n",
    "    y_true = np.concatenate((np.ones_like(df.positive_dot.values), np.zeros_like(df.negative_dot.values)))\n",
    "    return roc_auc_score(y_true, y_pred)\n",
    "\n"
   ]
  },
  {
   "cell_type": "code",
   "execution_count": 6,
   "id": "9d6ac948",
   "metadata": {},
   "outputs": [],
   "source": [
    "def plot_dot_(df, title):\n",
    "#     df = pd.DataFrame({\n",
    "#         \"positive_dot\": np.array([np.dot(a[i], p[i]) for i in trange(a.shape[0])]),\n",
    "#         \"negative_dot\": np.array([np.dot(a[i], n[i]) for i in trange(a.shape[0])])\n",
    "#     })\n",
    "    \n",
    "#     fig, ax = plt.subplots(1,1)\n",
    "    df.positive_dot.plot(kind='density', title=title)\n",
    "    df.negative_dot.plot(kind='density', title=title)\n",
    "#     ax.set_xlim(-1000, 1000)\n",
    "    ax.legend(['positive_neighbors', 'negative_neighbors'])\n",
    "#     fig.show()"
   ]
  },
  {
   "cell_type": "code",
   "execution_count": 7,
   "id": "4d2aa15f",
   "metadata": {},
   "outputs": [
    {
     "name": "stdout",
     "output_type": "stream",
     "text": [
      "selected edge_idx size: 5973455 for evaluation\n"
     ]
    }
   ],
   "source": [
    "EDGE_IDX = snakemake_utils.get_edge_index_from_sparse_path(TEST_ADJ_FILE)\n",
    "NEGATIVE_EDGE_IDX, EDGE_IDX = graph_utils._negative_sampling(edge_index=EDGE_IDX, n_nodes=NUM_NODES, return_pos_samples=True, iter_limit=2)\n",
    "print(\"selected edge_idx size: {} for evaluation\".format(EDGE_IDX.size(1)))\n",
    "\n",
    "def create_dot_df(A, file=TEST_ADJ_FILE):\n",
    "    \"\"\"\n",
    "    A are node embeddings of shape # nodes \\times 128\n",
    "    \"\"\"\n",
    "    positive_dot = np.array([np.dot(A[EDGE_IDX[0, i]], A[EDGE_IDX[1, i]]) for i in trange(EDGE_IDX.shape[1])])\n",
    "    negative_dot = np.array([np.dot(A[NEGATIVE_EDGE_IDX[0, i]], A[NEGATIVE_EDGE_IDX[1, i]]) for i in trange(NEGATIVE_EDGE_IDX.shape[1])])\n",
    "    dot = pd.DataFrame()\n",
    "    dot[\"positive_dot\"] = positive_dot\n",
    "    dot[\"negative_dot\"] = negative_dot\n",
    "    \n",
    "    return dot"
   ]
  },
  {
   "cell_type": "markdown",
   "id": "af12f580",
   "metadata": {},
   "source": [
    "# GCN ( baseline)"
   ]
  },
  {
   "cell_type": "code",
   "execution_count": 8,
   "id": "859d0533",
   "metadata": {
    "scrolled": true
   },
   "outputs": [
    {
     "data": {
      "text/plain": [
       "(406898, 128)"
      ]
     },
     "execution_count": 8,
     "metadata": {},
     "output_type": "execute_result"
    }
   ],
   "source": [
    "model = \"GCN_baseline\"\n",
    "embs[model] = np.load(DATA_ROOT + DIRS[0] + DATASET + '_gcn_node2vec_embs.npy')\n",
    "A = embs[model]\n",
    "A.shape"
   ]
  },
  {
   "cell_type": "code",
   "execution_count": 9,
   "id": "0e2af395",
   "metadata": {},
   "outputs": [
    {
     "name": "stderr",
     "output_type": "stream",
     "text": [
      "100%|████████████████████████████████████████████████████████████████████████████████████████████████████████████| 5973455/5973455 [02:01<00:00, 49059.26it/s]\n",
      "100%|████████████████████████████████████████████████████████████████████████████████████████████████████████████| 5973455/5973455 [01:50<00:00, 54010.28it/s]\n"
     ]
    },
    {
     "data": {
      "image/png": "[encoded data removed]",
      "text/plain": [
       "<Figure size 432x288 with 1 Axes>"
      ]
     },
     "metadata": {
      "needs_background": "light"
     },
     "output_type": "display_data"
    }
   ],
   "source": [
    "# plot density\n",
    "dot = create_dot_df(A)\n",
    "fig, ax = plt.subplots(1,1)\n",
    "\n",
    "plot_dot_(dot, title=model + '_dot_density')\n",
    "# ax.set_xlim(-750, 750)\n",
    "ax.legend(['positive_neighbors', 'negative_neighbors'])\n",
    "fig.show()"
   ]
  },
  {
   "cell_type": "code",
   "execution_count": 10,
   "id": "8030cd4e",
   "metadata": {},
   "outputs": [
    {
     "name": "stderr",
     "output_type": "stream",
     "text": [
      "100%|██████████████████████████████████████████████████████████████████████████████████████████████████████████████████████| 203/203 [00:00<00:00, 242.57it/s]\n"
     ]
    },
    {
     "data": {
      "text/plain": [
       "((2034490, 2), 3.067645466913217e-06, 0.6867389906838215, 0.07867976218915271)"
      ]
     },
     "execution_count": 10,
     "metadata": {},
     "output_type": "execute_result"
    }
   ],
   "source": [
    "# # create edge_list\n",
    "batch_size = 2000\n",
    "\n",
    "edges = snakemake_utils.return_new_graph(A, k, )\n",
    "gini_score[model] = statistical_parity(edges, y, metric='gini')\n",
    "sp_score[model] = statistical_parity(edges, y, )\n",
    "\n",
    "roc_score[model] = get_roc_score(dot)\n",
    "edges.shape, sp_score[model], roc_score[model], gini_score[model]"
   ]
  },
  {
   "cell_type": "markdown",
   "id": "1b2cb32a",
   "metadata": {},
   "source": [
    "# GCN ( baseline + crosswalk)"
   ]
  },
  {
   "cell_type": "code",
   "execution_count": 11,
   "id": "8ed8a9eb",
   "metadata": {
    "scrolled": true
   },
   "outputs": [
    {
     "data": {
      "text/plain": [
       "(406898, 128)"
      ]
     },
     "execution_count": 11,
     "metadata": {},
     "output_type": "execute_result"
    }
   ],
   "source": [
    "model = \"GCN_baseline_crosswalk\"\n",
    "embs[model] = np.load(DATA_ROOT + DIRS[0] + DATASET + '_crosswalk_gcn_node2vec_embs.npy')\n",
    "A = embs[model]\n",
    "A.shape\n"
   ]
  },
  {
   "cell_type": "code",
   "execution_count": 12,
   "id": "b21db5c5",
   "metadata": {},
   "outputs": [
    {
     "name": "stderr",
     "output_type": "stream",
     "text": [
      "100%|████████████████████████████████████████████████████████████████████████████████████████████████████████████| 5973455/5973455 [02:17<00:00, 43339.51it/s]\n",
      "100%|████████████████████████████████████████████████████████████████████████████████████████████████████████████| 5973455/5973455 [02:04<00:00, 47989.52it/s]\n"
     ]
    },
    {
     "data": {
      "image/png": "[encoded data removed]",
      "text/plain": [
       "<Figure size 432x288 with 1 Axes>"
      ]
     },
     "metadata": {
      "needs_background": "light"
     },
     "output_type": "display_data"
    }
   ],
   "source": [
    "# plot density\n",
    "dot = create_dot_df(A)\n",
    "fig, ax = plt.subplots(1,1)\n",
    "\n",
    "plot_dot_(dot, title=model + '_dot_density')\n",
    "# ax.set_xlim(-750, 750)\n",
    "ax.legend(['positive_neighbors', 'negative_neighbors'])\n",
    "fig.show()"
   ]
  },
  {
   "cell_type": "code",
   "execution_count": 13,
   "id": "673fa04c",
   "metadata": {},
   "outputs": [
    {
     "name": "stderr",
     "output_type": "stream",
     "text": [
      "100%|██████████████████████████████████████████████████████████████████████████████████████████████████████████████████████| 203/203 [00:01<00:00, 192.16it/s]\n"
     ]
    },
    {
     "data": {
      "text/plain": [
       "((2034490, 2), 3.083113464085922e-06, 0.8927796384509095, 0.07965057622033966)"
      ]
     },
     "execution_count": 13,
     "metadata": {},
     "output_type": "execute_result"
    }
   ],
   "source": [
    "# # create edge_list\n",
    "batch_size = 2000\n",
    "\n",
    "edges = snakemake_utils.return_new_graph(A, k, )\n",
    "gini_score[model] = statistical_parity(edges, y, metric='gini')\n",
    "sp_score[model] = statistical_parity(edges, y, )\n",
    "\n",
    "roc_score[model] = get_roc_score(dot)\n",
    "edges.shape, sp_score[model], roc_score[model], gini_score[model]"
   ]
  },
  {
   "cell_type": "markdown",
   "id": "a0e1719e",
   "metadata": {},
   "source": [
    "# GCN ( r2v)"
   ]
  },
  {
   "cell_type": "code",
   "execution_count": 14,
   "id": "4906ab15",
   "metadata": {
    "scrolled": true
   },
   "outputs": [
    {
     "data": {
      "text/plain": [
       "(406898, 128)"
      ]
     },
     "execution_count": 14,
     "metadata": {},
     "output_type": "execute_result"
    }
   ],
   "source": [
    "model = \"GCN_r2v\"\n",
    "embs[model] = np.load(DATA_ROOT + DIRS[0] + DATASET  + '_gcn_r2v_node2vec_embs.npy')\n",
    "A = embs[model]\n",
    "A.shape"
   ]
  },
  {
   "cell_type": "code",
   "execution_count": 15,
   "id": "d45b07e9",
   "metadata": {},
   "outputs": [
    {
     "name": "stderr",
     "output_type": "stream",
     "text": [
      "100%|████████████████████████████████████████████████████████████████████████████████████████████████████████████| 5973455/5973455 [02:19<00:00, 42966.67it/s]\n",
      "100%|████████████████████████████████████████████████████████████████████████████████████████████████████████████| 5973455/5973455 [02:08<00:00, 46391.73it/s]\n"
     ]
    },
    {
     "data": {
      "image/png": "[encoded data removed]",
      "text/plain": [
       "<Figure size 432x288 with 1 Axes>"
      ]
     },
     "metadata": {
      "needs_background": "light"
     },
     "output_type": "display_data"
    }
   ],
   "source": [
    "# plot density\n",
    "dot = create_dot_df(A)\n",
    "fig, ax = plt.subplots(1,1)\n",
    "\n",
    "plot_dot_(dot, title=model + '_dot_density')\n",
    "# ax.set_xlim(-750, 750)\n",
    "ax.legend(['positive_neighbors', 'negative_neighbors'])\n",
    "fig.show()"
   ]
  },
  {
   "cell_type": "code",
   "execution_count": 16,
   "id": "c24cedbe",
   "metadata": {},
   "outputs": [
    {
     "name": "stderr",
     "output_type": "stream",
     "text": [
      "100%|██████████████████████████████████████████████████████████████████████████████████████████████████████████████████████| 203/203 [00:01<00:00, 193.38it/s]\n"
     ]
    },
    {
     "data": {
      "text/plain": [
       "((2034490, 2), 3.068371254815531e-06, 0.7803891279670179, 0.07859421995725879)"
      ]
     },
     "execution_count": 16,
     "metadata": {},
     "output_type": "execute_result"
    }
   ],
   "source": [
    "# # create edge_list\n",
    "batch_size = 2000\n",
    "\n",
    "edges = snakemake_utils.return_new_graph(A, k, )\n",
    "gini_score[model] = statistical_parity(edges, y, metric='gini')\n",
    "sp_score[model] = statistical_parity(edges, y, )\n",
    "\n",
    "roc_score[model] = get_roc_score(dot)\n",
    "edges.shape, sp_score[model], roc_score[model], gini_score[model]"
   ]
  },
  {
   "cell_type": "markdown",
   "id": "ae43172d",
   "metadata": {},
   "source": [
    "# GCN ( r2v + crosswalk)"
   ]
  },
  {
   "cell_type": "code",
   "execution_count": 17,
   "id": "5455bde3",
   "metadata": {
    "scrolled": true
   },
   "outputs": [
    {
     "data": {
      "text/plain": [
       "(406898, 128)"
      ]
     },
     "execution_count": 17,
     "metadata": {},
     "output_type": "execute_result"
    }
   ],
   "source": [
    "model = \"GCN_r2v_crosswalk\"\n",
    "embs[model] = np.load(DATA_ROOT + DIRS[0] + DATASET + '_crosswalk_gcn_r2v_node2vec_embs.npy')\n",
    "A = embs[model]\n",
    "\n",
    "A.shape"
   ]
  },
  {
   "cell_type": "code",
   "execution_count": 18,
   "id": "9400cd57",
   "metadata": {},
   "outputs": [
    {
     "name": "stderr",
     "output_type": "stream",
     "text": [
      "100%|████████████████████████████████████████████████████████████████████████████████████████████████████████████| 5973455/5973455 [02:11<00:00, 45598.64it/s]\n",
      "100%|████████████████████████████████████████████████████████████████████████████████████████████████████████████| 5973455/5973455 [02:08<00:00, 46529.23it/s]\n"
     ]
    },
    {
     "data": {
      "image/png": "[encoded data removed]",
      "text/plain": [
       "<Figure size 432x288 with 1 Axes>"
      ]
     },
     "metadata": {
      "needs_background": "light"
     },
     "output_type": "display_data"
    }
   ],
   "source": [
    "# plot density\n",
    "dot = create_dot_df(A)\n",
    "fig, ax = plt.subplots(1,1)\n",
    "\n",
    "plot_dot_(dot, title=model + '_dot_density')\n",
    "# ax.set_xlim(-750, 750)\n",
    "ax.legend(['positive_neighbors', 'negative_neighbors'])\n",
    "fig.show()"
   ]
  },
  {
   "cell_type": "code",
   "execution_count": 19,
   "id": "3680c8b4",
   "metadata": {},
   "outputs": [
    {
     "name": "stderr",
     "output_type": "stream",
     "text": [
      "100%|██████████████████████████████████████████████████████████████████████████████████████████████████████████████████████| 203/203 [00:00<00:00, 222.39it/s]\n"
     ]
    },
    {
     "data": {
      "text/plain": [
       "((2034490, 2), 3.0744451270651483e-06, 0.8801180456794835, 0.07962634687102986)"
      ]
     },
     "execution_count": 19,
     "metadata": {},
     "output_type": "execute_result"
    }
   ],
   "source": [
    "# # create edge_list\n",
    "batch_size = 2000\n",
    "\n",
    "edges = snakemake_utils.return_new_graph(A, k, )\n",
    "gini_score[model] = statistical_parity(edges, y, metric='gini')\n",
    "sp_score[model] = statistical_parity(edges, y, )\n",
    "\n",
    "roc_score[model] = get_roc_score(dot)\n",
    "edges.shape, sp_score[model], roc_score[model], gini_score[model]"
   ]
  },
  {
   "cell_type": "markdown",
   "id": "1d2e41d5",
   "metadata": {},
   "source": [
    "# GAT ( baseline)"
   ]
  },
  {
   "cell_type": "code",
   "execution_count": 20,
   "id": "f57fe26a",
   "metadata": {
    "scrolled": true
   },
   "outputs": [
    {
     "data": {
      "text/plain": [
       "(406898, 128)"
      ]
     },
     "execution_count": 20,
     "metadata": {},
     "output_type": "execute_result"
    }
   ],
   "source": [
    "model = \"GAT_baseline\"\n",
    "embs[model] = np.load(DATA_ROOT + DIRS[0] + DATASET + '_gat_node2vec_embs.npy')\n",
    "A = embs[model]\n",
    "\n",
    "A.shape"
   ]
  },
  {
   "cell_type": "code",
   "execution_count": 21,
   "id": "232d338b",
   "metadata": {},
   "outputs": [
    {
     "name": "stderr",
     "output_type": "stream",
     "text": [
      "100%|████████████████████████████████████████████████████████████████████████████████████████████████████████████| 5973455/5973455 [02:16<00:00, 43709.74it/s]\n",
      "100%|████████████████████████████████████████████████████████████████████████████████████████████████████████████| 5973455/5973455 [02:02<00:00, 48692.44it/s]\n"
     ]
    },
    {
     "data": {
      "image/png": "[encoded data removed]",
      "text/plain": [
       "<Figure size 432x288 with 1 Axes>"
      ]
     },
     "metadata": {
      "needs_background": "light"
     },
     "output_type": "display_data"
    }
   ],
   "source": [
    "# plot density\n",
    "dot = create_dot_df(A)\n",
    "fig, ax = plt.subplots(1,1)\n",
    "\n",
    "plot_dot_(dot, title=model + '_dot_density')\n",
    "# ax.set_xlim(-750, 750)\n",
    "ax.legend(['positive_neighbors', 'negative_neighbors'])\n",
    "fig.show()"
   ]
  },
  {
   "cell_type": "code",
   "execution_count": 22,
   "id": "ba9721ad",
   "metadata": {},
   "outputs": [
    {
     "name": "stderr",
     "output_type": "stream",
     "text": [
      "100%|██████████████████████████████████████████████████████████████████████████████████████████████████████████████████████| 203/203 [00:00<00:00, 228.16it/s]\n"
     ]
    },
    {
     "data": {
      "text/plain": [
       "((2034490, 2), 3.071718882706274e-06, 0.7721855625433337, 0.07867397714053043)"
      ]
     },
     "execution_count": 22,
     "metadata": {},
     "output_type": "execute_result"
    }
   ],
   "source": [
    "# # create edge_list\n",
    "batch_size = 2000\n",
    "\n",
    "edges = snakemake_utils.return_new_graph(A, k, )\n",
    "gini_score[model] = statistical_parity(edges, y, metric='gini')\n",
    "sp_score[model] = statistical_parity(edges, y, )\n",
    "\n",
    "roc_score[model] = get_roc_score(dot)\n",
    "edges.shape, sp_score[model], roc_score[model], gini_score[model]"
   ]
  },
  {
   "cell_type": "markdown",
   "id": "5437c93e",
   "metadata": {},
   "source": [
    "# GAT ( baseline + crosswalk)"
   ]
  },
  {
   "cell_type": "code",
   "execution_count": 23,
   "id": "7e167c94",
   "metadata": {
    "scrolled": true
   },
   "outputs": [
    {
     "data": {
      "text/plain": [
       "(406898, 128)"
      ]
     },
     "execution_count": 23,
     "metadata": {},
     "output_type": "execute_result"
    }
   ],
   "source": [
    "model = \"GAT_baseline_crosswalk\"\n",
    "embs[model] = np.load(DATA_ROOT + DIRS[0] + DATASET + '_crosswalk_gat_node2vec_embs.npy')\n",
    "A = embs[model]\n",
    "A.shape"
   ]
  },
  {
   "cell_type": "code",
   "execution_count": 24,
   "id": "52491479",
   "metadata": {},
   "outputs": [
    {
     "name": "stderr",
     "output_type": "stream",
     "text": [
      "100%|████████████████████████████████████████████████████████████████████████████████████████████████████████████| 5973455/5973455 [02:08<00:00, 46397.76it/s]\n",
      "100%|████████████████████████████████████████████████████████████████████████████████████████████████████████████| 5973455/5973455 [02:01<00:00, 49169.42it/s]\n"
     ]
    },
    {
     "data": {
      "image/png": "[encoded data removed]",
      "text/plain": [
       "<Figure size 432x288 with 1 Axes>"
      ]
     },
     "metadata": {
      "needs_background": "light"
     },
     "output_type": "display_data"
    }
   ],
   "source": [
    "# plot density\n",
    "dot = create_dot_df(A)\n",
    "fig, ax = plt.subplots(1,1)\n",
    "\n",
    "plot_dot_(dot, title=model + '_dot_density')\n",
    "# ax.set_xlim(-750, 750)\n",
    "ax.legend(['positive_neighbors', 'negative_neighbors'])\n",
    "fig.show()"
   ]
  },
  {
   "cell_type": "code",
   "execution_count": 25,
   "id": "eca56a92",
   "metadata": {},
   "outputs": [
    {
     "name": "stderr",
     "output_type": "stream",
     "text": [
      "100%|██████████████████████████████████████████████████████████████████████████████████████████████████████████████████████| 203/203 [00:00<00:00, 250.63it/s]\n"
     ]
    },
    {
     "data": {
      "text/plain": [
       "((2034490, 2), 3.0652469903355397e-06, 0.923260974020652, 0.07917057215260913)"
      ]
     },
     "execution_count": 25,
     "metadata": {},
     "output_type": "execute_result"
    }
   ],
   "source": [
    "# # create edge_list\n",
    "batch_size = 2000\n",
    "\n",
    "edges = snakemake_utils.return_new_graph(A, k, )\n",
    "gini_score[model] = statistical_parity(edges, y, metric='gini')\n",
    "sp_score[model] = statistical_parity(edges, y, )\n",
    "\n",
    "roc_score[model] = get_roc_score(dot)\n",
    "edges.shape, sp_score[model], roc_score[model], gini_score[model]"
   ]
  },
  {
   "cell_type": "markdown",
   "id": "d2428b6f",
   "metadata": {},
   "source": [
    "# GAT ( r2v)"
   ]
  },
  {
   "cell_type": "code",
   "execution_count": 26,
   "id": "40395e3e",
   "metadata": {
    "scrolled": true
   },
   "outputs": [
    {
     "data": {
      "text/plain": [
       "(406898, 128)"
      ]
     },
     "execution_count": 26,
     "metadata": {},
     "output_type": "execute_result"
    }
   ],
   "source": [
    "model = \"GAT_r2v\"\n",
    "embs[model] = np.load(DATA_ROOT + DIRS[0] + DATASET + '_gat_r2v_node2vec_embs.npy')\n",
    "A = embs[model]\n",
    "A.shape"
   ]
  },
  {
   "cell_type": "code",
   "execution_count": 27,
   "id": "7ef41872",
   "metadata": {},
   "outputs": [
    {
     "name": "stderr",
     "output_type": "stream",
     "text": [
      "100%|████████████████████████████████████████████████████████████████████████████████████████████████████████████| 5973455/5973455 [02:04<00:00, 48000.65it/s]\n",
      "100%|████████████████████████████████████████████████████████████████████████████████████████████████████████████| 5973455/5973455 [02:01<00:00, 49152.65it/s]\n"
     ]
    },
    {
     "data": {
      "image/png": "[encoded data removed]",
      "text/plain": [
       "<Figure size 432x288 with 1 Axes>"
      ]
     },
     "metadata": {
      "needs_background": "light"
     },
     "output_type": "display_data"
    }
   ],
   "source": [
    "# plot density\n",
    "dot = create_dot_df(A)\n",
    "fig, ax = plt.subplots(1,1)\n",
    "\n",
    "plot_dot_(dot, title=model + '_dot_density')\n",
    "# ax.set_xlim(-750, 750)\n",
    "ax.legend(['positive_neighbors', 'negative_neighbors'])\n",
    "fig.show()"
   ]
  },
  {
   "cell_type": "code",
   "execution_count": 28,
   "id": "e447f9b3",
   "metadata": {},
   "outputs": [
    {
     "name": "stderr",
     "output_type": "stream",
     "text": [
      "100%|██████████████████████████████████████████████████████████████████████████████████████████████████████████████████████| 203/203 [00:01<00:00, 128.08it/s]\n"
     ]
    },
    {
     "data": {
      "text/plain": [
       "((2034490, 2), 3.0689524049234356e-06, 0.7863160381795371, 0.07846372564790387)"
      ]
     },
     "execution_count": 28,
     "metadata": {},
     "output_type": "execute_result"
    }
   ],
   "source": [
    "# # create edge_list\n",
    "batch_size = 2000\n",
    "\n",
    "edges = snakemake_utils.return_new_graph(A, k, )\n",
    "gini_score[model] = statistical_parity(edges, y, metric='gini')\n",
    "sp_score[model] = statistical_parity(edges, y, )\n",
    "\n",
    "roc_score[model] = get_roc_score(dot)\n",
    "edges.shape, sp_score[model], roc_score[model], gini_score[model]"
   ]
  },
  {
   "cell_type": "markdown",
   "id": "878b8f13",
   "metadata": {},
   "source": [
    "# GAT ( r2v + crosswalk)"
   ]
  },
  {
   "cell_type": "code",
   "execution_count": 29,
   "id": "b645c156",
   "metadata": {
    "scrolled": true
   },
   "outputs": [
    {
     "data": {
      "text/plain": [
       "(406898, 128)"
      ]
     },
     "execution_count": 29,
     "metadata": {},
     "output_type": "execute_result"
    }
   ],
   "source": [
    "model = \"GAT_r2v_crosswalk\"\n",
    "embs[model] = np.load(DATA_ROOT + DIRS[0] + DATASET + '_crosswalk_gat_r2v_node2vec_embs.npy')\n",
    "A = embs[model]\n",
    "A.shape"
   ]
  },
  {
   "cell_type": "code",
   "execution_count": 30,
   "id": "63486625",
   "metadata": {},
   "outputs": [
    {
     "name": "stderr",
     "output_type": "stream",
     "text": [
      "100%|████████████████████████████████████████████████████████████████████████████████████████████████████████████| 5973455/5973455 [02:09<00:00, 46126.77it/s]\n",
      "100%|████████████████████████████████████████████████████████████████████████████████████████████████████████████| 5973455/5973455 [02:04<00:00, 47825.37it/s]\n"
     ]
    },
    {
     "data": {
      "image/png": "[encoded data removed]",
      "text/plain": [
       "<Figure size 432x288 with 1 Axes>"
      ]
     },
     "metadata": {
      "needs_background": "light"
     },
     "output_type": "display_data"
    }
   ],
   "source": [
    "# plot density\n",
    "dot = create_dot_df(A)\n",
    "fig, ax = plt.subplots(1,1)\n",
    "\n",
    "plot_dot_(dot, title=model + '_dot_density')\n",
    "# ax.set_xlim(-750, 750)\n",
    "ax.legend(['positive_neighbors', 'negative_neighbors'])\n",
    "fig.show()"
   ]
  },
  {
   "cell_type": "code",
   "execution_count": 31,
   "id": "72cd9466",
   "metadata": {},
   "outputs": [
    {
     "name": "stderr",
     "output_type": "stream",
     "text": [
      "100%|██████████████████████████████████████████████████████████████████████████████████████████████████████████████████████| 203/203 [00:01<00:00, 196.00it/s]\n"
     ]
    },
    {
     "data": {
      "text/plain": [
       "((2034490, 2), 3.051270315513175e-06, 0.8900735706510647, 0.07890781845347983)"
      ]
     },
     "execution_count": 31,
     "metadata": {},
     "output_type": "execute_result"
    }
   ],
   "source": [
    "# # create edge_list\n",
    "batch_size = 2000\n",
    "\n",
    "edges = snakemake_utils.return_new_graph(A, k, )\n",
    "gini_score[model] = statistical_parity(edges, y, metric='gini')\n",
    "sp_score[model] = statistical_parity(edges, y, )\n",
    "\n",
    "roc_score[model] = get_roc_score(dot)\n",
    "edges.shape, sp_score[model], roc_score[model], gini_score[model]"
   ]
  },
  {
   "cell_type": "markdown",
   "id": "ebbb980e",
   "metadata": {},
   "source": [
    "# plot statistical parity scores"
   ]
  },
  {
   "cell_type": "markdown",
   "id": "f5b36fa7",
   "metadata": {},
   "source": [
    "# gini sp scores"
   ]
  },
  {
   "cell_type": "code",
   "execution_count": 32,
   "id": "bae3de0e",
   "metadata": {},
   "outputs": [],
   "source": [
    "\n",
    "# for i, j in gini_score.items(): print(i, j)\n",
    "# sns.set(rc = {'figure.figsize':(15,8)})\n",
    "# ax = sns.barplot(x=list(gini_score.keys()), y=list(gini_score.values()))\n",
    "# ax.set_ylim(min(gini_score.values()), max(gini_score.values()))\n",
    "# ax.set_xticklabels(ax.get_xticklabels(),rotation = 45)\n",
    "# ax.set_title(\"gini statistical parity scores\")"
   ]
  },
  {
   "cell_type": "markdown",
   "id": "2c76a2d5",
   "metadata": {},
   "source": [
    "# sp scores"
   ]
  },
  {
   "cell_type": "code",
   "execution_count": 33,
   "id": "22b6746a",
   "metadata": {},
   "outputs": [],
   "source": [
    "\n",
    "# for i, j in sp_score.items(): print(i, j)\n",
    "# sns.set(rc = {'figure.figsize':(15,8)})\n",
    "# ax = sns.barplot(x=list(sp_score.keys()), y=list(sp_score.values()))\n",
    "# ax.set_ylim(min(sp_score.values()), max(sp_score.values()))\n",
    "# ax.set_xticklabels(ax.get_xticklabels(),rotation = 45)\n",
    "# ax.set_title(\"statistical parity scores\")"
   ]
  },
  {
   "cell_type": "markdown",
   "id": "37f5da17",
   "metadata": {},
   "source": [
    "# roc auc scores"
   ]
  },
  {
   "cell_type": "code",
   "execution_count": 34,
   "id": "77ca7a10",
   "metadata": {},
   "outputs": [],
   "source": [
    "\n",
    "# for i, j in roc_score.items(): print(i, j)\n",
    "# sns.set(rc = {'figure.figsize':(15,8)})\n",
    "# ax = sns.barplot(x=list(roc_score.keys()), y=list(roc_score.values()))\n",
    "# ax.set_ylim(min(roc_score.values()), max(roc_score.values()))\n",
    "# ax.set_xticklabels(ax.get_xticklabels(),rotation = 45)\n",
    "# ax.set_title(\"roc scores\")"
   ]
  },
  {
   "cell_type": "code",
   "execution_count": 35,
   "id": "e4cc7f98",
   "metadata": {},
   "outputs": [],
   "source": [
    "\n",
    "# N = 20\n",
    "\n",
    "# sp_scores, gini_scores = np.zeros((N, len(M))), np.zeros((N, len(M)))\n",
    "# for k in range(N):\n",
    "#     for idx, m in enumerate(M):\n",
    "#         if k == 0: continue\n",
    "#         batch_size =  2000\n",
    "#         A = embs[m]\n",
    "#         edges = snakemake_utils.return_new_graph(A, k, )\n",
    "        \n",
    "    \n",
    "#         gini_scores[k, idx] = statistical_parity(edges, y, metric='gini')\n",
    "#         sp_scores[k, idx] = statistical_parity(edges, y, )\n"
   ]
  },
  {
   "cell_type": "code",
   "execution_count": 36,
   "id": "fb97b479",
   "metadata": {},
   "outputs": [],
   "source": [
    "# for i in range(len(M)):\n",
    "#     plt.plot(gini_scores[:, i], label=M[i])\n",
    "# plt.legend(loc=\"upper right\")\n",
    "# plt.title(\"gini scores vs # nn\")"
   ]
  },
  {
   "cell_type": "code",
   "execution_count": 37,
   "id": "31dfe38f",
   "metadata": {},
   "outputs": [],
   "source": [
    "# for i in range(len(M)):\n",
    "#     plt.plot(sp_scores[:, i], label=M[i])\n",
    "# plt.legend(loc=\"upper right\")\n",
    "\n",
    "# plt.title(\"sp scores vs # nn\")"
   ]
  },
  {
   "cell_type": "markdown",
   "id": "357539db",
   "metadata": {},
   "source": [
    "# combine all different runs"
   ]
  },
  {
   "cell_type": "code",
   "execution_count": 38,
   "id": "8ef5d890",
   "metadata": {},
   "outputs": [],
   "source": [
    "MODEL_NAME_2_FILE = {\n",
    "    \"GCN_baseline\": \"_gcn_node2vec_embs.npy\",\n",
    "    \"GCN_baseline_crosswalk\": \"_crosswalk_gcn_node2vec_embs.npy\",\n",
    "    \"GCN_r2v\": \"_gcn_r2v_node2vec_embs.npy\",\n",
    "    \"GCN_r2v_crosswalk\": '_crosswalk_gcn_r2v_node2vec_embs.npy',\n",
    "    \"GAT_baseline\": '_gat_node2vec_embs.npy',\n",
    "    \"GAT_baseline_crosswalk\": \"_crosswalk_gat_node2vec_embs.npy\",\n",
    "    \"GAT_r2v\": \"_gat_r2v_node2vec_embs.npy\",\n",
    "    \"GAT_r2v_crosswalk\": \"_crosswalk_gat_r2v_node2vec_embs.npy\"\n",
    "}\n",
    "def roc_scores(model_name):\n",
    "    scores = np.zeros(len(DIRS))\n",
    "    for idx, d in enumerate(DIRS):\n",
    "        A = np.load(DATA_ROOT + d + DATASET + MODEL_NAME_2_FILE[model_name])\n",
    "        dot = create_dot_df(A)\n",
    "        scores[idx] = get_roc_score(dot)\n",
    "    return np.mean(scores)\n",
    "\n",
    "\n",
    "def statisticalp_scores(model_name, K=5):\n",
    "    scores, scores_gini = np.zeros(len(DIRS)), np.zeros(len(DIRS))\n",
    "    for idx, d in enumerate(DIRS):\n",
    "        A = np.load(DATA_ROOT + d + DATASET + MODEL_NAME_2_FILE[model_name])\n",
    "        edges = snakemake_utils.return_new_graph(A, K)\n",
    "        scores_gini[idx] = statistical_parity(edges, y, metric='gini')\n",
    "        \n",
    "        scores[idx] = statistical_parity(edges, y, )\n",
    "    return np.mean(scores), np.mean(scores_gini)"
   ]
  },
  {
   "cell_type": "code",
   "execution_count": null,
   "id": "229b6d10",
   "metadata": {},
   "outputs": [
    {
     "name": "stderr",
     "output_type": "stream",
     "text": [
      "100%|████████████████████████████████████████████████████████████████████████████████████████████████████████████| 5973455/5973455 [02:09<00:00, 46108.56it/s]\n",
      "100%|████████████████████████████████████████████████████████████████████████████████████████████████████████████| 5973455/5973455 [02:01<00:00, 49262.21it/s]\n",
      "100%|████████████████████████████████████████████████████████████████████████████████████████████████████████████| 5973455/5973455 [02:04<00:00, 48024.21it/s]\n",
      "100%|████████████████████████████████████████████████████████████████████████████████████████████████████████████| 5973455/5973455 [02:01<00:00, 49119.89it/s]\n",
      "100%|████████████████████████████████████████████████████████████████████████████████████████████████████████████| 5973455/5973455 [02:06<00:00, 47402.17it/s]\n",
      "100%|████████████████████████████████████████████████████████████████████████████████████████████████████████████| 5973455/5973455 [02:11<00:00, 45513.88it/s]\n",
      "100%|████████████████████████████████████████████████████████████████████████████████████████████████████████████| 5973455/5973455 [02:06<00:00, 47223.71it/s]\n",
      "100%|████████████████████████████████████████████████████████████████████████████████████████████████████████████| 5973455/5973455 [02:03<00:00, 48509.95it/s]\n",
      "100%|████████████████████████████████████████████████████████████████████████████████████████████████████████████| 5973455/5973455 [02:02<00:00, 48827.29it/s]\n",
      "100%|████████████████████████████████████████████████████████████████████████████████████████████████████████████| 5973455/5973455 [01:54<00:00, 52317.28it/s]\n",
      "100%|████████████████████████████████████████████████████████████████████████████████████████████████████████████| 5973455/5973455 [02:00<00:00, 49426.23it/s]\n",
      "100%|████████████████████████████████████████████████████████████████████████████████████████████████████████████| 5973455/5973455 [01:57<00:00, 50632.92it/s]\n",
      "100%|████████████████████████████████████████████████████████████████████████████████████████████████████████████| 5973455/5973455 [02:05<00:00, 47425.17it/s]\n",
      "100%|████████████████████████████████████████████████████████████████████████████████████████████████████████████| 5973455/5973455 [01:58<00:00, 50591.40it/s]\n",
      "100%|████████████████████████████████████████████████████████████████████████████████████████████████████████████| 5973455/5973455 [02:06<00:00, 47349.43it/s]\n",
      "100%|████████████████████████████████████████████████████████████████████████████████████████████████████████████| 5973455/5973455 [02:02<00:00, 48571.59it/s]\n",
      "100%|████████████████████████████████████████████████████████████████████████████████████████████████████████████| 5973455/5973455 [02:04<00:00, 47860.34it/s]\n",
      "100%|████████████████████████████████████████████████████████████████████████████████████████████████████████████| 5973455/5973455 [02:01<00:00, 49213.81it/s]\n",
      "100%|████████████████████████████████████████████████████████████████████████████████████████████████████████████| 5973455/5973455 [02:08<00:00, 46511.14it/s]\n",
      "100%|████████████████████████████████████████████████████████████████████████████████████████████████████████████| 5973455/5973455 [02:01<00:00, 49089.47it/s]\n",
      "100%|████████████████████████████████████████████████████████████████████████████████████████████████████████████| 5973455/5973455 [02:06<00:00, 47118.94it/s]\n",
      "100%|████████████████████████████████████████████████████████████████████████████████████████████████████████████| 5973455/5973455 [02:01<00:00, 49114.31it/s]\n",
      "100%|████████████████████████████████████████████████████████████████████████████████████████████████████████████| 5973455/5973455 [02:06<00:00, 47399.62it/s]\n",
      "100%|████████████████████████████████████████████████████████████████████████████████████████████████████████████| 5973455/5973455 [02:08<00:00, 46318.41it/s]\n",
      "100%|████████████████████████████████████████████████████████████████████████████████████████████████████████████| 5973455/5973455 [02:05<00:00, 47762.06it/s]\n",
      "100%|████████████████████████████████████████████████████████████████████████████████████████████████████████████| 5973455/5973455 [02:00<00:00, 49747.23it/s]\n",
      "100%|████████████████████████████████████████████████████████████████████████████████████████████████████████████| 5973455/5973455 [02:04<00:00, 47895.04it/s]\n",
      "100%|████████████████████████████████████████████████████████████████████████████████████████████████████████████| 5973455/5973455 [02:03<00:00, 48556.10it/s]\n",
      "100%|████████████████████████████████████████████████████████████████████████████████████████████████████████████| 5973455/5973455 [02:09<00:00, 46242.36it/s]\n",
      "100%|████████████████████████████████████████████████████████████████████████████████████████████████████████████| 5973455/5973455 [02:07<00:00, 46818.63it/s]\n",
      "100%|████████████████████████████████████████████████████████████████████████████████████████████████████████████| 5973455/5973455 [02:15<00:00, 44132.20it/s]\n",
      "100%|███████████████████████████████████████████████████████████████████████████████████████████████████████████▉| 5967449/5973455 [02:06<00:00, 66490.03it/s]"
     ]
    }
   ],
   "source": [
    "\n",
    "roc_score = {m: roc_scores(m) for m in MODEL_NAME_2_FILE}\n",
    "\n",
    "for i, j in roc_score.items(): print(i, j)\n",
    "sns.set(rc = {'figure.figsize':(15,8)})\n",
    "ax = sns.barplot(x=list(roc_score.keys()), y=list(roc_score.values()))\n",
    "ax.set_ylim(min(roc_score.values()), max(roc_score.values()))\n",
    "ax.set_xticklabels(ax.get_xticklabels(),rotation = 45)\n",
    "ax.set_title(\"roc scores\")"
   ]
  },
  {
   "cell_type": "code",
   "execution_count": null,
   "id": "1f3cba0c",
   "metadata": {},
   "outputs": [],
   "source": [
    "\n",
    "temp = {m: statisticalp_scores(m) for m in MODEL_NAME_2_FILE}\n",
    "\n",
    "sp_score = {m: v[0] for m,v in temp.items()}\n",
    "for i, j in sp_score.items(): print(i, j)\n",
    "sns.set(rc = {'figure.figsize':(15,8)})\n",
    "ax = sns.barplot(x=list(sp_score.keys()), y=list(sp_score.values()))\n",
    "ax.set_ylim(min(sp_score.values()), max(sp_score.values()))\n",
    "ax.set_xticklabels(ax.get_xticklabels(),rotation = 45)\n",
    "ax.set_title(\"statistical parity scores\")"
   ]
  },
  {
   "cell_type": "code",
   "execution_count": null,
   "id": "dc0cc7e5",
   "metadata": {},
   "outputs": [],
   "source": [
    "gini_score = {m: v[1] for m,v in temp.items()}\n",
    "for i, j in gini_score.items(): print(i, j)\n",
    "sns.set(rc = {'figure.figsize':(15,8)})\n",
    "ax = sns.barplot(x=list(gini_score.keys()), y=list(gini_score.values()))\n",
    "ax.set_ylim(min(gini_score.values()), max(gini_score.values()))\n",
    "ax.set_xticklabels(ax.get_xticklabels(),rotation = 45)\n",
    "ax.set_title(\"gini statistical parity scores\")"
   ]
  },
  {
   "cell_type": "code",
   "execution_count": null,
   "id": "dfe295a8",
   "metadata": {},
   "outputs": [],
   "source": [
    "import pickle as pkl\n",
    "# roc_score, sp_score, gini_score= {}, {}, {}\n",
    "pkl.dump(roc_score, open(DATA_ROOT + \"roc_score.pkl\", 'wb'))\n",
    "\n",
    "pkl.dump(sp_score, open(DATA_ROOT + \"sp_score.pkl\", 'wb'))\n",
    "\n",
    "pkl.dump(gini_score, open(DATA_ROOT + \"gini_score.pkl\", 'wb'))"
   ]
  },
  {
   "cell_type": "code",
   "execution_count": null,
   "id": "d21a7770",
   "metadata": {},
   "outputs": [],
   "source": []
  }
 ],
 "metadata": {
  "kernelspec": {
   "display_name": "Python 3 (ipykernel)",
   "language": "python",
   "name": "python3"
  },
  "language_info": {
   "codemirror_mode": {
    "name": "ipython",
    "version": 3
   },
   "file_extension": ".py",
   "mimetype": "text/x-python",
   "name": "python",
   "nbconvert_exporter": "python",
   "pygments_lexer": "ipython3",
   "version": "3.7.13"
  }
 },
 "nbformat": 4,
 "nbformat_minor": 5
}
