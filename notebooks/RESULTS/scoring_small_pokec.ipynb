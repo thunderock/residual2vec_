{
 "cells": [
  {
   "cell_type": "code",
   "execution_count": 1,
   "id": "16d1921c",
   "metadata": {},
   "outputs": [],
   "source": [
    "import sys, os\n",
    "sys.path.insert(0, '../..')\n",
    "# os.environ[\"CUDA_VISIBLE_DEVICES\"]=\"\""
   ]
  },
  {
   "cell_type": "code",
   "execution_count": 2,
   "id": "5d539127",
   "metadata": {},
   "outputs": [
    {
     "name": "stderr",
     "output_type": "stream",
     "text": [
      "/data/sg/ashutiwa/miniconda3/lib/python3.7/site-packages/tqdm/auto.py:22: TqdmWarning: IProgress not found. Please update jupyter and ipywidgets. See https://ipywidgets.readthedocs.io/en/stable/user_install.html\n",
      "  from .autonotebook import tqdm as notebook_tqdm\n"
     ]
    },
    {
     "name": "stdout",
     "output_type": "stream",
     "text": [
      "Using GPU: cuda:0\n"
     ]
    }
   ],
   "source": [
    "import numpy as np\n",
    "import pandas as pd\n",
    "import torch\n",
    "from models.weighted_node2vec import WeightedNode2Vec\n",
    "from dataset import triplet_dataset, pokec_data\n",
    "from utils.config import DEVICE\n",
    "import gc\n",
    "from tqdm import trange\n",
    "from utils.link_prediction import GCNLinkPrediction\n",
    "import residual2vec as rv\n",
    "import warnings\n",
    "import faiss\n",
    "import matplotlib.pyplot as plt\n",
    "from utils.score import statistical_parity\n",
    "from utils import graph_utils\n",
    "from utils.snakemake_utils import FileResources\n",
    "import seaborn as sns\n",
    "from utils import snakemake_utils\n",
    "import pickle as pkl\n",
    "warnings.filterwarnings(\"ignore\")\n",
    "gc.enable()"
   ]
  },
  {
   "cell_type": "code",
   "execution_count": 3,
   "id": "f7f49384",
   "metadata": {},
   "outputs": [
    {
     "name": "stderr",
     "output_type": "stream",
     "text": [
      "Using existing file soc-pokec-profiles.txt.gz\n",
      "Using existing file soc-pokec-relationships.txt.gz\n"
     ]
    }
   ],
   "source": [
    "y = snakemake_utils.get_dataset(\"small_pokec\").get_grouped_col()\n",
    "sp_score, roc_score, gini_score, embs = {}, {}, {}, {}\n",
    "DATA_ROOT = '/data/sg/ashutiwa/final_results/small_pokec/'\n",
    "DIRS = ['small_pokec_one/', 'small_pokec_two/', 'small_pokec_three/', 'small_pokec_four/', 'small_pokec_five/']\n",
    "DATASET = 'small_pokec'\n",
    "M = [\"GCN_baseline\", \"GCN_r2v\", \"GCN_baseline_crosswalk\", \"GCN_r2v_crosswalk\", \n",
    "     \"GAT_baseline\",\"GAT_r2v\", \"GAT_baseline_crosswalk\", \"GAT_r2v_crosswalk\",\n",
    "    \"word2vec_baseline\", \"word2vec_r2v\", \"word2vec_baseline_crosswalk\", \"word2vec_r2v_crosswalk\"]\n",
    "\n",
    "TEST_ADJ_FILE='/data/sg/ashutiwa/final_results/small_pokec/small_pokec_one/small_pokec_test_adj.npz'\n",
    "NUM_NODES = 406898\n",
    "k=5"
   ]
  },
  {
   "cell_type": "markdown",
   "id": "a13d5e9c",
   "metadata": {},
   "source": [
    "# distributions of positive and negative edgeswith dot product"
   ]
  },
  {
   "cell_type": "code",
   "execution_count": 4,
   "id": "7812b391",
   "metadata": {},
   "outputs": [],
   "source": [
    "def get_roc_score(df):\n",
    "    from sklearn.metrics import roc_auc_score\n",
    "    y_pred = np.concatenate((df.positive_dot.values, df.negative_dot.values))\n",
    "    y_true = np.concatenate((np.ones_like(df.positive_dot.values), np.zeros_like(df.negative_dot.values)))\n",
    "    return roc_auc_score(y_true, y_pred)\n",
    "\n"
   ]
  },
  {
   "cell_type": "code",
   "execution_count": 5,
   "id": "9d6ac948",
   "metadata": {},
   "outputs": [],
   "source": [
    "def plot_dot_(df, title):\n",
    "#     df = pd.DataFrame({\n",
    "#         \"positive_dot\": np.array([np.dot(a[i], p[i]) for i in trange(a.shape[0])]),\n",
    "#         \"negative_dot\": np.array([np.dot(a[i], n[i]) for i in trange(a.shape[0])])\n",
    "#     })\n",
    "    \n",
    "#     fig, ax = plt.subplots(1,1)\n",
    "    df.positive_dot.plot(kind='density', title=title)\n",
    "    df.negative_dot.plot(kind='density', title=title)\n",
    "#     ax.set_xlim(-1000, 1000)\n",
    "    ax.legend(['positive_neighbors', 'negative_neighbors'])\n",
    "#     fig.show()"
   ]
  },
  {
   "cell_type": "code",
   "execution_count": 6,
   "id": "4d2aa15f",
   "metadata": {},
   "outputs": [],
   "source": [
    "FILE_CACHE = {}\n",
    "def create_dot_df(A, file=TEST_ADJ_FILE):\n",
    "    \"\"\"\n",
    "    A are node embeddings of shape # nodes \\times 128\n",
    "    \"\"\"\n",
    "    EDGE_IDX = snakemake_utils.get_edge_index_from_sparse_path(file)\n",
    "    if file in FILE_CACHE:\n",
    "        NEGATIVE_EDGE_IDX, EDGE_IDX = FILE_CACHE[file]\n",
    "    else:\n",
    "        NEGATIVE_EDGE_IDX, EDGE_IDX = graph_utils._negative_sampling_sparse(edge_index=EDGE_IDX, n_nodes=NUM_NODES, return_pos_samples=True)\n",
    "        FILE_CACHE[file] = (NEGATIVE_EDGE_IDX, EDGE_IDX)\n",
    "    print(\"selected edge_idx size: {}\".format(EDGE_IDX.size(1)))\n",
    "\n",
    "    positive_dot = np.sum(A[EDGE_IDX[0,:]] * A[EDGE_IDX[1,:]], axis=1)\n",
    "    negative_dot = np.sum(A[NEGATIVE_EDGE_IDX[0,:]] * A[NEGATIVE_EDGE_IDX[1,:]], axis=1)\n",
    "    dot = pd.DataFrame()\n",
    "    dot[\"positive_dot\"] = positive_dot\n",
    "    dot[\"negative_dot\"] = negative_dot\n",
    "    \n",
    "    return dot"
   ]
  },
  {
   "cell_type": "markdown",
   "id": "92c30003",
   "metadata": {},
   "source": [
    "# word2vec baseline"
   ]
  },
  {
   "cell_type": "code",
   "execution_count": 7,
   "id": "0341e2b1",
   "metadata": {},
   "outputs": [],
   "source": [
    "# model = \"word2vec_baseline\"\n",
    "# embs[model] = np.load(DATA_ROOT + DIRS[0] + DATASET + '_word2vec_node2vec_embs.npy')\n",
    "# A = embs[model]\n",
    "# A.shape"
   ]
  },
  {
   "cell_type": "code",
   "execution_count": 8,
   "id": "711b4022",
   "metadata": {},
   "outputs": [],
   "source": [
    "# # plot density\n",
    "# dot = create_dot_df(A)\n",
    "# fig, ax = plt.subplots(1,1)\n",
    "\n",
    "# plot_dot_(dot, title=model + '_dot_density')\n",
    "# # ax.set_xlim(-750, 750)\n",
    "# ax.legend(['positive_neighbors', 'negative_neighbors'])\n",
    "# fig.show()"
   ]
  },
  {
   "cell_type": "code",
   "execution_count": 9,
   "id": "e5d52b40",
   "metadata": {},
   "outputs": [],
   "source": [
    "# # # create edge_list\n",
    "# batch_size = 2000\n",
    "\n",
    "# edges = snakemake_utils.return_new_graph(A, k, )\n",
    "# gini_score[model] = statistical_parity(edges, y, metric='gini')\n",
    "# sp_score[model] = statistical_parity(edges, y, )\n",
    "\n",
    "# roc_score[model] = get_roc_score(dot)\n",
    "# edges.shape, sp_score[model], roc_score[model], gini_score[model]"
   ]
  },
  {
   "cell_type": "markdown",
   "id": "f7d4f7d9",
   "metadata": {},
   "source": [
    "# word2vec crosswalk"
   ]
  },
  {
   "cell_type": "code",
   "execution_count": 10,
   "id": "3a495c8f",
   "metadata": {},
   "outputs": [],
   "source": [
    "# model = \"word2vec_baseline_crosswalk\"\n",
    "# embs[model] = np.load(DATA_ROOT + DIRS[0] + DATASET + '_crosswalk_word2vec_node2vec_embs.npy')\n",
    "# A = embs[model]\n",
    "# A.shape\n"
   ]
  },
  {
   "cell_type": "code",
   "execution_count": 11,
   "id": "0a9a348a",
   "metadata": {},
   "outputs": [],
   "source": [
    "# # plot density\n",
    "# dot = create_dot_df(A)\n",
    "# fig, ax = plt.subplots(1,1)\n",
    "\n",
    "# plot_dot_(dot, title=model + '_dot_density')\n",
    "# # ax.set_xlim(-750, 750)\n",
    "# ax.legend(['positive_neighbors', 'negative_neighbors'])\n",
    "# fig.show()"
   ]
  },
  {
   "cell_type": "code",
   "execution_count": 12,
   "id": "5b7bac45",
   "metadata": {},
   "outputs": [],
   "source": [
    "# # # create edge_list\n",
    "# batch_size = 2000\n",
    "\n",
    "# edges = snakemake_utils.return_new_graph(A, k, )\n",
    "# gini_score[model] = statistical_parity(edges, y, metric='gini')\n",
    "# sp_score[model] = statistical_parity(edges, y, )\n",
    "\n",
    "# roc_score[model] = get_roc_score(dot)\n",
    "# edges.shape, sp_score[model], roc_score[model], gini_score[model]"
   ]
  },
  {
   "cell_type": "markdown",
   "id": "c1d465b7",
   "metadata": {},
   "source": [
    "# word2vec r2v"
   ]
  },
  {
   "cell_type": "code",
   "execution_count": 13,
   "id": "3baf7c19",
   "metadata": {},
   "outputs": [],
   "source": [
    "# model = \"word2vec_r2v\"\n",
    "# embs[model] = np.load(DATA_ROOT + DIRS[0] + DATASET  + '_word2vec_r2v_node2vec_embs.npy')\n",
    "# A = embs[model]\n",
    "# A.shape"
   ]
  },
  {
   "cell_type": "code",
   "execution_count": 14,
   "id": "4319c3d0",
   "metadata": {},
   "outputs": [],
   "source": [
    "# # plot density\n",
    "# dot = create_dot_df(A)\n",
    "# fig, ax = plt.subplots(1,1)\n",
    "\n",
    "# plot_dot_(dot, title=model + '_dot_density')\n",
    "# # ax.set_xlim(-750, 750)\n",
    "# ax.legend(['positive_neighbors', 'negative_neighbors'])\n",
    "# fig.show()"
   ]
  },
  {
   "cell_type": "code",
   "execution_count": 15,
   "id": "74798298",
   "metadata": {},
   "outputs": [],
   "source": [
    "# # # create edge_list\n",
    "# batch_size = 2000\n",
    "\n",
    "# edges = snakemake_utils.return_new_graph(A, k, )\n",
    "# gini_score[model] = statistical_parity(edges, y, metric='gini')\n",
    "# sp_score[model] = statistical_parity(edges, y, )\n",
    "\n",
    "# roc_score[model] = get_roc_score(dot)\n",
    "# edges.shape, sp_score[model], roc_score[model], gini_score[model]"
   ]
  },
  {
   "cell_type": "markdown",
   "id": "337a1b38",
   "metadata": {},
   "source": [
    "# word2vec r2v crosswalk"
   ]
  },
  {
   "cell_type": "code",
   "execution_count": 16,
   "id": "83a9bcd9",
   "metadata": {},
   "outputs": [],
   "source": [
    "# model = \"word2vec_r2v_crosswalk\"\n",
    "# embs[model] = np.load(DATA_ROOT + DIRS[0] + DATASET + '_crosswalk_word2vec_r2v_node2vec_embs.npy')\n",
    "# A = embs[model]\n",
    "\n",
    "# A.shape"
   ]
  },
  {
   "cell_type": "code",
   "execution_count": 17,
   "id": "57106e79",
   "metadata": {},
   "outputs": [],
   "source": [
    "# # plot density\n",
    "# dot = create_dot_df(A)\n",
    "# fig, ax = plt.subplots(1,1)\n",
    "\n",
    "# plot_dot_(dot, title=model + '_dot_density')\n",
    "# # ax.set_xlim(-750, 750)\n",
    "# ax.legend(['positive_neighbors', 'negative_neighbors'])\n",
    "# fig.show()"
   ]
  },
  {
   "cell_type": "code",
   "execution_count": 18,
   "id": "9bc93e35",
   "metadata": {},
   "outputs": [],
   "source": [
    "# # # create edge_list\n",
    "# batch_size = 2000\n",
    "\n",
    "# edges = snakemake_utils.return_new_graph(A, k, )\n",
    "# gini_score[model] = statistical_parity(edges, y, metric='gini')\n",
    "# sp_score[model] = statistical_parity(edges, y, )\n",
    "\n",
    "# roc_score[model] = get_roc_score(dot)\n",
    "# edges.shape, sp_score[model], roc_score[model], gini_score[model]"
   ]
  },
  {
   "cell_type": "markdown",
   "id": "af12f580",
   "metadata": {},
   "source": [
    "# GCN ( baseline)"
   ]
  },
  {
   "cell_type": "code",
   "execution_count": 19,
   "id": "859d0533",
   "metadata": {
    "scrolled": true
   },
   "outputs": [],
   "source": [
    "# model = \"GCN_baseline\"\n",
    "# embs[model] = np.load(DATA_ROOT + DIRS[0] + DATASET + '_gcn_node2vec_embs.npy')\n",
    "# A = embs[model]\n",
    "# A.shape"
   ]
  },
  {
   "cell_type": "code",
   "execution_count": 20,
   "id": "0e2af395",
   "metadata": {},
   "outputs": [],
   "source": [
    "# # plot density\n",
    "# dot = create_dot_df(A)\n",
    "# fig, ax = plt.subplots(1,1)\n",
    "\n",
    "# plot_dot_(dot, title=model + '_dot_density')\n",
    "# # ax.set_xlim(-750, 750)\n",
    "# ax.legend(['positive_neighbors', 'negative_neighbors'])\n",
    "# fig.show()"
   ]
  },
  {
   "cell_type": "code",
   "execution_count": 21,
   "id": "8030cd4e",
   "metadata": {},
   "outputs": [],
   "source": [
    "# # # create edge_list\n",
    "# batch_size = 2000\n",
    "\n",
    "# edges = snakemake_utils.return_new_graph(A, k, )\n",
    "# gini_score[model] = statistical_parity(edges, y, metric='gini')\n",
    "# sp_score[model] = statistical_parity(edges, y, )\n",
    "\n",
    "# roc_score[model] = get_roc_score(dot)\n",
    "# edges.shape, sp_score[model], roc_score[model], gini_score[model]"
   ]
  },
  {
   "cell_type": "markdown",
   "id": "1b2cb32a",
   "metadata": {},
   "source": [
    "# GCN ( baseline + crosswalk)"
   ]
  },
  {
   "cell_type": "code",
   "execution_count": 22,
   "id": "8ed8a9eb",
   "metadata": {
    "scrolled": true
   },
   "outputs": [],
   "source": [
    "# model = \"GCN_baseline_crosswalk\"\n",
    "# embs[model] = np.load(DATA_ROOT + DIRS[0] + DATASET + '_crosswalk_gcn_node2vec_embs.npy')\n",
    "# A = embs[model]\n",
    "# A.shape\n"
   ]
  },
  {
   "cell_type": "code",
   "execution_count": 23,
   "id": "b21db5c5",
   "metadata": {},
   "outputs": [],
   "source": [
    "# # plot density\n",
    "# dot = create_dot_df(A)\n",
    "# fig, ax = plt.subplots(1,1)\n",
    "\n",
    "# plot_dot_(dot, title=model + '_dot_density')\n",
    "# # ax.set_xlim(-750, 750)\n",
    "# ax.legend(['positive_neighbors', 'negative_neighbors'])\n",
    "# fig.show()"
   ]
  },
  {
   "cell_type": "code",
   "execution_count": 24,
   "id": "673fa04c",
   "metadata": {},
   "outputs": [],
   "source": [
    "# # # create edge_list\n",
    "# batch_size = 2000\n",
    "\n",
    "# edges = snakemake_utils.return_new_graph(A, k, )\n",
    "# gini_score[model] = statistical_parity(edges, y, metric='gini')\n",
    "# sp_score[model] = statistical_parity(edges, y, )\n",
    "\n",
    "# roc_score[model] = get_roc_score(dot)\n",
    "# edges.shape, sp_score[model], roc_score[model], gini_score[model]"
   ]
  },
  {
   "cell_type": "markdown",
   "id": "a0e1719e",
   "metadata": {},
   "source": [
    "# GCN ( r2v)"
   ]
  },
  {
   "cell_type": "code",
   "execution_count": 25,
   "id": "4906ab15",
   "metadata": {
    "scrolled": true
   },
   "outputs": [],
   "source": [
    "# model = \"GCN_r2v\"\n",
    "# embs[model] = np.load(DATA_ROOT + DIRS[0] + DATASET  + '_gcn_r2v_node2vec_embs.npy')\n",
    "# A = embs[model]\n",
    "# A.shape"
   ]
  },
  {
   "cell_type": "code",
   "execution_count": 26,
   "id": "d45b07e9",
   "metadata": {},
   "outputs": [],
   "source": [
    "# # plot density\n",
    "# dot = create_dot_df(A)\n",
    "# fig, ax = plt.subplots(1,1)\n",
    "\n",
    "# plot_dot_(dot, title=model + '_dot_density')\n",
    "# # ax.set_xlim(-750, 750)\n",
    "# ax.legend(['positive_neighbors', 'negative_neighbors'])\n",
    "# fig.show()"
   ]
  },
  {
   "cell_type": "code",
   "execution_count": 27,
   "id": "c24cedbe",
   "metadata": {},
   "outputs": [],
   "source": [
    "# # # create edge_list\n",
    "# batch_size = 2000\n",
    "\n",
    "# edges = snakemake_utils.return_new_graph(A, k, )\n",
    "# gini_score[model] = statistical_parity(edges, y, metric='gini')\n",
    "# sp_score[model] = statistical_parity(edges, y, )\n",
    "\n",
    "# roc_score[model] = get_roc_score(dot)\n",
    "# edges.shape, sp_score[model], roc_score[model], gini_score[model]"
   ]
  },
  {
   "cell_type": "markdown",
   "id": "ae43172d",
   "metadata": {},
   "source": [
    "# GCN ( r2v + crosswalk)"
   ]
  },
  {
   "cell_type": "code",
   "execution_count": 28,
   "id": "5455bde3",
   "metadata": {
    "scrolled": true
   },
   "outputs": [],
   "source": [
    "# model = \"GCN_r2v_crosswalk\"\n",
    "# embs[model] = np.load(DATA_ROOT + DIRS[0] + DATASET + '_crosswalk_gcn_r2v_node2vec_embs.npy')\n",
    "# A = embs[model]\n",
    "\n",
    "# A.shape"
   ]
  },
  {
   "cell_type": "code",
   "execution_count": 29,
   "id": "9400cd57",
   "metadata": {},
   "outputs": [],
   "source": [
    "# # plot density\n",
    "# dot = create_dot_df(A)\n",
    "# fig, ax = plt.subplots(1,1)\n",
    "\n",
    "# plot_dot_(dot, title=model + '_dot_density')\n",
    "# # ax.set_xlim(-750, 750)\n",
    "# ax.legend(['positive_neighbors', 'negative_neighbors'])\n",
    "# fig.show()"
   ]
  },
  {
   "cell_type": "code",
   "execution_count": 30,
   "id": "3680c8b4",
   "metadata": {},
   "outputs": [],
   "source": [
    "# # # create edge_list\n",
    "# batch_size = 2000\n",
    "\n",
    "# edges = snakemake_utils.return_new_graph(A, k, )\n",
    "# gini_score[model] = statistical_parity(edges, y, metric='gini')\n",
    "# sp_score[model] = statistical_parity(edges, y, )\n",
    "\n",
    "# roc_score[model] = get_roc_score(dot)\n",
    "# edges.shape, sp_score[model], roc_score[model], gini_score[model]"
   ]
  },
  {
   "cell_type": "markdown",
   "id": "1d2e41d5",
   "metadata": {},
   "source": [
    "# GAT ( baseline)"
   ]
  },
  {
   "cell_type": "code",
   "execution_count": 31,
   "id": "f57fe26a",
   "metadata": {
    "scrolled": true
   },
   "outputs": [],
   "source": [
    "# model = \"GAT_baseline\"\n",
    "# embs[model] = np.load(DATA_ROOT + DIRS[0] + DATASET + '_gat_node2vec_embs.npy')\n",
    "# A = embs[model]\n",
    "\n",
    "# A.shape"
   ]
  },
  {
   "cell_type": "code",
   "execution_count": 32,
   "id": "232d338b",
   "metadata": {},
   "outputs": [],
   "source": [
    "# # plot density\n",
    "# dot = create_dot_df(A)\n",
    "# fig, ax = plt.subplots(1,1)\n",
    "\n",
    "# plot_dot_(dot, title=model + '_dot_density')\n",
    "# # ax.set_xlim(-750, 750)\n",
    "# ax.legend(['positive_neighbors', 'negative_neighbors'])\n",
    "# fig.show()"
   ]
  },
  {
   "cell_type": "code",
   "execution_count": 33,
   "id": "ba9721ad",
   "metadata": {},
   "outputs": [],
   "source": [
    "# # # create edge_list\n",
    "# batch_size = 2000\n",
    "\n",
    "# edges = snakemake_utils.return_new_graph(A, k, )\n",
    "# gini_score[model] = statistical_parity(edges, y, metric='gini')\n",
    "# sp_score[model] = statistical_parity(edges, y, )\n",
    "\n",
    "# roc_score[model] = get_roc_score(dot)\n",
    "# edges.shape, sp_score[model], roc_score[model], gini_score[model]"
   ]
  },
  {
   "cell_type": "markdown",
   "id": "5437c93e",
   "metadata": {},
   "source": [
    "# GAT ( baseline + crosswalk)"
   ]
  },
  {
   "cell_type": "code",
   "execution_count": 34,
   "id": "7e167c94",
   "metadata": {
    "scrolled": true
   },
   "outputs": [],
   "source": [
    "# model = \"GAT_baseline_crosswalk\"\n",
    "# embs[model] = np.load(DATA_ROOT + DIRS[0] + DATASET + '_crosswalk_gat_node2vec_embs.npy')\n",
    "# A = embs[model]\n",
    "# A.shape"
   ]
  },
  {
   "cell_type": "code",
   "execution_count": 35,
   "id": "52491479",
   "metadata": {},
   "outputs": [],
   "source": [
    "# # plot density\n",
    "# dot = create_dot_df(A)\n",
    "# fig, ax = plt.subplots(1,1)\n",
    "\n",
    "# plot_dot_(dot, title=model + '_dot_density')\n",
    "# # ax.set_xlim(-750, 750)\n",
    "# ax.legend(['positive_neighbors', 'negative_neighbors'])\n",
    "# fig.show()"
   ]
  },
  {
   "cell_type": "code",
   "execution_count": 36,
   "id": "eca56a92",
   "metadata": {},
   "outputs": [],
   "source": [
    "# # # create edge_list\n",
    "# batch_size = 2000\n",
    "\n",
    "# edges = snakemake_utils.return_new_graph(A, k, )\n",
    "# gini_score[model] = statistical_parity(edges, y, metric='gini')\n",
    "# sp_score[model] = statistical_parity(edges, y, )\n",
    "\n",
    "# roc_score[model] = get_roc_score(dot)\n",
    "# edges.shape, sp_score[model], roc_score[model], gini_score[model]"
   ]
  },
  {
   "cell_type": "markdown",
   "id": "d2428b6f",
   "metadata": {},
   "source": [
    "# GAT ( r2v)"
   ]
  },
  {
   "cell_type": "code",
   "execution_count": 37,
   "id": "40395e3e",
   "metadata": {
    "scrolled": true
   },
   "outputs": [],
   "source": [
    "# model = \"GAT_r2v\"\n",
    "# embs[model] = np.load(DATA_ROOT + DIRS[0] + DATASET + '_gat_r2v_node2vec_embs.npy')\n",
    "# A = embs[model]\n",
    "# A.shape"
   ]
  },
  {
   "cell_type": "code",
   "execution_count": 38,
   "id": "7ef41872",
   "metadata": {},
   "outputs": [],
   "source": [
    "# # plot density\n",
    "# dot = create_dot_df(A)\n",
    "# fig, ax = plt.subplots(1,1)\n",
    "\n",
    "# plot_dot_(dot, title=model + '_dot_density')\n",
    "# # ax.set_xlim(-750, 750)\n",
    "# ax.legend(['positive_neighbors', 'negative_neighbors'])\n",
    "# fig.show()"
   ]
  },
  {
   "cell_type": "code",
   "execution_count": 39,
   "id": "e447f9b3",
   "metadata": {},
   "outputs": [],
   "source": [
    "# # # create edge_list\n",
    "# batch_size = 2000\n",
    "\n",
    "# edges = snakemake_utils.return_new_graph(A, k, )\n",
    "# gini_score[model] = statistical_parity(edges, y, metric='gini')\n",
    "# sp_score[model] = statistical_parity(edges, y, )\n",
    "\n",
    "# roc_score[model] = get_roc_score(dot)\n",
    "# edges.shape, sp_score[model], roc_score[model], gini_score[model]"
   ]
  },
  {
   "cell_type": "markdown",
   "id": "878b8f13",
   "metadata": {},
   "source": [
    "# GAT ( r2v + crosswalk)"
   ]
  },
  {
   "cell_type": "code",
   "execution_count": 40,
   "id": "b645c156",
   "metadata": {
    "scrolled": true
   },
   "outputs": [],
   "source": [
    "# model = \"GAT_r2v_crosswalk\"\n",
    "# embs[model] = np.load(DATA_ROOT + DIRS[0] + DATASET + '_crosswalk_gat_r2v_node2vec_embs.npy')\n",
    "# A = embs[model]\n",
    "# A.shape"
   ]
  },
  {
   "cell_type": "code",
   "execution_count": 41,
   "id": "63486625",
   "metadata": {},
   "outputs": [],
   "source": [
    "# # plot density\n",
    "# dot = create_dot_df(A)\n",
    "# fig, ax = plt.subplots(1,1)\n",
    "\n",
    "# plot_dot_(dot, title=model + '_dot_density')\n",
    "# # ax.set_xlim(-750, 750)\n",
    "# ax.legend(['positive_neighbors', 'negative_neighbors'])\n",
    "# fig.show()"
   ]
  },
  {
   "cell_type": "code",
   "execution_count": 42,
   "id": "72cd9466",
   "metadata": {},
   "outputs": [],
   "source": [
    "# # # create edge_list\n",
    "# batch_size = 2000\n",
    "\n",
    "# edges = snakemake_utils.return_new_graph(A, k, )\n",
    "# gini_score[model] = statistical_parity(edges, y, metric='gini')\n",
    "# sp_score[model] = statistical_parity(edges, y, )\n",
    "\n",
    "# roc_score[model] = get_roc_score(dot)\n",
    "# edges.shape, sp_score[model], roc_score[model], gini_score[model]"
   ]
  },
  {
   "cell_type": "markdown",
   "id": "ebbb980e",
   "metadata": {},
   "source": [
    "# plot statistical parity scores"
   ]
  },
  {
   "cell_type": "markdown",
   "id": "f5b36fa7",
   "metadata": {},
   "source": [
    "# gini sp scores"
   ]
  },
  {
   "cell_type": "code",
   "execution_count": 43,
   "id": "bae3de0e",
   "metadata": {},
   "outputs": [],
   "source": [
    "\n",
    "# for i, j in gini_score.items(): print(i, j)\n",
    "# sns.set(rc = {'figure.figsize':(15,8)})\n",
    "# ax = sns.barplot(x=list(gini_score.keys()), y=list(gini_score.values()))\n",
    "# ax.set_ylim(min(gini_score.values()) * .9 , max(gini_score.values()) * 1.1)\n",
    "# ax.set_xticklabels(ax.get_xticklabels(),rotation = 45)\n",
    "# ax.set_title(\"gini statistical parity scores\")"
   ]
  },
  {
   "cell_type": "markdown",
   "id": "2c76a2d5",
   "metadata": {},
   "source": [
    "# sp scores"
   ]
  },
  {
   "cell_type": "code",
   "execution_count": 44,
   "id": "22b6746a",
   "metadata": {},
   "outputs": [],
   "source": [
    "\n",
    "# for i, j in sp_score.items(): print(i, j)\n",
    "# sns.set(rc = {'figure.figsize':(15,8)})\n",
    "# ax = sns.barplot(x=list(sp_score.keys()), y=list(sp_score.values()))\n",
    "# ax.set_ylim(min(sp_score.values()) * .9, max(sp_score.values()) * 1.1)\n",
    "# ax.set_xticklabels(ax.get_xticklabels(),rotation = 45)\n",
    "# ax.set_title(\"statistical parity scores\")"
   ]
  },
  {
   "cell_type": "markdown",
   "id": "37f5da17",
   "metadata": {},
   "source": [
    "# roc auc scores"
   ]
  },
  {
   "cell_type": "code",
   "execution_count": 45,
   "id": "77ca7a10",
   "metadata": {},
   "outputs": [],
   "source": [
    "\n",
    "# for i, j in roc_score.items(): print(i, j)\n",
    "# sns.set(rc = {'figure.figsize':(15,8)})\n",
    "# ax = sns.barplot(x=list(roc_score.keys()), y=list(roc_score.values()))\n",
    "# ax.set_ylim(min(roc_score.values()) * .9, max(roc_score.values()) * 1.1)\n",
    "# ax.set_xticklabels(ax.get_xticklabels(),rotation = 45)\n",
    "# ax.set_title(\"roc scores\")"
   ]
  },
  {
   "cell_type": "code",
   "execution_count": 46,
   "id": "e4cc7f98",
   "metadata": {},
   "outputs": [],
   "source": [
    "\n",
    "# N = 20\n",
    "\n",
    "# sp_scores, gini_scores = np.zeros((N, len(M))), np.zeros((N, len(M)))\n",
    "# for k in range(N):\n",
    "#     for idx, m in enumerate(M):\n",
    "#         if k == 0: continue\n",
    "#         batch_size =  2000\n",
    "#         A = embs[m]\n",
    "#         edges = snakemake_utils.return_new_graph(A, k, )\n",
    "        \n",
    "    \n",
    "#         gini_scores[k, idx] = statistical_parity(edges, y, metric='gini')\n",
    "#         sp_scores[k, idx] = statistical_parity(edges, y, )\n"
   ]
  },
  {
   "cell_type": "code",
   "execution_count": 47,
   "id": "fb97b479",
   "metadata": {},
   "outputs": [],
   "source": [
    "# for i in range(len(M)):\n",
    "#     plt.plot(gini_scores[:, i], label=M[i])\n",
    "# plt.legend(loc=\"upper right\")\n",
    "# plt.title(\"gini scores vs # nn\")"
   ]
  },
  {
   "cell_type": "code",
   "execution_count": 48,
   "id": "31dfe38f",
   "metadata": {},
   "outputs": [],
   "source": [
    "# for i in range(len(M)):\n",
    "#     plt.plot(sp_scores[:, i], label=M[i])\n",
    "# plt.legend(loc=\"upper right\")\n",
    "\n",
    "# plt.title(\"sp scores vs # nn\")"
   ]
  },
  {
   "cell_type": "markdown",
   "id": "357539db",
   "metadata": {},
   "source": [
    "# combine all different runs"
   ]
  },
  {
   "cell_type": "code",
   "execution_count": 49,
   "id": "8ef5d890",
   "metadata": {},
   "outputs": [],
   "source": [
    "MODEL_NAME_2_FILE = {\n",
    "    \"GCN_baseline\": \"_gcn_node2vec_embs.npy\",\n",
    "    \"GCN_baseline_crosswalk\": \"_crosswalk_gcn_node2vec_embs.npy\",\n",
    "    \"GCN_r2v\": \"_gcn_r2v_node2vec_embs.npy\",\n",
    "    \"GCN_r2v_crosswalk\": '_crosswalk_gcn_r2v_node2vec_embs.npy',\n",
    "    \"GAT_baseline\": '_gat_node2vec_embs.npy',\n",
    "    \"GAT_baseline_crosswalk\": \"_crosswalk_gat_node2vec_embs.npy\",\n",
    "    \"GAT_r2v\": \"_gat_r2v_node2vec_embs.npy\",\n",
    "    \"GAT_r2v_crosswalk\": \"_crosswalk_gat_r2v_node2vec_embs.npy\",\n",
    "    \"WORD2VEC_baseline\": '_word2vec_node2vec_embs.npy',\n",
    "    \"WORD2VEC_baseline_crosswalk\": \"_crosswalk_word2vec_node2vec_embs.npy\",\n",
    "    \"WORD2VEC_r2v\": \"_word2vec_r2v_node2vec_embs.npy\",\n",
    "    \"WORD2VEC_r2v_crosswalk\": \"_crosswalk_word2vec_r2v_node2vec_embs.npy\"\n",
    "}\n",
    "def roc_scores(model_name):\n",
    "    scores = np.zeros(len(DIRS))\n",
    "    for idx, d in enumerate(DIRS):\n",
    "        A = np.load(DATA_ROOT + d + DATASET + MODEL_NAME_2_FILE[model_name])\n",
    "        file = DATA_ROOT + d + DATASET + '_test_adj.npz'\n",
    "        dot = create_dot_df(A, file)\n",
    "        scores[idx] = get_roc_score(dot)\n",
    "    return scores\n",
    "\n",
    "\n",
    "def statisticalp_scores(model_name, K=5):\n",
    "    scores, scores_gini = np.zeros(len(DIRS)), np.zeros(len(DIRS))\n",
    "    for idx, d in enumerate(DIRS):\n",
    "        A = np.load(DATA_ROOT + d + DATASET + MODEL_NAME_2_FILE[model_name])\n",
    "        edges = snakemake_utils.return_new_graph(A, K)\n",
    "        scores_gini[idx] = statistical_parity(edges, y, metric='gini')\n",
    "        \n",
    "        scores[idx] = statistical_parity(edges, y, )\n",
    "    return scores, scores_gini"
   ]
  },
  {
   "cell_type": "code",
   "execution_count": 50,
   "id": "229b6d10",
   "metadata": {},
   "outputs": [
    {
     "name": "stdout",
     "output_type": "stream",
     "text": [
      "selected edge_idx size: 8615426\n",
      "selected edge_idx size: 8612723\n",
      "selected edge_idx size: 8616418\n",
      "selected edge_idx size: 8613419\n",
      "selected edge_idx size: 8613987\n",
      "selected edge_idx size: 8615426\n",
      "selected edge_idx size: 8612723\n",
      "selected edge_idx size: 8616418\n",
      "selected edge_idx size: 8613419\n",
      "selected edge_idx size: 8613987\n",
      "selected edge_idx size: 8615426\n",
      "selected edge_idx size: 8612723\n",
      "selected edge_idx size: 8616418\n",
      "selected edge_idx size: 8613419\n",
      "selected edge_idx size: 8613987\n",
      "selected edge_idx size: 8615426\n",
      "selected edge_idx size: 8612723\n",
      "selected edge_idx size: 8616418\n",
      "selected edge_idx size: 8613419\n",
      "selected edge_idx size: 8613987\n",
      "selected edge_idx size: 8615426\n",
      "selected edge_idx size: 8612723\n",
      "selected edge_idx size: 8616418\n",
      "selected edge_idx size: 8613419\n",
      "selected edge_idx size: 8613987\n",
      "selected edge_idx size: 8615426\n",
      "selected edge_idx size: 8612723\n",
      "selected edge_idx size: 8616418\n",
      "selected edge_idx size: 8613419\n",
      "selected edge_idx size: 8613987\n",
      "selected edge_idx size: 8615426\n",
      "selected edge_idx size: 8612723\n",
      "selected edge_idx size: 8616418\n",
      "selected edge_idx size: 8613419\n",
      "selected edge_idx size: 8613987\n",
      "selected edge_idx size: 8615426\n",
      "selected edge_idx size: 8612723\n",
      "selected edge_idx size: 8616418\n",
      "selected edge_idx size: 8613419\n",
      "selected edge_idx size: 8613987\n",
      "selected edge_idx size: 8615426\n",
      "selected edge_idx size: 8612723\n",
      "selected edge_idx size: 8616418\n",
      "selected edge_idx size: 8613419\n",
      "selected edge_idx size: 8613987\n",
      "selected edge_idx size: 8615426\n",
      "selected edge_idx size: 8612723\n",
      "selected edge_idx size: 8616418\n",
      "selected edge_idx size: 8613419\n",
      "selected edge_idx size: 8613987\n",
      "selected edge_idx size: 8615426\n",
      "selected edge_idx size: 8612723\n",
      "selected edge_idx size: 8616418\n",
      "selected edge_idx size: 8613419\n",
      "selected edge_idx size: 8613987\n",
      "selected edge_idx size: 8615426\n",
      "selected edge_idx size: 8612723\n",
      "selected edge_idx size: 8616418\n",
      "selected edge_idx size: 8613419\n",
      "selected edge_idx size: 8613987\n",
      "GCN_baseline 0.8459087504269336\n",
      "GCN_baseline_crosswalk 0.952164693084179\n",
      "GCN_r2v 0.725091755621867\n",
      "GCN_r2v_crosswalk 0.9580016270439258\n",
      "GAT_baseline 0.7810554534623338\n",
      "GAT_baseline_crosswalk 0.9267785778051898\n",
      "GAT_r2v 0.7707001281897646\n",
      "GAT_r2v_crosswalk 0.9450421514054639\n",
      "WORD2VEC_baseline 0.6028910174422826\n",
      "WORD2VEC_baseline_crosswalk 0.8100723780133056\n",
      "WORD2VEC_r2v 0.6080902302718063\n",
      "WORD2VEC_r2v_crosswalk 0.811076218956269\n"
     ]
    },
    {
     "data": {
      "text/plain": [
       "Text(0.5, 1.0, 'roc scores')"
      ]
     },
     "execution_count": 50,
     "metadata": {},
     "output_type": "execute_result"
    },
    {
     "data": {
      "image/png": "[encoded data removed]",
      "text/plain": [
       "<Figure size 432x288 with 1 Axes>"
      ]
     },
     "metadata": {
      "needs_background": "light"
     },
     "output_type": "display_data"
    }
   ],
   "source": [
    "\n",
    "roc_score = {m: np.mean(roc_scores(m)) for m in MODEL_NAME_2_FILE}\n",
    "\n",
    "for i, j in roc_score.items(): print(i, j)\n",
    "sns.set(rc = {'figure.figsize':(15,8)})\n",
    "ax = sns.barplot(x=list(roc_score.keys()), y=list(roc_score.values()))\n",
    "ax.set_ylim(min(roc_score.values()) * .9, max(roc_score.values()) * 1.1)\n",
    "ax.set_xticklabels(ax.get_xticklabels(),rotation = 45)\n",
    "ax.set_title(\"roc scores\")"
   ]
  },
  {
   "cell_type": "code",
   "execution_count": 51,
   "id": "1f3cba0c",
   "metadata": {},
   "outputs": [
    {
     "name": "stderr",
     "output_type": "stream",
     "text": [
      "100%|██████████████████████████████████████████████████████████████████████████████████████████████████████████████████████| 203/203 [00:00<00:00, 235.41it/s]\n",
      "100%|██████████████████████████████████████████████████████████████████████████████████████████████████████████████████████| 203/203 [00:00<00:00, 276.31it/s]\n",
      "100%|██████████████████████████████████████████████████████████████████████████████████████████████████████████████████████| 203/203 [00:00<00:00, 284.49it/s]\n",
      "100%|██████████████████████████████████████████████████████████████████████████████████████████████████████████████████████| 203/203 [00:00<00:00, 275.69it/s]\n",
      "100%|██████████████████████████████████████████████████████████████████████████████████████████████████████████████████████| 203/203 [00:00<00:00, 268.16it/s]\n",
      "100%|██████████████████████████████████████████████████████████████████████████████████████████████████████████████████████| 203/203 [00:00<00:00, 259.73it/s]\n",
      "100%|██████████████████████████████████████████████████████████████████████████████████████████████████████████████████████| 203/203 [00:00<00:00, 258.91it/s]\n",
      "100%|██████████████████████████████████████████████████████████████████████████████████████████████████████████████████████| 203/203 [00:00<00:00, 270.20it/s]\n",
      "100%|██████████████████████████████████████████████████████████████████████████████████████████████████████████████████████| 203/203 [00:00<00:00, 263.36it/s]\n",
      "100%|██████████████████████████████████████████████████████████████████████████████████████████████████████████████████████| 203/203 [00:00<00:00, 307.81it/s]\n",
      "100%|██████████████████████████████████████████████████████████████████████████████████████████████████████████████████████| 203/203 [00:00<00:00, 242.43it/s]\n",
      "100%|██████████████████████████████████████████████████████████████████████████████████████████████████████████████████████| 203/203 [00:00<00:00, 284.81it/s]\n",
      "100%|██████████████████████████████████████████████████████████████████████████████████████████████████████████████████████| 203/203 [00:00<00:00, 263.82it/s]\n",
      "100%|██████████████████████████████████████████████████████████████████████████████████████████████████████████████████████| 203/203 [00:00<00:00, 279.79it/s]\n",
      "100%|██████████████████████████████████████████████████████████████████████████████████████████████████████████████████████| 203/203 [00:00<00:00, 277.42it/s]\n",
      "100%|██████████████████████████████████████████████████████████████████████████████████████████████████████████████████████| 203/203 [00:00<00:00, 262.54it/s]\n",
      "100%|██████████████████████████████████████████████████████████████████████████████████████████████████████████████████████| 203/203 [00:00<00:00, 269.26it/s]\n",
      "100%|██████████████████████████████████████████████████████████████████████████████████████████████████████████████████████| 203/203 [00:00<00:00, 288.70it/s]\n",
      "100%|██████████████████████████████████████████████████████████████████████████████████████████████████████████████████████| 203/203 [00:00<00:00, 263.64it/s]\n",
      "100%|██████████████████████████████████████████████████████████████████████████████████████████████████████████████████████| 203/203 [00:00<00:00, 266.08it/s]\n",
      "100%|██████████████████████████████████████████████████████████████████████████████████████████████████████████████████████| 203/203 [00:00<00:00, 268.84it/s]\n",
      "100%|██████████████████████████████████████████████████████████████████████████████████████████████████████████████████████| 203/203 [00:00<00:00, 302.91it/s]\n",
      "100%|██████████████████████████████████████████████████████████████████████████████████████████████████████████████████████| 203/203 [00:00<00:00, 278.96it/s]\n",
      "100%|██████████████████████████████████████████████████████████████████████████████████████████████████████████████████████| 203/203 [00:00<00:00, 258.90it/s]\n",
      "100%|██████████████████████████████████████████████████████████████████████████████████████████████████████████████████████| 203/203 [00:00<00:00, 298.41it/s]\n",
      "100%|██████████████████████████████████████████████████████████████████████████████████████████████████████████████████████| 203/203 [00:00<00:00, 300.43it/s]\n",
      "100%|██████████████████████████████████████████████████████████████████████████████████████████████████████████████████████| 203/203 [00:00<00:00, 283.25it/s]\n",
      "100%|██████████████████████████████████████████████████████████████████████████████████████████████████████████████████████| 203/203 [00:00<00:00, 281.66it/s]\n",
      "100%|██████████████████████████████████████████████████████████████████████████████████████████████████████████████████████| 203/203 [00:00<00:00, 241.11it/s]\n",
      "100%|██████████████████████████████████████████████████████████████████████████████████████████████████████████████████████| 203/203 [00:00<00:00, 285.49it/s]\n",
      "100%|██████████████████████████████████████████████████████████████████████████████████████████████████████████████████████| 203/203 [00:00<00:00, 265.94it/s]\n",
      "100%|██████████████████████████████████████████████████████████████████████████████████████████████████████████████████████| 203/203 [00:00<00:00, 289.41it/s]\n",
      "100%|██████████████████████████████████████████████████████████████████████████████████████████████████████████████████████| 203/203 [00:00<00:00, 273.33it/s]\n",
      "100%|██████████████████████████████████████████████████████████████████████████████████████████████████████████████████████| 203/203 [00:00<00:00, 292.84it/s]\n",
      "100%|██████████████████████████████████████████████████████████████████████████████████████████████████████████████████████| 203/203 [00:00<00:00, 289.59it/s]\n",
      "100%|██████████████████████████████████████████████████████████████████████████████████████████████████████████████████████| 203/203 [00:00<00:00, 273.08it/s]\n",
      "100%|██████████████████████████████████████████████████████████████████████████████████████████████████████████████████████| 203/203 [00:00<00:00, 279.58it/s]\n",
      "100%|██████████████████████████████████████████████████████████████████████████████████████████████████████████████████████| 203/203 [00:00<00:00, 215.45it/s]\n",
      "100%|██████████████████████████████████████████████████████████████████████████████████████████████████████████████████████| 203/203 [00:00<00:00, 260.29it/s]\n",
      "100%|██████████████████████████████████████████████████████████████████████████████████████████████████████████████████████| 203/203 [00:00<00:00, 254.38it/s]\n",
      "100%|██████████████████████████████████████████████████████████████████████████████████████████████████████████████████████| 203/203 [00:00<00:00, 271.80it/s]\n",
      "100%|██████████████████████████████████████████████████████████████████████████████████████████████████████████████████████| 203/203 [00:00<00:00, 244.68it/s]\n",
      "100%|██████████████████████████████████████████████████████████████████████████████████████████████████████████████████████| 203/203 [00:00<00:00, 226.74it/s]\n",
      "100%|██████████████████████████████████████████████████████████████████████████████████████████████████████████████████████| 203/203 [00:00<00:00, 262.38it/s]\n",
      "100%|██████████████████████████████████████████████████████████████████████████████████████████████████████████████████████| 203/203 [00:00<00:00, 253.98it/s]\n",
      "100%|██████████████████████████████████████████████████████████████████████████████████████████████████████████████████████| 203/203 [00:00<00:00, 238.70it/s]\n",
      "100%|██████████████████████████████████████████████████████████████████████████████████████████████████████████████████████| 203/203 [00:00<00:00, 240.19it/s]\n",
      "100%|██████████████████████████████████████████████████████████████████████████████████████████████████████████████████████| 203/203 [00:00<00:00, 234.98it/s]\n",
      "100%|██████████████████████████████████████████████████████████████████████████████████████████████████████████████████████| 203/203 [00:00<00:00, 262.03it/s]\n",
      "100%|██████████████████████████████████████████████████████████████████████████████████████████████████████████████████████| 203/203 [00:00<00:00, 254.76it/s]\n",
      "100%|██████████████████████████████████████████████████████████████████████████████████████████████████████████████████████| 203/203 [00:00<00:00, 253.61it/s]\n"
     ]
    },
    {
     "name": "stderr",
     "output_type": "stream",
     "text": [
      "100%|██████████████████████████████████████████████████████████████████████████████████████████████████████████████████████| 203/203 [00:00<00:00, 260.41it/s]\n",
      "100%|██████████████████████████████████████████████████████████████████████████████████████████████████████████████████████| 203/203 [00:00<00:00, 257.73it/s]\n",
      "100%|██████████████████████████████████████████████████████████████████████████████████████████████████████████████████████| 203/203 [00:00<00:00, 255.51it/s]\n",
      "100%|██████████████████████████████████████████████████████████████████████████████████████████████████████████████████████| 203/203 [00:00<00:00, 289.72it/s]\n",
      "100%|██████████████████████████████████████████████████████████████████████████████████████████████████████████████████████| 203/203 [00:00<00:00, 237.83it/s]\n",
      "100%|██████████████████████████████████████████████████████████████████████████████████████████████████████████████████████| 203/203 [00:00<00:00, 241.52it/s]\n",
      "100%|██████████████████████████████████████████████████████████████████████████████████████████████████████████████████████| 203/203 [00:00<00:00, 240.63it/s]\n",
      "100%|██████████████████████████████████████████████████████████████████████████████████████████████████████████████████████| 203/203 [00:00<00:00, 264.06it/s]\n",
      "100%|██████████████████████████████████████████████████████████████████████████████████████████████████████████████████████| 203/203 [00:00<00:00, 265.22it/s]\n"
     ]
    },
    {
     "name": "stdout",
     "output_type": "stream",
     "text": [
      "GCN_baseline 3.0274412538937456e-06\n",
      "GCN_baseline_crosswalk 2.9662159314819634e-06\n",
      "GCN_r2v 3.028030982807899e-06\n",
      "GCN_r2v_crosswalk 3.004140036973121e-06\n",
      "GAT_baseline 3.0455931579764572e-06\n",
      "GAT_baseline_crosswalk 2.9759760425285605e-06\n",
      "GAT_r2v 2.953776262461362e-06\n",
      "GAT_r2v_crosswalk 2.9534009425956672e-06\n",
      "WORD2VEC_baseline 2.424428425111092e-06\n",
      "WORD2VEC_baseline_crosswalk 2.439490219662411e-06\n",
      "WORD2VEC_r2v 2.3954024956064504e-06\n",
      "WORD2VEC_r2v_crosswalk 2.4293668360678676e-06\n"
     ]
    },
    {
     "data": {
      "text/plain": [
       "Text(0.5, 1.0, 'statistical parity scores')"
      ]
     },
     "execution_count": 51,
     "metadata": {},
     "output_type": "execute_result"
    },
    {
     "data": {
      "image/png": "[encoded data removed]",
      "text/plain": [
       "<Figure size 1080x576 with 1 Axes>"
      ]
     },
     "metadata": {},
     "output_type": "display_data"
    }
   ],
   "source": [
    "\n",
    "temp = {m: statisticalp_scores(m) for m in MODEL_NAME_2_FILE}\n",
    "\n",
    "sp_score = {m: np.mean(v[0]) for m,v in temp.items()}\n",
    "for i, j in sp_score.items(): print(i, j)\n",
    "sns.set(rc = {'figure.figsize':(15,8)})\n",
    "ax = sns.barplot(x=list(sp_score.keys()), y=list(sp_score.values()))\n",
    "ax.set_ylim(min(sp_score.values()) * .9, max(sp_score.values()) * 1.1)\n",
    "ax.set_xticklabels(ax.get_xticklabels(),rotation = 45)\n",
    "ax.set_title(\"statistical parity scores\")"
   ]
  },
  {
   "cell_type": "code",
   "execution_count": 52,
   "id": "dc0cc7e5",
   "metadata": {},
   "outputs": [
    {
     "name": "stdout",
     "output_type": "stream",
     "text": [
      "GCN_baseline 0.07860717647171875\n",
      "GCN_baseline_crosswalk 0.07821027691939834\n",
      "GCN_r2v 0.07775911100113461\n",
      "GCN_r2v_crosswalk 0.07860335640489076\n",
      "GAT_baseline 0.07835754320394371\n",
      "GAT_baseline_crosswalk 0.07820021002170219\n",
      "GAT_r2v 0.07694348793502567\n",
      "GAT_r2v_crosswalk 0.07728915263394258\n",
      "WORD2VEC_baseline 0.0736286022969382\n",
      "WORD2VEC_baseline_crosswalk 0.0705258016980345\n",
      "WORD2VEC_r2v 0.07263991368298427\n",
      "WORD2VEC_r2v_crosswalk 0.06998908523322367\n"
     ]
    },
    {
     "data": {
      "text/plain": [
       "Text(0.5, 1.0, 'gini statistical parity scores')"
      ]
     },
     "execution_count": 52,
     "metadata": {},
     "output_type": "execute_result"
    },
    {
     "data": {
      "image/png": "[encoded data removed]",
      "text/plain": [
       "<Figure size 1080x576 with 1 Axes>"
      ]
     },
     "metadata": {},
     "output_type": "display_data"
    }
   ],
   "source": [
    "gini_score = {m: np.mean(v[1]) for m,v in temp.items()}\n",
    "for i, j in gini_score.items(): print(i, j)\n",
    "sns.set(rc = {'figure.figsize':(15,8)})\n",
    "ax = sns.barplot(x=list(gini_score.keys()), y=list(gini_score.values()))\n",
    "ax.set_ylim(min(gini_score.values()) * .9, max(gini_score.values()) * 1.1)\n",
    "ax.set_xticklabels(ax.get_xticklabels(),rotation = 45)\n",
    "ax.set_title(\"gini statistical parity scores\")"
   ]
  },
  {
   "cell_type": "code",
   "execution_count": 53,
   "id": "dfe295a8",
   "metadata": {},
   "outputs": [
    {
     "name": "stdout",
     "output_type": "stream",
     "text": [
      "selected edge_idx size: 8615426\n",
      "selected edge_idx size: 8612723\n",
      "selected edge_idx size: 8616418\n",
      "selected edge_idx size: 8613419\n",
      "selected edge_idx size: 8613987\n",
      "selected edge_idx size: 8615426\n",
      "selected edge_idx size: 8612723\n",
      "selected edge_idx size: 8616418\n",
      "selected edge_idx size: 8613419\n",
      "selected edge_idx size: 8613987\n",
      "selected edge_idx size: 8615426\n",
      "selected edge_idx size: 8612723\n",
      "selected edge_idx size: 8616418\n",
      "selected edge_idx size: 8613419\n",
      "selected edge_idx size: 8613987\n",
      "selected edge_idx size: 8615426\n",
      "selected edge_idx size: 8612723\n",
      "selected edge_idx size: 8616418\n",
      "selected edge_idx size: 8613419\n",
      "selected edge_idx size: 8613987\n",
      "selected edge_idx size: 8615426\n",
      "selected edge_idx size: 8612723\n",
      "selected edge_idx size: 8616418\n",
      "selected edge_idx size: 8613419\n",
      "selected edge_idx size: 8613987\n",
      "selected edge_idx size: 8615426\n",
      "selected edge_idx size: 8612723\n",
      "selected edge_idx size: 8616418\n",
      "selected edge_idx size: 8613419\n",
      "selected edge_idx size: 8613987\n",
      "selected edge_idx size: 8615426\n",
      "selected edge_idx size: 8612723\n",
      "selected edge_idx size: 8616418\n",
      "selected edge_idx size: 8613419\n",
      "selected edge_idx size: 8613987\n",
      "selected edge_idx size: 8615426\n",
      "selected edge_idx size: 8612723\n",
      "selected edge_idx size: 8616418\n",
      "selected edge_idx size: 8613419\n",
      "selected edge_idx size: 8613987\n",
      "selected edge_idx size: 8615426\n",
      "selected edge_idx size: 8612723\n",
      "selected edge_idx size: 8616418\n",
      "selected edge_idx size: 8613419\n",
      "selected edge_idx size: 8613987\n",
      "selected edge_idx size: 8615426\n",
      "selected edge_idx size: 8612723\n",
      "selected edge_idx size: 8616418\n",
      "selected edge_idx size: 8613419\n",
      "selected edge_idx size: 8613987\n",
      "selected edge_idx size: 8615426\n",
      "selected edge_idx size: 8612723\n",
      "selected edge_idx size: 8616418\n",
      "selected edge_idx size: 8613419\n",
      "selected edge_idx size: 8613987\n",
      "selected edge_idx size: 8615426\n",
      "selected edge_idx size: 8612723\n",
      "selected edge_idx size: 8616418\n",
      "selected edge_idx size: 8613419\n",
      "selected edge_idx size: 8613987\n"
     ]
    },
    {
     "name": "stderr",
     "output_type": "stream",
     "text": [
      "100%|██████████████████████████████████████████████████████████████████████████████████████████████████████████████████████| 203/203 [00:00<00:00, 286.88it/s]\n",
      "100%|██████████████████████████████████████████████████████████████████████████████████████████████████████████████████████| 203/203 [00:00<00:00, 310.23it/s]\n",
      "100%|██████████████████████████████████████████████████████████████████████████████████████████████████████████████████████| 203/203 [00:00<00:00, 301.38it/s]\n",
      "100%|██████████████████████████████████████████████████████████████████████████████████████████████████████████████████████| 203/203 [00:00<00:00, 314.13it/s]\n",
      "100%|██████████████████████████████████████████████████████████████████████████████████████████████████████████████████████| 203/203 [00:00<00:00, 238.59it/s]\n",
      "100%|██████████████████████████████████████████████████████████████████████████████████████████████████████████████████████| 203/203 [00:00<00:00, 229.30it/s]\n",
      "100%|██████████████████████████████████████████████████████████████████████████████████████████████████████████████████████| 203/203 [00:00<00:00, 270.14it/s]\n",
      "100%|██████████████████████████████████████████████████████████████████████████████████████████████████████████████████████| 203/203 [00:00<00:00, 263.31it/s]\n",
      "100%|██████████████████████████████████████████████████████████████████████████████████████████████████████████████████████| 203/203 [00:00<00:00, 235.39it/s]\n",
      "100%|██████████████████████████████████████████████████████████████████████████████████████████████████████████████████████| 203/203 [00:00<00:00, 278.11it/s]\n",
      "100%|██████████████████████████████████████████████████████████████████████████████████████████████████████████████████████| 203/203 [00:00<00:00, 272.81it/s]\n",
      "100%|██████████████████████████████████████████████████████████████████████████████████████████████████████████████████████| 203/203 [00:00<00:00, 261.92it/s]\n",
      "100%|██████████████████████████████████████████████████████████████████████████████████████████████████████████████████████| 203/203 [00:00<00:00, 296.02it/s]\n",
      "100%|██████████████████████████████████████████████████████████████████████████████████████████████████████████████████████| 203/203 [00:00<00:00, 266.86it/s]\n",
      "100%|██████████████████████████████████████████████████████████████████████████████████████████████████████████████████████| 203/203 [00:00<00:00, 266.22it/s]\n",
      "100%|██████████████████████████████████████████████████████████████████████████████████████████████████████████████████████| 203/203 [00:00<00:00, 276.07it/s]\n",
      "100%|██████████████████████████████████████████████████████████████████████████████████████████████████████████████████████| 203/203 [00:00<00:00, 246.81it/s]\n",
      "100%|██████████████████████████████████████████████████████████████████████████████████████████████████████████████████████| 203/203 [00:00<00:00, 280.65it/s]\n",
      "100%|██████████████████████████████████████████████████████████████████████████████████████████████████████████████████████| 203/203 [00:00<00:00, 302.70it/s]\n",
      "100%|██████████████████████████████████████████████████████████████████████████████████████████████████████████████████████| 203/203 [00:00<00:00, 305.42it/s]\n",
      "100%|██████████████████████████████████████████████████████████████████████████████████████████████████████████████████████| 203/203 [00:00<00:00, 248.26it/s]\n",
      "100%|██████████████████████████████████████████████████████████████████████████████████████████████████████████████████████| 203/203 [00:00<00:00, 295.23it/s]\n",
      "100%|██████████████████████████████████████████████████████████████████████████████████████████████████████████████████████| 203/203 [00:00<00:00, 284.57it/s]\n",
      "100%|██████████████████████████████████████████████████████████████████████████████████████████████████████████████████████| 203/203 [00:00<00:00, 251.63it/s]\n",
      "100%|██████████████████████████████████████████████████████████████████████████████████████████████████████████████████████| 203/203 [00:00<00:00, 239.75it/s]\n",
      "100%|██████████████████████████████████████████████████████████████████████████████████████████████████████████████████████| 203/203 [00:00<00:00, 273.52it/s]\n",
      "100%|██████████████████████████████████████████████████████████████████████████████████████████████████████████████████████| 203/203 [00:00<00:00, 256.06it/s]\n",
      "100%|██████████████████████████████████████████████████████████████████████████████████████████████████████████████████████| 203/203 [00:00<00:00, 272.43it/s]\n",
      "100%|██████████████████████████████████████████████████████████████████████████████████████████████████████████████████████| 203/203 [00:00<00:00, 270.26it/s]\n",
      "100%|██████████████████████████████████████████████████████████████████████████████████████████████████████████████████████| 203/203 [00:00<00:00, 261.13it/s]\n",
      "100%|██████████████████████████████████████████████████████████████████████████████████████████████████████████████████████| 203/203 [00:00<00:00, 257.98it/s]\n",
      "100%|██████████████████████████████████████████████████████████████████████████████████████████████████████████████████████| 203/203 [00:00<00:00, 288.36it/s]\n",
      "100%|██████████████████████████████████████████████████████████████████████████████████████████████████████████████████████| 203/203 [00:00<00:00, 287.06it/s]\n",
      "100%|██████████████████████████████████████████████████████████████████████████████████████████████████████████████████████| 203/203 [00:00<00:00, 266.49it/s]\n",
      "100%|██████████████████████████████████████████████████████████████████████████████████████████████████████████████████████| 203/203 [00:00<00:00, 294.50it/s]\n",
      "100%|██████████████████████████████████████████████████████████████████████████████████████████████████████████████████████| 203/203 [00:00<00:00, 265.33it/s]\n",
      "100%|██████████████████████████████████████████████████████████████████████████████████████████████████████████████████████| 203/203 [00:00<00:00, 297.81it/s]\n",
      "100%|██████████████████████████████████████████████████████████████████████████████████████████████████████████████████████| 203/203 [00:00<00:00, 311.12it/s]\n",
      "100%|██████████████████████████████████████████████████████████████████████████████████████████████████████████████████████| 203/203 [00:00<00:00, 274.63it/s]\n",
      "100%|██████████████████████████████████████████████████████████████████████████████████████████████████████████████████████| 203/203 [00:00<00:00, 259.64it/s]\n",
      "100%|██████████████████████████████████████████████████████████████████████████████████████████████████████████████████████| 203/203 [00:00<00:00, 275.76it/s]\n",
      "100%|██████████████████████████████████████████████████████████████████████████████████████████████████████████████████████| 203/203 [00:00<00:00, 293.61it/s]\n",
      "100%|██████████████████████████████████████████████████████████████████████████████████████████████████████████████████████| 203/203 [00:00<00:00, 298.55it/s]\n",
      "100%|██████████████████████████████████████████████████████████████████████████████████████████████████████████████████████| 203/203 [00:00<00:00, 267.18it/s]\n",
      "100%|██████████████████████████████████████████████████████████████████████████████████████████████████████████████████████| 203/203 [00:00<00:00, 289.44it/s]\n",
      "100%|██████████████████████████████████████████████████████████████████████████████████████████████████████████████████████| 203/203 [00:00<00:00, 278.33it/s]\n",
      "100%|██████████████████████████████████████████████████████████████████████████████████████████████████████████████████████| 203/203 [00:00<00:00, 257.74it/s]\n",
      "100%|██████████████████████████████████████████████████████████████████████████████████████████████████████████████████████| 203/203 [00:00<00:00, 258.71it/s]\n",
      "100%|██████████████████████████████████████████████████████████████████████████████████████████████████████████████████████| 203/203 [00:00<00:00, 261.66it/s]\n",
      "100%|██████████████████████████████████████████████████████████████████████████████████████████████████████████████████████| 203/203 [00:00<00:00, 279.05it/s]\n",
      "100%|██████████████████████████████████████████████████████████████████████████████████████████████████████████████████████| 203/203 [00:00<00:00, 301.23it/s]\n"
     ]
    },
    {
     "name": "stderr",
     "output_type": "stream",
     "text": [
      "100%|██████████████████████████████████████████████████████████████████████████████████████████████████████████████████████| 203/203 [00:00<00:00, 292.30it/s]\n",
      "100%|██████████████████████████████████████████████████████████████████████████████████████████████████████████████████████| 203/203 [00:00<00:00, 281.68it/s]\n",
      "100%|██████████████████████████████████████████████████████████████████████████████████████████████████████████████████████| 203/203 [00:00<00:00, 279.87it/s]\n",
      "100%|██████████████████████████████████████████████████████████████████████████████████████████████████████████████████████| 203/203 [00:00<00:00, 301.07it/s]\n",
      "100%|██████████████████████████████████████████████████████████████████████████████████████████████████████████████████████| 203/203 [00:00<00:00, 271.31it/s]\n",
      "100%|██████████████████████████████████████████████████████████████████████████████████████████████████████████████████████| 203/203 [00:00<00:00, 256.36it/s]\n",
      "100%|██████████████████████████████████████████████████████████████████████████████████████████████████████████████████████| 203/203 [00:00<00:00, 277.20it/s]\n",
      "100%|██████████████████████████████████████████████████████████████████████████████████████████████████████████████████████| 203/203 [00:00<00:00, 277.17it/s]\n",
      "100%|██████████████████████████████████████████████████████████████████████████████████████████████████████████████████████| 203/203 [00:00<00:00, 273.00it/s]\n"
     ]
    }
   ],
   "source": [
    "\n",
    "# roc_score, sp_score, gini_score= {}, {}, {}\n",
    "roc_score = {m: roc_scores(m) for m in MODEL_NAME_2_FILE}\n",
    "temp = {m: statisticalp_scores(m) for m in MODEL_NAME_2_FILE}\n",
    "sp_score = {m: v[0] for m,v in temp.items()}\n",
    "gini_score = {m: v[1] for m,v in temp.items()}\n",
    "pkl.dump(roc_score, open(DATA_ROOT + \"roc_score.pkl\", 'wb'))\n",
    "\n",
    "pkl.dump(sp_score, open(DATA_ROOT + \"sp_score.pkl\", 'wb'))\n",
    "\n",
    "pkl.dump(gini_score, open(DATA_ROOT + \"gini_score.pkl\", 'wb'))"
   ]
  },
  {
   "cell_type": "code",
   "execution_count": null,
   "id": "dd43138f",
   "metadata": {},
   "outputs": [],
   "source": []
  }
 ],
 "metadata": {
  "kernelspec": {
   "display_name": "Python 3 (ipykernel)",
   "language": "python",
   "name": "python3"
  },
  "language_info": {
   "codemirror_mode": {
    "name": "ipython",
    "version": 3
   },
   "file_extension": ".py",
   "mimetype": "text/x-python",
   "name": "python",
   "nbconvert_exporter": "python",
   "pygments_lexer": "ipython3",
   "version": "3.7.13"
  }
 },
 "nbformat": 4,
 "nbformat_minor": 5
}
