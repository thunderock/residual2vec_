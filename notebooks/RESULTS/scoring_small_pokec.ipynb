{
 "cells": [
  {
   "cell_type": "code",
   "execution_count": null,
   "id": "16d1921c",
   "metadata": {},
   "outputs": [],
   "source": [
    "import sys, os\n",
    "sys.path.insert(0, '../..')\n",
    "# os.environ[\"CUDA_VISIBLE_DEVICES\"]=\"\""
   ]
  },
  {
   "cell_type": "code",
   "execution_count": null,
   "id": "5d539127",
   "metadata": {},
   "outputs": [],
   "source": [
    "import numpy as np\n",
    "import pandas as pd\n",
    "import torch\n",
    "from models.weighted_node2vec import WeightedNode2Vec\n",
    "from dataset import triplet_dataset, pokec_data\n",
    "from utils.config import DEVICE\n",
    "import gc\n",
    "from tqdm import trange\n",
    "from utils.link_prediction import GCNLinkPrediction\n",
    "import residual2vec as rv\n",
    "import warnings\n",
    "import faiss\n",
    "import matplotlib.pyplot as plt\n",
    "from utils.score import statistical_parity\n",
    "from torch_geometric.utils import negative_sampling\n",
    "from utils.snakemake_utils import FileResources\n",
    "import seaborn as sns\n",
    "from utils import snakemake_utils\n",
    "warnings.filterwarnings(\"ignore\")\n",
    "gc.enable()"
   ]
  },
  {
   "cell_type": "code",
   "execution_count": null,
   "id": "46d50773",
   "metadata": {},
   "outputs": [],
   "source": [
    "y = snakemake_utils.get_dataset(\"small_pokec\").get_grouped_col()"
   ]
  },
  {
   "cell_type": "code",
   "execution_count": null,
   "id": "f7f49384",
   "metadata": {},
   "outputs": [],
   "source": [
    "sp_score, roc_score, gini_score, embs = {}, {}, {}, {}\n",
    "DATA_ROOT = '/data/sg/ashutiwa/final_results/small_pokec/'\n",
    "! ls /data/sg/ashutiwa/final_results/airport/\n",
    "DIRS = ['data_one/', 'data_two/', 'data_three/', 'data_five/']\n",
    "DATASET = 'small_pokec'\n",
    "M = [\"GCN_baseline\", \"GCN_r2v\", \"GCN_baseline_crosswalk\", \"GCN_r2v_crosswalk\", \n",
    "     \"GAT_baseline\",\"GAT_r2v\", \"GAT_baseline_crosswalk\", \"GAT_r2v_crosswalk\"]\n",
    "\n",
    "TEST_ADJ_FILE='/data/sg/ashutiwa/final_results/small_pokec/data_one/small_pokec_test_adj.npz'\n",
    "k=5"
   ]
  },
  {
   "cell_type": "markdown",
   "id": "a13d5e9c",
   "metadata": {},
   "source": [
    "# distributions of positive and negative edgeswith dot product"
   ]
  },
  {
   "cell_type": "code",
   "execution_count": null,
   "id": "7812b391",
   "metadata": {},
   "outputs": [],
   "source": [
    "def get_roc_score(df):\n",
    "    from sklearn.metrics import roc_auc_score\n",
    "    y_pred = np.concatenate((df.positive_dot.values, df.negative_dot.values))\n",
    "    y_true = np.concatenate((np.ones_like(df.positive_dot.values), np.zeros_like(df.negative_dot.values)))\n",
    "    return roc_auc_score(y_true, y_pred)\n",
    "\n"
   ]
  },
  {
   "cell_type": "code",
   "execution_count": null,
   "id": "9d6ac948",
   "metadata": {},
   "outputs": [],
   "source": [
    "def plot_dot_(df, title):\n",
    "#     df = pd.DataFrame({\n",
    "#         \"positive_dot\": np.array([np.dot(a[i], p[i]) for i in trange(a.shape[0])]),\n",
    "#         \"negative_dot\": np.array([np.dot(a[i], n[i]) for i in trange(a.shape[0])])\n",
    "#     })\n",
    "    \n",
    "#     fig, ax = plt.subplots(1,1)\n",
    "    df.positive_dot.plot(kind='density', title=title)\n",
    "    df.negative_dot.plot(kind='density', title=title)\n",
    "#     ax.set_xlim(-1000, 1000)\n",
    "    ax.legend(['positive_neighbors', 'negative_neighbors'])\n",
    "#     fig.show()"
   ]
  },
  {
   "cell_type": "code",
   "execution_count": null,
   "id": "4d2aa15f",
   "metadata": {},
   "outputs": [],
   "source": [
    "def create_dot_df(A, file=TEST_ADJ_FILE):\n",
    "    \"\"\"\n",
    "    A are node embeddings of shape # nodes \\times 128\n",
    "    \"\"\"\n",
    "    # ! ls //data/sg/ashutiwa/final_results/airport/data_one/ | grep test\n",
    "    #     file = '//data/sg/ashutiwa/final_results/airport/data_one/airport_test_adj.npz'\n",
    "\n",
    "    num_nodes = A.shape[0]\n",
    "    edge_index = snakemake_utils.get_edge_index_from_sparse_path(file)\n",
    "    negative_edge_index = negative_sampling(edge_index=edge_index, num_nodes=num_nodes, num_neg_samples=None, method='sparse', force_undirected=True)\n",
    "    dot = pd.DataFrame({\n",
    "        \"positive_dot\": np.array([np.dot(A[edge_index[0, i].item()], A[edge_index[1, i].item()]) for i in trange(edge_index.shape[1])]),\n",
    "\n",
    "        \"negative_dot\": np.array([np.dot(A[negative_edge_index[0, i].item()], A[negative_edge_index[1, i].item()]) for i in trange(negative_edge_index.shape[1])])\n",
    "    })\n",
    "    return dot"
   ]
  },
  {
   "cell_type": "code",
   "execution_count": null,
   "id": "f55f0023",
   "metadata": {},
   "outputs": [],
   "source": [
    "def get_roc_score_(A, df):\n",
    "    from sklearn.metrics import roc_auc_score\n",
    "    from sklearn.linear_model import LogisticRegression\n",
    "    X_ = np.concatenate((df.positive_dot.values, df.negative_dot.values))\n",
    "    from sklearn.preprocessing import MinMaxScaler\n",
    "    scaler = MinMaxScaler()\n",
    "    train_df = create_dot_df(A, '../../data_one/small_pokec_adj.npz')\n",
    "    X = np.concatenate((train_df.positive_dot.values, train_df.negative_dot.values))\n",
    "    y = np.concatenate((np.ones_like(train_df.positive_dot.values), np.zeros_like(train_df.negative_dot.values)))\n",
    "    X = scaler.fit_transform(X.reshape(-1, 1))                              \n",
    "    clf = LogisticRegression().fit(X, y)\n",
    "    X_ = scaler.transform(X_.reshape(-1, 1))\n",
    "    \n",
    "    y_pred = clf.predict_proba(X_)\n",
    "    y_pred = np.argmax(y_pred, axis=1)\n",
    "    \n",
    "    y_true = np.concatenate((np.ones_like(df.positive_dot.values), np.zeros_like(df.negative_dot.values)))\n",
    "    return roc_auc_score(y_true, y_pred)"
   ]
  },
  {
   "cell_type": "markdown",
   "id": "af12f580",
   "metadata": {},
   "source": [
    "# GCN ( baseline)"
   ]
  },
  {
   "cell_type": "code",
   "execution_count": null,
   "id": "859d0533",
   "metadata": {
    "scrolled": true
   },
   "outputs": [],
   "source": [
    "model = \"GCN_baseline\"\n",
    "embs[model] = np.load(DATA_ROOT + DIRS[0] + DATASET + '_gcn_node2vec_embs.npy')\n",
    "A = embs[model]\n",
    "A.shape"
   ]
  },
  {
   "cell_type": "code",
   "execution_count": null,
   "id": "0e2af395",
   "metadata": {},
   "outputs": [],
   "source": [
    "# plot density\n",
    "dot = create_dot_df(A)\n",
    "fig, ax = plt.subplots(1,1)\n",
    "\n",
    "plot_dot_(dot, title=model + '_dot_density')\n",
    "# ax.set_xlim(-750, 750)\n",
    "ax.legend(['positive_neighbors', 'negative_neighbors'])\n",
    "fig.show()"
   ]
  },
  {
   "cell_type": "code",
   "execution_count": null,
   "id": "8030cd4e",
   "metadata": {},
   "outputs": [],
   "source": [
    "# # create edge_list\n",
    "batch_size = 2000\n",
    "\n",
    "edges = snakemake_utils.return_new_graph(A, k, )\n",
    "gini_score[model] = statistical_parity(edges, y, metric='gini')\n",
    "sp_score[model] = statistical_parity(edges, y, )\n",
    "\n",
    "roc_score[model] = get_roc_score(dot)\n",
    "edges.shape, sp_score[model], roc_score[model], gini_score[model]"
   ]
  },
  {
   "cell_type": "markdown",
   "id": "1b2cb32a",
   "metadata": {},
   "source": [
    "# GCN ( baseline + crosswalk)"
   ]
  },
  {
   "cell_type": "code",
   "execution_count": null,
   "id": "8ed8a9eb",
   "metadata": {
    "scrolled": true
   },
   "outputs": [],
   "source": [
    "model = \"GCN_baseline_crosswalk\"\n",
    "embs[model] = np.load(DATA_ROOT + DIRS[0] + DATASET + '_crosswalk_gcn_node2vec_embs.npy')\n",
    "A = embs[model]\n",
    "A.shape\n"
   ]
  },
  {
   "cell_type": "code",
   "execution_count": null,
   "id": "b21db5c5",
   "metadata": {},
   "outputs": [],
   "source": [
    "# plot density\n",
    "dot = create_dot_df(A)\n",
    "fig, ax = plt.subplots(1,1)\n",
    "\n",
    "plot_dot_(dot, title=model + '_dot_density')\n",
    "# ax.set_xlim(-750, 750)\n",
    "ax.legend(['positive_neighbors', 'negative_neighbors'])\n",
    "fig.show()"
   ]
  },
  {
   "cell_type": "code",
   "execution_count": null,
   "id": "673fa04c",
   "metadata": {},
   "outputs": [],
   "source": [
    "# # create edge_list\n",
    "batch_size = 2000\n",
    "\n",
    "edges = snakemake_utils.return_new_graph(A, k, )\n",
    "gini_score[model] = statistical_parity(edges, y, metric='gini')\n",
    "sp_score[model] = statistical_parity(edges, y, )\n",
    "\n",
    "roc_score[model] = get_roc_score(dot)\n",
    "edges.shape, sp_score[model], roc_score[model], gini_score[model]"
   ]
  },
  {
   "cell_type": "markdown",
   "id": "a0e1719e",
   "metadata": {},
   "source": [
    "# GCN ( r2v)"
   ]
  },
  {
   "cell_type": "code",
   "execution_count": null,
   "id": "4906ab15",
   "metadata": {
    "scrolled": true
   },
   "outputs": [],
   "source": [
    "model = \"GCN_r2v\"\n",
    "embs[model] = np.load(DATA_ROOT + DIRS[0] + DATASET  + '_gcn_r2v_node2vec_embs.npy')\n",
    "A = embs[model]\n",
    "A.shape"
   ]
  },
  {
   "cell_type": "code",
   "execution_count": null,
   "id": "d45b07e9",
   "metadata": {},
   "outputs": [],
   "source": [
    "# plot density\n",
    "dot = create_dot_df(A)\n",
    "fig, ax = plt.subplots(1,1)\n",
    "\n",
    "plot_dot_(dot, title=model + '_dot_density')\n",
    "# ax.set_xlim(-750, 750)\n",
    "ax.legend(['positive_neighbors', 'negative_neighbors'])\n",
    "fig.show()"
   ]
  },
  {
   "cell_type": "code",
   "execution_count": null,
   "id": "c24cedbe",
   "metadata": {},
   "outputs": [],
   "source": [
    "# # create edge_list\n",
    "batch_size = 2000\n",
    "\n",
    "edges = snakemake_utils.return_new_graph(A, k, )\n",
    "gini_score[model] = statistical_parity(edges, y, metric='gini')\n",
    "sp_score[model] = statistical_parity(edges, y, )\n",
    "\n",
    "roc_score[model] = get_roc_score(dot)\n",
    "edges.shape, sp_score[model], roc_score[model], gini_score[model]"
   ]
  },
  {
   "cell_type": "markdown",
   "id": "ae43172d",
   "metadata": {},
   "source": [
    "# GCN ( r2v + crosswalk)"
   ]
  },
  {
   "cell_type": "code",
   "execution_count": null,
   "id": "5455bde3",
   "metadata": {
    "scrolled": true
   },
   "outputs": [],
   "source": [
    "model = \"GCN_r2v_crosswalk\"\n",
    "embs[model] = np.load(DATA_ROOT + DIRS[0] + DATASET + '_crosswalk_gcn_r2v_node2vec_embs.npy')\n",
    "A = embs[model]\n",
    "\n",
    "A.shape"
   ]
  },
  {
   "cell_type": "code",
   "execution_count": null,
   "id": "9400cd57",
   "metadata": {},
   "outputs": [],
   "source": [
    "# plot density\n",
    "dot = create_dot_df(A)\n",
    "fig, ax = plt.subplots(1,1)\n",
    "\n",
    "plot_dot_(dot, title=model + '_dot_density')\n",
    "# ax.set_xlim(-750, 750)\n",
    "ax.legend(['positive_neighbors', 'negative_neighbors'])\n",
    "fig.show()"
   ]
  },
  {
   "cell_type": "code",
   "execution_count": null,
   "id": "3680c8b4",
   "metadata": {},
   "outputs": [],
   "source": [
    "# # create edge_list\n",
    "batch_size = 2000\n",
    "\n",
    "edges = snakemake_utils.return_new_graph(A, k, )\n",
    "gini_score[model] = statistical_parity(edges, y, metric='gini')\n",
    "sp_score[model] = statistical_parity(edges, y, )\n",
    "\n",
    "roc_score[model] = get_roc_score(dot)\n",
    "edges.shape, sp_score[model], roc_score[model], gini_score[model]"
   ]
  },
  {
   "cell_type": "markdown",
   "id": "1d2e41d5",
   "metadata": {},
   "source": [
    "# GAT ( baseline)"
   ]
  },
  {
   "cell_type": "code",
   "execution_count": null,
   "id": "f57fe26a",
   "metadata": {
    "scrolled": true
   },
   "outputs": [],
   "source": [
    "model = \"GAT_baseline\"\n",
    "embs[model] = np.load(DATA_ROOT + DIRS[0] + DATASET + '_gat_node2vec_embs.npy')\n",
    "A = embs[model]\n",
    "\n",
    "A.shape"
   ]
  },
  {
   "cell_type": "code",
   "execution_count": null,
   "id": "232d338b",
   "metadata": {},
   "outputs": [],
   "source": [
    "# plot density\n",
    "dot = create_dot_df(A)\n",
    "fig, ax = plt.subplots(1,1)\n",
    "\n",
    "plot_dot_(dot, title=model + '_dot_density')\n",
    "# ax.set_xlim(-750, 750)\n",
    "ax.legend(['positive_neighbors', 'negative_neighbors'])\n",
    "fig.show()"
   ]
  },
  {
   "cell_type": "code",
   "execution_count": null,
   "id": "ba9721ad",
   "metadata": {},
   "outputs": [],
   "source": [
    "# # create edge_list\n",
    "batch_size = 2000\n",
    "\n",
    "edges = snakemake_utils.return_new_graph(A, k, )\n",
    "gini_score[model] = statistical_parity(edges, y, metric='gini')\n",
    "sp_score[model] = statistical_parity(edges, y, )\n",
    "\n",
    "roc_score[model] = get_roc_score(dot)\n",
    "edges.shape, sp_score[model], roc_score[model], gini_score[model]"
   ]
  },
  {
   "cell_type": "markdown",
   "id": "5437c93e",
   "metadata": {},
   "source": [
    "# GAT ( baseline + crosswalk)"
   ]
  },
  {
   "cell_type": "code",
   "execution_count": null,
   "id": "7e167c94",
   "metadata": {
    "scrolled": true
   },
   "outputs": [],
   "source": [
    "model = \"GAT_baseline_crosswalk\"\n",
    "embs[model] = np.load(DATA_ROOT + DIRS[0] + DATASET + '_crosswalk_gat_node2vec_embs.npy')\n",
    "A = embs[model]\n",
    "A.shape"
   ]
  },
  {
   "cell_type": "code",
   "execution_count": null,
   "id": "52491479",
   "metadata": {},
   "outputs": [],
   "source": [
    "# plot density\n",
    "dot = create_dot_df(A)\n",
    "fig, ax = plt.subplots(1,1)\n",
    "\n",
    "plot_dot_(dot, title=model + '_dot_density')\n",
    "# ax.set_xlim(-750, 750)\n",
    "ax.legend(['positive_neighbors', 'negative_neighbors'])\n",
    "fig.show()"
   ]
  },
  {
   "cell_type": "code",
   "execution_count": null,
   "id": "eca56a92",
   "metadata": {},
   "outputs": [],
   "source": [
    "# # create edge_list\n",
    "batch_size = 2000\n",
    "\n",
    "edges = snakemake_utils.return_new_graph(A, k, )\n",
    "gini_score[model] = statistical_parity(edges, y, metric='gini')\n",
    "sp_score[model] = statistical_parity(edges, y, )\n",
    "\n",
    "roc_score[model] = get_roc_score(dot)\n",
    "edges.shape, sp_score[model], roc_score[model], gini_score[model]"
   ]
  },
  {
   "cell_type": "markdown",
   "id": "d2428b6f",
   "metadata": {},
   "source": [
    "# GAT ( r2v)"
   ]
  },
  {
   "cell_type": "code",
   "execution_count": null,
   "id": "40395e3e",
   "metadata": {
    "scrolled": true
   },
   "outputs": [],
   "source": [
    "model = \"GAT_r2v\"\n",
    "embs[model] = np.load(DATA_ROOT + DIRS[0] + DATASET + '_gat_r2v_node2vec_embs.npy')\n",
    "A = embs[model]\n",
    "A.shape"
   ]
  },
  {
   "cell_type": "code",
   "execution_count": null,
   "id": "7ef41872",
   "metadata": {},
   "outputs": [],
   "source": [
    "# plot density\n",
    "dot = create_dot_df(A)\n",
    "fig, ax = plt.subplots(1,1)\n",
    "\n",
    "plot_dot_(dot, title=model + '_dot_density')\n",
    "# ax.set_xlim(-750, 750)\n",
    "ax.legend(['positive_neighbors', 'negative_neighbors'])\n",
    "fig.show()"
   ]
  },
  {
   "cell_type": "code",
   "execution_count": null,
   "id": "e447f9b3",
   "metadata": {},
   "outputs": [],
   "source": [
    "# # create edge_list\n",
    "batch_size = 2000\n",
    "\n",
    "edges = snakemake_utils.return_new_graph(A, k, )\n",
    "gini_score[model] = statistical_parity(edges, y, metric='gini')\n",
    "sp_score[model] = statistical_parity(edges, y, )\n",
    "\n",
    "roc_score[model] = get_roc_score(dot)\n",
    "edges.shape, sp_score[model], roc_score[model], gini_score[model]"
   ]
  },
  {
   "cell_type": "markdown",
   "id": "878b8f13",
   "metadata": {},
   "source": [
    "# GAT ( r2v + crosswalk)"
   ]
  },
  {
   "cell_type": "code",
   "execution_count": null,
   "id": "b645c156",
   "metadata": {
    "scrolled": true
   },
   "outputs": [],
   "source": [
    "model = \"GAT_r2v_crosswalk\"\n",
    "embs[model] = np.load(DATA_ROOT + DIRS[0] + DATASET + '_crosswalk_gat_r2v_node2vec_embs.npy')\n",
    "A = embs[model]\n",
    "A.shape"
   ]
  },
  {
   "cell_type": "code",
   "execution_count": null,
   "id": "63486625",
   "metadata": {},
   "outputs": [],
   "source": [
    "# plot density\n",
    "dot = create_dot_df(A)\n",
    "fig, ax = plt.subplots(1,1)\n",
    "\n",
    "plot_dot_(dot, title=model + '_dot_density')\n",
    "# ax.set_xlim(-750, 750)\n",
    "ax.legend(['positive_neighbors', 'negative_neighbors'])\n",
    "fig.show()"
   ]
  },
  {
   "cell_type": "code",
   "execution_count": null,
   "id": "72cd9466",
   "metadata": {},
   "outputs": [],
   "source": [
    "# # create edge_list\n",
    "batch_size = 2000\n",
    "\n",
    "edges = snakemake_utils.return_new_graph(A, k, )\n",
    "gini_score[model] = statistical_parity(edges, y, metric='gini')\n",
    "sp_score[model] = statistical_parity(edges, y, )\n",
    "\n",
    "roc_score[model] = get_roc_score(dot)\n",
    "edges.shape, sp_score[model], roc_score[model], gini_score[model]"
   ]
  },
  {
   "cell_type": "markdown",
   "id": "ebbb980e",
   "metadata": {},
   "source": [
    "# plot statistical parity scores"
   ]
  },
  {
   "cell_type": "markdown",
   "id": "f5b36fa7",
   "metadata": {},
   "source": [
    "# gini sp scores"
   ]
  },
  {
   "cell_type": "code",
   "execution_count": null,
   "id": "bae3de0e",
   "metadata": {},
   "outputs": [],
   "source": [
    "\n",
    "for i, j in gini_score.items(): print(i, j)\n",
    "sns.set(rc = {'figure.figsize':(15,8)})\n",
    "ax = sns.barplot(x=list(gini_score.keys()), y=list(gini_score.values()))\n",
    "ax.set_ylim(min(gini_score.values()), max(gini_score.values()))\n",
    "ax.set_xticklabels(ax.get_xticklabels(),rotation = 45)\n",
    "ax.set_title(\"gini statistical parity scores\")"
   ]
  },
  {
   "cell_type": "markdown",
   "id": "2c76a2d5",
   "metadata": {},
   "source": [
    "# sp scores"
   ]
  },
  {
   "cell_type": "code",
   "execution_count": null,
   "id": "22b6746a",
   "metadata": {},
   "outputs": [],
   "source": [
    "\n",
    "for i, j in sp_score.items(): print(i, j)\n",
    "sns.set(rc = {'figure.figsize':(15,8)})\n",
    "ax = sns.barplot(x=list(sp_score.keys()), y=list(sp_score.values()))\n",
    "ax.set_ylim(min(sp_score.values()), max(sp_score.values()))\n",
    "ax.set_xticklabels(ax.get_xticklabels(),rotation = 45)\n",
    "ax.set_title(\"statistical parity scores\")"
   ]
  },
  {
   "cell_type": "markdown",
   "id": "37f5da17",
   "metadata": {},
   "source": [
    "# roc auc scores"
   ]
  },
  {
   "cell_type": "code",
   "execution_count": null,
   "id": "77ca7a10",
   "metadata": {},
   "outputs": [],
   "source": [
    "\n",
    "for i, j in roc_score.items(): print(i, j)\n",
    "sns.set(rc = {'figure.figsize':(15,8)})\n",
    "ax = sns.barplot(x=list(roc_score.keys()), y=list(roc_score.values()))\n",
    "ax.set_ylim(min(roc_score.values()), max(roc_score.values()))\n",
    "ax.set_xticklabels(ax.get_xticklabels(),rotation = 45)\n",
    "ax.set_title(\"roc scores\")"
   ]
  },
  {
   "cell_type": "code",
   "execution_count": null,
   "id": "e4cc7f98",
   "metadata": {},
   "outputs": [],
   "source": [
    "\n",
    "N = 20\n",
    "\n",
    "sp_scores, gini_scores = np.zeros((N, len(M))), np.zeros((N, len(M)))\n",
    "for k in range(N):\n",
    "    for idx, m in enumerate(M):\n",
    "        if k == 0: continue\n",
    "        batch_size =  2000\n",
    "        A = embs[m]\n",
    "        edges = snakemake_utils.return_new_graph(A, k, )\n",
    "        \n",
    "    \n",
    "        gini_scores[k, idx] = statistical_parity(edges, y, metric='gini')\n",
    "        sp_scores[k, idx] = statistical_parity(edges, y, )\n"
   ]
  },
  {
   "cell_type": "code",
   "execution_count": null,
   "id": "fb97b479",
   "metadata": {},
   "outputs": [],
   "source": [
    "for i in range(len(M)):\n",
    "    plt.plot(gini_scores[:, i], label=M[i])\n",
    "plt.legend(loc=\"upper right\")\n",
    "plt.title(\"gini scores vs # nn\")"
   ]
  },
  {
   "cell_type": "code",
   "execution_count": null,
   "id": "31dfe38f",
   "metadata": {},
   "outputs": [],
   "source": [
    "for i in range(len(M)):\n",
    "    plt.plot(sp_scores[:, i], label=M[i])\n",
    "plt.legend(loc=\"upper right\")\n",
    "\n",
    "plt.title(\"sp scores vs # nn\")"
   ]
  },
  {
   "cell_type": "markdown",
   "id": "357539db",
   "metadata": {},
   "source": [
    "# combine all different runs"
   ]
  },
  {
   "cell_type": "code",
   "execution_count": null,
   "id": "8ef5d890",
   "metadata": {},
   "outputs": [],
   "source": [
    "MODEL_NAME_2_FILE = {\n",
    "    \"GCN_baseline\": \"_gcn_node2vec_embs.npy\",\n",
    "    \"GCN_baseline_crosswalk\": \"_crosswalk_gcn_node2vec_embs.npy\",\n",
    "    \"GCN_r2v\": \"_gcn_r2v_node2vec_embs.npy\",\n",
    "    \"GCN_r2v_crosswalk\": '_crosswalk_gcn_r2v_node2vec_embs.npy',\n",
    "    \"GAT_baseline\": '_gat_node2vec_embs.npy',\n",
    "    \"GAT_baseline_crosswalk\": \"_crosswalk_gat_node2vec_embs.npy\",\n",
    "    \"GAT_r2v\": \"_gat_r2v_node2vec_embs.npy\",\n",
    "    \"GAT_r2v_crosswalk\": \"_crosswalk_gat_r2v_node2vec_embs.npy\"\n",
    "}\n",
    "def roc_scores(model_name):\n",
    "    scores = np.zeros(len(DIRS))\n",
    "    for idx, d in enumerate(DIRS):\n",
    "        A = np.load(DATA_ROOT + d + DATASET + MODEL_NAME_2_FILE[model_name])\n",
    "        dot = create_dot_df(A)\n",
    "        scores[idx] = get_roc_score(dot)\n",
    "    return np.mean(scores)\n",
    "\n",
    "\n",
    "def statisticalp_scores(model_name, K=5):\n",
    "    scores, scores_gini = np.zeros(len(DIRS)), np.zeros(len(DIRS))\n",
    "    for idx, d in enumerate(DIRS):\n",
    "        A = np.load(DATA_ROOT + d + DATASET + MODEL_NAME_2_FILE[model_name])\n",
    "        edges = snakemake_utils.return_new_graph(A, K)\n",
    "        scores_gini[idx] = statistical_parity(edges, y, metric='gini')\n",
    "        \n",
    "        scores[idx] = statistical_parity(edges, y, )\n",
    "    return np.mean(scores), np.mean(scores_gini)"
   ]
  },
  {
   "cell_type": "code",
   "execution_count": null,
   "id": "229b6d10",
   "metadata": {},
   "outputs": [],
   "source": [
    "\n",
    "roc_score = {m: roc_scores(m) for m in MODEL_NAME_2_FILE}\n",
    "\n",
    "for i, j in roc_score.items(): print(i, j)\n",
    "sns.set(rc = {'figure.figsize':(15,8)})\n",
    "ax = sns.barplot(x=list(roc_score.keys()), y=list(roc_score.values()))\n",
    "ax.set_ylim(min(roc_score.values()), max(roc_score.values()))\n",
    "ax.set_xticklabels(ax.get_xticklabels(),rotation = 45)\n",
    "ax.set_title(\"roc scores\")"
   ]
  },
  {
   "cell_type": "code",
   "execution_count": null,
   "id": "1f3cba0c",
   "metadata": {},
   "outputs": [],
   "source": [
    "\n",
    "temp = {m: statisticalp_scores(m) for m in MODEL_NAME_2_FILE}\n",
    "\n",
    "sp_score = {m: v[0] for m,v in temp.items()}\n",
    "for i, j in sp_score.items(): print(i, j)\n",
    "sns.set(rc = {'figure.figsize':(15,8)})\n",
    "ax = sns.barplot(x=list(sp_score.keys()), y=list(sp_score.values()))\n",
    "ax.set_ylim(min(sp_score.values()), max(sp_score.values()))\n",
    "ax.set_xticklabels(ax.get_xticklabels(),rotation = 45)\n",
    "ax.set_title(\"statistical parity scores\")"
   ]
  },
  {
   "cell_type": "code",
   "execution_count": null,
   "id": "dc0cc7e5",
   "metadata": {},
   "outputs": [],
   "source": [
    "gini_score = {m: v[1] for m,v in temp.items()}\n",
    "for i, j in gini_score.items(): print(i, j)\n",
    "sns.set(rc = {'figure.figsize':(15,8)})\n",
    "ax = sns.barplot(x=list(gini_score.keys()), y=list(gini_score.values()))\n",
    "ax.set_ylim(min(gini_score.values()), max(gini_score.values()))\n",
    "ax.set_xticklabels(ax.get_xticklabels(),rotation = 45)\n",
    "ax.set_title(\"gini statistical parity scores\")"
   ]
  },
  {
   "cell_type": "code",
   "execution_count": null,
   "id": "dfe295a8",
   "metadata": {},
   "outputs": [],
   "source": []
  }
 ],
 "metadata": {
  "kernelspec": {
   "display_name": "Python 3 (ipykernel)",
   "language": "python",
   "name": "python3"
  },
  "language_info": {
   "codemirror_mode": {
    "name": "ipython",
    "version": 3
   },
   "file_extension": ".py",
   "mimetype": "text/x-python",
   "name": "python",
   "nbconvert_exporter": "python",
   "pygments_lexer": "ipython3",
   "version": "3.7.13"
  }
 },
 "nbformat": 4,
 "nbformat_minor": 5
}
