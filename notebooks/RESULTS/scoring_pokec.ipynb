{
 "cells": [
  {
   "cell_type": "code",
   "execution_count": 1,
   "id": "16d1921c",
   "metadata": {},
   "outputs": [],
   "source": [
    "import sys, os\n",
    "sys.path.insert(0, '../..')\n",
    "# os.environ[\"CUDA_VISIBLE_DEVICES\"]=\"\"\n",
    "\n",
    "os.environ['disable_tqdm'] = 'true'"
   ]
  },
  {
   "cell_type": "code",
   "execution_count": 2,
   "id": "5d539127",
   "metadata": {},
   "outputs": [
    {
     "name": "stderr",
     "output_type": "stream",
     "text": [
      "/data/sg/ashutiwa/miniconda3/lib/python3.7/site-packages/tqdm/auto.py:22: TqdmWarning: IProgress not found. Please update jupyter and ipywidgets. See https://ipywidgets.readthedocs.io/en/stable/user_install.html\n",
      "  from .autonotebook import tqdm as notebook_tqdm\n"
     ]
    },
    {
     "name": "stdout",
     "output_type": "stream",
     "text": [
      "Using GPU: cuda:0\n"
     ]
    }
   ],
   "source": [
    "import numpy as np\n",
    "import pandas as pd\n",
    "import torch\n",
    "from models.weighted_node2vec import WeightedNode2Vec\n",
    "from dataset import triplet_dataset, pokec_data\n",
    "from utils.config import DEVICE\n",
    "import gc\n",
    "from tqdm import trange\n",
    "from utils.link_prediction import GCNLinkPrediction\n",
    "import residual2vec as rv\n",
    "import warnings\n",
    "import faiss\n",
    "import matplotlib.pyplot as plt\n",
    "from utils.score import statistical_parity\n",
    "from utils import graph_utils\n",
    "from utils.snakemake_utils import FileResources\n",
    "import seaborn as sns\n",
    "from utils import snakemake_utils\n",
    "import pickle as pkl\n",
    "warnings.filterwarnings(\"ignore\")\n",
    "gc.enable()"
   ]
  },
  {
   "cell_type": "code",
   "execution_count": 3,
   "id": "3e361f52",
   "metadata": {},
   "outputs": [
    {
     "name": "stdout",
     "output_type": "stream",
     "text": [
      "airport_adj_crosswalk.npz\r\n",
      "airport_adj_fairwalk.npz\r\n",
      "airport_adj.npz\r\n",
      "airport_crosswalk_deepwalk.npy\r\n",
      "airport_crosswalk_node2vec.npy\r\n",
      "airport_deepwalk_128_embs.npy\r\n",
      "airport_deepwalk.npy\r\n",
      "airport_fairwalk_deepwalk.npy\r\n",
      "airport_fairwalk_node2vec.npy\r\n",
      "airport_gat_None_deepwalk_deepwalk_embs.npy\r\n",
      "airport_gat_None_deepwalk_deepwalk.h5\r\n",
      "airport_gat_None_deepwalk_r2v_embs.npy\r\n",
      "airport_gat_None_deepwalk_r2v.h5\r\n",
      "airport_gat_None_node2vec_deepwalk_embs.npy\r\n",
      "airport_gat_None_node2vec_deepwalk.h5\r\n",
      "airport_gat_None_node2vec_r2v_embs.npy\r\n",
      "airport_gat_None_node2vec_r2v.h5\r\n",
      "airport_gcn_None_deepwalk_deepwalk_embs.npy\r\n",
      "airport_gcn_None_deepwalk_deepwalk.h5\r\n",
      "airport_gcn_None_deepwalk_r2v_embs.npy\r\n",
      "airport_gcn_None_deepwalk_r2v.h5\r\n",
      "airport_gcn_None_node2vec_deepwalk_embs.npy\r\n",
      "airport_gcn_None_node2vec_deepwalk.h5\r\n",
      "airport_gcn_None_node2vec_r2v_embs.npy\r\n",
      "airport_gcn_None_node2vec_r2v.h5\r\n",
      "airport_node2vec_128_embs.npy\r\n",
      "airport_node2vec.npy\r\n",
      "airport_test_adj.npz\r\n"
     ]
    }
   ],
   "source": [
    "! ls /data/sg/ashutiwa/final_crosswalk/airport/airport_one/"
   ]
  },
  {
   "cell_type": "code",
   "execution_count": 4,
   "id": "f7f49384",
   "metadata": {},
   "outputs": [
    {
     "name": "stderr",
     "output_type": "stream",
     "text": [
      "Downloading https://snap.stanford.edu/data/soc-pokec-profiles.txt.gz\n",
      "Downloading https://snap.stanford.edu/data/soc-pokec-relationships.txt.gz\n"
     ]
    }
   ],
   "source": [
    "y = snakemake_utils.get_dataset(\"pokec\").get_grouped_col()\n",
    "sp_score, roc_score, gini_score, embs = {}, {}, {}, {}\n",
    "DATA_ROOT = '/data/sg/ashutiwa/final_crosswalk/pokec/'\n",
    "DIRS = ['pokec_one/', 'pokec_two/', 'pokec_three/', 'pokec_four/', 'pokec_five/']\n",
    "DATASET = 'pokec'\n",
    "model_to_embs = {\n",
    "    \"fairwalk+deepwalk\": \"_fairwalk_deepwalk.npy\",\n",
    "    \"fairwalk+node2vec\": \"_fairwalk_node2vec.npy\",\n",
    "    \"crosswalk+deepwalk\": \"_crosswalk_deepwalk.npy\",\n",
    "    \"crosswalk+node2vec\": \"_crosswalk_node2vec.npy\",\n",
    "    \"GCN+deepwalk+random\": \"_gcn_None_deepwalk_deepwalk_embs.npy\",\n",
    "    \"GCN+deepwalk+r2v\": \"_gcn_None_deepwalk_r2v_embs.npy\",\n",
    "    \"GCN+node2vec+random\": \"_gcn_None_node2vec_deepwalk_embs.npy\",\n",
    "    \"GCN+node2vec+r2v\": \"_gcn_None_node2vec_r2v_embs.npy\",\n",
    "    \"GAT+deepwalk+random\": \"_gat_None_deepwalk_deepwalk_embs.npy\",\n",
    "    \"GAT+deepwalk+r2v\": \"_gat_None_deepwalk_r2v_embs.npy\",\n",
    "    \"GAT+node2vec+random\": \"_gat_None_node2vec_deepwalk_embs.npy\",\n",
    "    \"GAT+node2vec+r2v\": \"_gat_None_node2vec_r2v_embs.npy\",\n",
    "    \"deepwalk\": \"_deepwalk_128_embs.npy\",\n",
    "    \"node2vec\": \"_node2vec_128_embs.npy\"\n",
    "    \n",
    "}\n",
    "M = list(model_to_embs.keys())\n",
    "\n",
    "TEST_ADJ_FILE='/data/sg/ashutiwa/final_crosswalk/pokec/pokec_one/pokec_test_adj.npz'\n",
    "NUM_NODES = 1632803\n",
    "k=5"
   ]
  },
  {
   "cell_type": "markdown",
   "id": "a13d5e9c",
   "metadata": {},
   "source": [
    "# distributions of positive and negative edgeswith dot product"
   ]
  },
  {
   "cell_type": "code",
   "execution_count": 5,
   "id": "7812b391",
   "metadata": {},
   "outputs": [],
   "source": [
    "def get_roc_score(df):\n",
    "    from sklearn.metrics import roc_auc_score\n",
    "    y_pred = np.concatenate((df.positive_dot.values, df.negative_dot.values))\n",
    "    y_true = np.concatenate((np.ones_like(df.positive_dot.values), np.zeros_like(df.negative_dot.values)))\n",
    "    return roc_auc_score(y_true, y_pred)\n",
    "\n"
   ]
  },
  {
   "cell_type": "code",
   "execution_count": 6,
   "id": "9d6ac948",
   "metadata": {},
   "outputs": [],
   "source": [
    "def plot_dot_(df, title):\n",
    "#     df = pd.DataFrame({\n",
    "#         \"positive_dot\": np.array([np.dot(a[i], p[i]) for i in trange(a.shape[0])]),\n",
    "#         \"negative_dot\": np.array([np.dot(a[i], n[i]) for i in trange(a.shape[0])])\n",
    "#     })\n",
    "    \n",
    "#     fig, ax = plt.subplots(1,1)\n",
    "    df.positive_dot.plot(kind='density', title=title)\n",
    "    df.negative_dot.plot(kind='density', title=title)\n",
    "#     ax.set_xlim(-1000, 1000)\n",
    "    ax.legend(['positive_neighbors', 'negative_neighbors'])\n",
    "#     fig.show()"
   ]
  },
  {
   "cell_type": "code",
   "execution_count": 7,
   "id": "4d2aa15f",
   "metadata": {},
   "outputs": [],
   "source": [
    "FILE_CACHE = {}\n",
    "def create_dot_df(A, file=TEST_ADJ_FILE):\n",
    "    \"\"\"\n",
    "    A are node embeddings of shape # nodes \\times 128\n",
    "    \"\"\"\n",
    "    EDGE_IDX = snakemake_utils.get_edge_index_from_sparse_path(file)\n",
    "    if file in FILE_CACHE:\n",
    "        NEGATIVE_EDGE_IDX, EDGE_IDX = FILE_CACHE[file]\n",
    "    else:\n",
    "        NEGATIVE_EDGE_IDX, EDGE_IDX = graph_utils._negative_sampling_sparse(edge_index=EDGE_IDX, n_nodes=NUM_NODES, return_pos_samples=True)\n",
    "        FILE_CACHE[file] = (NEGATIVE_EDGE_IDX, EDGE_IDX)\n",
    "    print(\"selected edge_idx size: {}\".format(EDGE_IDX.size(1)))\n",
    "\n",
    "    positive_dot = np.sum(A[EDGE_IDX[0,:]] * A[EDGE_IDX[1,:]], axis=1)\n",
    "    negative_dot = np.sum(A[NEGATIVE_EDGE_IDX[0,:]] * A[NEGATIVE_EDGE_IDX[1,:]], axis=1)\n",
    "    dot = pd.DataFrame()\n",
    "    dot[\"positive_dot\"] = positive_dot\n",
    "    dot[\"negative_dot\"] = negative_dot\n",
    "    \n",
    "    return dot"
   ]
  },
  {
   "cell_type": "markdown",
   "id": "92c30003",
   "metadata": {},
   "source": [
    "# fairwalk+deepwalk"
   ]
  },
  {
   "cell_type": "code",
   "execution_count": 8,
   "id": "0341e2b1",
   "metadata": {},
   "outputs": [],
   "source": [
    "# model = \"fairwalk+deepwalk\"\n",
    "# embs[model] = np.load(DATA_ROOT + DIRS[0] + DATASET + model_to_embs[model])\n",
    "# A = embs[model]\n",
    "# A.shape"
   ]
  },
  {
   "cell_type": "code",
   "execution_count": 9,
   "id": "711b4022",
   "metadata": {},
   "outputs": [],
   "source": [
    "# # plot density\n",
    "# dot = create_dot_df(A)\n",
    "# fig, ax = plt.subplots(1,1)\n",
    "\n",
    "# plot_dot_(dot, title=model + '_dot_density')\n",
    "# # ax.set_xlim(-750, 750)\n",
    "# ax.legend(['positive_neighbors', 'negative_neighbors'])\n",
    "# fig.show()"
   ]
  },
  {
   "cell_type": "code",
   "execution_count": 10,
   "id": "e5d52b40",
   "metadata": {},
   "outputs": [],
   "source": [
    "# # # create edge_list\n",
    "# batch_size = 2000\n",
    "\n",
    "# edges = snakemake_utils.return_new_graph(A, k, )\n",
    "# gini_score[model] = statistical_parity(edges, y, metric='gini')\n",
    "# sp_score[model] = statistical_parity(edges, y, )\n",
    "\n",
    "# roc_score[model] = get_roc_score(dot)\n",
    "# edges.shape, sp_score[model], roc_score[model], gini_score[model]"
   ]
  },
  {
   "cell_type": "markdown",
   "id": "f7d4f7d9",
   "metadata": {},
   "source": [
    "# fairwalk+node2vec"
   ]
  },
  {
   "cell_type": "code",
   "execution_count": 11,
   "id": "3a495c8f",
   "metadata": {},
   "outputs": [],
   "source": [
    "# model = \"fairwalk+node2vec\"\n",
    "# embs[model] = np.load(DATA_ROOT + DIRS[0] + DATASET + model_to_embs[model])\n",
    "# A = embs[model]\n",
    "# A.shape\n"
   ]
  },
  {
   "cell_type": "code",
   "execution_count": 12,
   "id": "0a9a348a",
   "metadata": {},
   "outputs": [],
   "source": [
    "# # plot density\n",
    "# dot = create_dot_df(A)\n",
    "# fig, ax = plt.subplots(1,1)\n",
    "\n",
    "# plot_dot_(dot, title=model + '_dot_density')\n",
    "# # ax.set_xlim(-750, 750)\n",
    "# ax.legend(['positive_neighbors', 'negative_neighbors'])\n",
    "# fig.show()"
   ]
  },
  {
   "cell_type": "code",
   "execution_count": 13,
   "id": "5b7bac45",
   "metadata": {},
   "outputs": [],
   "source": [
    "# # # create edge_list\n",
    "# batch_size = 2000\n",
    "\n",
    "# edges = snakemake_utils.return_new_graph(A, k, )\n",
    "# gini_score[model] = statistical_parity(edges, y, metric='gini')\n",
    "# sp_score[model] = statistical_parity(edges, y, )\n",
    "\n",
    "# roc_score[model] = get_roc_score(dot)\n",
    "# edges.shape, sp_score[model], roc_score[model], gini_score[model]"
   ]
  },
  {
   "cell_type": "markdown",
   "id": "c1d465b7",
   "metadata": {},
   "source": [
    "# crosswalk+deepwalk"
   ]
  },
  {
   "cell_type": "code",
   "execution_count": 14,
   "id": "3baf7c19",
   "metadata": {},
   "outputs": [],
   "source": [
    "# model = \"crosswalk+deepwalk\"\n",
    "# embs[model] = np.load(DATA_ROOT + DIRS[0] + DATASET + model_to_embs[model])\n",
    "# A = embs[model]\n",
    "# A.shape"
   ]
  },
  {
   "cell_type": "code",
   "execution_count": 15,
   "id": "4319c3d0",
   "metadata": {},
   "outputs": [],
   "source": [
    "# # plot density\n",
    "# dot = create_dot_df(A)\n",
    "# fig, ax = plt.subplots(1,1)\n",
    "\n",
    "# plot_dot_(dot, title=model + '_dot_density')\n",
    "# # ax.set_xlim(-750, 750)\n",
    "# ax.legend(['positive_neighbors', 'negative_neighbors'])\n",
    "# fig.show()"
   ]
  },
  {
   "cell_type": "code",
   "execution_count": 16,
   "id": "74798298",
   "metadata": {},
   "outputs": [],
   "source": [
    "# # # create edge_list\n",
    "# batch_size = 2000\n",
    "\n",
    "# edges = snakemake_utils.return_new_graph(A, k, )\n",
    "# gini_score[model] = statistical_parity(edges, y, metric='gini')\n",
    "# sp_score[model] = statistical_parity(edges, y, )\n",
    "\n",
    "# roc_score[model] = get_roc_score(dot)\n",
    "# edges.shape, sp_score[model], roc_score[model], gini_score[model]"
   ]
  },
  {
   "cell_type": "markdown",
   "id": "337a1b38",
   "metadata": {},
   "source": [
    "# crosswalk+node2vec"
   ]
  },
  {
   "cell_type": "code",
   "execution_count": 17,
   "id": "83a9bcd9",
   "metadata": {},
   "outputs": [],
   "source": [
    "# model = \"crosswalk+node2vec\"\n",
    "# embs[model] = np.load(DATA_ROOT + DIRS[0] + DATASET + model_to_embs[model])\n",
    "# A = embs[model]\n",
    "# A.shape"
   ]
  },
  {
   "cell_type": "code",
   "execution_count": 18,
   "id": "57106e79",
   "metadata": {},
   "outputs": [],
   "source": [
    "# # plot density\n",
    "# dot = create_dot_df(A)\n",
    "# fig, ax = plt.subplots(1,1)\n",
    "\n",
    "# plot_dot_(dot, title=model + '_dot_density')\n",
    "# # ax.set_xlim(-750, 750)\n",
    "# ax.legend(['positive_neighbors', 'negative_neighbors'])\n",
    "# fig.show()"
   ]
  },
  {
   "cell_type": "code",
   "execution_count": 19,
   "id": "9bc93e35",
   "metadata": {},
   "outputs": [],
   "source": [
    "# # # create edge_list\n",
    "# batch_size = 2000\n",
    "\n",
    "# edges = snakemake_utils.return_new_graph(A, k, )\n",
    "# gini_score[model] = statistical_parity(edges, y, metric='gini')\n",
    "# sp_score[model] = statistical_parity(edges, y, )\n",
    "\n",
    "# roc_score[model] = get_roc_score(dot)\n",
    "# edges.shape, sp_score[model], roc_score[model], gini_score[model]"
   ]
  },
  {
   "cell_type": "markdown",
   "id": "af12f580",
   "metadata": {},
   "source": [
    "# GCN+deepwalk+random"
   ]
  },
  {
   "cell_type": "code",
   "execution_count": 20,
   "id": "859d0533",
   "metadata": {
    "scrolled": true
   },
   "outputs": [],
   "source": [
    "# model = \"GCN+deepwalk+random\"\n",
    "# embs[model] = np.load(DATA_ROOT + DIRS[0] + DATASET + model_to_embs[model])\n",
    "# A = embs[model]\n",
    "# A.shape"
   ]
  },
  {
   "cell_type": "code",
   "execution_count": 21,
   "id": "0e2af395",
   "metadata": {},
   "outputs": [],
   "source": [
    "# # plot density\n",
    "# dot = create_dot_df(A)\n",
    "# fig, ax = plt.subplots(1,1)\n",
    "\n",
    "# plot_dot_(dot, title=model + '_dot_density')\n",
    "# # ax.set_xlim(-750, 750)\n",
    "# ax.legend(['positive_neighbors', 'negative_neighbors'])\n",
    "# fig.show()"
   ]
  },
  {
   "cell_type": "code",
   "execution_count": 22,
   "id": "8030cd4e",
   "metadata": {},
   "outputs": [],
   "source": [
    "# # # create edge_list\n",
    "# batch_size = 2000\n",
    "\n",
    "# edges = snakemake_utils.return_new_graph(A, k, )\n",
    "# gini_score[model] = statistical_parity(edges, y, metric='gini')\n",
    "# sp_score[model] = statistical_parity(edges, y, )\n",
    "\n",
    "# roc_score[model] = get_roc_score(dot)\n",
    "# edges.shape, sp_score[model], roc_score[model], gini_score[model]"
   ]
  },
  {
   "cell_type": "markdown",
   "id": "1b2cb32a",
   "metadata": {},
   "source": [
    "# GCN+deepwalk+r2v"
   ]
  },
  {
   "cell_type": "code",
   "execution_count": 23,
   "id": "8ed8a9eb",
   "metadata": {
    "scrolled": true
   },
   "outputs": [],
   "source": [
    "# model = \"GCN+deepwalk+r2v\"\n",
    "# embs[model] = np.load(DATA_ROOT + DIRS[0] + DATASET + model_to_embs[model])\n",
    "# A = embs[model]\n",
    "# A.shape\n"
   ]
  },
  {
   "cell_type": "code",
   "execution_count": 24,
   "id": "b21db5c5",
   "metadata": {},
   "outputs": [],
   "source": [
    "# # plot density\n",
    "# dot = create_dot_df(A)\n",
    "# fig, ax = plt.subplots(1,1)\n",
    "\n",
    "# plot_dot_(dot, title=model + '_dot_density')\n",
    "# # ax.set_xlim(-750, 750)\n",
    "# ax.legend(['positive_neighbors', 'negative_neighbors'])\n",
    "# fig.show()"
   ]
  },
  {
   "cell_type": "code",
   "execution_count": 25,
   "id": "673fa04c",
   "metadata": {},
   "outputs": [],
   "source": [
    "# # # create edge_list\n",
    "# batch_size = 2000\n",
    "\n",
    "# edges = snakemake_utils.return_new_graph(A, k, )\n",
    "# gini_score[model] = statistical_parity(edges, y, metric='gini')\n",
    "# sp_score[model] = statistical_parity(edges, y, )\n",
    "\n",
    "# roc_score[model] = get_roc_score(dot)\n",
    "# edges.shape, sp_score[model], roc_score[model], gini_score[model]"
   ]
  },
  {
   "cell_type": "markdown",
   "id": "a0e1719e",
   "metadata": {},
   "source": [
    "# GCN+node2vec+random"
   ]
  },
  {
   "cell_type": "code",
   "execution_count": 26,
   "id": "4906ab15",
   "metadata": {
    "scrolled": true
   },
   "outputs": [],
   "source": [
    "# model = \"GCN+node2vec+random\"\n",
    "# embs[model] = np.load(DATA_ROOT + DIRS[0] + DATASET + model_to_embs[model])\n",
    "# A = embs[model]\n",
    "# A.shape"
   ]
  },
  {
   "cell_type": "code",
   "execution_count": 27,
   "id": "d45b07e9",
   "metadata": {},
   "outputs": [],
   "source": [
    "# # plot density\n",
    "# dot = create_dot_df(A)\n",
    "# fig, ax = plt.subplots(1,1)\n",
    "\n",
    "# plot_dot_(dot, title=model + '_dot_density')\n",
    "# # ax.set_xlim(-750, 750)\n",
    "# ax.legend(['positive_neighbors', 'negative_neighbors'])\n",
    "# fig.show()"
   ]
  },
  {
   "cell_type": "code",
   "execution_count": 28,
   "id": "c24cedbe",
   "metadata": {},
   "outputs": [],
   "source": [
    "# # # create edge_list\n",
    "# batch_size = 2000\n",
    "\n",
    "# edges = snakemake_utils.return_new_graph(A, k, )\n",
    "# gini_score[model] = statistical_parity(edges, y, metric='gini')\n",
    "# sp_score[model] = statistical_parity(edges, y, )\n",
    "\n",
    "# roc_score[model] = get_roc_score(dot)\n",
    "# edges.shape, sp_score[model], roc_score[model], gini_score[model]"
   ]
  },
  {
   "cell_type": "markdown",
   "id": "ae43172d",
   "metadata": {},
   "source": [
    "# GCN+node2vec+r2v"
   ]
  },
  {
   "cell_type": "code",
   "execution_count": 29,
   "id": "5455bde3",
   "metadata": {
    "scrolled": true
   },
   "outputs": [],
   "source": [
    "# model = \"GCN+node2vec+r2v\"\n",
    "# embs[model] = np.load(DATA_ROOT + DIRS[0] + DATASET + model_to_embs[model])\n",
    "# A = embs[model]\n",
    "# A.shape"
   ]
  },
  {
   "cell_type": "code",
   "execution_count": 30,
   "id": "9400cd57",
   "metadata": {},
   "outputs": [],
   "source": [
    "# # plot density\n",
    "# dot = create_dot_df(A)\n",
    "# fig, ax = plt.subplots(1,1)\n",
    "\n",
    "# plot_dot_(dot, title=model + '_dot_density')\n",
    "# # ax.set_xlim(-750, 750)\n",
    "# ax.legend(['positive_neighbors', 'negative_neighbors'])\n",
    "# fig.show()"
   ]
  },
  {
   "cell_type": "code",
   "execution_count": 31,
   "id": "3680c8b4",
   "metadata": {},
   "outputs": [],
   "source": [
    "# # # create edge_list\n",
    "# batch_size = 2000\n",
    "\n",
    "# edges = snakemake_utils.return_new_graph(A, k, )\n",
    "# gini_score[model] = statistical_parity(edges, y, metric='gini')\n",
    "# sp_score[model] = statistical_parity(edges, y, )\n",
    "\n",
    "# roc_score[model] = get_roc_score(dot)\n",
    "# edges.shape, sp_score[model], roc_score[model], gini_score[model]"
   ]
  },
  {
   "cell_type": "markdown",
   "id": "1d2e41d5",
   "metadata": {},
   "source": [
    "# GAT+deepwalk+random"
   ]
  },
  {
   "cell_type": "code",
   "execution_count": 32,
   "id": "f57fe26a",
   "metadata": {
    "scrolled": true
   },
   "outputs": [],
   "source": [
    "# model = \"GAT+deepwalk+random\"\n",
    "# embs[model] = np.load(DATA_ROOT + DIRS[0] + DATASET + model_to_embs[model])\n",
    "# A = embs[model]\n",
    "# A.shape"
   ]
  },
  {
   "cell_type": "code",
   "execution_count": 33,
   "id": "232d338b",
   "metadata": {},
   "outputs": [],
   "source": [
    "# # plot density\n",
    "# dot = create_dot_df(A)\n",
    "# fig, ax = plt.subplots(1,1)\n",
    "\n",
    "# plot_dot_(dot, title=model + '_dot_density')\n",
    "# # ax.set_xlim(-750, 750)\n",
    "# ax.legend(['positive_neighbors', 'negative_neighbors'])\n",
    "# fig.show()"
   ]
  },
  {
   "cell_type": "code",
   "execution_count": 34,
   "id": "ba9721ad",
   "metadata": {},
   "outputs": [],
   "source": [
    "# # # create edge_list\n",
    "# batch_size = 2000\n",
    "\n",
    "# edges = snakemake_utils.return_new_graph(A, k, )\n",
    "# gini_score[model] = statistical_parity(edges, y, metric='gini')\n",
    "# sp_score[model] = statistical_parity(edges, y, )\n",
    "\n",
    "# roc_score[model] = get_roc_score(dot)\n",
    "# edges.shape, sp_score[model], roc_score[model], gini_score[model]"
   ]
  },
  {
   "cell_type": "markdown",
   "id": "5437c93e",
   "metadata": {},
   "source": [
    "# GAT+deepwalk+r2v"
   ]
  },
  {
   "cell_type": "code",
   "execution_count": 35,
   "id": "7e167c94",
   "metadata": {
    "scrolled": true
   },
   "outputs": [],
   "source": [
    "# model = \"GAT+deepwalk+r2v\"\n",
    "# embs[model] = np.load(DATA_ROOT + DIRS[0] + DATASET + model_to_embs[model])\n",
    "# A = embs[model]\n",
    "# A.shape"
   ]
  },
  {
   "cell_type": "code",
   "execution_count": 36,
   "id": "52491479",
   "metadata": {},
   "outputs": [],
   "source": [
    "# # plot density\n",
    "# dot = create_dot_df(A)\n",
    "# fig, ax = plt.subplots(1,1)\n",
    "\n",
    "# plot_dot_(dot, title=model + '_dot_density')\n",
    "# # ax.set_xlim(-750, 750)\n",
    "# ax.legend(['positive_neighbors', 'negative_neighbors'])\n",
    "# fig.show()"
   ]
  },
  {
   "cell_type": "code",
   "execution_count": 37,
   "id": "eca56a92",
   "metadata": {},
   "outputs": [],
   "source": [
    "# # # create edge_list\n",
    "# batch_size = 2000\n",
    "\n",
    "# edges = snakemake_utils.return_new_graph(A, k, )\n",
    "# gini_score[model] = statistical_parity(edges, y, metric='gini')\n",
    "# sp_score[model] = statistical_parity(edges, y, )\n",
    "\n",
    "# roc_score[model] = get_roc_score(dot)\n",
    "# edges.shape, sp_score[model], roc_score[model], gini_score[model]"
   ]
  },
  {
   "cell_type": "markdown",
   "id": "d2428b6f",
   "metadata": {},
   "source": [
    "# GAT+node2vec+random"
   ]
  },
  {
   "cell_type": "code",
   "execution_count": 38,
   "id": "40395e3e",
   "metadata": {
    "scrolled": true
   },
   "outputs": [],
   "source": [
    "# model = \"GAT+node2vec+random\"\n",
    "# embs[model] = np.load(DATA_ROOT + DIRS[0] + DATASET + model_to_embs[model])\n",
    "# A = embs[model]\n",
    "# A.shape"
   ]
  },
  {
   "cell_type": "code",
   "execution_count": 39,
   "id": "7ef41872",
   "metadata": {},
   "outputs": [],
   "source": [
    "# # plot density\n",
    "# dot = create_dot_df(A)\n",
    "# fig, ax = plt.subplots(1,1)\n",
    "\n",
    "# plot_dot_(dot, title=model + '_dot_density')\n",
    "# # ax.set_xlim(-750, 750)\n",
    "# ax.legend(['positive_neighbors', 'negative_neighbors'])\n",
    "# fig.show()"
   ]
  },
  {
   "cell_type": "code",
   "execution_count": 40,
   "id": "e447f9b3",
   "metadata": {},
   "outputs": [],
   "source": [
    "# # # create edge_list\n",
    "# batch_size = 2000\n",
    "\n",
    "# edges = snakemake_utils.return_new_graph(A, k, )\n",
    "# gini_score[model] = statistical_parity(edges, y, metric='gini')\n",
    "# sp_score[model] = statistical_parity(edges, y, )\n",
    "\n",
    "# roc_score[model] = get_roc_score(dot)\n",
    "# edges.shape, sp_score[model], roc_score[model], gini_score[model]"
   ]
  },
  {
   "cell_type": "markdown",
   "id": "878b8f13",
   "metadata": {},
   "source": [
    "# GAT+node2vec+r2v"
   ]
  },
  {
   "cell_type": "code",
   "execution_count": 41,
   "id": "b645c156",
   "metadata": {
    "scrolled": true
   },
   "outputs": [],
   "source": [
    "# model = \"GAT+node2vec+r2v\"\n",
    "# embs[model] = np.load(DATA_ROOT + DIRS[0] + DATASET + model_to_embs[model])\n",
    "# A = embs[model]\n",
    "# A.shape"
   ]
  },
  {
   "cell_type": "code",
   "execution_count": 42,
   "id": "63486625",
   "metadata": {},
   "outputs": [],
   "source": [
    "# # plot density\n",
    "# dot = create_dot_df(A)\n",
    "# fig, ax = plt.subplots(1,1)\n",
    "\n",
    "# plot_dot_(dot, title=model + '_dot_density')\n",
    "# # ax.set_xlim(-750, 750)\n",
    "# ax.legend(['positive_neighbors', 'negative_neighbors'])\n",
    "# fig.show()"
   ]
  },
  {
   "cell_type": "code",
   "execution_count": 43,
   "id": "72cd9466",
   "metadata": {},
   "outputs": [],
   "source": [
    "# # # create edge_list\n",
    "# batch_size = 2000\n",
    "\n",
    "# edges = snakemake_utils.return_new_graph(A, k, )\n",
    "# gini_score[model] = statistical_parity(edges, y, metric='gini')\n",
    "# sp_score[model] = statistical_parity(edges, y, )\n",
    "\n",
    "# roc_score[model] = get_roc_score(dot)\n",
    "# edges.shape, sp_score[model], roc_score[model], gini_score[model]"
   ]
  },
  {
   "cell_type": "markdown",
   "id": "ebbb980e",
   "metadata": {},
   "source": [
    "# plot statistical parity scores"
   ]
  },
  {
   "cell_type": "markdown",
   "id": "f5b36fa7",
   "metadata": {},
   "source": [
    "# gini sp scores"
   ]
  },
  {
   "cell_type": "code",
   "execution_count": 44,
   "id": "bae3de0e",
   "metadata": {},
   "outputs": [],
   "source": [
    "\n",
    "# for i, j in gini_score.items(): print(i, j)\n",
    "# sns.set(rc = {'figure.figsize':(15,8)})\n",
    "# ax = sns.barplot(x=list(gini_score.keys()), y=list(gini_score.values()))\n",
    "# ax.set_ylim(min(gini_score.values()) * .9 , max(gini_score.values()) * 1.1)\n",
    "# ax.set_xticklabels(ax.get_xticklabels(),rotation = 45)\n",
    "# ax.set_title(\"gini statistical parity scores\")"
   ]
  },
  {
   "cell_type": "markdown",
   "id": "2c76a2d5",
   "metadata": {},
   "source": [
    "# sp scores"
   ]
  },
  {
   "cell_type": "code",
   "execution_count": 45,
   "id": "22b6746a",
   "metadata": {},
   "outputs": [],
   "source": [
    "\n",
    "# for i, j in sp_score.items(): print(i, j)\n",
    "# sns.set(rc = {'figure.figsize':(15,8)})\n",
    "# ax = sns.barplot(x=list(sp_score.keys()), y=list(sp_score.values()))\n",
    "# ax.set_ylim(min(sp_score.values()) * .9, max(sp_score.values()) * 1.1)\n",
    "# ax.set_xticklabels(ax.get_xticklabels(),rotation = 45)\n",
    "# ax.set_title(\"statistical parity scores\")"
   ]
  },
  {
   "cell_type": "markdown",
   "id": "37f5da17",
   "metadata": {},
   "source": [
    "# roc auc scores"
   ]
  },
  {
   "cell_type": "code",
   "execution_count": 46,
   "id": "77ca7a10",
   "metadata": {},
   "outputs": [],
   "source": [
    "\n",
    "# for i, j in roc_score.items(): print(i, j)\n",
    "# sns.set(rc = {'figure.figsize':(15,8)})\n",
    "# ax = sns.barplot(x=list(roc_score.keys()), y=list(roc_score.values()))\n",
    "# ax.set_ylim(min(roc_score.values()) * .9, max(roc_score.values()) * 1.1)\n",
    "# ax.set_xticklabels(ax.get_xticklabels(),rotation = 45)\n",
    "# ax.set_title(\"roc scores\")"
   ]
  },
  {
   "cell_type": "code",
   "execution_count": 47,
   "id": "e4cc7f98",
   "metadata": {},
   "outputs": [],
   "source": [
    "\n",
    "# N = 20\n",
    "\n",
    "# sp_scores, gini_scores = np.zeros((N, len(M))), np.zeros((N, len(M)))\n",
    "# for k in range(N):\n",
    "#     for idx, m in enumerate(M):\n",
    "#         if k == 0: continue\n",
    "#         batch_size =  2000\n",
    "#         A = embs[m]\n",
    "#         edges = snakemake_utils.return_new_graph(A, k, )\n",
    "        \n",
    "    \n",
    "#         gini_scores[k, idx] = statistical_parity(edges, y, metric='gini')\n",
    "#         sp_scores[k, idx] = statistical_parity(edges, y, )\n"
   ]
  },
  {
   "cell_type": "code",
   "execution_count": 48,
   "id": "fb97b479",
   "metadata": {},
   "outputs": [],
   "source": [
    "# for i in range(len(M)):\n",
    "#     plt.plot(gini_scores[:, i], label=M[i])\n",
    "# plt.legend(loc=\"upper right\")\n",
    "# plt.title(\"gini scores vs # nn\")"
   ]
  },
  {
   "cell_type": "code",
   "execution_count": 49,
   "id": "31dfe38f",
   "metadata": {},
   "outputs": [],
   "source": [
    "# for i in range(len(M)):\n",
    "#     plt.plot(sp_scores[:, i], label=M[i])\n",
    "# plt.legend(loc=\"upper right\")\n",
    "\n",
    "# plt.title(\"sp scores vs # nn\")"
   ]
  },
  {
   "cell_type": "markdown",
   "id": "357539db",
   "metadata": {},
   "source": [
    "# combine all different runs"
   ]
  },
  {
   "cell_type": "code",
   "execution_count": 50,
   "id": "8ef5d890",
   "metadata": {},
   "outputs": [],
   "source": [
    "\n",
    "def roc_scores(model_name):\n",
    "    scores = np.zeros(len(DIRS))\n",
    "    for idx, d in enumerate(DIRS):\n",
    "        A = np.load(DATA_ROOT + d + DATASET + model_to_embs[model_name])\n",
    "        file = DATA_ROOT + d + DATASET + '_test_adj.npz'\n",
    "        dot = create_dot_df(A, file)\n",
    "        scores[idx] = get_roc_score(dot)\n",
    "    return scores\n",
    "\n",
    "\n",
    "def statisticalp_scores(model_name, K=5):\n",
    "    scores, scores_gini = np.zeros(len(DIRS)), np.zeros(len(DIRS))\n",
    "    for idx, d in enumerate(DIRS):\n",
    "        A = np.load(DATA_ROOT + d + DATASET + model_to_embs[model_name])\n",
    "        edges = snakemake_utils.return_new_graph(A, K)\n",
    "        scores_gini[idx] = statistical_parity(edges, y, metric='gini')\n",
    "        \n",
    "        scores[idx] = statistical_parity(edges, y, )\n",
    "    return scores, scores_gini"
   ]
  },
  {
   "cell_type": "code",
   "execution_count": 51,
   "id": "229b6d10",
   "metadata": {},
   "outputs": [
    {
     "name": "stdout",
     "output_type": "stream",
     "text": [
      "selected edge_idx size: 17917717\n",
      "selected edge_idx size: 17919216\n",
      "selected edge_idx size: 17916741\n",
      "selected edge_idx size: 17917951\n",
      "selected edge_idx size: 17918097\n",
      "selected edge_idx size: 17917717\n",
      "selected edge_idx size: 17919216\n",
      "selected edge_idx size: 17916741\n",
      "selected edge_idx size: 17917951\n",
      "selected edge_idx size: 17918097\n",
      "selected edge_idx size: 17917717\n",
      "selected edge_idx size: 17919216\n",
      "selected edge_idx size: 17916741\n",
      "selected edge_idx size: 17917951\n",
      "selected edge_idx size: 17918097\n",
      "selected edge_idx size: 17917717\n",
      "selected edge_idx size: 17919216\n",
      "selected edge_idx size: 17916741\n",
      "selected edge_idx size: 17917951\n",
      "selected edge_idx size: 17918097\n",
      "selected edge_idx size: 17917717\n",
      "selected edge_idx size: 17919216\n",
      "selected edge_idx size: 17916741\n",
      "selected edge_idx size: 17917951\n",
      "selected edge_idx size: 17918097\n",
      "selected edge_idx size: 17917717\n",
      "selected edge_idx size: 17919216\n",
      "selected edge_idx size: 17916741\n",
      "selected edge_idx size: 17917951\n",
      "selected edge_idx size: 17918097\n",
      "selected edge_idx size: 17917717\n",
      "selected edge_idx size: 17919216\n",
      "selected edge_idx size: 17916741\n",
      "selected edge_idx size: 17917951\n",
      "selected edge_idx size: 17918097\n",
      "selected edge_idx size: 17917717\n",
      "selected edge_idx size: 17919216\n",
      "selected edge_idx size: 17916741\n",
      "selected edge_idx size: 17917951\n",
      "selected edge_idx size: 17918097\n",
      "selected edge_idx size: 17917717\n",
      "selected edge_idx size: 17919216\n",
      "selected edge_idx size: 17916741\n",
      "selected edge_idx size: 17917951\n",
      "selected edge_idx size: 17918097\n",
      "selected edge_idx size: 17917717\n",
      "selected edge_idx size: 17919216\n",
      "selected edge_idx size: 17916741\n",
      "selected edge_idx size: 17917951\n",
      "selected edge_idx size: 17918097\n",
      "selected edge_idx size: 17917717\n",
      "selected edge_idx size: 17919216\n",
      "selected edge_idx size: 17916741\n",
      "selected edge_idx size: 17917951\n",
      "selected edge_idx size: 17918097\n",
      "selected edge_idx size: 17917717\n",
      "selected edge_idx size: 17919216\n",
      "selected edge_idx size: 17916741\n",
      "selected edge_idx size: 17917951\n",
      "selected edge_idx size: 17918097\n",
      "selected edge_idx size: 17917717\n",
      "selected edge_idx size: 17919216\n",
      "selected edge_idx size: 17916741\n",
      "selected edge_idx size: 17917951\n",
      "selected edge_idx size: 17918097\n",
      "selected edge_idx size: 17917717\n",
      "selected edge_idx size: 17919216\n",
      "selected edge_idx size: 17916741\n",
      "selected edge_idx size: 17917951\n",
      "selected edge_idx size: 17918097\n",
      "fairwalk+deepwalk 0.981545168446926\n",
      "fairwalk+node2vec 0.9910876432807447\n",
      "crosswalk+deepwalk 0.963088263026977\n",
      "crosswalk+node2vec 0.9711926055316915\n",
      "GCN+deepwalk+random 0.959745545715227\n",
      "GCN+deepwalk+r2v 0.964606186174106\n",
      "GCN+node2vec+random 0.9685663243603354\n",
      "GCN+node2vec+r2v 0.9701452823727477\n",
      "GAT+deepwalk+random 0.9634022062663495\n",
      "GAT+deepwalk+r2v 0.9633125404722463\n",
      "GAT+node2vec+random 0.970717374556696\n",
      "GAT+node2vec+r2v 0.9700813430912973\n",
      "deepwalk 0.9831638827762912\n",
      "node2vec 0.9920275698056221\n"
     ]
    },
    {
     "data": {
      "text/plain": [
       "Text(0.5, 1.0, 'roc scores')"
      ]
     },
     "execution_count": 51,
     "metadata": {},
     "output_type": "execute_result"
    },
    {
     "data": {
      "image/png": "[encoded data removed]",
      "text/plain": [
       "<Figure size 1080x576 with 1 Axes>"
      ]
     },
     "metadata": {},
     "output_type": "display_data"
    }
   ],
   "source": [
    "\n",
    "roc_score = {m: np.mean(roc_scores(m)) for m in model_to_embs}\n",
    "\n",
    "for i, j in roc_score.items(): print(i, j)\n",
    "sns.set(rc = {'figure.figsize':(15,8)})\n",
    "ax = sns.barplot(x=list(roc_score.keys()), y=list(roc_score.values()))\n",
    "ax.set_ylim(min(roc_score.values()) * .9, max(roc_score.values()) * 1.1)\n",
    "ax.set_xticklabels(ax.get_xticklabels(),rotation = 45)\n",
    "ax.set_title(\"roc scores\")"
   ]
  },
  {
   "cell_type": "code",
   "execution_count": 52,
   "id": "1f3cba0c",
   "metadata": {},
   "outputs": [
    {
     "name": "stderr",
     "output_type": "stream",
     "text": [
      "100%|███████████████████████████████████████████████████████████████████████████████████████████████████████████████████████| 816/816 [00:09<00:00, 84.93it/s]\n",
      "100%|███████████████████████████████████████████████████████████████████████████████████████████████████████████████████████| 816/816 [00:09<00:00, 85.00it/s]\n",
      "100%|███████████████████████████████████████████████████████████████████████████████████████████████████████████████████████| 816/816 [00:09<00:00, 90.50it/s]\n",
      "100%|███████████████████████████████████████████████████████████████████████████████████████████████████████████████████████| 816/816 [00:09<00:00, 88.07it/s]\n",
      "100%|███████████████████████████████████████████████████████████████████████████████████████████████████████████████████████| 816/816 [00:09<00:00, 87.91it/s]\n",
      "100%|███████████████████████████████████████████████████████████████████████████████████████████████████████████████████████| 816/816 [00:09<00:00, 86.95it/s]\n",
      "100%|███████████████████████████████████████████████████████████████████████████████████████████████████████████████████████| 816/816 [00:09<00:00, 87.78it/s]\n",
      "100%|███████████████████████████████████████████████████████████████████████████████████████████████████████████████████████| 816/816 [00:09<00:00, 84.67it/s]\n",
      "100%|███████████████████████████████████████████████████████████████████████████████████████████████████████████████████████| 816/816 [00:09<00:00, 81.73it/s]\n",
      "100%|███████████████████████████████████████████████████████████████████████████████████████████████████████████████████████| 816/816 [00:09<00:00, 87.40it/s]\n",
      "100%|███████████████████████████████████████████████████████████████████████████████████████████████████████████████████████| 816/816 [00:09<00:00, 83.59it/s]\n",
      "100%|███████████████████████████████████████████████████████████████████████████████████████████████████████████████████████| 816/816 [00:09<00:00, 82.92it/s]\n",
      "100%|███████████████████████████████████████████████████████████████████████████████████████████████████████████████████████| 816/816 [00:09<00:00, 82.33it/s]\n",
      "100%|███████████████████████████████████████████████████████████████████████████████████████████████████████████████████████| 816/816 [00:09<00:00, 84.83it/s]\n",
      "100%|███████████████████████████████████████████████████████████████████████████████████████████████████████████████████████| 816/816 [00:09<00:00, 83.70it/s]\n",
      "100%|███████████████████████████████████████████████████████████████████████████████████████████████████████████████████████| 816/816 [00:09<00:00, 87.05it/s]\n",
      "100%|███████████████████████████████████████████████████████████████████████████████████████████████████████████████████████| 816/816 [00:09<00:00, 83.32it/s]\n",
      "100%|███████████████████████████████████████████████████████████████████████████████████████████████████████████████████████| 816/816 [00:09<00:00, 83.95it/s]\n",
      "100%|███████████████████████████████████████████████████████████████████████████████████████████████████████████████████████| 816/816 [00:09<00:00, 83.71it/s]\n",
      "100%|███████████████████████████████████████████████████████████████████████████████████████████████████████████████████████| 816/816 [00:10<00:00, 80.60it/s]\n",
      "100%|███████████████████████████████████████████████████████████████████████████████████████████████████████████████████████| 816/816 [00:08<00:00, 93.42it/s]\n",
      "100%|███████████████████████████████████████████████████████████████████████████████████████████████████████████████████████| 816/816 [00:08<00:00, 94.94it/s]\n",
      "100%|███████████████████████████████████████████████████████████████████████████████████████████████████████████████████████| 816/816 [00:08<00:00, 93.09it/s]\n",
      "100%|███████████████████████████████████████████████████████████████████████████████████████████████████████████████████████| 816/816 [00:08<00:00, 95.51it/s]\n",
      "100%|███████████████████████████████████████████████████████████████████████████████████████████████████████████████████████| 816/816 [00:08<00:00, 95.29it/s]\n",
      "100%|███████████████████████████████████████████████████████████████████████████████████████████████████████████████████████| 816/816 [00:08<00:00, 95.71it/s]\n",
      "100%|███████████████████████████████████████████████████████████████████████████████████████████████████████████████████████| 816/816 [00:08<00:00, 94.95it/s]\n",
      "100%|███████████████████████████████████████████████████████████████████████████████████████████████████████████████████████| 816/816 [00:08<00:00, 95.87it/s]\n",
      "100%|███████████████████████████████████████████████████████████████████████████████████████████████████████████████████████| 816/816 [00:08<00:00, 96.13it/s]\n",
      "100%|███████████████████████████████████████████████████████████████████████████████████████████████████████████████████████| 816/816 [00:08<00:00, 96.11it/s]\n",
      "100%|███████████████████████████████████████████████████████████████████████████████████████████████████████████████████████| 816/816 [00:08<00:00, 96.55it/s]\n",
      "100%|███████████████████████████████████████████████████████████████████████████████████████████████████████████████████████| 816/816 [00:08<00:00, 97.42it/s]\n",
      "100%|███████████████████████████████████████████████████████████████████████████████████████████████████████████████████████| 816/816 [00:08<00:00, 97.09it/s]\n",
      "100%|███████████████████████████████████████████████████████████████████████████████████████████████████████████████████████| 816/816 [00:08<00:00, 96.51it/s]\n",
      "100%|███████████████████████████████████████████████████████████████████████████████████████████████████████████████████████| 816/816 [00:08<00:00, 96.91it/s]\n",
      "100%|███████████████████████████████████████████████████████████████████████████████████████████████████████████████████████| 816/816 [00:08<00:00, 97.34it/s]\n",
      "100%|███████████████████████████████████████████████████████████████████████████████████████████████████████████████████████| 816/816 [00:08<00:00, 97.78it/s]\n",
      "100%|███████████████████████████████████████████████████████████████████████████████████████████████████████████████████████| 816/816 [00:08<00:00, 97.84it/s]\n",
      "100%|███████████████████████████████████████████████████████████████████████████████████████████████████████████████████████| 816/816 [00:08<00:00, 98.43it/s]\n",
      "100%|███████████████████████████████████████████████████████████████████████████████████████████████████████████████████████| 816/816 [00:08<00:00, 98.64it/s]\n",
      "100%|███████████████████████████████████████████████████████████████████████████████████████████████████████████████████████| 816/816 [00:08<00:00, 93.13it/s]\n",
      "100%|███████████████████████████████████████████████████████████████████████████████████████████████████████████████████████| 816/816 [00:08<00:00, 93.06it/s]\n",
      "100%|███████████████████████████████████████████████████████████████████████████████████████████████████████████████████████| 816/816 [00:08<00:00, 92.50it/s]\n",
      "100%|███████████████████████████████████████████████████████████████████████████████████████████████████████████████████████| 816/816 [00:08<00:00, 91.39it/s]\n",
      "100%|███████████████████████████████████████████████████████████████████████████████████████████████████████████████████████| 816/816 [00:08<00:00, 95.04it/s]\n",
      "100%|███████████████████████████████████████████████████████████████████████████████████████████████████████████████████████| 816/816 [00:08<00:00, 93.49it/s]\n",
      "100%|███████████████████████████████████████████████████████████████████████████████████████████████████████████████████████| 816/816 [00:09<00:00, 90.61it/s]\n",
      "100%|███████████████████████████████████████████████████████████████████████████████████████████████████████████████████████| 816/816 [00:08<00:00, 95.37it/s]\n",
      "100%|███████████████████████████████████████████████████████████████████████████████████████████████████████████████████████| 816/816 [00:08<00:00, 96.48it/s]\n",
      "100%|███████████████████████████████████████████████████████████████████████████████████████████████████████████████████████| 816/816 [00:08<00:00, 96.71it/s]\n",
      "100%|███████████████████████████████████████████████████████████████████████████████████████████████████████████████████████| 816/816 [00:08<00:00, 97.09it/s]\n"
     ]
    },
    {
     "name": "stderr",
     "output_type": "stream",
     "text": [
      "100%|███████████████████████████████████████████████████████████████████████████████████████████████████████████████████████| 816/816 [00:08<00:00, 96.32it/s]\n",
      "100%|███████████████████████████████████████████████████████████████████████████████████████████████████████████████████████| 816/816 [00:08<00:00, 96.06it/s]\n",
      "100%|███████████████████████████████████████████████████████████████████████████████████████████████████████████████████████| 816/816 [00:08<00:00, 93.17it/s]\n",
      "100%|███████████████████████████████████████████████████████████████████████████████████████████████████████████████████████| 816/816 [00:08<00:00, 92.55it/s]\n",
      "100%|███████████████████████████████████████████████████████████████████████████████████████████████████████████████████████| 816/816 [00:08<00:00, 96.62it/s]\n",
      "100%|███████████████████████████████████████████████████████████████████████████████████████████████████████████████████████| 816/816 [00:08<00:00, 95.41it/s]\n",
      "100%|███████████████████████████████████████████████████████████████████████████████████████████████████████████████████████| 816/816 [00:08<00:00, 97.55it/s]\n",
      "100%|███████████████████████████████████████████████████████████████████████████████████████████████████████████████████████| 816/816 [00:08<00:00, 97.95it/s]\n",
      "100%|███████████████████████████████████████████████████████████████████████████████████████████████████████████████████████| 816/816 [00:08<00:00, 98.58it/s]\n",
      "100%|███████████████████████████████████████████████████████████████████████████████████████████████████████████████████████| 816/816 [00:09<00:00, 87.49it/s]\n",
      "100%|███████████████████████████████████████████████████████████████████████████████████████████████████████████████████████| 816/816 [00:09<00:00, 86.12it/s]\n",
      "100%|███████████████████████████████████████████████████████████████████████████████████████████████████████████████████████| 816/816 [00:09<00:00, 86.68it/s]\n",
      "100%|███████████████████████████████████████████████████████████████████████████████████████████████████████████████████████| 816/816 [00:09<00:00, 86.25it/s]\n",
      "100%|███████████████████████████████████████████████████████████████████████████████████████████████████████████████████████| 816/816 [00:09<00:00, 86.56it/s]\n",
      "100%|███████████████████████████████████████████████████████████████████████████████████████████████████████████████████████| 816/816 [00:09<00:00, 86.88it/s]\n",
      "100%|███████████████████████████████████████████████████████████████████████████████████████████████████████████████████████| 816/816 [00:09<00:00, 86.77it/s]\n",
      "100%|███████████████████████████████████████████████████████████████████████████████████████████████████████████████████████| 816/816 [00:09<00:00, 88.07it/s]\n",
      "100%|███████████████████████████████████████████████████████████████████████████████████████████████████████████████████████| 816/816 [00:09<00:00, 87.81it/s]\n",
      "100%|███████████████████████████████████████████████████████████████████████████████████████████████████████████████████████| 816/816 [00:09<00:00, 86.29it/s]\n"
     ]
    },
    {
     "name": "stdout",
     "output_type": "stream",
     "text": [
      "fairwalk+deepwalk 9.396449164592177e-07\n",
      "fairwalk+node2vec 9.86979785018412e-07\n",
      "crosswalk+deepwalk 9.334447338525636e-07\n",
      "crosswalk+node2vec 9.749408015532977e-07\n",
      "GCN+deepwalk+random 7.671799637929431e-07\n",
      "GCN+deepwalk+r2v 7.678600433306331e-07\n",
      "GCN+node2vec+random 8.040647423891861e-07\n",
      "GCN+node2vec+r2v 8.02886353980177e-07\n",
      "GAT+deepwalk+random 7.682661162281262e-07\n",
      "GAT+deepwalk+r2v 7.677394656760628e-07\n",
      "GAT+node2vec+random 8.044280589715197e-07\n",
      "GAT+node2vec+r2v 8.050831290130308e-07\n",
      "deepwalk 9.439851499161663e-07\n",
      "node2vec 1.0205721126012086e-06\n"
     ]
    },
    {
     "data": {
      "text/plain": [
       "Text(0.5, 1.0, 'statistical parity scores')"
      ]
     },
     "execution_count": 52,
     "metadata": {},
     "output_type": "execute_result"
    },
    {
     "data": {
      "image/png": "[encoded data removed]",
      "text/plain": [
       "<Figure size 1080x576 with 1 Axes>"
      ]
     },
     "metadata": {},
     "output_type": "display_data"
    }
   ],
   "source": [
    "\n",
    "temp = {m: statisticalp_scores(m) for m in model_to_embs}\n",
    "\n",
    "sp_score = {m: np.mean(v[0]) for m,v in temp.items()}\n",
    "for i, j in sp_score.items(): print(i, j)\n",
    "sns.set(rc = {'figure.figsize':(15,8)})\n",
    "ax = sns.barplot(x=list(sp_score.keys()), y=list(sp_score.values()))\n",
    "ax.set_ylim(min(sp_score.values()) * .9, max(sp_score.values()) * 1.1)\n",
    "ax.set_xticklabels(ax.get_xticklabels(),rotation = 45)\n",
    "ax.set_title(\"statistical parity scores\")"
   ]
  },
  {
   "cell_type": "code",
   "execution_count": 53,
   "id": "dc0cc7e5",
   "metadata": {},
   "outputs": [
    {
     "name": "stdout",
     "output_type": "stream",
     "text": [
      "fairwalk+deepwalk 0.08451818846750281\n",
      "fairwalk+node2vec 0.09567440064499835\n",
      "crosswalk+deepwalk 0.088622073463631\n",
      "crosswalk+node2vec 0.09937933442080846\n",
      "GCN+deepwalk+random 0.07702268240556916\n",
      "GCN+deepwalk+r2v 0.07725340674113503\n",
      "GCN+node2vec+random 0.07895043559038487\n",
      "GCN+node2vec+r2v 0.07873493418104163\n",
      "GAT+deepwalk+random 0.07690359760134449\n",
      "GAT+deepwalk+r2v 0.07710812125246938\n",
      "GAT+node2vec+random 0.07876128896185909\n",
      "GAT+node2vec+r2v 0.0788284765399616\n",
      "deepwalk 0.08584283937699871\n",
      "node2vec 0.09972975227595313\n"
     ]
    },
    {
     "data": {
      "text/plain": [
       "Text(0.5, 1.0, 'gini statistical parity scores')"
      ]
     },
     "execution_count": 53,
     "metadata": {},
     "output_type": "execute_result"
    },
    {
     "data": {
      "image/png": "[encoded data removed]",
      "text/plain": [
       "<Figure size 1080x576 with 1 Axes>"
      ]
     },
     "metadata": {},
     "output_type": "display_data"
    }
   ],
   "source": [
    "gini_score = {m: np.mean(v[1]) for m,v in temp.items()}\n",
    "for i, j in gini_score.items(): print(i, j)\n",
    "sns.set(rc = {'figure.figsize':(15,8)})\n",
    "ax = sns.barplot(x=list(gini_score.keys()), y=list(gini_score.values()))\n",
    "ax.set_ylim(min(gini_score.values()) * .9, max(gini_score.values()) * 1.1)\n",
    "ax.set_xticklabels(ax.get_xticklabels(),rotation = 45)\n",
    "ax.set_title(\"gini statistical parity scores\")"
   ]
  },
  {
   "cell_type": "code",
   "execution_count": 54,
   "id": "dfe295a8",
   "metadata": {},
   "outputs": [
    {
     "name": "stdout",
     "output_type": "stream",
     "text": [
      "selected edge_idx size: 17917717\n",
      "selected edge_idx size: 17919216\n",
      "selected edge_idx size: 17916741\n",
      "selected edge_idx size: 17917951\n",
      "selected edge_idx size: 17918097\n",
      "selected edge_idx size: 17917717\n",
      "selected edge_idx size: 17919216\n",
      "selected edge_idx size: 17916741\n",
      "selected edge_idx size: 17917951\n",
      "selected edge_idx size: 17918097\n",
      "selected edge_idx size: 17917717\n",
      "selected edge_idx size: 17919216\n",
      "selected edge_idx size: 17916741\n",
      "selected edge_idx size: 17917951\n",
      "selected edge_idx size: 17918097\n",
      "selected edge_idx size: 17917717\n",
      "selected edge_idx size: 17919216\n",
      "selected edge_idx size: 17916741\n",
      "selected edge_idx size: 17917951\n",
      "selected edge_idx size: 17918097\n",
      "selected edge_idx size: 17917717\n",
      "selected edge_idx size: 17919216\n",
      "selected edge_idx size: 17916741\n",
      "selected edge_idx size: 17917951\n",
      "selected edge_idx size: 17918097\n",
      "selected edge_idx size: 17917717\n",
      "selected edge_idx size: 17919216\n",
      "selected edge_idx size: 17916741\n",
      "selected edge_idx size: 17917951\n",
      "selected edge_idx size: 17918097\n",
      "selected edge_idx size: 17917717\n",
      "selected edge_idx size: 17919216\n",
      "selected edge_idx size: 17916741\n",
      "selected edge_idx size: 17917951\n",
      "selected edge_idx size: 17918097\n",
      "selected edge_idx size: 17917717\n",
      "selected edge_idx size: 17919216\n",
      "selected edge_idx size: 17916741\n",
      "selected edge_idx size: 17917951\n",
      "selected edge_idx size: 17918097\n",
      "selected edge_idx size: 17917717\n",
      "selected edge_idx size: 17919216\n",
      "selected edge_idx size: 17916741\n",
      "selected edge_idx size: 17917951\n",
      "selected edge_idx size: 17918097\n",
      "selected edge_idx size: 17917717\n",
      "selected edge_idx size: 17919216\n",
      "selected edge_idx size: 17916741\n",
      "selected edge_idx size: 17917951\n",
      "selected edge_idx size: 17918097\n",
      "selected edge_idx size: 17917717\n",
      "selected edge_idx size: 17919216\n",
      "selected edge_idx size: 17916741\n",
      "selected edge_idx size: 17917951\n",
      "selected edge_idx size: 17918097\n",
      "selected edge_idx size: 17917717\n",
      "selected edge_idx size: 17919216\n",
      "selected edge_idx size: 17916741\n",
      "selected edge_idx size: 17917951\n",
      "selected edge_idx size: 17918097\n",
      "selected edge_idx size: 17917717\n",
      "selected edge_idx size: 17919216\n",
      "selected edge_idx size: 17916741\n",
      "selected edge_idx size: 17917951\n",
      "selected edge_idx size: 17918097\n",
      "selected edge_idx size: 17917717\n",
      "selected edge_idx size: 17919216\n",
      "selected edge_idx size: 17916741\n",
      "selected edge_idx size: 17917951\n",
      "selected edge_idx size: 17918097\n"
     ]
    },
    {
     "name": "stderr",
     "output_type": "stream",
     "text": [
      "100%|███████████████████████████████████████████████████████████████████████████████████████████████████████████████████████| 816/816 [00:09<00:00, 84.70it/s]\n",
      "100%|███████████████████████████████████████████████████████████████████████████████████████████████████████████████████████| 816/816 [00:09<00:00, 88.70it/s]\n",
      "100%|███████████████████████████████████████████████████████████████████████████████████████████████████████████████████████| 816/816 [00:09<00:00, 89.09it/s]\n",
      "100%|███████████████████████████████████████████████████████████████████████████████████████████████████████████████████████| 816/816 [00:09<00:00, 87.64it/s]\n",
      "100%|███████████████████████████████████████████████████████████████████████████████████████████████████████████████████████| 816/816 [00:09<00:00, 85.97it/s]\n",
      "100%|███████████████████████████████████████████████████████████████████████████████████████████████████████████████████████| 816/816 [00:09<00:00, 87.75it/s]\n",
      "100%|███████████████████████████████████████████████████████████████████████████████████████████████████████████████████████| 816/816 [00:09<00:00, 87.99it/s]\n",
      "100%|███████████████████████████████████████████████████████████████████████████████████████████████████████████████████████| 816/816 [00:09<00:00, 86.35it/s]\n",
      "100%|███████████████████████████████████████████████████████████████████████████████████████████████████████████████████████| 816/816 [00:09<00:00, 86.64it/s]\n",
      "100%|███████████████████████████████████████████████████████████████████████████████████████████████████████████████████████| 816/816 [00:09<00:00, 86.76it/s]\n",
      "100%|███████████████████████████████████████████████████████████████████████████████████████████████████████████████████████| 816/816 [00:10<00:00, 80.99it/s]\n",
      "100%|███████████████████████████████████████████████████████████████████████████████████████████████████████████████████████| 816/816 [00:09<00:00, 82.04it/s]\n",
      "100%|███████████████████████████████████████████████████████████████████████████████████████████████████████████████████████| 816/816 [00:09<00:00, 83.59it/s]\n",
      "100%|███████████████████████████████████████████████████████████████████████████████████████████████████████████████████████| 816/816 [00:09<00:00, 85.30it/s]\n",
      "100%|███████████████████████████████████████████████████████████████████████████████████████████████████████████████████████| 816/816 [00:10<00:00, 76.43it/s]\n",
      "100%|███████████████████████████████████████████████████████████████████████████████████████████████████████████████████████| 816/816 [00:09<00:00, 85.60it/s]\n",
      "100%|███████████████████████████████████████████████████████████████████████████████████████████████████████████████████████| 816/816 [00:09<00:00, 86.06it/s]\n",
      "100%|███████████████████████████████████████████████████████████████████████████████████████████████████████████████████████| 816/816 [00:09<00:00, 86.62it/s]\n",
      "100%|███████████████████████████████████████████████████████████████████████████████████████████████████████████████████████| 816/816 [00:09<00:00, 83.94it/s]\n",
      "100%|███████████████████████████████████████████████████████████████████████████████████████████████████████████████████████| 816/816 [00:09<00:00, 86.23it/s]\n",
      "100%|███████████████████████████████████████████████████████████████████████████████████████████████████████████████████████| 816/816 [00:08<00:00, 95.71it/s]\n",
      "100%|███████████████████████████████████████████████████████████████████████████████████████████████████████████████████████| 816/816 [00:08<00:00, 96.36it/s]\n",
      "100%|███████████████████████████████████████████████████████████████████████████████████████████████████████████████████████| 816/816 [00:08<00:00, 94.81it/s]\n",
      "100%|███████████████████████████████████████████████████████████████████████████████████████████████████████████████████████| 816/816 [00:08<00:00, 92.32it/s]\n",
      "100%|███████████████████████████████████████████████████████████████████████████████████████████████████████████████████████| 816/816 [00:08<00:00, 93.92it/s]\n",
      "100%|███████████████████████████████████████████████████████████████████████████████████████████████████████████████████████| 816/816 [00:08<00:00, 97.10it/s]\n",
      "100%|███████████████████████████████████████████████████████████████████████████████████████████████████████████████████████| 816/816 [00:08<00:00, 95.37it/s]\n",
      "100%|███████████████████████████████████████████████████████████████████████████████████████████████████████████████████████| 816/816 [00:08<00:00, 96.69it/s]\n",
      "100%|███████████████████████████████████████████████████████████████████████████████████████████████████████████████████████| 816/816 [00:08<00:00, 93.03it/s]\n",
      "100%|███████████████████████████████████████████████████████████████████████████████████████████████████████████████████████| 816/816 [00:08<00:00, 93.68it/s]\n",
      "100%|███████████████████████████████████████████████████████████████████████████████████████████████████████████████████████| 816/816 [00:08<00:00, 96.87it/s]\n",
      "100%|███████████████████████████████████████████████████████████████████████████████████████████████████████████████████████| 816/816 [00:08<00:00, 96.34it/s]\n",
      "100%|███████████████████████████████████████████████████████████████████████████████████████████████████████████████████████| 816/816 [00:08<00:00, 94.22it/s]\n",
      "100%|███████████████████████████████████████████████████████████████████████████████████████████████████████████████████████| 816/816 [00:08<00:00, 95.94it/s]\n",
      "100%|███████████████████████████████████████████████████████████████████████████████████████████████████████████████████████| 816/816 [00:08<00:00, 96.65it/s]\n",
      "100%|███████████████████████████████████████████████████████████████████████████████████████████████████████████████████████| 816/816 [00:08<00:00, 96.12it/s]\n",
      "100%|███████████████████████████████████████████████████████████████████████████████████████████████████████████████████████| 816/816 [00:08<00:00, 98.59it/s]\n",
      "100%|███████████████████████████████████████████████████████████████████████████████████████████████████████████████████████| 816/816 [00:08<00:00, 96.78it/s]\n",
      "100%|███████████████████████████████████████████████████████████████████████████████████████████████████████████████████████| 816/816 [00:08<00:00, 96.42it/s]\n",
      "100%|███████████████████████████████████████████████████████████████████████████████████████████████████████████████████████| 816/816 [00:08<00:00, 97.81it/s]\n",
      "100%|███████████████████████████████████████████████████████████████████████████████████████████████████████████████████████| 816/816 [00:08<00:00, 93.17it/s]\n",
      "100%|███████████████████████████████████████████████████████████████████████████████████████████████████████████████████████| 816/816 [00:08<00:00, 95.14it/s]\n",
      "100%|███████████████████████████████████████████████████████████████████████████████████████████████████████████████████████| 816/816 [00:08<00:00, 94.15it/s]\n",
      "100%|███████████████████████████████████████████████████████████████████████████████████████████████████████████████████████| 816/816 [00:08<00:00, 95.24it/s]\n",
      "100%|███████████████████████████████████████████████████████████████████████████████████████████████████████████████████████| 816/816 [00:08<00:00, 93.71it/s]\n",
      "100%|███████████████████████████████████████████████████████████████████████████████████████████████████████████████████████| 816/816 [00:08<00:00, 96.45it/s]\n",
      "100%|███████████████████████████████████████████████████████████████████████████████████████████████████████████████████████| 816/816 [00:08<00:00, 97.00it/s]\n",
      "100%|███████████████████████████████████████████████████████████████████████████████████████████████████████████████████████| 816/816 [00:08<00:00, 97.94it/s]\n",
      "100%|███████████████████████████████████████████████████████████████████████████████████████████████████████████████████████| 816/816 [00:08<00:00, 95.74it/s]\n",
      "100%|███████████████████████████████████████████████████████████████████████████████████████████████████████████████████████| 816/816 [00:08<00:00, 96.61it/s]\n",
      "100%|███████████████████████████████████████████████████████████████████████████████████████████████████████████████████████| 816/816 [00:08<00:00, 98.21it/s]\n"
     ]
    },
    {
     "name": "stderr",
     "output_type": "stream",
     "text": [
      "100%|███████████████████████████████████████████████████████████████████████████████████████████████████████████████████████| 816/816 [00:08<00:00, 97.12it/s]\n",
      "100%|███████████████████████████████████████████████████████████████████████████████████████████████████████████████████████| 816/816 [00:08<00:00, 96.69it/s]\n",
      "100%|███████████████████████████████████████████████████████████████████████████████████████████████████████████████████████| 816/816 [00:08<00:00, 95.73it/s]\n",
      "100%|███████████████████████████████████████████████████████████████████████████████████████████████████████████████████████| 816/816 [00:08<00:00, 96.18it/s]\n",
      "100%|███████████████████████████████████████████████████████████████████████████████████████████████████████████████████████| 816/816 [00:08<00:00, 96.44it/s]\n",
      "100%|███████████████████████████████████████████████████████████████████████████████████████████████████████████████████████| 816/816 [00:08<00:00, 92.30it/s]\n",
      "100%|███████████████████████████████████████████████████████████████████████████████████████████████████████████████████████| 816/816 [00:08<00:00, 95.08it/s]\n",
      "100%|███████████████████████████████████████████████████████████████████████████████████████████████████████████████████████| 816/816 [00:08<00:00, 96.90it/s]\n",
      "100%|███████████████████████████████████████████████████████████████████████████████████████████████████████████████████████| 816/816 [00:08<00:00, 95.63it/s]\n",
      "100%|███████████████████████████████████████████████████████████████████████████████████████████████████████████████████████| 816/816 [00:09<00:00, 90.13it/s]\n",
      "100%|███████████████████████████████████████████████████████████████████████████████████████████████████████████████████████| 816/816 [00:09<00:00, 85.74it/s]\n",
      "100%|███████████████████████████████████████████████████████████████████████████████████████████████████████████████████████| 816/816 [00:09<00:00, 84.47it/s]\n",
      "100%|███████████████████████████████████████████████████████████████████████████████████████████████████████████████████████| 816/816 [00:09<00:00, 88.58it/s]\n",
      "100%|███████████████████████████████████████████████████████████████████████████████████████████████████████████████████████| 816/816 [00:09<00:00, 87.33it/s]\n",
      "100%|███████████████████████████████████████████████████████████████████████████████████████████████████████████████████████| 816/816 [00:09<00:00, 86.01it/s]\n",
      "100%|███████████████████████████████████████████████████████████████████████████████████████████████████████████████████████| 816/816 [00:09<00:00, 87.32it/s]\n",
      "100%|███████████████████████████████████████████████████████████████████████████████████████████████████████████████████████| 816/816 [00:09<00:00, 85.68it/s]\n",
      "100%|███████████████████████████████████████████████████████████████████████████████████████████████████████████████████████| 816/816 [00:09<00:00, 85.97it/s]\n",
      "100%|███████████████████████████████████████████████████████████████████████████████████████████████████████████████████████| 816/816 [00:09<00:00, 83.60it/s]\n"
     ]
    }
   ],
   "source": [
    "\n",
    "# roc_score, sp_score, gini_score= {}, {}, {}\n",
    "roc_score = {m: roc_scores(m) for m in model_to_embs}\n",
    "temp = {m: statisticalp_scores(m) for m in model_to_embs}\n",
    "sp_score = {m: v[0] for m,v in temp.items()}\n",
    "gini_score = {m: v[1] for m,v in temp.items()}\n",
    "pkl.dump(roc_score, open(DATA_ROOT + \"roc_score.pkl\", 'wb'))\n",
    "\n",
    "pkl.dump(sp_score, open(DATA_ROOT + \"sp_score.pkl\", 'wb'))\n",
    "\n",
    "pkl.dump(gini_score, open(DATA_ROOT + \"gini_score.pkl\", 'wb'))"
   ]
  },
  {
   "cell_type": "code",
   "execution_count": null,
   "id": "dd43138f",
   "metadata": {},
   "outputs": [],
   "source": []
  }
 ],
 "metadata": {
  "kernelspec": {
   "display_name": "Python 3 (ipykernel)",
   "language": "python",
   "name": "python3"
  },
  "language_info": {
   "codemirror_mode": {
    "name": "ipython",
    "version": 3
   },
   "file_extension": ".py",
   "mimetype": "text/x-python",
   "name": "python",
   "nbconvert_exporter": "python",
   "pygments_lexer": "ipython3",
   "version": "3.7.13"
  }
 },
 "nbformat": 4,
 "nbformat_minor": 5
}
