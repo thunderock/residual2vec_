{
 "cells": [
  {
   "cell_type": "code",
   "execution_count": 1,
   "id": "16d1921c",
   "metadata": {},
   "outputs": [],
   "source": [
    "import sys, os\n",
    "sys.path.insert(0, '../..')\n",
    "# os.environ[\"CUDA_VISIBLE_DEVICES\"]=\"\""
   ]
  },
  {
   "cell_type": "code",
   "execution_count": 2,
   "id": "5d539127",
   "metadata": {},
   "outputs": [
    {
     "name": "stderr",
     "output_type": "stream",
     "text": [
      "/data/sg/ashutiwa/miniconda3/lib/python3.7/site-packages/tqdm/auto.py:22: TqdmWarning: IProgress not found. Please update jupyter and ipywidgets. See https://ipywidgets.readthedocs.io/en/stable/user_install.html\n",
      "  from .autonotebook import tqdm as notebook_tqdm\n"
     ]
    },
    {
     "name": "stdout",
     "output_type": "stream",
     "text": [
      "Using GPU: cuda:0\n"
     ]
    }
   ],
   "source": [
    "import numpy as np\n",
    "import pandas as pd\n",
    "import torch\n",
    "from models.weighted_node2vec import WeightedNode2Vec\n",
    "from dataset import triplet_dataset, pokec_data\n",
    "from utils.config import DEVICE\n",
    "import gc\n",
    "from tqdm import trange\n",
    "from utils.link_prediction import GCNLinkPrediction\n",
    "import residual2vec as rv\n",
    "import warnings\n",
    "import faiss\n",
    "import matplotlib.pyplot as plt\n",
    "from utils.score import statistical_parity\n",
    "from utils import graph_utils\n",
    "from utils.snakemake_utils import FileResources\n",
    "import seaborn as sns\n",
    "from utils import snakemake_utils\n",
    "import pickle as pkl\n",
    "warnings.filterwarnings(\"ignore\")\n",
    "gc.enable()"
   ]
  },
  {
   "cell_type": "code",
   "execution_count": 3,
   "id": "f7f49384",
   "metadata": {},
   "outputs": [
    {
     "name": "stderr",
     "output_type": "stream",
     "text": [
      "Using existing file soc-pokec-profiles.txt.gz\n",
      "Using existing file soc-pokec-relationships.txt.gz\n"
     ]
    },
    {
     "name": "stdout",
     "output_type": "stream",
     "text": [
      "airport_five  airport_one    airport_two     roc_score.pkl\r\n",
      "airport_four  airport_three  gini_score.pkl  sp_score.pkl\r\n"
     ]
    }
   ],
   "source": [
    "y = snakemake_utils.get_dataset(\"pokec\").get_grouped_col()\n",
    "sp_score, roc_score, gini_score, embs = {}, {}, {}, {}\n",
    "DATA_ROOT = '/data/sg/ashutiwa/final_results/pokec/'\n",
    "! ls /data/sg/ashutiwa/final_results/airport/\n",
    "DIRS = ['pokec_one/', 'pokec_two/', 'pokec_three/', 'pokec_four/', 'pokec_five/']\n",
    "DATASET = 'pokec'\n",
    "M = [\"GCN_baseline\", \"GCN_r2v\", \n",
    "     \"GAT_baseline\",\"GAT_r2v\"]\n",
    "\n",
    "TEST_ADJ_FILE='/data/sg/ashutiwa/final_results/pokec/pokec_one/pokec_test_adj.npz'\n",
    "NUM_NODES = 1632803\n",
    "k=5\n"
   ]
  },
  {
   "cell_type": "markdown",
   "id": "a13d5e9c",
   "metadata": {},
   "source": [
    "# distributions of positive and negative edgeswith dot product"
   ]
  },
  {
   "cell_type": "code",
   "execution_count": 4,
   "id": "7812b391",
   "metadata": {},
   "outputs": [],
   "source": [
    "def get_roc_score(df):\n",
    "    from sklearn.metrics import roc_auc_score\n",
    "    y_pred = np.concatenate((df.positive_dot.values, df.negative_dot.values))\n",
    "    y_true = np.concatenate((np.ones_like(df.positive_dot.values), np.zeros_like(df.negative_dot.values)))\n",
    "    return roc_auc_score(y_true, y_pred)\n",
    "\n"
   ]
  },
  {
   "cell_type": "code",
   "execution_count": 5,
   "id": "9d6ac948",
   "metadata": {},
   "outputs": [],
   "source": [
    "def plot_dot_(df, title):\n",
    "#     df = pd.DataFrame({\n",
    "#         \"positive_dot\": np.array([np.dot(a[i], p[i]) for i in trange(a.shape[0])]),\n",
    "#         \"negative_dot\": np.array([np.dot(a[i], n[i]) for i in trange(a.shape[0])])\n",
    "#     })\n",
    "    \n",
    "#     fig, ax = plt.subplots(1,1)\n",
    "    df.positive_dot.plot(kind='density', title=title)\n",
    "    df.negative_dot.plot(kind='density', title=title)\n",
    "#     ax.set_xlim(-1000, 1000)\n",
    "    ax.legend(['positive_neighbors', 'negative_neighbors'])\n",
    "#     fig.show()"
   ]
  },
  {
   "cell_type": "code",
   "execution_count": 6,
   "id": "4d2aa15f",
   "metadata": {},
   "outputs": [],
   "source": [
    "FILE_CACHE = {}\n",
    "def create_dot_df(A, file=TEST_ADJ_FILE):\n",
    "    \"\"\"\n",
    "    A are node embeddings of shape # nodes \\times 128\n",
    "    \"\"\"\n",
    "    EDGE_IDX = snakemake_utils.get_edge_index_from_sparse_path(file)\n",
    "    if file in FILE_CACHE:\n",
    "        NEGATIVE_EDGE_IDX, EDGE_IDX = FILE_CACHE[file]\n",
    "    else:\n",
    "        NEGATIVE_EDGE_IDX, EDGE_IDX = graph_utils._negative_sampling_sparse(edge_index=EDGE_IDX, n_nodes=NUM_NODES, return_pos_samples=True)\n",
    "        FILE_CACHE[file] = (NEGATIVE_EDGE_IDX, EDGE_IDX)\n",
    "    print(\"selected edge_idx size: {}\".format(EDGE_IDX.size(1)))\n",
    "\n",
    "    positive_dot = np.sum(A[EDGE_IDX[0,:]] * A[EDGE_IDX[1,:]], axis=1)\n",
    "    negative_dot = np.sum(A[NEGATIVE_EDGE_IDX[0,:]] * A[NEGATIVE_EDGE_IDX[1,:]], axis=1)\n",
    "    dot = pd.DataFrame()\n",
    "    dot[\"positive_dot\"] = positive_dot\n",
    "    dot[\"negative_dot\"] = negative_dot\n",
    "    \n",
    "    return dot"
   ]
  },
  {
   "cell_type": "markdown",
   "id": "92c30003",
   "metadata": {},
   "source": [
    "# word2vec baseline"
   ]
  },
  {
   "cell_type": "code",
   "execution_count": 7,
   "id": "0341e2b1",
   "metadata": {},
   "outputs": [],
   "source": [
    "# model = \"word2vec_baseline\"\n",
    "# embs[model] = np.load(DATA_ROOT + DIRS[0] + DATASET + '_word2vec_node2vec_embs.npy')\n",
    "# A = embs[model]\n",
    "# A.shape"
   ]
  },
  {
   "cell_type": "code",
   "execution_count": 8,
   "id": "711b4022",
   "metadata": {},
   "outputs": [],
   "source": [
    "# # plot density\n",
    "# dot = create_dot_df(A)\n",
    "# fig, ax = plt.subplots(1,1)\n",
    "\n",
    "# plot_dot_(dot, title=model + '_dot_density')\n",
    "# # ax.set_xlim(-750, 750)\n",
    "# ax.legend(['positive_neighbors', 'negative_neighbors'])\n",
    "# fig.show()"
   ]
  },
  {
   "cell_type": "code",
   "execution_count": 9,
   "id": "e5d52b40",
   "metadata": {},
   "outputs": [],
   "source": [
    "# # # create edge_list\n",
    "# batch_size = 2000\n",
    "\n",
    "# edges = snakemake_utils.return_new_graph(A, k, )\n",
    "# gini_score[model] = statistical_parity(edges, y, metric='gini')\n",
    "# sp_score[model] = statistical_parity(edges, y, )\n",
    "\n",
    "# roc_score[model] = get_roc_score(dot)\n",
    "# edges.shape, sp_score[model], roc_score[model], gini_score[model]"
   ]
  },
  {
   "cell_type": "markdown",
   "id": "f7d4f7d9",
   "metadata": {},
   "source": [
    "# word2vec crosswalk"
   ]
  },
  {
   "cell_type": "code",
   "execution_count": 10,
   "id": "3a495c8f",
   "metadata": {},
   "outputs": [],
   "source": [
    "# model = \"word2vec_baseline_crosswalk\"\n",
    "# embs[model] = np.load(DATA_ROOT + DIRS[0] + DATASET + '_crosswalk_word2vec_node2vec_embs.npy')\n",
    "# A = embs[model]\n",
    "# A.shape\n"
   ]
  },
  {
   "cell_type": "code",
   "execution_count": 11,
   "id": "0a9a348a",
   "metadata": {},
   "outputs": [],
   "source": [
    "# # plot density\n",
    "# dot = create_dot_df(A)\n",
    "# fig, ax = plt.subplots(1,1)\n",
    "\n",
    "# plot_dot_(dot, title=model + '_dot_density')\n",
    "# # ax.set_xlim(-750, 750)\n",
    "# ax.legend(['positive_neighbors', 'negative_neighbors'])\n",
    "# fig.show()"
   ]
  },
  {
   "cell_type": "code",
   "execution_count": 12,
   "id": "5b7bac45",
   "metadata": {},
   "outputs": [],
   "source": [
    "# # # create edge_list\n",
    "# batch_size = 2000\n",
    "\n",
    "# edges = snakemake_utils.return_new_graph(A, k, )\n",
    "# gini_score[model] = statistical_parity(edges, y, metric='gini')\n",
    "# sp_score[model] = statistical_parity(edges, y, )\n",
    "\n",
    "# roc_score[model] = get_roc_score(dot)\n",
    "# edges.shape, sp_score[model], roc_score[model], gini_score[model]"
   ]
  },
  {
   "cell_type": "markdown",
   "id": "c1d465b7",
   "metadata": {},
   "source": [
    "# word2vec r2v"
   ]
  },
  {
   "cell_type": "code",
   "execution_count": 13,
   "id": "3baf7c19",
   "metadata": {},
   "outputs": [],
   "source": [
    "# model = \"word2vec_r2v\"\n",
    "# embs[model] = np.load(DATA_ROOT + DIRS[0] + DATASET  + '_word2vec_r2v_node2vec_embs.npy')\n",
    "# A = embs[model]\n",
    "# A.shape"
   ]
  },
  {
   "cell_type": "code",
   "execution_count": 14,
   "id": "4319c3d0",
   "metadata": {},
   "outputs": [],
   "source": [
    "# # plot density\n",
    "# dot = create_dot_df(A)\n",
    "# fig, ax = plt.subplots(1,1)\n",
    "\n",
    "# plot_dot_(dot, title=model + '_dot_density')\n",
    "# # ax.set_xlim(-750, 750)\n",
    "# ax.legend(['positive_neighbors', 'negative_neighbors'])\n",
    "# fig.show()"
   ]
  },
  {
   "cell_type": "code",
   "execution_count": 15,
   "id": "74798298",
   "metadata": {},
   "outputs": [],
   "source": [
    "# # # create edge_list\n",
    "# batch_size = 2000\n",
    "\n",
    "# edges = snakemake_utils.return_new_graph(A, k, )\n",
    "# gini_score[model] = statistical_parity(edges, y, metric='gini')\n",
    "# sp_score[model] = statistical_parity(edges, y, )\n",
    "\n",
    "# roc_score[model] = get_roc_score(dot)\n",
    "# edges.shape, sp_score[model], roc_score[model], gini_score[model]"
   ]
  },
  {
   "cell_type": "markdown",
   "id": "337a1b38",
   "metadata": {},
   "source": [
    "# word2vec r2v crosswalk"
   ]
  },
  {
   "cell_type": "code",
   "execution_count": 16,
   "id": "83a9bcd9",
   "metadata": {},
   "outputs": [],
   "source": [
    "# model = \"word2vec_r2v_crosswalk\"\n",
    "# embs[model] = np.load(DATA_ROOT + DIRS[0] + DATASET + '_crosswalk_word2vec_r2v_node2vec_embs.npy')\n",
    "# A = embs[model]\n",
    "\n",
    "# A.shape"
   ]
  },
  {
   "cell_type": "code",
   "execution_count": 17,
   "id": "57106e79",
   "metadata": {},
   "outputs": [],
   "source": [
    "# # plot density\n",
    "# dot = create_dot_df(A)\n",
    "# fig, ax = plt.subplots(1,1)\n",
    "\n",
    "# plot_dot_(dot, title=model + '_dot_density')\n",
    "# # ax.set_xlim(-750, 750)\n",
    "# ax.legend(['positive_neighbors', 'negative_neighbors'])\n",
    "# fig.show()"
   ]
  },
  {
   "cell_type": "code",
   "execution_count": 18,
   "id": "9bc93e35",
   "metadata": {},
   "outputs": [],
   "source": [
    "# # # create edge_list\n",
    "# batch_size = 2000\n",
    "\n",
    "# edges = snakemake_utils.return_new_graph(A, k, )\n",
    "# gini_score[model] = statistical_parity(edges, y, metric='gini')\n",
    "# sp_score[model] = statistical_parity(edges, y, )\n",
    "\n",
    "# roc_score[model] = get_roc_score(dot)\n",
    "# edges.shape, sp_score[model], roc_score[model], gini_score[model]"
   ]
  },
  {
   "cell_type": "markdown",
   "id": "af12f580",
   "metadata": {},
   "source": [
    "# GCN ( baseline)"
   ]
  },
  {
   "cell_type": "code",
   "execution_count": 19,
   "id": "859d0533",
   "metadata": {
    "scrolled": true
   },
   "outputs": [],
   "source": [
    "# model = \"GCN_baseline\"\n",
    "# embs[model] = np.load(DATA_ROOT + DIRS[0] + DATASET + '_gcn_node2vec_embs.npy')\n",
    "# A = embs[model]\n",
    "# A.shape"
   ]
  },
  {
   "cell_type": "code",
   "execution_count": 20,
   "id": "0e2af395",
   "metadata": {},
   "outputs": [],
   "source": [
    "# # plot density\n",
    "# dot = create_dot_df(A)\n",
    "# fig, ax = plt.subplots(1,1)\n",
    "\n",
    "# plot_dot_(dot, title=model + '_dot_density')\n",
    "# # ax.set_xlim(-750, 750)\n",
    "# ax.legend(['positive_neighbors', 'negative_neighbors'])\n",
    "# fig.show()"
   ]
  },
  {
   "cell_type": "code",
   "execution_count": 21,
   "id": "8030cd4e",
   "metadata": {},
   "outputs": [],
   "source": [
    "# # # create edge_list\n",
    "# batch_size = 2000\n",
    "\n",
    "# edges = snakemake_utils.return_new_graph(A, k, )\n",
    "# gini_score[model] = statistical_parity(edges, y, metric='gini')\n",
    "# sp_score[model] = statistical_parity(edges, y, )\n",
    "\n",
    "# roc_score[model] = get_roc_score(dot)\n",
    "# edges.shape, sp_score[model], roc_score[model], gini_score[model]"
   ]
  },
  {
   "cell_type": "markdown",
   "id": "1b2cb32a",
   "metadata": {},
   "source": [
    "# GCN ( baseline + crosswalk)"
   ]
  },
  {
   "cell_type": "code",
   "execution_count": 22,
   "id": "8ed8a9eb",
   "metadata": {
    "scrolled": true
   },
   "outputs": [],
   "source": [
    "# model = \"GCN_baseline_crosswalk\"\n",
    "# embs[model] = np.load(DATA_ROOT + DIRS[0] + DATASET + '_crosswalk_gcn_node2vec_embs.npy')\n",
    "# A = embs[model]\n",
    "# A.shape\n"
   ]
  },
  {
   "cell_type": "code",
   "execution_count": 23,
   "id": "b21db5c5",
   "metadata": {},
   "outputs": [],
   "source": [
    "# # plot density\n",
    "# dot = create_dot_df(A)\n",
    "# fig, ax = plt.subplots(1,1)\n",
    "\n",
    "# plot_dot_(dot, title=model + '_dot_density')\n",
    "# # ax.set_xlim(-750, 750)\n",
    "# ax.legend(['positive_neighbors', 'negative_neighbors'])\n",
    "# fig.show()"
   ]
  },
  {
   "cell_type": "code",
   "execution_count": 24,
   "id": "673fa04c",
   "metadata": {},
   "outputs": [],
   "source": [
    "# # # create edge_list\n",
    "# batch_size = 2000\n",
    "\n",
    "# edges = snakemake_utils.return_new_graph(A, k, )\n",
    "# gini_score[model] = statistical_parity(edges, y, metric='gini')\n",
    "# sp_score[model] = statistical_parity(edges, y, )\n",
    "\n",
    "# roc_score[model] = get_roc_score(dot)\n",
    "# edges.shape, sp_score[model], roc_score[model], gini_score[model]"
   ]
  },
  {
   "cell_type": "markdown",
   "id": "a0e1719e",
   "metadata": {},
   "source": [
    "# GCN ( r2v)"
   ]
  },
  {
   "cell_type": "code",
   "execution_count": 25,
   "id": "4906ab15",
   "metadata": {
    "scrolled": true
   },
   "outputs": [],
   "source": [
    "# model = \"GCN_r2v\"\n",
    "# embs[model] = np.load(DATA_ROOT + DIRS[0] + DATASET  + '_gcn_r2v_node2vec_embs.npy')\n",
    "# A = embs[model]\n",
    "# A.shape"
   ]
  },
  {
   "cell_type": "code",
   "execution_count": 26,
   "id": "d45b07e9",
   "metadata": {},
   "outputs": [],
   "source": [
    "# # plot density\n",
    "# dot = create_dot_df(A)\n",
    "# fig, ax = plt.subplots(1,1)\n",
    "\n",
    "# plot_dot_(dot, title=model + '_dot_density')\n",
    "# # ax.set_xlim(-750, 750)\n",
    "# ax.legend(['positive_neighbors', 'negative_neighbors'])\n",
    "# fig.show()"
   ]
  },
  {
   "cell_type": "code",
   "execution_count": 27,
   "id": "c24cedbe",
   "metadata": {},
   "outputs": [],
   "source": [
    "# # # create edge_list\n",
    "# batch_size = 2000\n",
    "\n",
    "# edges = snakemake_utils.return_new_graph(A, k, )\n",
    "# gini_score[model] = statistical_parity(edges, y, metric='gini')\n",
    "# sp_score[model] = statistical_parity(edges, y, )\n",
    "\n",
    "# roc_score[model] = get_roc_score(dot)\n",
    "# edges.shape, sp_score[model], roc_score[model], gini_score[model]"
   ]
  },
  {
   "cell_type": "markdown",
   "id": "ae43172d",
   "metadata": {},
   "source": [
    "# GCN ( r2v + crosswalk)"
   ]
  },
  {
   "cell_type": "code",
   "execution_count": 28,
   "id": "5455bde3",
   "metadata": {
    "scrolled": true
   },
   "outputs": [],
   "source": [
    "# model = \"GCN_r2v_crosswalk\"\n",
    "# embs[model] = np.load(DATA_ROOT + DIRS[0] + DATASET + '_crosswalk_gcn_r2v_node2vec_embs.npy')\n",
    "# A = embs[model]\n",
    "\n",
    "# A.shape"
   ]
  },
  {
   "cell_type": "code",
   "execution_count": 29,
   "id": "9400cd57",
   "metadata": {},
   "outputs": [],
   "source": [
    "# # plot density\n",
    "# dot = create_dot_df(A)\n",
    "# fig, ax = plt.subplots(1,1)\n",
    "\n",
    "# plot_dot_(dot, title=model + '_dot_density')\n",
    "# # ax.set_xlim(-750, 750)\n",
    "# ax.legend(['positive_neighbors', 'negative_neighbors'])\n",
    "# fig.show()"
   ]
  },
  {
   "cell_type": "code",
   "execution_count": 30,
   "id": "3680c8b4",
   "metadata": {},
   "outputs": [],
   "source": [
    "# # # create edge_list\n",
    "# batch_size = 2000\n",
    "\n",
    "# edges = snakemake_utils.return_new_graph(A, k, )\n",
    "# gini_score[model] = statistical_parity(edges, y, metric='gini')\n",
    "# sp_score[model] = statistical_parity(edges, y, )\n",
    "\n",
    "# roc_score[model] = get_roc_score(dot)\n",
    "# edges.shape, sp_score[model], roc_score[model], gini_score[model]"
   ]
  },
  {
   "cell_type": "markdown",
   "id": "1d2e41d5",
   "metadata": {},
   "source": [
    "# GAT ( baseline)"
   ]
  },
  {
   "cell_type": "code",
   "execution_count": 31,
   "id": "f57fe26a",
   "metadata": {
    "scrolled": true
   },
   "outputs": [],
   "source": [
    "# model = \"GAT_baseline\"\n",
    "# embs[model] = np.load(DATA_ROOT + DIRS[0] + DATASET + '_gat_node2vec_embs.npy')\n",
    "# A = embs[model]\n",
    "\n",
    "# A.shape"
   ]
  },
  {
   "cell_type": "code",
   "execution_count": 32,
   "id": "232d338b",
   "metadata": {},
   "outputs": [],
   "source": [
    "# # plot density\n",
    "# dot = create_dot_df(A)\n",
    "# fig, ax = plt.subplots(1,1)\n",
    "\n",
    "# plot_dot_(dot, title=model + '_dot_density')\n",
    "# # ax.set_xlim(-750, 750)\n",
    "# ax.legend(['positive_neighbors', 'negative_neighbors'])\n",
    "# fig.show()"
   ]
  },
  {
   "cell_type": "code",
   "execution_count": 33,
   "id": "ba9721ad",
   "metadata": {},
   "outputs": [],
   "source": [
    "# # # create edge_list\n",
    "# batch_size = 2000\n",
    "\n",
    "# edges = snakemake_utils.return_new_graph(A, k, )\n",
    "# gini_score[model] = statistical_parity(edges, y, metric='gini')\n",
    "# sp_score[model] = statistical_parity(edges, y, )\n",
    "\n",
    "# roc_score[model] = get_roc_score(dot)\n",
    "# edges.shape, sp_score[model], roc_score[model], gini_score[model]"
   ]
  },
  {
   "cell_type": "markdown",
   "id": "5437c93e",
   "metadata": {},
   "source": [
    "# GAT ( baseline + crosswalk)"
   ]
  },
  {
   "cell_type": "code",
   "execution_count": 34,
   "id": "7e167c94",
   "metadata": {
    "scrolled": true
   },
   "outputs": [],
   "source": [
    "# model = \"GAT_baseline_crosswalk\"\n",
    "# embs[model] = np.load(DATA_ROOT + DIRS[0] + DATASET + '_crosswalk_gat_node2vec_embs.npy')\n",
    "# A = embs[model]\n",
    "# A.shape"
   ]
  },
  {
   "cell_type": "code",
   "execution_count": 35,
   "id": "52491479",
   "metadata": {},
   "outputs": [],
   "source": [
    "# # plot density\n",
    "# dot = create_dot_df(A)\n",
    "# fig, ax = plt.subplots(1,1)\n",
    "\n",
    "# plot_dot_(dot, title=model + '_dot_density')\n",
    "# # ax.set_xlim(-750, 750)\n",
    "# ax.legend(['positive_neighbors', 'negative_neighbors'])\n",
    "# fig.show()"
   ]
  },
  {
   "cell_type": "code",
   "execution_count": 36,
   "id": "eca56a92",
   "metadata": {},
   "outputs": [],
   "source": [
    "# # # create edge_list\n",
    "# batch_size = 2000\n",
    "\n",
    "# edges = snakemake_utils.return_new_graph(A, k, )\n",
    "# gini_score[model] = statistical_parity(edges, y, metric='gini')\n",
    "# sp_score[model] = statistical_parity(edges, y, )\n",
    "\n",
    "# roc_score[model] = get_roc_score(dot)\n",
    "# edges.shape, sp_score[model], roc_score[model], gini_score[model]"
   ]
  },
  {
   "cell_type": "markdown",
   "id": "d2428b6f",
   "metadata": {},
   "source": [
    "# GAT ( r2v)"
   ]
  },
  {
   "cell_type": "code",
   "execution_count": 37,
   "id": "40395e3e",
   "metadata": {
    "scrolled": true
   },
   "outputs": [],
   "source": [
    "# model = \"GAT_r2v\"\n",
    "# embs[model] = np.load(DATA_ROOT + DIRS[0] + DATASET + '_gat_r2v_node2vec_embs.npy')\n",
    "# A = embs[model]\n",
    "# A.shape"
   ]
  },
  {
   "cell_type": "code",
   "execution_count": 38,
   "id": "7ef41872",
   "metadata": {},
   "outputs": [],
   "source": [
    "# # plot density\n",
    "# dot = create_dot_df(A)\n",
    "# fig, ax = plt.subplots(1,1)\n",
    "\n",
    "# plot_dot_(dot, title=model + '_dot_density')\n",
    "# # ax.set_xlim(-750, 750)\n",
    "# ax.legend(['positive_neighbors', 'negative_neighbors'])\n",
    "# fig.show()"
   ]
  },
  {
   "cell_type": "code",
   "execution_count": 39,
   "id": "e447f9b3",
   "metadata": {},
   "outputs": [],
   "source": [
    "# # # create edge_list\n",
    "# batch_size = 2000\n",
    "\n",
    "# edges = snakemake_utils.return_new_graph(A, k, )\n",
    "# gini_score[model] = statistical_parity(edges, y, metric='gini')\n",
    "# sp_score[model] = statistical_parity(edges, y, )\n",
    "\n",
    "# roc_score[model] = get_roc_score(dot)\n",
    "# edges.shape, sp_score[model], roc_score[model], gini_score[model]"
   ]
  },
  {
   "cell_type": "markdown",
   "id": "878b8f13",
   "metadata": {},
   "source": [
    "# GAT ( r2v + crosswalk)"
   ]
  },
  {
   "cell_type": "code",
   "execution_count": 40,
   "id": "b645c156",
   "metadata": {
    "scrolled": true
   },
   "outputs": [],
   "source": [
    "# model = \"GAT_r2v_crosswalk\"\n",
    "# embs[model] = np.load(DATA_ROOT + DIRS[0] + DATASET + '_crosswalk_gat_r2v_node2vec_embs.npy')\n",
    "# A = embs[model]\n",
    "# A.shape"
   ]
  },
  {
   "cell_type": "code",
   "execution_count": 41,
   "id": "63486625",
   "metadata": {},
   "outputs": [],
   "source": [
    "# # plot density\n",
    "# dot = create_dot_df(A)\n",
    "# fig, ax = plt.subplots(1,1)\n",
    "\n",
    "# plot_dot_(dot, title=model + '_dot_density')\n",
    "# # ax.set_xlim(-750, 750)\n",
    "# ax.legend(['positive_neighbors', 'negative_neighbors'])\n",
    "# fig.show()"
   ]
  },
  {
   "cell_type": "code",
   "execution_count": 42,
   "id": "72cd9466",
   "metadata": {},
   "outputs": [],
   "source": [
    "# # # create edge_list\n",
    "# batch_size = 2000\n",
    "\n",
    "# edges = snakemake_utils.return_new_graph(A, k, )\n",
    "# gini_score[model] = statistical_parity(edges, y, metric='gini')\n",
    "# sp_score[model] = statistical_parity(edges, y, )\n",
    "\n",
    "# roc_score[model] = get_roc_score(dot)\n",
    "# edges.shape, sp_score[model], roc_score[model], gini_score[model]"
   ]
  },
  {
   "cell_type": "markdown",
   "id": "ebbb980e",
   "metadata": {},
   "source": [
    "# plot statistical parity scores"
   ]
  },
  {
   "cell_type": "markdown",
   "id": "f5b36fa7",
   "metadata": {},
   "source": [
    "# gini sp scores"
   ]
  },
  {
   "cell_type": "code",
   "execution_count": 43,
   "id": "bae3de0e",
   "metadata": {},
   "outputs": [],
   "source": [
    "\n",
    "# for i, j in gini_score.items(): print(i, j)\n",
    "# sns.set(rc = {'figure.figsize':(15,8)})\n",
    "# ax = sns.barplot(x=list(gini_score.keys()), y=list(gini_score.values()))\n",
    "# ax.set_ylim(min(gini_score.values()) * .9 , max(gini_score.values()) * 1.1)\n",
    "# ax.set_xticklabels(ax.get_xticklabels(),rotation = 45)\n",
    "# ax.set_title(\"gini statistical parity scores\")"
   ]
  },
  {
   "cell_type": "markdown",
   "id": "2c76a2d5",
   "metadata": {},
   "source": [
    "# sp scores"
   ]
  },
  {
   "cell_type": "code",
   "execution_count": 44,
   "id": "22b6746a",
   "metadata": {},
   "outputs": [],
   "source": [
    "\n",
    "# for i, j in sp_score.items(): print(i, j)\n",
    "# sns.set(rc = {'figure.figsize':(15,8)})\n",
    "# ax = sns.barplot(x=list(sp_score.keys()), y=list(sp_score.values()))\n",
    "# ax.set_ylim(min(sp_score.values()) * .9, max(sp_score.values()) * 1.1)\n",
    "# ax.set_xticklabels(ax.get_xticklabels(),rotation = 45)\n",
    "# ax.set_title(\"statistical parity scores\")"
   ]
  },
  {
   "cell_type": "markdown",
   "id": "37f5da17",
   "metadata": {},
   "source": [
    "# roc auc scores"
   ]
  },
  {
   "cell_type": "code",
   "execution_count": 45,
   "id": "77ca7a10",
   "metadata": {},
   "outputs": [],
   "source": [
    "\n",
    "# for i, j in roc_score.items(): print(i, j)\n",
    "# sns.set(rc = {'figure.figsize':(15,8)})\n",
    "# ax = sns.barplot(x=list(roc_score.keys()), y=list(roc_score.values()))\n",
    "# ax.set_ylim(min(roc_score.values()) * .9, max(roc_score.values()) * 1.1)\n",
    "# ax.set_xticklabels(ax.get_xticklabels(),rotation = 45)\n",
    "# ax.set_title(\"roc scores\")"
   ]
  },
  {
   "cell_type": "code",
   "execution_count": 46,
   "id": "e4cc7f98",
   "metadata": {},
   "outputs": [],
   "source": [
    "\n",
    "# N = 20\n",
    "\n",
    "# sp_scores, gini_scores = np.zeros((N, len(M))), np.zeros((N, len(M)))\n",
    "# for k in range(N):\n",
    "#     for idx, m in enumerate(M):\n",
    "#         if k == 0: continue\n",
    "#         batch_size =  2000\n",
    "#         A = embs[m]\n",
    "#         edges = snakemake_utils.return_new_graph(A, k, )\n",
    "        \n",
    "    \n",
    "#         gini_scores[k, idx] = statistical_parity(edges, y, metric='gini')\n",
    "#         sp_scores[k, idx] = statistical_parity(edges, y, )\n"
   ]
  },
  {
   "cell_type": "code",
   "execution_count": 47,
   "id": "fb97b479",
   "metadata": {},
   "outputs": [],
   "source": [
    "# for i in range(len(M)):\n",
    "#     plt.plot(gini_scores[:, i], label=M[i])\n",
    "# plt.legend(loc=\"upper right\")\n",
    "# plt.title(\"gini scores vs # nn\")"
   ]
  },
  {
   "cell_type": "code",
   "execution_count": 48,
   "id": "31dfe38f",
   "metadata": {},
   "outputs": [],
   "source": [
    "# for i in range(len(M)):\n",
    "#     plt.plot(sp_scores[:, i], label=M[i])\n",
    "# plt.legend(loc=\"upper right\")\n",
    "\n",
    "# plt.title(\"sp scores vs # nn\")"
   ]
  },
  {
   "cell_type": "markdown",
   "id": "357539db",
   "metadata": {},
   "source": [
    "# combine all different runs"
   ]
  },
  {
   "cell_type": "code",
   "execution_count": 49,
   "id": "8ef5d890",
   "metadata": {},
   "outputs": [],
   "source": [
    "MODEL_NAME_2_FILE = {\n",
    "    \"GCN_baseline\": \"_gcn_node2vec_embs.npy\",\n",
    "#     \"GCN_baseline_crosswalk\": \"_crosswalk_gcn_node2vec_embs.npy\",\n",
    "    \"GCN_r2v\": \"_gcn_r2v_node2vec_embs.npy\",\n",
    "#     \"GCN_r2v_crosswalk\": '_crosswalk_gcn_r2v_node2vec_embs.npy',\n",
    "    \"GAT_baseline\": '_gat_node2vec_embs.npy',\n",
    "#     \"GAT_baseline_crosswalk\": \"_crosswalk_gat_node2vec_embs.npy\",\n",
    "    \"GAT_r2v\": \"_gat_r2v_node2vec_embs.npy\",\n",
    "#     \"GAT_r2v_crosswalk\": \"_crosswalk_gat_r2v_node2vec_embs.npy\",\n",
    "#     \"WORD2VEC_baseline\": '_word2vec_node2vec_embs.npy',\n",
    "#     \"WORD2VEC_baseline_crosswalk\": \"_crosswalk_word2vec_node2vec_embs.npy\",\n",
    "#     \"WORD2VEC_r2v\": \"_word2vec_r2v_node2vec_embs.npy\",\n",
    "#     \"WORD2VEC_r2v_crosswalk\": \"_crosswalk_word2vec_r2v_node2vec_embs.npy\"\n",
    "}\n",
    "def roc_scores(model_name):\n",
    "    scores = np.zeros(len(DIRS))\n",
    "    for idx, d in enumerate(DIRS):\n",
    "        A = np.load(DATA_ROOT + d + DATASET + MODEL_NAME_2_FILE[model_name])\n",
    "        file = DATA_ROOT + d + DATASET + '_test_adj.npz'\n",
    "        dot = create_dot_df(A, file)\n",
    "        scores[idx] = get_roc_score(dot)\n",
    "    return scores\n",
    "\n",
    "\n",
    "def statisticalp_scores(model_name, K=5):\n",
    "    scores, scores_gini = np.zeros(len(DIRS)), np.zeros(len(DIRS))\n",
    "    for idx, d in enumerate(DIRS):\n",
    "        A = np.load(DATA_ROOT + d + DATASET + MODEL_NAME_2_FILE[model_name])\n",
    "        edges = snakemake_utils.return_new_graph(A, K)\n",
    "        scores_gini[idx] = statistical_parity(edges, y, metric='gini')\n",
    "        \n",
    "        scores[idx] = statistical_parity(edges, y, )\n",
    "    return scores, scores_gini"
   ]
  },
  {
   "cell_type": "code",
   "execution_count": 50,
   "id": "229b6d10",
   "metadata": {},
   "outputs": [
    {
     "name": "stdout",
     "output_type": "stream",
     "text": [
      "selected edge_idx size: 16286918\n",
      "selected edge_idx size: 16287705\n",
      "selected edge_idx size: 16286054\n",
      "selected edge_idx size: 16285889\n",
      "selected edge_idx size: 16286848\n",
      "selected edge_idx size: 16286918\n",
      "selected edge_idx size: 16287705\n",
      "selected edge_idx size: 16286054\n",
      "selected edge_idx size: 16285889\n",
      "selected edge_idx size: 16286848\n",
      "selected edge_idx size: 16286918\n",
      "selected edge_idx size: 16287705\n",
      "selected edge_idx size: 16286054\n",
      "selected edge_idx size: 16285889\n",
      "selected edge_idx size: 16286848\n",
      "selected edge_idx size: 16286918\n",
      "selected edge_idx size: 16287705\n",
      "selected edge_idx size: 16286054\n",
      "selected edge_idx size: 16285889\n",
      "selected edge_idx size: 16286848\n",
      "GCN_baseline 0.759271578323981\n",
      "GCN_r2v 0.751521985368419\n",
      "GAT_baseline 0.8413038451195654\n",
      "GAT_r2v 0.7981523086159275\n"
     ]
    },
    {
     "data": {
      "text/plain": [
       "Text(0.5, 1.0, 'roc scores')"
      ]
     },
     "execution_count": 50,
     "metadata": {},
     "output_type": "execute_result"
    },
    {
     "data": {
      "image/png": "[encoded data removed]",
      "text/plain": [
       "<Figure size 432x288 with 1 Axes>"
      ]
     },
     "metadata": {
      "needs_background": "light"
     },
     "output_type": "display_data"
    }
   ],
   "source": [
    "\n",
    "roc_score = {m: np.mean(roc_scores(m)) for m in MODEL_NAME_2_FILE}\n",
    "\n",
    "for i, j in roc_score.items(): print(i, j)\n",
    "sns.set(rc = {'figure.figsize':(15,8)})\n",
    "ax = sns.barplot(x=list(roc_score.keys()), y=list(roc_score.values()))\n",
    "ax.set_ylim(min(roc_score.values()) * .9, max(roc_score.values()) * 1.1)\n",
    "ax.set_xticklabels(ax.get_xticklabels(),rotation = 45)\n",
    "ax.set_title(\"roc scores\")"
   ]
  },
  {
   "cell_type": "code",
   "execution_count": 51,
   "id": "1f3cba0c",
   "metadata": {},
   "outputs": [
    {
     "name": "stderr",
     "output_type": "stream",
     "text": [
      "100%|████████████████████████████████████████████████████████████████████████████████████████████████████████| 816/816 [00:06<00:00, 131.82it/s]\n",
      "100%|████████████████████████████████████████████████████████████████████████████████████████████████████████| 816/816 [00:06<00:00, 122.62it/s]\n",
      "100%|████████████████████████████████████████████████████████████████████████████████████████████████████████| 816/816 [00:06<00:00, 117.54it/s]\n",
      "100%|████████████████████████████████████████████████████████████████████████████████████████████████████████| 816/816 [00:06<00:00, 123.20it/s]\n",
      "100%|████████████████████████████████████████████████████████████████████████████████████████████████████████| 816/816 [00:06<00:00, 123.77it/s]\n",
      "100%|████████████████████████████████████████████████████████████████████████████████████████████████████████| 816/816 [00:06<00:00, 123.79it/s]\n",
      "100%|████████████████████████████████████████████████████████████████████████████████████████████████████████| 816/816 [00:06<00:00, 116.70it/s]\n",
      "100%|████████████████████████████████████████████████████████████████████████████████████████████████████████| 816/816 [00:06<00:00, 119.15it/s]\n",
      "100%|████████████████████████████████████████████████████████████████████████████████████████████████████████| 816/816 [00:07<00:00, 115.34it/s]\n",
      "100%|████████████████████████████████████████████████████████████████████████████████████████████████████████| 816/816 [00:06<00:00, 120.83it/s]\n",
      "100%|████████████████████████████████████████████████████████████████████████████████████████████████████████| 816/816 [00:06<00:00, 129.98it/s]\n",
      "100%|████████████████████████████████████████████████████████████████████████████████████████████████████████| 816/816 [00:06<00:00, 120.18it/s]\n",
      "100%|████████████████████████████████████████████████████████████████████████████████████████████████████████| 816/816 [00:06<00:00, 125.14it/s]\n",
      "100%|████████████████████████████████████████████████████████████████████████████████████████████████████████| 816/816 [00:06<00:00, 125.55it/s]\n",
      "100%|████████████████████████████████████████████████████████████████████████████████████████████████████████| 816/816 [00:06<00:00, 120.48it/s]\n",
      "100%|████████████████████████████████████████████████████████████████████████████████████████████████████████| 816/816 [00:06<00:00, 124.98it/s]\n",
      "100%|████████████████████████████████████████████████████████████████████████████████████████████████████████| 816/816 [00:07<00:00, 116.35it/s]\n",
      "100%|████████████████████████████████████████████████████████████████████████████████████████████████████████| 816/816 [00:06<00:00, 122.01it/s]\n",
      "100%|████████████████████████████████████████████████████████████████████████████████████████████████████████| 816/816 [00:07<00:00, 116.29it/s]\n",
      "100%|████████████████████████████████████████████████████████████████████████████████████████████████████████| 816/816 [00:06<00:00, 117.72it/s]\n"
     ]
    },
    {
     "name": "stdout",
     "output_type": "stream",
     "text": [
      "GCN_baseline 7.942137880791334e-07\n",
      "GCN_r2v 8.018055094851455e-07\n",
      "GAT_baseline 8.101108923476621e-07\n",
      "GAT_r2v 7.774428387088473e-07\n"
     ]
    },
    {
     "data": {
      "text/plain": [
       "Text(0.5, 1.0, 'statistical parity scores')"
      ]
     },
     "execution_count": 51,
     "metadata": {},
     "output_type": "execute_result"
    },
    {
     "data": {
      "image/png": "[encoded data removed]",
      "text/plain": [
       "<Figure size 1080x576 with 1 Axes>"
      ]
     },
     "metadata": {},
     "output_type": "display_data"
    }
   ],
   "source": [
    "\n",
    "temp = {m: statisticalp_scores(m) for m in MODEL_NAME_2_FILE}\n",
    "\n",
    "sp_score = {m: np.mean(v[0]) for m,v in temp.items()}\n",
    "for i, j in sp_score.items(): print(i, j)\n",
    "sns.set(rc = {'figure.figsize':(15,8)})\n",
    "ax = sns.barplot(x=list(sp_score.keys()), y=list(sp_score.values()))\n",
    "ax.set_ylim(min(sp_score.values()) * .9, max(sp_score.values()) * 1.1)\n",
    "ax.set_xticklabels(ax.get_xticklabels(),rotation = 45)\n",
    "ax.set_title(\"statistical parity scores\")"
   ]
  },
  {
   "cell_type": "code",
   "execution_count": 52,
   "id": "dc0cc7e5",
   "metadata": {},
   "outputs": [
    {
     "name": "stdout",
     "output_type": "stream",
     "text": [
      "GCN_baseline 0.07959731798222427\n",
      "GCN_r2v 0.07926382819834463\n",
      "GAT_baseline 0.07996289412624726\n",
      "GAT_r2v 0.07773993322904153\n"
     ]
    },
    {
     "data": {
      "text/plain": [
       "Text(0.5, 1.0, 'gini statistical parity scores')"
      ]
     },
     "execution_count": 52,
     "metadata": {},
     "output_type": "execute_result"
    },
    {
     "data": {
      "image/png": "[encoded data removed]",
      "text/plain": [
       "<Figure size 1080x576 with 1 Axes>"
      ]
     },
     "metadata": {},
     "output_type": "display_data"
    }
   ],
   "source": [
    "gini_score = {m: np.mean(v[1]) for m,v in temp.items()}\n",
    "for i, j in gini_score.items(): print(i, j)\n",
    "sns.set(rc = {'figure.figsize':(15,8)})\n",
    "ax = sns.barplot(x=list(gini_score.keys()), y=list(gini_score.values()))\n",
    "ax.set_ylim(min(gini_score.values()) * .9, max(gini_score.values()) * 1.1)\n",
    "ax.set_xticklabels(ax.get_xticklabels(),rotation = 45)\n",
    "ax.set_title(\"gini statistical parity scores\")"
   ]
  },
  {
   "cell_type": "code",
   "execution_count": 53,
   "id": "dfe295a8",
   "metadata": {},
   "outputs": [
    {
     "name": "stdout",
     "output_type": "stream",
     "text": [
      "selected edge_idx size: 16286918\n",
      "selected edge_idx size: 16287705\n",
      "selected edge_idx size: 16286054\n",
      "selected edge_idx size: 16285889\n",
      "selected edge_idx size: 16286848\n",
      "selected edge_idx size: 16286918\n",
      "selected edge_idx size: 16287705\n",
      "selected edge_idx size: 16286054\n",
      "selected edge_idx size: 16285889\n",
      "selected edge_idx size: 16286848\n",
      "selected edge_idx size: 16286918\n",
      "selected edge_idx size: 16287705\n",
      "selected edge_idx size: 16286054\n",
      "selected edge_idx size: 16285889\n",
      "selected edge_idx size: 16286848\n",
      "selected edge_idx size: 16286918\n",
      "selected edge_idx size: 16287705\n",
      "selected edge_idx size: 16286054\n",
      "selected edge_idx size: 16285889\n",
      "selected edge_idx size: 16286848\n"
     ]
    },
    {
     "name": "stderr",
     "output_type": "stream",
     "text": [
      "100%|████████████████████████████████████████████████████████████████████████████████████████████████████████| 816/816 [00:06<00:00, 129.74it/s]\n",
      "100%|████████████████████████████████████████████████████████████████████████████████████████████████████████| 816/816 [00:06<00:00, 119.98it/s]\n",
      "100%|████████████████████████████████████████████████████████████████████████████████████████████████████████| 816/816 [00:07<00:00, 110.88it/s]\n",
      "100%|████████████████████████████████████████████████████████████████████████████████████████████████████████| 816/816 [00:06<00:00, 121.41it/s]\n",
      "100%|████████████████████████████████████████████████████████████████████████████████████████████████████████| 816/816 [00:06<00:00, 122.77it/s]\n",
      "100%|████████████████████████████████████████████████████████████████████████████████████████████████████████| 816/816 [00:06<00:00, 123.31it/s]\n",
      "100%|████████████████████████████████████████████████████████████████████████████████████████████████████████| 816/816 [00:07<00:00, 115.45it/s]\n",
      "100%|████████████████████████████████████████████████████████████████████████████████████████████████████████| 816/816 [00:06<00:00, 118.93it/s]\n",
      "100%|████████████████████████████████████████████████████████████████████████████████████████████████████████| 816/816 [00:06<00:00, 120.90it/s]\n",
      "100%|████████████████████████████████████████████████████████████████████████████████████████████████████████| 816/816 [00:06<00:00, 120.44it/s]\n",
      "100%|████████████████████████████████████████████████████████████████████████████████████████████████████████| 816/816 [00:06<00:00, 134.00it/s]\n",
      "100%|████████████████████████████████████████████████████████████████████████████████████████████████████████| 816/816 [00:06<00:00, 119.56it/s]\n",
      "100%|████████████████████████████████████████████████████████████████████████████████████████████████████████| 816/816 [00:06<00:00, 122.31it/s]\n",
      "100%|████████████████████████████████████████████████████████████████████████████████████████████████████████| 816/816 [00:06<00:00, 124.17it/s]\n",
      "100%|████████████████████████████████████████████████████████████████████████████████████████████████████████| 816/816 [00:06<00:00, 121.34it/s]\n",
      "100%|████████████████████████████████████████████████████████████████████████████████████████████████████████| 816/816 [00:06<00:00, 125.39it/s]\n",
      "100%|████████████████████████████████████████████████████████████████████████████████████████████████████████| 816/816 [00:06<00:00, 118.57it/s]\n",
      "100%|████████████████████████████████████████████████████████████████████████████████████████████████████████| 816/816 [00:06<00:00, 128.15it/s]\n",
      "100%|████████████████████████████████████████████████████████████████████████████████████████████████████████| 816/816 [00:07<00:00, 113.65it/s]\n",
      "100%|████████████████████████████████████████████████████████████████████████████████████████████████████████| 816/816 [00:06<00:00, 120.21it/s]\n"
     ]
    }
   ],
   "source": [
    "\n",
    "# roc_score, sp_score, gini_score= {}, {}, {}\n",
    "roc_score = {m: roc_scores(m) for m in MODEL_NAME_2_FILE}\n",
    "temp = {m: statisticalp_scores(m) for m in MODEL_NAME_2_FILE}\n",
    "sp_score = {m: v[0] for m,v in temp.items()}\n",
    "gini_score = {m: v[1] for m,v in temp.items()}\n",
    "pkl.dump(roc_score, open(DATA_ROOT + \"roc_score.pkl\", 'wb'))\n",
    "\n",
    "pkl.dump(sp_score, open(DATA_ROOT + \"sp_score.pkl\", 'wb'))\n",
    "\n",
    "pkl.dump(gini_score, open(DATA_ROOT + \"gini_score.pkl\", 'wb'))"
   ]
  },
  {
   "cell_type": "code",
   "execution_count": null,
   "id": "dd43138f",
   "metadata": {},
   "outputs": [],
   "source": []
  }
 ],
 "metadata": {
  "kernelspec": {
   "display_name": "Python 3 (ipykernel)",
   "language": "python",
   "name": "python3"
  },
  "language_info": {
   "codemirror_mode": {
    "name": "ipython",
    "version": 3
   },
   "file_extension": ".py",
   "mimetype": "text/x-python",
   "name": "python",
   "nbconvert_exporter": "python",
   "pygments_lexer": "ipython3",
   "version": "3.7.13"
  }
 },
 "nbformat": 4,
 "nbformat_minor": 5
}
