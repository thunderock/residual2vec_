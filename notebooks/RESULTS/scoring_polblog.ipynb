{
 "cells": [
  {
   "cell_type": "code",
   "execution_count": 1,
   "id": "16d1921c",
   "metadata": {},
   "outputs": [],
   "source": [
    "import sys, os\n",
    "sys.path.insert(0, '../..')\n",
    "# os.environ[\"CUDA_VISIBLE_DEVICES\"]=\"\""
   ]
  },
  {
   "cell_type": "code",
   "execution_count": 2,
   "id": "5d539127",
   "metadata": {},
   "outputs": [
    {
     "name": "stderr",
     "output_type": "stream",
     "text": [
      "/data/sg/ashutiwa/miniconda3/lib/python3.7/site-packages/tqdm/auto.py:22: TqdmWarning: IProgress not found. Please update jupyter and ipywidgets. See https://ipywidgets.readthedocs.io/en/stable/user_install.html\n",
      "  from .autonotebook import tqdm as notebook_tqdm\n"
     ]
    },
    {
     "name": "stdout",
     "output_type": "stream",
     "text": [
      "Using GPU: cuda:0\n"
     ]
    }
   ],
   "source": [
    "import numpy as np\n",
    "import pandas as pd\n",
    "import torch\n",
    "from models.weighted_node2vec import WeightedNode2Vec\n",
    "from dataset import triplet_dataset, pokec_data\n",
    "from utils.config import DEVICE\n",
    "import gc\n",
    "from tqdm import trange\n",
    "from utils.link_prediction import GCNLinkPrediction\n",
    "import residual2vec as rv\n",
    "import warnings\n",
    "import faiss\n",
    "import matplotlib.pyplot as plt\n",
    "from utils.score import statistical_parity\n",
    "from utils.snakemake_utils import FileResources\n",
    "import seaborn as sns\n",
    "from utils import snakemake_utils\n",
    "warnings.filterwarnings(\"ignore\")\n",
    "gc.enable()"
   ]
  },
  {
   "cell_type": "code",
   "execution_count": 3,
   "id": "46d50773",
   "metadata": {},
   "outputs": [],
   "source": [
    "from dataset import polblog_data\n",
    "y = polblog_data.PolBlogDataFrame().get_grouped_col()"
   ]
  },
  {
   "cell_type": "code",
   "execution_count": 4,
   "id": "f7f49384",
   "metadata": {},
   "outputs": [
    {
     "name": "stdout",
     "output_type": "stream",
     "text": [
      "data_four  data_one  data_three  data_two\r\n"
     ]
    }
   ],
   "source": [
    "sp_score, roc_score, gini_score, embs = {}, {}, {}, {}\n",
    "DATA_ROOT = '//data/sg/ashutiwa/final_results/polblog/'\n",
    "! ls /data/sg/ashutiwa/final_results/small_pokec/\n",
    "DIRS = ['data_one/', 'data_two/', 'data_three/', 'data_four/']\n",
    "DATASET = 'polblog'\n",
    "M = [\"GCN_baseline\", \"GCN_r2v\", \"GCN_baseline_crosswalk\", \"GCN_r2v_crosswalk\", \n",
    "     \"GAT_baseline\",\"GAT_r2v\", \"GAT_baseline_crosswalk\", \"GAT_r2v_crosswalk\"]\n",
    "k=5\n",
    "N_EDGES = "
   ]
  },
  {
   "cell_type": "markdown",
   "id": "a13d5e9c",
   "metadata": {},
   "source": [
    "# distributions of positive and negative edgeswith dot product"
   ]
  },
  {
   "cell_type": "code",
   "execution_count": 5,
   "id": "7812b391",
   "metadata": {},
   "outputs": [],
   "source": [
    "def get_roc_score(df):\n",
    "    from sklearn.metrics import roc_auc_score\n",
    "    y_pred = np.concatenate((df.positive_dot.values, df.negative_dot.values))\n",
    "    y_true = np.concatenate((np.ones_like(df.positive_dot.values), np.zeros_like(df.negative_dot.values)))\n",
    "    return roc_auc_score(y_true, y_pred)\n",
    "def get_roc_score_(df):\n",
    "    from sklearn.metrics import roc_auc_score\n",
    "    y_pred = np.concatenate((df.positive_dot.values, df.negative_dot.values))\n",
    "    from sklearn.preprocessing import MinMaxScaler\n",
    "    y_pred = MinMaxScaler().fit_transform([y_pred])[0]\n",
    "    y_true = np.concatenate((np.ones_like(df.positive_dot.values), np.zeros_like(df.negative_dot.values)))\n",
    "    return roc_auc_score(y_true, y_pred)"
   ]
  },
  {
   "cell_type": "code",
   "execution_count": 6,
   "id": "9d6ac948",
   "metadata": {},
   "outputs": [],
   "source": [
    "def plot_dot_(df, title):\n",
    "#     df = pd.DataFrame({\n",
    "#         \"positive_dot\": np.array([np.dot(a[i], p[i]) for i in trange(a.shape[0])]),\n",
    "#         \"negative_dot\": np.array([np.dot(a[i], n[i]) for i in trange(a.shape[0])])\n",
    "#     })\n",
    "    \n",
    "#     fig, ax = plt.subplots(1,1)\n",
    "    df.positive_dot.plot(kind='density', title=title)\n",
    "    df.negative_dot.plot(kind='density', title=title)\n",
    "#     ax.set_xlim(-1000, 1000)\n",
    "    ax.legend(['positive_neighbors', 'negative_neighbors'])\n",
    "#     fig.show()"
   ]
  },
  {
   "cell_type": "markdown",
   "id": "af12f580",
   "metadata": {},
   "source": [
    "# GCN ( baseline)"
   ]
  },
  {
   "cell_type": "code",
   "execution_count": 7,
   "id": "859d0533",
   "metadata": {
    "scrolled": true
   },
   "outputs": [
    {
     "data": {
      "text/plain": [
       "((1224, 128), (1224, 128), (1224, 128))"
      ]
     },
     "execution_count": 7,
     "metadata": {},
     "output_type": "execute_result"
    }
   ],
   "source": [
    "model = \"GCN_baseline\"\n",
    "embs[model] = np.load(DATA_ROOT + DIRS[0] + DATASET + '_gcn_node2vec_embs.npy')\n",
    "emb = embs[model]\n",
    "A, P, N = emb[:, :128], emb[:, 128: 128 * 2], emb[:, 128 * 2:]\n",
    "A.shape, P.shape, N.shape"
   ]
  },
  {
   "cell_type": "code",
   "execution_count": 8,
   "id": "0e2af395",
   "metadata": {},
   "outputs": [
    {
     "name": "stderr",
     "output_type": "stream",
     "text": [
      "100%|████████████████████████████████████████████████████████████████████████████████████████████████████████████████████████████████| 1224/1224 [00:00<00:00, 270685.86it/s]\n",
      "100%|████████████████████████████████████████████████████████████████████████████████████████████████████████████████████████████████| 1224/1224 [00:00<00:00, 329577.46it/s]\n"
     ]
    },
    {
     "data": {
      "image/png": "[encoded data removed]",
      "text/plain": [
       "<Figure size 432x288 with 1 Axes>"
      ]
     },
     "metadata": {
      "needs_background": "light"
     },
     "output_type": "display_data"
    }
   ],
   "source": [
    "# plot density\n",
    "dot = pd.DataFrame({\n",
    "        \"positive_dot\": np.array([np.dot(A[i], P[i]) for i in trange(A.shape[0])]),\n",
    "        \"negative_dot\": np.array([np.dot(A[i], N[i]) for i in trange(A.shape[0])])\n",
    "    })\n",
    "fig, ax = plt.subplots(1,1)\n",
    "\n",
    "plot_dot_(dot, title=model + '_dot_density')\n",
    "# ax.set_xlim(-750, 750)\n",
    "ax.legend(['positive_neighbors', 'negative_neighbors'])\n",
    "fig.show()"
   ]
  },
  {
   "cell_type": "code",
   "execution_count": 9,
   "id": "8030cd4e",
   "metadata": {},
   "outputs": [
    {
     "name": "stderr",
     "output_type": "stream",
     "text": [
      "WARNING clustering 1224 points to 35 centroids: please provide at least 1365 training points\n"
     ]
    },
    {
     "ename": "ValueError",
     "evalue": "number sections must be larger than 0.",
     "output_type": "error",
     "traceback": [
      "\u001b[0;31m---------------------------------------------------------------------------\u001b[0m",
      "\u001b[0;31mValueError\u001b[0m                                Traceback (most recent call last)",
      "\u001b[0;32m/tmp/ipykernel_2639453/2354886688.py\u001b[0m in \u001b[0;36m<module>\u001b[0;34m\u001b[0m\n\u001b[1;32m      2\u001b[0m \u001b[0mbatch_size\u001b[0m \u001b[0;34m=\u001b[0m \u001b[0;36m2000\u001b[0m\u001b[0;34m\u001b[0m\u001b[0;34m\u001b[0m\u001b[0m\n\u001b[1;32m      3\u001b[0m \u001b[0;34m\u001b[0m\u001b[0m\n\u001b[0;32m----> 4\u001b[0;31m \u001b[0medges\u001b[0m \u001b[0;34m=\u001b[0m \u001b[0msnakemake_utils\u001b[0m\u001b[0;34m.\u001b[0m\u001b[0mreturn_new_graph\u001b[0m\u001b[0;34m(\u001b[0m\u001b[0mA\u001b[0m\u001b[0;34m,\u001b[0m \u001b[0mk\u001b[0m\u001b[0;34m,\u001b[0m \u001b[0;34m)\u001b[0m\u001b[0;34m\u001b[0m\u001b[0;34m\u001b[0m\u001b[0m\n\u001b[0m\u001b[1;32m      5\u001b[0m \u001b[0mgini_score\u001b[0m\u001b[0;34m[\u001b[0m\u001b[0mmodel\u001b[0m\u001b[0;34m]\u001b[0m \u001b[0;34m=\u001b[0m \u001b[0mstatistical_parity\u001b[0m\u001b[0;34m(\u001b[0m\u001b[0medges\u001b[0m\u001b[0;34m,\u001b[0m \u001b[0my\u001b[0m\u001b[0;34m,\u001b[0m \u001b[0mmetric\u001b[0m\u001b[0;34m=\u001b[0m\u001b[0;34m'gini'\u001b[0m\u001b[0;34m)\u001b[0m\u001b[0;34m\u001b[0m\u001b[0;34m\u001b[0m\u001b[0m\n\u001b[1;32m      6\u001b[0m \u001b[0msp_score\u001b[0m\u001b[0;34m[\u001b[0m\u001b[0mmodel\u001b[0m\u001b[0;34m]\u001b[0m \u001b[0;34m=\u001b[0m \u001b[0mstatistical_parity\u001b[0m\u001b[0;34m(\u001b[0m\u001b[0medges\u001b[0m\u001b[0;34m,\u001b[0m \u001b[0my\u001b[0m\u001b[0;34m,\u001b[0m \u001b[0;34m)\u001b[0m\u001b[0;34m\u001b[0m\u001b[0;34m\u001b[0m\u001b[0m\n",
      "\u001b[0;32m/data/sg/ashutiwa/residual2vec_/utils/snakemake_utils.py\u001b[0m in \u001b[0;36mreturn_new_graph\u001b[0;34m(node_embeddings, n_neighbors, batch_size)\u001b[0m\n\u001b[1;32m    142\u001b[0m \u001b[0;32mdef\u001b[0m \u001b[0mreturn_new_graph\u001b[0m\u001b[0;34m(\u001b[0m\u001b[0mnode_embeddings\u001b[0m\u001b[0;34m,\u001b[0m \u001b[0mn_neighbors\u001b[0m\u001b[0;34m,\u001b[0m \u001b[0mbatch_size\u001b[0m\u001b[0;34m=\u001b[0m\u001b[0;36m2000\u001b[0m\u001b[0;34m)\u001b[0m\u001b[0;34m:\u001b[0m\u001b[0;34m\u001b[0m\u001b[0;34m\u001b[0m\u001b[0m\n\u001b[1;32m    143\u001b[0m     \u001b[0;32mfrom\u001b[0m \u001b[0mutils\u001b[0m\u001b[0;34m.\u001b[0m\u001b[0mgraph_utils\u001b[0m \u001b[0;32mimport\u001b[0m \u001b[0mget_edges_fastknn_faiss\u001b[0m\u001b[0;34m\u001b[0m\u001b[0;34m\u001b[0m\u001b[0m\n\u001b[0;32m--> 144\u001b[0;31m     \u001b[0medges\u001b[0m \u001b[0;34m=\u001b[0m \u001b[0mget_edges_fastknn_faiss\u001b[0m\u001b[0;34m(\u001b[0m\u001b[0mnode_embeddings\u001b[0m\u001b[0;34m,\u001b[0m \u001b[0mn_neighbors\u001b[0m\u001b[0;34m,\u001b[0m \u001b[0mbatch_size\u001b[0m\u001b[0;34m=\u001b[0m\u001b[0mbatch_size\u001b[0m\u001b[0;34m)\u001b[0m\u001b[0;34m\u001b[0m\u001b[0;34m\u001b[0m\u001b[0m\n\u001b[0m\u001b[1;32m    145\u001b[0m     \u001b[0;31m# drop rows with target = -1\u001b[0m\u001b[0;34m\u001b[0m\u001b[0;34m\u001b[0m\u001b[0;34m\u001b[0m\u001b[0m\n\u001b[1;32m    146\u001b[0m     \u001b[0;32mreturn\u001b[0m \u001b[0medges\u001b[0m\u001b[0;34m.\u001b[0m\u001b[0mdrop\u001b[0m\u001b[0;34m(\u001b[0m\u001b[0medges\u001b[0m\u001b[0;34m[\u001b[0m\u001b[0medges\u001b[0m\u001b[0;34m[\u001b[0m\u001b[0;34m'target'\u001b[0m\u001b[0;34m]\u001b[0m \u001b[0;34m==\u001b[0m \u001b[0;34m-\u001b[0m\u001b[0;36m1\u001b[0m\u001b[0;34m]\u001b[0m\u001b[0;34m.\u001b[0m\u001b[0mindex\u001b[0m\u001b[0;34m)\u001b[0m\u001b[0;34m\u001b[0m\u001b[0;34m\u001b[0m\u001b[0m\n",
      "\u001b[0;32m/data/sg/ashutiwa/residual2vec_/utils/graph_utils.py\u001b[0m in \u001b[0;36mget_edges_fastknn_faiss\u001b[0;34m(emb, k, batch_size)\u001b[0m\n\u001b[1;32m     56\u001b[0m     \u001b[0mknn\u001b[0m \u001b[0;34m=\u001b[0m \u001b[0mFastkNN\u001b[0m\u001b[0;34m(\u001b[0m\u001b[0mk\u001b[0m\u001b[0;34m=\u001b[0m\u001b[0mk\u001b[0m\u001b[0;34m,\u001b[0m \u001b[0mmetric\u001b[0m\u001b[0;34m=\u001b[0m\u001b[0;34m'cosine'\u001b[0m\u001b[0;34m,\u001b[0m \u001b[0mexact\u001b[0m\u001b[0;34m=\u001b[0m\u001b[0;32mFalse\u001b[0m\u001b[0;34m,\u001b[0m \u001b[0mgpu_id\u001b[0m\u001b[0;34m=\u001b[0m\u001b[0mGPU_ID\u001b[0m\u001b[0;34m)\u001b[0m\u001b[0;34m.\u001b[0m\u001b[0mfit\u001b[0m\u001b[0;34m(\u001b[0m\u001b[0memb\u001b[0m\u001b[0;34m)\u001b[0m\u001b[0;34m\u001b[0m\u001b[0;34m\u001b[0m\u001b[0m\n\u001b[1;32m     57\u001b[0m \u001b[0;34m\u001b[0m\u001b[0m\n\u001b[0;32m---> 58\u001b[0;31m     \u001b[0mtargets\u001b[0m \u001b[0;34m=\u001b[0m \u001b[0mnp\u001b[0m\u001b[0;34m.\u001b[0m\u001b[0mconcatenate\u001b[0m\u001b[0;34m(\u001b[0m\u001b[0;34m[\u001b[0m\u001b[0mknn\u001b[0m\u001b[0;34m.\u001b[0m\u001b[0mpredict\u001b[0m\u001b[0;34m(\u001b[0m\u001b[0mi\u001b[0m\u001b[0;34m)\u001b[0m\u001b[0;34m.\u001b[0m\u001b[0mflatten\u001b[0m\u001b[0;34m(\u001b[0m\u001b[0;34m)\u001b[0m \u001b[0;32mfor\u001b[0m \u001b[0mi\u001b[0m \u001b[0;32min\u001b[0m \u001b[0mtqdm\u001b[0m\u001b[0;34m(\u001b[0m\u001b[0mnp\u001b[0m\u001b[0;34m.\u001b[0m\u001b[0marray_split\u001b[0m\u001b[0;34m(\u001b[0m\u001b[0memb\u001b[0m\u001b[0;34m,\u001b[0m \u001b[0mn_nodes\u001b[0m \u001b[0;34m//\u001b[0m \u001b[0mbatch_size\u001b[0m\u001b[0;34m)\u001b[0m\u001b[0;34m,\u001b[0m \u001b[0mdisable\u001b[0m\u001b[0;34m=\u001b[0m\u001b[0mDISABLE_TQDM\u001b[0m\u001b[0;34m)\u001b[0m\u001b[0;34m]\u001b[0m\u001b[0;34m)\u001b[0m\u001b[0;34m\u001b[0m\u001b[0;34m\u001b[0m\u001b[0m\n\u001b[0m\u001b[1;32m     59\u001b[0m     return pd.DataFrame({\n\u001b[1;32m     60\u001b[0m         \u001b[0;34m\"source\"\u001b[0m\u001b[0;34m:\u001b[0m \u001b[0mnp\u001b[0m\u001b[0;34m.\u001b[0m\u001b[0mrepeat\u001b[0m\u001b[0;34m(\u001b[0m\u001b[0mnp\u001b[0m\u001b[0;34m.\u001b[0m\u001b[0marange\u001b[0m\u001b[0;34m(\u001b[0m\u001b[0mn_nodes\u001b[0m\u001b[0;34m)\u001b[0m\u001b[0;34m,\u001b[0m \u001b[0mk\u001b[0m\u001b[0;34m)\u001b[0m\u001b[0;34m,\u001b[0m\u001b[0;34m\u001b[0m\u001b[0;34m\u001b[0m\u001b[0m\n",
      "\u001b[0;32m<__array_function__ internals>\u001b[0m in \u001b[0;36marray_split\u001b[0;34m(*args, **kwargs)\u001b[0m\n",
      "\u001b[0;32m/data/sg/ashutiwa/miniconda3/lib/python3.7/site-packages/numpy/lib/shape_base.py\u001b[0m in \u001b[0;36marray_split\u001b[0;34m(ary, indices_or_sections, axis)\u001b[0m\n\u001b[1;32m    776\u001b[0m         \u001b[0mNsections\u001b[0m \u001b[0;34m=\u001b[0m \u001b[0mint\u001b[0m\u001b[0;34m(\u001b[0m\u001b[0mindices_or_sections\u001b[0m\u001b[0;34m)\u001b[0m\u001b[0;34m\u001b[0m\u001b[0;34m\u001b[0m\u001b[0m\n\u001b[1;32m    777\u001b[0m         \u001b[0;32mif\u001b[0m \u001b[0mNsections\u001b[0m \u001b[0;34m<=\u001b[0m \u001b[0;36m0\u001b[0m\u001b[0;34m:\u001b[0m\u001b[0;34m\u001b[0m\u001b[0;34m\u001b[0m\u001b[0m\n\u001b[0;32m--> 778\u001b[0;31m             \u001b[0;32mraise\u001b[0m \u001b[0mValueError\u001b[0m\u001b[0;34m(\u001b[0m\u001b[0;34m'number sections must be larger than 0.'\u001b[0m\u001b[0;34m)\u001b[0m \u001b[0;32mfrom\u001b[0m \u001b[0;32mNone\u001b[0m\u001b[0;34m\u001b[0m\u001b[0;34m\u001b[0m\u001b[0m\n\u001b[0m\u001b[1;32m    779\u001b[0m         \u001b[0mNeach_section\u001b[0m\u001b[0;34m,\u001b[0m \u001b[0mextras\u001b[0m \u001b[0;34m=\u001b[0m \u001b[0mdivmod\u001b[0m\u001b[0;34m(\u001b[0m\u001b[0mNtotal\u001b[0m\u001b[0;34m,\u001b[0m \u001b[0mNsections\u001b[0m\u001b[0;34m)\u001b[0m\u001b[0;34m\u001b[0m\u001b[0;34m\u001b[0m\u001b[0m\n\u001b[1;32m    780\u001b[0m         section_sizes = ([0] +\n",
      "\u001b[0;31mValueError\u001b[0m: number sections must be larger than 0."
     ]
    }
   ],
   "source": [
    "# # create edge_list\n",
    "batch_size = 2000\n",
    "\n",
    "edges = snakemake_utils.return_new_graph(A, k, )\n",
    "gini_score[model] = statistical_parity(edges, y, metric='gini')\n",
    "sp_score[model] = statistical_parity(edges, y, )\n",
    "\n",
    "roc_score[model] = get_roc_score(dot)\n",
    "edges.shape, sp_score[model], roc_score[model], gini_score[model]"
   ]
  },
  {
   "cell_type": "markdown",
   "id": "1b2cb32a",
   "metadata": {},
   "source": [
    "# GCN ( baseline + crosswalk)"
   ]
  },
  {
   "cell_type": "code",
   "execution_count": null,
   "id": "8ed8a9eb",
   "metadata": {
    "scrolled": true
   },
   "outputs": [],
   "source": [
    "model = \"GCN_baseline_crosswalk\"\n",
    "embs[model] = np.load(DATA_ROOT + DIRS[0] + DATASET + '_crosswalk_gcn_node2vec_embs.npy')\n",
    "emb = embs[model]\n",
    "A, P, N = emb[:, :128], emb[:, 128: 128 * 2], emb[:, 128 * 2:]\n",
    "A.shape, P.shape, N.shape"
   ]
  },
  {
   "cell_type": "code",
   "execution_count": null,
   "id": "b21db5c5",
   "metadata": {},
   "outputs": [],
   "source": [
    "# plot density\n",
    "dot = pd.DataFrame({\n",
    "        \"positive_dot\": np.array([np.dot(A[i], P[i]) for i in trange(A.shape[0])]),\n",
    "        \"negative_dot\": np.array([np.dot(A[i], N[i]) for i in trange(A.shape[0])])\n",
    "    })\n",
    "fig, ax = plt.subplots(1,1)\n",
    "\n",
    "plot_dot_(dot, title=model + '_dot_density')\n",
    "# ax.set_xlim(-750, 750)\n",
    "ax.legend(['positive_neighbors', 'negative_neighbors'])\n",
    "fig.show()"
   ]
  },
  {
   "cell_type": "code",
   "execution_count": null,
   "id": "673fa04c",
   "metadata": {},
   "outputs": [],
   "source": [
    "# # create edge_list\n",
    "batch_size = 2000\n",
    "\n",
    "edges = snakemake_utils.return_new_graph(A, k, )\n",
    "gini_score[model] = statistical_parity(edges, y, metric='gini')\n",
    "sp_score[model] = statistical_parity(edges, y, )\n",
    "\n",
    "roc_score[model] = get_roc_score(dot)\n",
    "edges.shape, sp_score[model], roc_score[model], gini_score[model]"
   ]
  },
  {
   "cell_type": "markdown",
   "id": "a0e1719e",
   "metadata": {},
   "source": [
    "# GCN ( r2v)"
   ]
  },
  {
   "cell_type": "code",
   "execution_count": null,
   "id": "4906ab15",
   "metadata": {
    "scrolled": true
   },
   "outputs": [],
   "source": [
    "model = \"GCN_r2v\"\n",
    "embs[model] = np.load(DATA_ROOT + DIRS[0] + DATASET  + '_gcn_r2v_node2vec_embs.npy')\n",
    "emb = embs[model]\n",
    "A, P, N = emb[:, :128], emb[:, 128: 128 * 2], emb[:, 128 * 2:]\n",
    "A.shape, P.shape, N.shape"
   ]
  },
  {
   "cell_type": "code",
   "execution_count": null,
   "id": "d45b07e9",
   "metadata": {},
   "outputs": [],
   "source": [
    "# plot density\n",
    "dot = pd.DataFrame({\n",
    "        \"positive_dot\": np.array([np.dot(A[i], P[i]) for i in trange(A.shape[0])]),\n",
    "        \"negative_dot\": np.array([np.dot(A[i], N[i]) for i in trange(A.shape[0])])\n",
    "    })\n",
    "fig, ax = plt.subplots(1,1)\n",
    "\n",
    "plot_dot_(dot, title=model + '_dot_density')\n",
    "# ax.set_xlim(-750, 750)\n",
    "ax.legend(['positive_neighbors', 'negative_neighbors'])\n",
    "fig.show()"
   ]
  },
  {
   "cell_type": "code",
   "execution_count": null,
   "id": "c24cedbe",
   "metadata": {},
   "outputs": [],
   "source": [
    "# # create edge_list\n",
    "batch_size = 2000\n",
    "\n",
    "edges = snakemake_utils.return_new_graph(A, k, )\n",
    "gini_score[model] = statistical_parity(edges, y, metric='gini')\n",
    "sp_score[model] = statistical_parity(edges, y, )\n",
    "\n",
    "roc_score[model] = get_roc_score(dot)\n",
    "edges.shape, sp_score[model], roc_score[model], gini_score[model]"
   ]
  },
  {
   "cell_type": "markdown",
   "id": "ae43172d",
   "metadata": {},
   "source": [
    "# GCN ( r2v + crosswalk)"
   ]
  },
  {
   "cell_type": "code",
   "execution_count": null,
   "id": "5455bde3",
   "metadata": {
    "scrolled": true
   },
   "outputs": [],
   "source": [
    "model = \"GCN_r2v_crosswalk\"\n",
    "embs[model] = np.load(DATA_ROOT + DIRS[0] + DATASET + '_crosswalk_gcn_r2v_node2vec_embs.npy')\n",
    "emb = embs[model]\n",
    "A, P, N = emb[:, :128], emb[:, 128: 128 * 2], emb[:, 128 * 2:]\n",
    "A.shape, P.shape, N.shape"
   ]
  },
  {
   "cell_type": "code",
   "execution_count": null,
   "id": "9400cd57",
   "metadata": {},
   "outputs": [],
   "source": [
    "# plot density\n",
    "dot = pd.DataFrame({\n",
    "        \"positive_dot\": np.array([np.dot(A[i], P[i]) for i in trange(A.shape[0])]),\n",
    "        \"negative_dot\": np.array([np.dot(A[i], N[i]) for i in trange(A.shape[0])])\n",
    "    })\n",
    "fig, ax = plt.subplots(1,1)\n",
    "\n",
    "plot_dot_(dot, title=model + '_dot_density')\n",
    "# ax.set_xlim(-750, 750)\n",
    "ax.legend(['positive_neighbors', 'negative_neighbors'])\n",
    "fig.show()"
   ]
  },
  {
   "cell_type": "code",
   "execution_count": null,
   "id": "3680c8b4",
   "metadata": {},
   "outputs": [],
   "source": [
    "# # create edge_list\n",
    "batch_size = 2000\n",
    "\n",
    "edges = snakemake_utils.return_new_graph(A, k, )\n",
    "gini_score[model] = statistical_parity(edges, y, metric='gini')\n",
    "sp_score[model] = statistical_parity(edges, y, )\n",
    "\n",
    "roc_score[model] = get_roc_score(dot)\n",
    "edges.shape, sp_score[model], roc_score[model], gini_score[model]"
   ]
  },
  {
   "cell_type": "markdown",
   "id": "1d2e41d5",
   "metadata": {},
   "source": [
    "# GAT ( baseline)"
   ]
  },
  {
   "cell_type": "code",
   "execution_count": null,
   "id": "f57fe26a",
   "metadata": {
    "scrolled": true
   },
   "outputs": [],
   "source": [
    "model = \"GAT_baseline\"\n",
    "embs[model] = np.load(DATA_ROOT + DIRS[0] + DATASET + '_gat_node2vec_embs.npy')\n",
    "emb = embs[model]\n",
    "A, P, N = emb[:, :128], emb[:, 128: 128 * 2], emb[:, 128 * 2:]\n",
    "A.shape, P.shape, N.shape"
   ]
  },
  {
   "cell_type": "code",
   "execution_count": null,
   "id": "232d338b",
   "metadata": {},
   "outputs": [],
   "source": [
    "# plot density\n",
    "dot = pd.DataFrame({\n",
    "        \"positive_dot\": np.array([np.dot(A[i], P[i]) for i in trange(A.shape[0])]),\n",
    "        \"negative_dot\": np.array([np.dot(A[i], N[i]) for i in trange(A.shape[0])])\n",
    "    })\n",
    "fig, ax = plt.subplots(1,1)\n",
    "\n",
    "plot_dot_(dot, title=model + '_dot_density')\n",
    "# ax.set_xlim(-750, 750)\n",
    "ax.legend(['positive_neighbors', 'negative_neighbors'])\n",
    "fig.show()"
   ]
  },
  {
   "cell_type": "code",
   "execution_count": null,
   "id": "ba9721ad",
   "metadata": {},
   "outputs": [],
   "source": [
    "# # create edge_list\n",
    "batch_size = 2000\n",
    "\n",
    "edges = snakemake_utils.return_new_graph(A, k, )\n",
    "gini_score[model] = statistical_parity(edges, y, metric='gini')\n",
    "sp_score[model] = statistical_parity(edges, y, )\n",
    "\n",
    "roc_score[model] = get_roc_score(dot)\n",
    "edges.shape, sp_score[model], roc_score[model], gini_score[model]"
   ]
  },
  {
   "cell_type": "markdown",
   "id": "5437c93e",
   "metadata": {},
   "source": [
    "# GAT ( baseline + crosswalk)"
   ]
  },
  {
   "cell_type": "code",
   "execution_count": null,
   "id": "7e167c94",
   "metadata": {
    "scrolled": true
   },
   "outputs": [],
   "source": [
    "model = \"GAT_baseline_crosswalk\"\n",
    "embs[model] = np.load(DATA_ROOT + DIRS[0] + DATASET + '_crosswalk_gat_node2vec_embs.npy')\n",
    "emb = embs[model]\n",
    "A, P, N = emb[:, :128], emb[:, 128: 128 * 2], emb[:, 128 * 2:]\n",
    "A.shape, P.shape, N.shape"
   ]
  },
  {
   "cell_type": "code",
   "execution_count": null,
   "id": "52491479",
   "metadata": {},
   "outputs": [],
   "source": [
    "# plot density\n",
    "dot = pd.DataFrame({\n",
    "        \"positive_dot\": np.array([np.dot(A[i], P[i]) for i in trange(A.shape[0])]),\n",
    "        \"negative_dot\": np.array([np.dot(A[i], N[i]) for i in trange(A.shape[0])])\n",
    "    })\n",
    "fig, ax = plt.subplots(1,1)\n",
    "\n",
    "plot_dot_(dot, title=model + '_dot_density')\n",
    "# ax.set_xlim(-750, 750)\n",
    "ax.legend(['positive_neighbors', 'negative_neighbors'])\n",
    "fig.show()"
   ]
  },
  {
   "cell_type": "code",
   "execution_count": null,
   "id": "eca56a92",
   "metadata": {},
   "outputs": [],
   "source": [
    "# # create edge_list\n",
    "batch_size = 2000\n",
    "\n",
    "edges = snakemake_utils.return_new_graph(A, k, )\n",
    "gini_score[model] = statistical_parity(edges, y, metric='gini')\n",
    "sp_score[model] = statistical_parity(edges, y, )\n",
    "\n",
    "roc_score[model] = get_roc_score(dot)\n",
    "edges.shape, sp_score[model], roc_score[model], gini_score[model]"
   ]
  },
  {
   "cell_type": "markdown",
   "id": "d2428b6f",
   "metadata": {},
   "source": [
    "# GAT ( r2v)"
   ]
  },
  {
   "cell_type": "code",
   "execution_count": null,
   "id": "40395e3e",
   "metadata": {
    "scrolled": true
   },
   "outputs": [],
   "source": [
    "model = \"GAT_r2v\"\n",
    "embs[model] = np.load(DATA_ROOT + DIRS[0] + DATASET + '_gat_r2v_node2vec_embs.npy')\n",
    "emb = embs[model]\n",
    "A, P, N = emb[:, :128], emb[:, 128: 128 * 2], emb[:, 128 * 2:]\n",
    "A.shape, P.shape, N.shape"
   ]
  },
  {
   "cell_type": "code",
   "execution_count": null,
   "id": "7ef41872",
   "metadata": {},
   "outputs": [],
   "source": [
    "# plot density\n",
    "dot = pd.DataFrame({\n",
    "        \"positive_dot\": np.array([np.dot(A[i], P[i]) for i in trange(A.shape[0])]),\n",
    "        \"negative_dot\": np.array([np.dot(A[i], N[i]) for i in trange(A.shape[0])])\n",
    "    })\n",
    "fig, ax = plt.subplots(1,1)\n",
    "\n",
    "plot_dot_(dot, title=model + '_dot_density')\n",
    "# ax.set_xlim(-750, 750)\n",
    "ax.legend(['positive_neighbors', 'negative_neighbors'])\n",
    "fig.show()"
   ]
  },
  {
   "cell_type": "code",
   "execution_count": null,
   "id": "e447f9b3",
   "metadata": {},
   "outputs": [],
   "source": [
    "# # create edge_list\n",
    "batch_size = 2000\n",
    "\n",
    "edges = snakemake_utils.return_new_graph(A, k, )\n",
    "gini_score[model] = statistical_parity(edges, y, metric='gini')\n",
    "sp_score[model] = statistical_parity(edges, y, )\n",
    "\n",
    "roc_score[model] = get_roc_score(dot)\n",
    "edges.shape, sp_score[model], roc_score[model], gini_score[model]"
   ]
  },
  {
   "cell_type": "markdown",
   "id": "878b8f13",
   "metadata": {},
   "source": [
    "# GAT ( r2v + crosswalk)"
   ]
  },
  {
   "cell_type": "code",
   "execution_count": null,
   "id": "b645c156",
   "metadata": {
    "scrolled": true
   },
   "outputs": [],
   "source": [
    "model = \"GAT_r2v_crosswalk\"\n",
    "embs[model] = np.load(DATA_ROOT + DIRS[0] + DATASET + '_crosswalk_gat_r2v_node2vec_embs.npy')\n",
    "emb = embs[model]\n",
    "A, P, N = emb[:, :128], emb[:, 128: 128 * 2], emb[:, 128 * 2:]\n",
    "A.shape, P.shape, N.shape"
   ]
  },
  {
   "cell_type": "code",
   "execution_count": null,
   "id": "63486625",
   "metadata": {},
   "outputs": [],
   "source": [
    "# plot density\n",
    "dot = pd.DataFrame({\n",
    "        \"positive_dot\": np.array([np.dot(A[i], P[i]) for i in trange(A.shape[0])]),\n",
    "        \"negative_dot\": np.array([np.dot(A[i], N[i]) for i in trange(A.shape[0])])\n",
    "    })\n",
    "fig, ax = plt.subplots(1,1)\n",
    "\n",
    "plot_dot_(dot, title=model + '_dot_density')\n",
    "# ax.set_xlim(-750, 750)\n",
    "ax.legend(['positive_neighbors', 'negative_neighbors'])\n",
    "fig.show()"
   ]
  },
  {
   "cell_type": "code",
   "execution_count": null,
   "id": "72cd9466",
   "metadata": {},
   "outputs": [],
   "source": [
    "# # create edge_list\n",
    "batch_size = 2000\n",
    "\n",
    "edges = snakemake_utils.return_new_graph(A, k, )\n",
    "gini_score[model] = statistical_parity(edges, y, metric='gini')\n",
    "sp_score[model] = statistical_parity(edges, y, )\n",
    "\n",
    "roc_score[model] = get_roc_score(dot)\n",
    "edges.shape, sp_score[model], roc_score[model], gini_score[model]"
   ]
  },
  {
   "cell_type": "markdown",
   "id": "ebbb980e",
   "metadata": {},
   "source": [
    "# plot statistical parity scores"
   ]
  },
  {
   "cell_type": "markdown",
   "id": "f5b36fa7",
   "metadata": {},
   "source": [
    "# gini sp scores"
   ]
  },
  {
   "cell_type": "code",
   "execution_count": null,
   "id": "bae3de0e",
   "metadata": {},
   "outputs": [],
   "source": [
    "\n",
    "for i, j in gini_score.items(): print(i, j)\n",
    "sns.set(rc = {'figure.figsize':(15,8)})\n",
    "ax = sns.barplot(x=list(gini_score.keys()), y=list(gini_score.values()))\n",
    "ax.set_ylim(min(gini_score.values()), max(gini_score.values()))\n",
    "ax.set_xticklabels(ax.get_xticklabels(),rotation = 45)\n",
    "ax.set_title(\"gini statistical parity scores\")"
   ]
  },
  {
   "cell_type": "markdown",
   "id": "2c76a2d5",
   "metadata": {},
   "source": [
    "# sp scores"
   ]
  },
  {
   "cell_type": "code",
   "execution_count": null,
   "id": "22b6746a",
   "metadata": {},
   "outputs": [],
   "source": [
    "\n",
    "for i, j in sp_score.items(): print(i, j)\n",
    "sns.set(rc = {'figure.figsize':(15,8)})\n",
    "ax = sns.barplot(x=list(sp_score.keys()), y=list(sp_score.values()))\n",
    "ax.set_ylim(min(sp_score.values()), max(sp_score.values()))\n",
    "ax.set_xticklabels(ax.get_xticklabels(),rotation = 45)\n",
    "ax.set_title(\"statistical parity scores\")"
   ]
  },
  {
   "cell_type": "markdown",
   "id": "37f5da17",
   "metadata": {},
   "source": [
    "# roc auc scores"
   ]
  },
  {
   "cell_type": "code",
   "execution_count": null,
   "id": "77ca7a10",
   "metadata": {},
   "outputs": [],
   "source": [
    "\n",
    "for i, j in roc_score.items(): print(i, j)\n",
    "sns.set(rc = {'figure.figsize':(15,8)})\n",
    "ax = sns.barplot(x=list(roc_score.keys()), y=list(roc_score.values()))\n",
    "ax.set_ylim(min(roc_score.values()), max(roc_score.values()))\n",
    "ax.set_xticklabels(ax.get_xticklabels(),rotation = 45)\n",
    "ax.set_title(\"roc scores\")"
   ]
  },
  {
   "cell_type": "code",
   "execution_count": null,
   "id": "e4cc7f98",
   "metadata": {},
   "outputs": [],
   "source": [
    "\n",
    "N = 20\n",
    "\n",
    "sp_scores, gini_scores = np.zeros((N, len(M))), np.zeros((N, len(M)))\n",
    "for k in range(N):\n",
    "    for idx, m in enumerate(M):\n",
    "        if k == 0: continue\n",
    "        batch_size =  2000\n",
    "        A = embs[m][:, :128]\n",
    "        edges = snakemake_utils.return_new_graph(A, k, )\n",
    "        \n",
    "    \n",
    "        gini_scores[k, idx] = statistical_parity(edges, y, metric='gini')\n",
    "        sp_scores[k, idx] = statistical_parity(edges, y, )\n"
   ]
  },
  {
   "cell_type": "code",
   "execution_count": null,
   "id": "fb97b479",
   "metadata": {},
   "outputs": [],
   "source": [
    "for i in range(len(M)):\n",
    "    plt.plot(gini_scores[:, i], label=M[i])\n",
    "plt.legend(loc=\"upper right\")\n",
    "plt.title(\"gini scores vs # nn\")"
   ]
  },
  {
   "cell_type": "code",
   "execution_count": null,
   "id": "31dfe38f",
   "metadata": {},
   "outputs": [],
   "source": [
    "for i in range(len(M)):\n",
    "    plt.plot(sp_scores[:, i], label=M[i])\n",
    "plt.legend(loc=\"upper right\")\n",
    "\n",
    "plt.title(\"sp scores vs # nn\")"
   ]
  },
  {
   "cell_type": "markdown",
   "id": "357539db",
   "metadata": {},
   "source": [
    "# combine all different runs"
   ]
  },
  {
   "cell_type": "code",
   "execution_count": null,
   "id": "8ef5d890",
   "metadata": {},
   "outputs": [],
   "source": [
    "MODEL_NAME_2_FILE = {\n",
    "    \"GCN_baseline\": \"_gcn_node2vec_embs.npy\",\n",
    "    \"GCN_baseline_crosswalk\": \"_crosswalk_gcn_node2vec_embs.npy\",\n",
    "    \"GCN_r2v\": \"_gcn_r2v_node2vec_embs.npy\",\n",
    "    \"GCN_r2v_crosswalk\": '_crosswalk_gcn_r2v_node2vec_embs.npy',\n",
    "    \"GAT_baseline\": '_gat_node2vec_embs.npy',\n",
    "    \"GAT_baseline_crosswalk\": \"_crosswalk_gat_node2vec_embs.npy\",\n",
    "    \"GAT_r2v\": \"_gat_r2v_node2vec_embs.npy\",\n",
    "    \"GAT_r2v_crosswalk\": \"_crosswalk_gat_r2v_node2vec_embs.npy\"\n",
    "}\n",
    "def roc_scores(model_name):\n",
    "    scores = np.zeros(len(DIRS))\n",
    "    for idx, d in enumerate(DIRS):\n",
    "        emb = np.load(DATA_ROOT + d + DATASET + MODEL_NAME_2_FILE[model_name])\n",
    "        A, P, N = emb[:, :128], emb[:, 128: 128 * 2], emb[:, 128 * 2:]\n",
    "        dot = pd.DataFrame({\n",
    "            \"positive_dot\": np.array([np.dot(A[i], P[i]) for i in range(A.shape[0])]),\n",
    "            \"negative_dot\": np.array([np.dot(A[i], N[i]) for i in range(A.shape[0])])\n",
    "        })\n",
    "        scores[idx] = get_roc_score(dot)\n",
    "    return np.mean(scores)\n",
    "\n",
    "\n",
    "def statisticalp_scores(model_name, K=5):\n",
    "    scores, scores_gini = np.zeros(len(DIRS)), np.zeros(len(DIRS))\n",
    "    for idx, d in enumerate(DIRS):\n",
    "        emb = np.load(DATA_ROOT + d + DATASET + MODEL_NAME_2_FILE[model_name])\n",
    "        A, P, N = emb[:, :128], emb[:, 128: 128 * 2], emb[:, 128 * 2:]\n",
    "        edges = snakemake_utils.return_new_graph(A, K)\n",
    "        scores_gini[idx] = statistical_parity(edges, y, metric='gini')\n",
    "        \n",
    "        scores[idx] = statistical_parity(edges, y, )\n",
    "    return np.mean(scores), np.mean(scores_gini)"
   ]
  },
  {
   "cell_type": "code",
   "execution_count": null,
   "id": "229b6d10",
   "metadata": {},
   "outputs": [],
   "source": [
    "\n",
    "roc_score = {m: roc_scores(m) for m in MODEL_NAME_2_FILE}\n",
    "\n",
    "for i, j in roc_score.items(): print(i, j)\n",
    "sns.set(rc = {'figure.figsize':(15,8)})\n",
    "ax = sns.barplot(x=list(roc_score.keys()), y=list(roc_score.values()))\n",
    "ax.set_ylim(min(roc_score.values()), max(roc_score.values()))\n",
    "ax.set_xticklabels(ax.get_xticklabels(),rotation = 45)\n",
    "ax.set_title(\"roc scores\")"
   ]
  },
  {
   "cell_type": "code",
   "execution_count": null,
   "id": "1f3cba0c",
   "metadata": {},
   "outputs": [],
   "source": [
    "\n",
    "temp = {m: statisticalp_scores(m) for m in MODEL_NAME_2_FILE}\n",
    "\n",
    "sp_score = {m: v[0] for m,v in temp.items()}\n",
    "for i, j in sp_score.items(): print(i, j)\n",
    "sns.set(rc = {'figure.figsize':(15,8)})\n",
    "ax = sns.barplot(x=list(sp_score.keys()), y=list(sp_score.values()))\n",
    "ax.set_ylim(min(sp_score.values()), max(sp_score.values()))\n",
    "ax.set_xticklabels(ax.get_xticklabels(),rotation = 45)\n",
    "ax.set_title(\"statistical parity scores\")"
   ]
  },
  {
   "cell_type": "code",
   "execution_count": null,
   "id": "dc0cc7e5",
   "metadata": {},
   "outputs": [],
   "source": [
    "gini_score = {m: v[1] for m,v in temp.items()}\n",
    "for i, j in gini_score.items(): print(i, j)\n",
    "sns.set(rc = {'figure.figsize':(15,8)})\n",
    "ax = sns.barplot(x=list(gini_score.keys()), y=list(gini_score.values()))\n",
    "ax.set_ylim(min(gini_score.values()), max(gini_score.values()))\n",
    "ax.set_xticklabels(ax.get_xticklabels(),rotation = 45)\n",
    "ax.set_title(\"gini statistical parity scores\")"
   ]
  },
  {
   "cell_type": "code",
   "execution_count": null,
   "id": "dfe295a8",
   "metadata": {},
   "outputs": [],
   "source": []
  }
 ],
 "metadata": {
  "kernelspec": {
   "display_name": "Python 3 (ipykernel)",
   "language": "python",
   "name": "python3"
  },
  "language_info": {
   "codemirror_mode": {
    "name": "ipython",
    "version": 3
   },
   "file_extension": ".py",
   "mimetype": "text/x-python",
   "name": "python",
   "nbconvert_exporter": "python",
   "pygments_lexer": "ipython3",
   "version": "3.7.13"
  }
 },
 "nbformat": 4,
 "nbformat_minor": 5
}
