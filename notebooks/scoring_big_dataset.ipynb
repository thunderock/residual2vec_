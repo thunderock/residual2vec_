{
 "cells": [
  {
   "cell_type": "code",
   "execution_count": 1,
   "id": "16d1921c",
   "metadata": {},
   "outputs": [],
   "source": [
    "import sys, os\n",
    "sys.path.insert(0, '..')\n",
    "os.environ[\"CUDA_VISIBLE_DEVICES\"]=\"\""
   ]
  },
  {
   "cell_type": "code",
   "execution_count": 2,
   "id": "5d539127",
   "metadata": {},
   "outputs": [],
   "source": [
    "import torch\n",
    "from models.weighted_node2vec import WeightedNode2Vec\n",
    "from dataset import triplet_dataset, pokec_data\n",
    "from utils.config import DEVICE\n",
    "from tqdm import tqdm, trange\n",
    "import gc\n",
    "from utils.link_prediction import GCNLinkPrediction\n",
    "import residual2vec as rv\n",
    "import warnings\n",
    "\n",
    "warnings.filterwarnings(\"ignore\")\n",
    "gc.enable()"
   ]
  },
  {
   "cell_type": "code",
   "execution_count": 3,
   "id": "0791d7fe",
   "metadata": {},
   "outputs": [],
   "source": [
    "window_length = 5\n",
    "num_walks = 10\n",
    "dim = 128\n",
    "walk_length = 80\n",
    "NUM_WORKERS = 4"
   ]
  },
  {
   "cell_type": "code",
   "execution_count": 4,
   "id": "e1609e29",
   "metadata": {},
   "outputs": [
    {
     "name": "stderr",
     "output_type": "stream",
     "text": [
      "Using existing file soc-pokec-profiles.txt.gz\n",
      "Using existing file soc-pokec-relationships.txt.gz\n"
     ]
    }
   ],
   "source": [
    "d = pokec_data.PokecDataFrame()\n",
    "edge_index, num_nodes = d.edge_index, d.X.shape[0]"
   ]
  },
  {
   "cell_type": "code",
   "execution_count": 5,
   "id": "f7f49384",
   "metadata": {},
   "outputs": [],
   "source": [
    "node_to_vec = WeightedNode2Vec(num_nodes=num_nodes,\n",
    "                         group_membership=d.get_grouped_col(),\n",
    "                         weighted_adj=\"../data/pokec_crosswalk_adj.npz\",\n",
    "                         edge_index=edge_index, \n",
    "                         embedding_dim=16, walk_length=walk_length, \n",
    "                         context_size=2, ).to(DEVICE)"
   ]
  },
  {
   "cell_type": "code",
   "execution_count": 6,
   "id": "ff638cbe",
   "metadata": {},
   "outputs": [],
   "source": [
    "k = \"degree-unbiased-gcn\"\n",
    "model = rv.residual2vec_sgd(\n",
    "    noise_sampler=rv.ConfigModelNodeSampler(),\n",
    "    window_length=window_length,\n",
    "    num_walks=num_walks,\n",
    "    walk_length=walk_length\n",
    ").fit()"
   ]
  },
  {
   "cell_type": "code",
   "execution_count": 7,
   "id": "e48a9bdd",
   "metadata": {},
   "outputs": [],
   "source": [
    "loader = node_to_vec.loader(batch_size=128, shuffle=True, num_workers=4)\n",
    "optimizer = torch.optim.Adam(list(node_to_vec.parameters()), lr=0.01)"
   ]
  },
  {
   "cell_type": "code",
   "execution_count": 8,
   "id": "065cc6f1",
   "metadata": {},
   "outputs": [
    {
     "name": "stderr",
     "output_type": "stream",
     "text": [
      "0it [00:00, ?it/s]"
     ]
    },
    {
     "name": "stdout",
     "output_type": "stream",
     "text": [
      "training node2vec\n"
     ]
    },
    {
     "name": "stderr",
     "output_type": "stream",
     "text": [
      "\n"
     ]
    }
   ],
   "source": [
    "X = node_to_vec.train_and_get_embs(loader, optimizer, epochs=0, save=\"path\")"
   ]
  },
  {
   "cell_type": "code",
   "execution_count": 9,
   "id": "c232d235",
   "metadata": {},
   "outputs": [
    {
     "name": "stdout",
     "output_type": "stream",
     "text": [
      "num_embeddings 6\n"
     ]
    }
   ],
   "source": [
    "d = triplet_dataset.TripletGraphDataset(X=X, edge_index=edge_index)\n",
    "dataloader = triplet_dataset.NeighborEdgeSampler(d, batch_size=1, shuffle=True, num_workers=1, pin_memory=True)"
   ]
  },
  {
   "cell_type": "code",
   "execution_count": 10,
   "id": "6462ac7b",
   "metadata": {},
   "outputs": [],
   "source": [
    "m = GCNLinkPrediction(in_channels=d.num_features, embedding_size=128, hidden_channels=64, num_layers=5, num_embeddings=16)\n",
    "# model.transform(model=m, dataloader=dataloader)"
   ]
  },
  {
   "cell_type": "code",
   "execution_count": 11,
   "id": "59c030c6",
   "metadata": {},
   "outputs": [],
   "source": [
    "# torch.save(m.state_dict(), k)"
   ]
  },
  {
   "cell_type": "code",
   "execution_count": 12,
   "id": "93a99f05",
   "metadata": {},
   "outputs": [],
   "source": [
    "batch = next(iter(dataloader))"
   ]
  },
  {
   "cell_type": "code",
   "execution_count": 13,
   "id": "95464767",
   "metadata": {},
   "outputs": [
    {
     "data": {
      "text/plain": [
       "GCNLinkPrediction(\n",
       "  (ivectors): Linear(in_features=16, out_features=128, bias=True)\n",
       "  (ovectors): Linear(in_features=16, out_features=128, bias=True)\n",
       "  (in_layer): GCNConv(16, 64)\n",
       "  (out_layer): GCNConv(64, 2048)\n",
       "  (cnn_0): GCNConv(64, 64)\n",
       "  (cnn_1): GCNConv(64, 64)\n",
       "  (cnn_2): GCNConv(64, 64)\n",
       "  (lin): Linear(in_features=4096, out_features=128, bias=True)\n",
       ")"
      ]
     },
     "execution_count": 13,
     "metadata": {},
     "output_type": "execute_result"
    }
   ],
   "source": [
    "m.to(DEVICE)"
   ]
  },
  {
   "cell_type": "code",
   "execution_count": 14,
   "id": "32292b18",
   "metadata": {},
   "outputs": [
    {
     "data": {
      "text/plain": [
       "tensor([[-0.0664, -0.2907,  0.1268,  0.0493, -0.1212, -0.2206,  0.1029,  0.0301,\n",
       "         -0.2786, -0.1259,  0.1222, -0.0183,  0.2683, -0.1957, -0.2714,  0.0738,\n",
       "          0.0171, -0.0170, -0.0682, -0.1558,  0.1045,  0.1526,  0.2013,  0.0237,\n",
       "          0.0790,  0.2630, -0.0909,  0.2392,  0.0081,  0.0245,  0.0623, -0.3226,\n",
       "         -0.1003,  0.0490, -0.0263, -0.0681, -0.2912,  0.0926,  0.2797,  0.3329,\n",
       "          0.0629, -0.1878, -0.1724, -0.1880,  0.2743,  0.2627,  0.1285,  0.1206,\n",
       "          0.1137,  0.4871,  0.1326,  0.1449,  0.0061,  0.2396,  0.2016,  0.1812,\n",
       "          0.1311,  0.0474,  0.0892,  0.0007,  0.0693,  0.0049,  0.0377,  0.1527,\n",
       "          0.1613, -0.1865,  0.0276,  0.0159, -0.2282,  0.3129, -0.0394, -0.0661,\n",
       "          0.2094,  0.0581,  0.0319,  0.2666,  0.0048, -0.0572,  0.1165,  0.0339,\n",
       "         -0.4578, -0.0188, -0.0117, -0.2521,  0.3476,  0.2969,  0.0285, -0.0521,\n",
       "         -0.2121, -0.4158, -0.1480,  0.0520,  0.0593, -0.1396, -0.5546, -0.4005,\n",
       "         -0.3793,  0.0686,  0.0894,  0.3279, -0.0038,  0.1155,  0.0866,  0.1609,\n",
       "         -0.1498, -0.2709, -0.2820,  0.0900, -0.1040, -0.3812, -0.0838,  0.3391,\n",
       "          0.0318, -0.1256, -0.0033,  0.1371, -0.0505,  0.0264,  0.2575,  0.0036,\n",
       "          0.0877,  0.2287, -0.2921,  0.0492, -0.0245,  0.0949,  0.0296,  0.3124]],\n",
       "       grad_fn=<AddmmBackward0>)"
      ]
     },
     "execution_count": 14,
     "metadata": {},
     "output_type": "execute_result"
    }
   ],
   "source": [
    "m.forward_i(batch[0])"
   ]
  },
  {
   "cell_type": "code",
   "execution_count": 16,
   "id": "e2532213",
   "metadata": {},
   "outputs": [
    {
     "data": {
      "text/plain": [
       "torch.Size([1, 128])"
      ]
     },
     "execution_count": 16,
     "metadata": {},
     "output_type": "execute_result"
    }
   ],
   "source": [
    "m.forward_i(batch[0]).shape"
   ]
  },
  {
   "cell_type": "code",
   "execution_count": null,
   "id": "837a2059",
   "metadata": {},
   "outputs": [],
   "source": []
  }
 ],
 "metadata": {
  "kernelspec": {
   "display_name": "Python 3 (ipykernel)",
   "language": "python",
   "name": "python3"
  },
  "language_info": {
   "codemirror_mode": {
    "name": "ipython",
    "version": 3
   },
   "file_extension": ".py",
   "mimetype": "text/x-python",
   "name": "python",
   "nbconvert_exporter": "python",
   "pygments_lexer": "ipython3",
   "version": "3.7.12"
  }
 },
 "nbformat": 4,
 "nbformat_minor": 5
}
