{
 "cells": [
  {
   "cell_type": "code",
   "execution_count": 1,
   "id": "16d1921c",
   "metadata": {},
   "outputs": [],
   "source": [
    "import sys, os\n",
    "sys.path.insert(0, '..')\n",
    "# os.environ[\"CUDA_VISIBLE_DEVICES\"]=\"\""
   ]
  },
  {
   "cell_type": "code",
   "execution_count": 2,
   "id": "5d539127",
   "metadata": {},
   "outputs": [
    {
     "name": "stderr",
     "output_type": "stream",
     "text": [
      "/data/sg/ashutiwa/miniconda3/lib/python3.7/site-packages/tqdm/auto.py:22: TqdmWarning: IProgress not found. Please update jupyter and ipywidgets. See https://ipywidgets.readthedocs.io/en/stable/user_install.html\n",
      "  from .autonotebook import tqdm as notebook_tqdm\n"
     ]
    },
    {
     "name": "stdout",
     "output_type": "stream",
     "text": [
      "Using GPU: cuda:0\n"
     ]
    }
   ],
   "source": [
    "import numpy as np\n",
    "import pandas as pd\n",
    "import torch\n",
    "from models.weighted_node2vec import WeightedNode2Vec\n",
    "from dataset import triplet_dataset, pokec_data\n",
    "from utils.config import DEVICE\n",
    "from tqdm import tqdm, trange\n",
    "import gc\n",
    "from utils.link_prediction import GCNLinkPrediction\n",
    "import residual2vec as rv\n",
    "import warnings\n",
    "import matplotlib.pyplot as plt\n",
    "\n",
    "warnings.filterwarnings(\"ignore\")\n",
    "gc.enable()"
   ]
  },
  {
   "cell_type": "code",
   "execution_count": 3,
   "id": "0791d7fe",
   "metadata": {},
   "outputs": [],
   "source": [
    "window_length = 5\n",
    "num_walks = 10\n",
    "dim = 128\n",
    "walk_length = 80\n",
    "NUM_WORKERS = 4"
   ]
  },
  {
   "cell_type": "code",
   "execution_count": 4,
   "id": "e1609e29",
   "metadata": {},
   "outputs": [],
   "source": [
    "# d = pokec_data.PokecDataFrame()"
   ]
  },
  {
   "cell_type": "code",
   "execution_count": 5,
   "id": "f7f49384",
   "metadata": {},
   "outputs": [],
   "source": [
    "embs = {}"
   ]
  },
  {
   "cell_type": "code",
   "execution_count": 6,
   "id": "ff638cbe",
   "metadata": {},
   "outputs": [],
   "source": [
    "embs['gcn_crosswalk'] = np.load(\"/data/sg/ashutiwa/residual2vec_/pokec_crosswalk_gcn_embs.npy\")"
   ]
  },
  {
   "cell_type": "code",
   "execution_count": 7,
   "id": "837a2059",
   "metadata": {},
   "outputs": [],
   "source": [
    "emb = embs['gcn_crosswalk']"
   ]
  },
  {
   "cell_type": "markdown",
   "id": "a13d5e9c",
   "metadata": {},
   "source": [
    "# distributions of positive and negative edgeswith dot product"
   ]
  },
  {
   "cell_type": "code",
   "execution_count": 8,
   "id": "a4d97afa",
   "metadata": {},
   "outputs": [],
   "source": [
    "a, p, n = emb[:, :128], emb[:, 128: 128 * 2], emb[:, 128 * 2:]"
   ]
  },
  {
   "cell_type": "code",
   "execution_count": 9,
   "id": "2a39a0a6",
   "metadata": {},
   "outputs": [
    {
     "data": {
      "text/plain": [
       "((1632803, 128), (1632803, 128), (1632803, 128))"
      ]
     },
     "execution_count": 9,
     "metadata": {},
     "output_type": "execute_result"
    }
   ],
   "source": [
    "a.shape, p.shape, n.shape"
   ]
  },
  {
   "cell_type": "code",
   "execution_count": 10,
   "id": "443d665d",
   "metadata": {},
   "outputs": [
    {
     "name": "stderr",
     "output_type": "stream",
     "text": [
      "100%|████████████████████████████| 1632803/1632803 [00:03<00:00, 421273.11it/s]\n",
      "100%|████████████████████████████| 1632803/1632803 [00:03<00:00, 418414.35it/s]\n"
     ]
    }
   ],
   "source": [
    "df = pd.DataFrame({\n",
    "    \"positive_dot\": np.array([np.dot(a[i], p[i]) for i in trange(a.shape[0])]),\n",
    "    \n",
    "    \"negative_dot\": np.array([np.dot(a[i], n[i]) for i in trange(a.shape[0])])\n",
    "})"
   ]
  },
  {
   "cell_type": "code",
   "execution_count": 11,
   "id": "9d6ac948",
   "metadata": {},
   "outputs": [
    {
     "data": {
      "image/png": "[encoded data removed]",
      "text/plain": [
       "<Figure size 432x288 with 1 Axes>"
      ]
     },
     "metadata": {
      "needs_background": "light"
     },
     "output_type": "display_data"
    }
   ],
   "source": [
    "fig, ax = plt.subplots(1,1)\n",
    "df.positive_dot.plot(kind='density')\n",
    "df.negative_dot.plot(kind='density')\n",
    "fig.show()"
   ]
  },
  {
   "cell_type": "code",
   "execution_count": 13,
   "id": "6ab44b74",
   "metadata": {},
   "outputs": [
    {
     "data": {
      "text/plain": [
       "count    1.632803e+06\n",
       "mean     1.479356e+02\n",
       "std      1.276443e+02\n",
       "min     -4.653814e+01\n",
       "25%      4.859415e+01\n",
       "50%      1.163143e+02\n",
       "75%      2.099825e+02\n",
       "max      1.048357e+03\n",
       "Name: positive_dot, dtype: float64"
      ]
     },
     "execution_count": 13,
     "metadata": {},
     "output_type": "execute_result"
    }
   ],
   "source": [
    "df.positive_dot.describe()"
   ]
  },
  {
   "cell_type": "code",
   "execution_count": 14,
   "id": "b944b271",
   "metadata": {},
   "outputs": [
    {
     "data": {
      "text/plain": [
       "count    1.632803e+06\n",
       "mean     1.479356e+02\n",
       "std      1.276443e+02\n",
       "min     -4.653814e+01\n",
       "25%      4.859415e+01\n",
       "50%      1.163143e+02\n",
       "75%      2.099825e+02\n",
       "max      1.048357e+03\n",
       "Name: negative_dot, dtype: float64"
      ]
     },
     "execution_count": 14,
     "metadata": {},
     "output_type": "execute_result"
    }
   ],
   "source": [
    "df.negative_dot.describe()"
   ]
  },
  {
   "cell_type": "code",
   "execution_count": 15,
   "id": "f642b90f",
   "metadata": {},
   "outputs": [
    {
     "data": {
      "text/plain": [
       "array([[-0.4409692 ,  0.48595253, -0.09438121, ..., -0.09403706,\n",
       "        -0.02075417, -0.30607632],\n",
       "       [-0.08512762, -0.33109424, -0.08568724, ..., -0.3235005 ,\n",
       "        -0.17146918,  0.29333705],\n",
       "       [ 0.1517711 ,  0.44269872,  0.03825224, ..., -0.10279831,\n",
       "        -0.35050744, -0.19695434],\n",
       "       ...,\n",
       "       [-0.6271519 ,  0.51438   , -0.08930668, ..., -0.42062566,\n",
       "         0.06359663, -0.00601036],\n",
       "       [-0.30284345,  0.24882692, -0.11373731, ..., -0.20856792,\n",
       "        -0.21802956,  0.16292256],\n",
       "       [-0.6271519 ,  0.51438   , -0.08930668, ..., -0.42062566,\n",
       "         0.06359663, -0.00601036]], dtype=float32)"
      ]
     },
     "execution_count": 15,
     "metadata": {},
     "output_type": "execute_result"
    }
   ],
   "source": [
    "p"
   ]
  },
  {
   "cell_type": "code",
   "execution_count": 16,
   "id": "e73e3331",
   "metadata": {},
   "outputs": [
    {
     "data": {
      "text/plain": [
       "array([[-0.4409692 ,  0.48595253, -0.09438121, ..., -0.09403706,\n",
       "        -0.02075417, -0.30607632],\n",
       "       [-0.08512762, -0.33109424, -0.08568724, ..., -0.3235005 ,\n",
       "        -0.17146918,  0.29333705],\n",
       "       [ 0.1517711 ,  0.44269872,  0.03825224, ..., -0.10279831,\n",
       "        -0.35050744, -0.19695434],\n",
       "       ...,\n",
       "       [-0.6271519 ,  0.51438   , -0.08930668, ..., -0.42062563,\n",
       "         0.06359663, -0.00601034],\n",
       "       [-0.30284345,  0.24882692, -0.11373731, ..., -0.20856792,\n",
       "        -0.21802956,  0.16292258],\n",
       "       [-0.6271519 ,  0.51438   , -0.08930668, ..., -0.42062563,\n",
       "         0.06359663, -0.00601034]], dtype=float32)"
      ]
     },
     "execution_count": 16,
     "metadata": {},
     "output_type": "execute_result"
    }
   ],
   "source": [
    "n"
   ]
  },
  {
   "cell_type": "code",
   "execution_count": null,
   "id": "541ea2ca",
   "metadata": {},
   "outputs": [],
   "source": []
  }
 ],
 "metadata": {
  "kernelspec": {
   "display_name": "Python 3 (ipykernel)",
   "language": "python",
   "name": "python3"
  },
  "language_info": {
   "codemirror_mode": {
    "name": "ipython",
    "version": 3
   },
   "file_extension": ".py",
   "mimetype": "text/x-python",
   "name": "python",
   "nbconvert_exporter": "python",
   "pygments_lexer": "ipython3",
   "version": "3.7.13"
  }
 },
 "nbformat": 4,
 "nbformat_minor": 5
}
