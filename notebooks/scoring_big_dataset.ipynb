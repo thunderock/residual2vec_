{
 "cells": [
  {
   "cell_type": "code",
   "execution_count": null,
   "id": "16d1921c",
   "metadata": {},
   "outputs": [],
   "source": [
    "import sys, os\n",
    "sys.path.insert(0, '..')\n",
    "# os.environ[\"CUDA_VISIBLE_DEVICES\"]=\"\""
   ]
  },
  {
   "cell_type": "code",
   "execution_count": null,
   "id": "5d539127",
   "metadata": {},
   "outputs": [],
   "source": [
    "import numpy as np\n",
    "import pandas as pd\n",
    "import torch\n",
    "from models.weighted_node2vec import WeightedNode2Vec\n",
    "from dataset import triplet_dataset, pokec_data\n",
    "from utils.config import DEVICE\n",
    "from tqdm import tqdm, trange\n",
    "import gc\n",
    "from utils.link_prediction import GCNLinkPrediction\n",
    "import residual2vec as rv\n",
    "import warnings\n",
    "import faiss\n",
    "import matplotlib.pyplot as plt\n",
    "\n",
    "warnings.filterwarnings(\"ignore\")\n",
    "gc.enable()"
   ]
  },
  {
   "cell_type": "code",
   "execution_count": null,
   "id": "0791d7fe",
   "metadata": {},
   "outputs": [],
   "source": [
    "window_length = 5\n",
    "num_walks = 10\n",
    "dim = 128\n",
    "walk_length = 80\n",
    "NUM_WORKERS = 4"
   ]
  },
  {
   "cell_type": "code",
   "execution_count": null,
   "id": "f7f49384",
   "metadata": {},
   "outputs": [],
   "source": [
    "embs = {}"
   ]
  },
  {
   "cell_type": "code",
   "execution_count": null,
   "id": "ff638cbe",
   "metadata": {},
   "outputs": [],
   "source": [
    "embs['gcn_crosswalk'] = np.load(\"../data/pokec_crosswalk_gcn_embs.npy\")"
   ]
  },
  {
   "cell_type": "code",
   "execution_count": null,
   "id": "837a2059",
   "metadata": {},
   "outputs": [],
   "source": [
    "emb = embs['gcn_crosswalk']"
   ]
  },
  {
   "cell_type": "markdown",
   "id": "a13d5e9c",
   "metadata": {},
   "source": [
    "# distributions of positive and negative edgeswith dot product"
   ]
  },
  {
   "cell_type": "code",
   "execution_count": null,
   "id": "a4d97afa",
   "metadata": {},
   "outputs": [],
   "source": [
    "a, p, n = emb[:, :128].copy(), emb[:, 128: 128 * 2], emb[:, 128 * 2:]"
   ]
  },
  {
   "cell_type": "code",
   "execution_count": null,
   "id": "2a39a0a6",
   "metadata": {},
   "outputs": [],
   "source": [
    "a.shape, p.shape, n.shape"
   ]
  },
  {
   "cell_type": "code",
   "execution_count": null,
   "id": "443d665d",
   "metadata": {},
   "outputs": [],
   "source": [
    "df = pd.DataFrame({\n",
    "    \"positive_dot\": np.array([np.dot(a[i], p[i]) for i in trange(a.shape[0])]),\n",
    "    \"negative_dot\": np.array([np.dot(a[i], n[i]) for i in trange(a.shape[0])])\n",
    "})"
   ]
  },
  {
   "cell_type": "code",
   "execution_count": null,
   "id": "9d6ac948",
   "metadata": {},
   "outputs": [],
   "source": [
    "fig, ax = plt.subplots(1,1)\n",
    "df.positive_dot.plot(kind='density')\n",
    "df.negative_dot.plot(kind='density')\n",
    "fig.show()"
   ]
  },
  {
   "cell_type": "code",
   "execution_count": null,
   "id": "6ab44b74",
   "metadata": {},
   "outputs": [],
   "source": [
    "df.positive_dot.describe()"
   ]
  },
  {
   "cell_type": "code",
   "execution_count": null,
   "id": "b944b271",
   "metadata": {},
   "outputs": [],
   "source": [
    "df.negative_dot.describe()"
   ]
  },
  {
   "cell_type": "code",
   "execution_count": null,
   "id": "541ea2ca",
   "metadata": {},
   "outputs": [],
   "source": [
    "del df, p, n\n",
    "gc.collect()"
   ]
  },
  {
   "cell_type": "code",
   "execution_count": null,
   "id": "a82377b1",
   "metadata": {},
   "outputs": [],
   "source": [
    "# create edge_list\n",
    "k, batch_size = 5, 2000\n",
    "from utils.graph_utils import get_edges_faiss\n",
    "edges = get_edges_faiss(a, k, batch_size,)\n",
    "edges"
   ]
  },
  {
   "cell_type": "code",
   "execution_count": null,
   "id": "3e1a4352",
   "metadata": {},
   "outputs": [],
   "source": []
  }
 ],
 "metadata": {
  "kernelspec": {
   "display_name": "Python 3 (ipykernel)",
   "language": "python",
   "name": "python3"
  },
  "language_info": {
   "codemirror_mode": {
    "name": "ipython",
    "version": 3
   },
   "file_extension": ".py",
   "mimetype": "text/x-python",
   "name": "python",
   "nbconvert_exporter": "python",
   "pygments_lexer": "ipython3",
   "version": "3.7.12"
  }
 },
 "nbformat": 4,
 "nbformat_minor": 5
}
