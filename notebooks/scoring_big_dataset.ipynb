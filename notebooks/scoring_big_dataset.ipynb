{
 "cells": [
  {
   "cell_type": "code",
   "execution_count": 1,
   "id": "16d1921c",
   "metadata": {},
   "outputs": [],
   "source": [
    "import sys, os\n",
    "sys.path.insert(0, '..')"
   ]
  },
  {
   "cell_type": "code",
   "execution_count": 2,
   "id": "5d539127",
   "metadata": {},
   "outputs": [],
   "source": [
    "import torch\n",
    "from models.weighted_node2vec import WeightedNode2Vec\n",
    "from torch_geometric.nn.models import Node2Vec\n",
    "from dataset import triplet_dataset\n",
    "from utils.config import *\n",
    "from tqdm import tqdm, trange\n",
    "import gc\n",
    "import warnings\n",
    "\n",
    "gc.enable()"
   ]
  },
  {
   "cell_type": "code",
   "execution_count": 3,
   "id": "e42c4231",
   "metadata": {},
   "outputs": [
    {
     "name": "stderr",
     "output_type": "stream",
     "text": [
      "Using existing file soc-pokec-profiles.txt.gz\n",
      "Using existing file soc-pokec-relationships.txt.gz\n"
     ]
    },
    {
     "data": {
      "text/plain": [
       "tensor([[      0,       0,       0,  ..., 1632801, 1632801, 1632802],\n",
       "        [     12,      10,       5,  ..., 1632636, 1632735, 1632404]])"
      ]
     },
     "execution_count": 3,
     "metadata": {},
     "output_type": "execute_result"
    }
   ],
   "source": [
    "d = triplet_dataset.TripletPokecDataset()\n",
    "edge_index, num_nodes = d.edge_index, d.n_nodes\n",
    "gc.collect()\n",
    "edge_index"
   ]
  },
  {
   "cell_type": "code",
   "execution_count": 4,
   "id": "6575edab",
   "metadata": {},
   "outputs": [
    {
     "data": {
      "text/plain": [
       "(torch.Size([30622564]), torch.Size([2, 30622564]))"
      ]
     },
     "execution_count": 4,
     "metadata": {},
     "output_type": "execute_result"
    }
   ],
   "source": [
    "edge_index[0, :].shape, edge_index.shape"
   ]
  },
  {
   "cell_type": "code",
   "execution_count": 5,
   "id": "f7f49384",
   "metadata": {},
   "outputs": [],
   "source": [
    "model = WeightedNode2Vec(edge_weights=edge_index[0, :], \n",
    "                         num_nodes=num_nodes,\n",
    "                         edge_index=edge_index, \n",
    "                         embedding_dim=16, walk_length=5, \n",
    "                         context_size=2, ).to(DEVICE)\n",
    "# model = Node2Vec(# edge_weights=edge_index[0, :], \n",
    "#                  #        num_nodes=num_nodes,\n",
    "#                          edge_index=edge_index, \n",
    "#                          embedding_dim=16, walk_length=5, \n",
    "#                          context_size=2, ).to(DEVICE)"
   ]
  },
  {
   "cell_type": "code",
   "execution_count": 6,
   "id": "eaf0db7c",
   "metadata": {},
   "outputs": [],
   "source": [
    "loader = model.loader(batch_size=128, shuffle=True, num_workers=4)\n",
    "optimizer = torch.optim.Adam(list(model.parameters()), lr=0.01)"
   ]
  },
  {
   "cell_type": "code",
   "execution_count": 7,
   "id": "acae55dc",
   "metadata": {},
   "outputs": [
    {
     "name": "stderr",
     "output_type": "stream",
     "text": [
      "Epoch: 00, Loss: 2.8785: 100%|█████████████████████████████████████████████████████████████████████████████████████████████████| 1/1 [02:52<00:00, 172.57s/it]\n"
     ]
    }
   ],
   "source": [
    "def train():\n",
    "    model.train()\n",
    "    total_loss = 0\n",
    "    for pos_rw, neg_rw in loader:\n",
    "        optimizer.zero_grad()\n",
    "        loss = model.loss(pos_rw.to(DEVICE), neg_rw.to(DEVICE))\n",
    "        loss.backward()\n",
    "        optimizer.step()\n",
    "        total_loss += loss.item()\n",
    "    return total_loss / len(loader)\n",
    "\n",
    "\n",
    "@torch.no_grad()\n",
    "def test():\n",
    "    model.eval()\n",
    "    z = model()\n",
    "    acc = model.test(z[data.train_mask], data.y[data.train_mask],\n",
    "                     z[data.test_mask], data.y[data.test_mask],\n",
    "                     max_iter=10)\n",
    "    return acc\n",
    "\n",
    "t = trange(1)\n",
    "for epoch in t:\n",
    "    loss = train()\n",
    "    t.set_description(f'Epoch: {epoch:02d}, Loss: {loss:.4f}')\n",
    "    t.refresh()\n",
    "    #acc = test()\n",
    "#     if epoch % 10 == 0:\n",
    "#         print(f'Epoch: {epoch:02d}, Loss: {loss:.4f}')"
   ]
  },
  {
   "cell_type": "code",
   "execution_count": 8,
   "id": "ba09233c",
   "metadata": {},
   "outputs": [],
   "source": [
    "batch = next(iter(loader))"
   ]
  },
  {
   "cell_type": "code",
   "execution_count": 9,
   "id": "c25ebb1d",
   "metadata": {},
   "outputs": [
    {
     "data": {
      "text/plain": [
       "2"
      ]
     },
     "execution_count": 9,
     "metadata": {},
     "output_type": "execute_result"
    }
   ],
   "source": [
    "len(batch)"
   ]
  },
  {
   "cell_type": "code",
   "execution_count": 10,
   "id": "763eb4fc",
   "metadata": {},
   "outputs": [
    {
     "data": {
      "text/plain": [
       "torch.Size([512, 2])"
      ]
     },
     "execution_count": 10,
     "metadata": {},
     "output_type": "execute_result"
    }
   ],
   "source": [
    "batch[0].shape"
   ]
  },
  {
   "cell_type": "code",
   "execution_count": 11,
   "id": "3253ce9d",
   "metadata": {},
   "outputs": [
    {
     "data": {
      "text/plain": [
       "torch.Size([1632803, 16])"
      ]
     },
     "execution_count": 11,
     "metadata": {},
     "output_type": "execute_result"
    }
   ],
   "source": [
    "# we can use these embeddings to feed to model,\n",
    "# in features will be the number of embedding size\n",
    "model.embedding.weight.shape"
   ]
  },
  {
   "cell_type": "code",
   "execution_count": 12,
   "id": "0236c9ad",
   "metadata": {},
   "outputs": [],
   "source": [
    "# adj = model.adj.to_symmetric()\n",
    "# row, col, _ = adj.coo()"
   ]
  },
  {
   "cell_type": "code",
   "execution_count": 13,
   "id": "66c27d4f",
   "metadata": {},
   "outputs": [
    {
     "data": {
      "text/plain": [
       "(tensor([      0,       0,       0,  ..., 1632801, 1632801, 1632802]),\n",
       " tensor([      1,       2,       3,  ..., 1632636, 1632735, 1632404]))"
      ]
     },
     "execution_count": 13,
     "metadata": {},
     "output_type": "execute_result"
    }
   ],
   "source": [
    "row, col"
   ]
  },
  {
   "cell_type": "code",
   "execution_count": 14,
   "id": "a69cda42",
   "metadata": {},
   "outputs": [],
   "source": [
    "from scipy import sparse"
   ]
  },
  {
   "cell_type": "code",
   "execution_count": 15,
   "id": "d984bff4",
   "metadata": {},
   "outputs": [],
   "source": [
    "# ones = np.ones(row.shape[0], dtype=np.int8)\n",
    "# A = sparse.csr_matrix((ones, (row.numpy(), col.numpy())), \n",
    "#                       shape=(num_nodes, num_nodes))"
   ]
  },
  {
   "cell_type": "code",
   "execution_count": 16,
   "id": "00451830",
   "metadata": {},
   "outputs": [
    {
     "data": {
      "text/plain": [
       "<1632803x1632803 sparse matrix of type '<class 'numpy.int8'>'\n",
       "\twith 44603928 stored elements in Compressed Sparse Row format>"
      ]
     },
     "execution_count": 16,
     "metadata": {},
     "output_type": "execute_result"
    }
   ],
   "source": [
    "A"
   ]
  },
  {
   "cell_type": "code",
   "execution_count": 17,
   "id": "19f68dd2",
   "metadata": {},
   "outputs": [],
   "source": [
    "from utils import graph"
   ]
  },
  {
   "cell_type": "code",
   "execution_count": 18,
   "id": "545aead7",
   "metadata": {},
   "outputs": [],
   "source": [
    "G = graph.from_numpy(A, undirected=True)"
   ]
  },
  {
   "cell_type": "code",
   "execution_count": 19,
   "id": "0a53cd7f",
   "metadata": {},
   "outputs": [],
   "source": [
    "G.attr = d.X[:, 0]"
   ]
  },
  {
   "cell_type": "code",
   "execution_count": 20,
   "id": "d4443415",
   "metadata": {
    "scrolled": true
   },
   "outputs": [],
   "source": [
    "graph.set_weights(G, exp_=2., p_bndry=.7, l=2)"
   ]
  },
  {
   "cell_type": "code",
   "execution_count": null,
   "id": "07dc80d1",
   "metadata": {},
   "outputs": [],
   "source": [
    "import pickle as pkl\n",
    "pkl.save(graph, \"graph.pkl\")"
   ]
  }
 ],
 "metadata": {
  "kernelspec": {
   "display_name": "Python 3 (ipykernel)",
   "language": "python",
   "name": "python3"
  },
  "language_info": {
   "codemirror_mode": {
    "name": "ipython",
    "version": 3
   },
   "file_extension": ".py",
   "mimetype": "text/x-python",
   "name": "python",
   "nbconvert_exporter": "python",
   "pygments_lexer": "ipython3",
   "version": "3.7.12"
  }
 },
 "nbformat": 4,
 "nbformat_minor": 5
}
