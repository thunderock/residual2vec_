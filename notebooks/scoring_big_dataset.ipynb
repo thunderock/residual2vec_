{
 "cells": [
  {
   "cell_type": "code",
   "execution_count": 1,
   "id": "16d1921c",
   "metadata": {},
   "outputs": [],
   "source": [
    "import sys, os\n",
    "sys.path.insert(0, '..')"
   ]
  },
  {
   "cell_type": "code",
   "execution_count": 2,
   "id": "5d539127",
   "metadata": {},
   "outputs": [],
   "source": [
    "import torch\n",
    "from models.weighted_node2vec import WeightedNode2Vec\n",
    "from torch_geometric.nn.models import Node2Vec\n",
    "from dataset import triplet_dataset\n",
    "from utils.config import *\n",
    "from tqdm import tqdm, trange\n",
    "from dataset.pokec_data import PokecDataFrame\n",
    "import gc\n",
    "from utils.link_prediction import *\n",
    "import residual2vec as rv\n",
    "\n",
    "import warnings\n",
    "warnings.filterwarnings(\"ignore\")\n",
    "gc.enable()"
   ]
  },
  {
   "cell_type": "code",
   "execution_count": 3,
   "id": "0791d7fe",
   "metadata": {},
   "outputs": [],
   "source": [
    "\n",
    "window_length = 5\n",
    "num_walks = 10\n",
    "dim = 128\n",
    "walk_length = 80\n",
    "NUM_WORKERS = 4\n"
   ]
  },
  {
   "cell_type": "code",
   "execution_count": 4,
   "id": "e1609e29",
   "metadata": {},
   "outputs": [
    {
     "name": "stderr",
     "output_type": "stream",
     "text": [
      "Using existing file soc-pokec-profiles.txt.gz\n",
      "Using existing file soc-pokec-relationships.txt.gz\n"
     ]
    }
   ],
   "source": [
    "d = PokecDataFrame()\n",
    "edge_index, num_nodes = d.edge_index, d.X.shape[0]"
   ]
  },
  {
   "cell_type": "code",
   "execution_count": 5,
   "id": "f7f49384",
   "metadata": {},
   "outputs": [],
   "source": [
    "node_to_vec = WeightedNode2Vec(num_nodes=num_nodes,\n",
    "                         group_membership=d.get_grouped_col(),\n",
    "                         weighted_adj=\"../data/pokec_crosswalk_adj.npz\",\n",
    "                         edge_index=edge_index, \n",
    "                         embedding_dim=16, walk_length=walk_length, \n",
    "                         context_size=2, ).to(DEVICE)"
   ]
  },
  {
   "cell_type": "code",
   "execution_count": 6,
   "id": "45c74ffa",
   "metadata": {},
   "outputs": [
    {
     "data": {
      "text/plain": [
       "5258"
      ]
     },
     "execution_count": 6,
     "metadata": {},
     "output_type": "execute_result"
    }
   ],
   "source": [
    "del d\n",
    "gc.collect()"
   ]
  },
  {
   "cell_type": "code",
   "execution_count": 7,
   "id": "ff638cbe",
   "metadata": {},
   "outputs": [],
   "source": [
    "k = \"degree-unbiased-gcn\"\n",
    "model = rv.residual2vec_sgd(\n",
    "    noise_sampler=rv.ConfigModelNodeSampler(),\n",
    "    window_length=window_length,\n",
    "    num_walks=num_walks,\n",
    "    walk_length=walk_length\n",
    ").fit()"
   ]
  },
  {
   "cell_type": "code",
   "execution_count": 8,
   "id": "c232d235",
   "metadata": {},
   "outputs": [
    {
     "name": "stderr",
     "output_type": "stream",
     "text": [
      "\r",
      "  0%|                                                                                                                                   | 0/1 [00:00<?, ?it/s]"
     ]
    },
    {
     "name": "stdout",
     "output_type": "stream",
     "text": [
      "training node2vec\n"
     ]
    },
    {
     "name": "stderr",
     "output_type": "stream",
     "text": [
      "Epoch 001, Loss: 0.0001: 100%|█████████████████████████████████████████████████████████████████████████████████████████████████| 1/1 [03:05<00:00, 185.83s/it]\n"
     ]
    }
   ],
   "source": [
    "d = triplet_dataset.TripletPokecDataset(node2vec=node_to_vec)\n",
    "dataloader = triplet_dataset.NeighborEdgeSampler(d, batch_size=model.batch_size, shuffle=True, num_workers=NUM_WORKERS, pin_memory=True)"
   ]
  },
  {
   "cell_type": "code",
   "execution_count": 11,
   "id": "6462ac7b",
   "metadata": {},
   "outputs": [],
   "source": [
    "m = GCNLinkPrediction(in_channels=d.num_features, embedding_size=128, hidden_channels=64, num_layers=5, num_embeddings=d.num_embeddings)\n",
    "# model.transform(model=m, dataloader=dataloader)"
   ]
  },
  {
   "cell_type": "code",
   "execution_count": 10,
   "id": "5cbb6986",
   "metadata": {},
   "outputs": [
    {
     "data": {
      "text/plain": [
       "16"
      ]
     },
     "execution_count": 10,
     "metadata": {},
     "output_type": "execute_result"
    }
   ],
   "source": [
    "d.num_features"
   ]
  },
  {
   "cell_type": "code",
   "execution_count": 12,
   "id": "59c030c6",
   "metadata": {},
   "outputs": [],
   "source": [
    "torch.save(m.state_dict(), k)"
   ]
  },
  {
   "cell_type": "code",
   "execution_count": null,
   "id": "d01dd6d7",
   "metadata": {},
   "outputs": [],
   "source": []
  }
 ],
 "metadata": {
  "kernelspec": {
   "display_name": "Python 3 (ipykernel)",
   "language": "python",
   "name": "python3"
  },
  "language_info": {
   "codemirror_mode": {
    "name": "ipython",
    "version": 3
   },
   "file_extension": ".py",
   "mimetype": "text/x-python",
   "name": "python",
   "nbconvert_exporter": "python",
   "pygments_lexer": "ipython3",
   "version": "3.7.12"
  }
 },
 "nbformat": 4,
 "nbformat_minor": 5
}
